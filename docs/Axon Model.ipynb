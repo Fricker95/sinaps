{
 "cells": [
  {
   "cell_type": "code",
   "execution_count": 125,
   "metadata": {},
   "outputs": [],
   "source": [
    "import sinaps as sn"
   ]
  },
  {
   "cell_type": "code",
   "execution_count": 138,
   "metadata": {},
   "outputs": [],
   "source": [
    "n=1 #number of couple of section Ranvier / myeline"
   ]
  },
  {
   "cell_type": "code",
   "execution_count": 139,
   "metadata": {},
   "outputs": [],
   "source": [
    "ranvier_args = dict(\n",
    "    L=10,#30 μm (\n",
    "    a=0.7,#10μm \n",
    "    C_m=1,#10 mF/ m2 = 1 μF / cm2 (Migliore et al 2005) taum = 28 ms -> Cm = 1 μF/cm2\n",
    "    R_l=70, #(Migliore et al 2005) 150 Ω.cm\n",
    ")\n",
    "\n",
    "myeline_args = dict(\n",
    "    L=1000,#1000 μm (\n",
    "    a=2,#10 μm \n",
    "    C_m=1,#10 mF/ m2 = 1 μF / cm2 (Migliore et al 2005) taum = 28 ms -> Cm = 1 μF/cm2\n",
    "    R_l=70, #(Migliore et al 2005) 150 Ω.cm\n",
    ")\n"
   ]
  },
  {
   "cell_type": "code",
   "execution_count": 140,
   "metadata": {},
   "outputs": [],
   "source": [
    "N=sn.Neuron()"
   ]
  },
  {
   "cell_type": "markdown",
   "metadata": {},
   "source": [
    "## Creation des sections"
   ]
  },
  {
   "cell_type": "code",
   "execution_count": 141,
   "metadata": {},
   "outputs": [],
   "source": [
    "\n",
    "for i in range(n):\n",
    "    N.add_section(sn.Section(**ranvier_args,name='ranvier_{}'.format(i)),2*i,2*i+1)\n",
    "    N.add_section(sn.Section(**myeline_args,name='myeline_{}'.format(i)),2*i+1,2*i+2)\n",
    "        "
   ]
  },
  {
   "cell_type": "markdown",
   "metadata": {},
   "source": [
    "## Ajout des canaux"
   ]
  },
  {
   "cell_type": "code",
   "execution_count": 142,
   "metadata": {},
   "outputs": [],
   "source": [
    "for i in range(n-1):\n",
    "    N.sections[2*i]['obj'].add_channel_c(sn.channels.Hodgkin_Huxley())\n",
    "    #N.sections[2*i+1]['obj'].add_channel_c(sn.channels.LeakChannel(0,200))# kΩ.cm2 (Migliore et al 2005) 28 kΩ.cm2\n",
    "    #N.sections[2*i]['obj'].add_channel_c(sn.channels.LeakChannel(0,2))# kΩ.cm2 (Migliore et al 2005) 28 kΩ.cm2"
   ]
  },
  {
   "cell_type": "markdown",
   "metadata": {},
   "source": [
    "## Ajout stimuli"
   ]
  },
  {
   "cell_type": "code",
   "execution_count": 143,
   "metadata": {},
   "outputs": [],
   "source": [
    "N.sections[0]['obj'].add_channel_p(sn.channels.HeavysideCurrent(1000,10,14),x = 0)"
   ]
  },
  {
   "cell_type": "markdown",
   "metadata": {},
   "source": [
    "## Simulation"
   ]
  },
  {
   "cell_type": "code",
   "execution_count": 144,
   "metadata": {},
   "outputs": [],
   "source": [
    "sim=sn.Simulation(N,100)"
   ]
  },
  {
   "cell_type": "code",
   "execution_count": 145,
   "metadata": {},
   "outputs": [
    {
     "data": {
      "text/plain": [
       "Neuron(sections=[{'i': 0, 'j': 1, 'obj': Section(name=ranvier_0, L=10 um, a=700 nm, C_m=10 fF/μm², R_l=700 kΩ.μm), 'num': 0, 'idV': array([0, 1]), 'idS': array([], dtype=int64)}, {'i': 1, 'j': 2, 'obj': Section(name=myeline_0, L=1 mm, a=2 um, C_m=10 fF/μm², R_l=700 kΩ.μm), 'num': 1, 'idV': array([ 2,  3,  4,  5,  6,  7,  8,  9, 10, 11]), 'idS': array([], dtype=int64)}])"
      ]
     },
     "execution_count": 145,
     "metadata": {},
     "output_type": "execute_result"
    }
   ],
   "source": [
    "sim.N"
   ]
  },
  {
   "cell_type": "code",
   "execution_count": 146,
   "metadata": {},
   "outputs": [],
   "source": [
    "sim.run((0,100),max_step=0.01)\n",
    "sim.resample('0.01ms')"
   ]
  },
  {
   "cell_type": "code",
   "execution_count": 147,
   "metadata": {},
   "outputs": [],
   "source": [
    "from matplotlib import pyplot as plt"
   ]
  },
  {
   "cell_type": "code",
   "execution_count": 148,
   "metadata": {},
   "outputs": [
    {
     "data": {
      "text/plain": [
       "<matplotlib.image.AxesImage at 0x7f4aa77d4da0>"
      ]
     },
     "execution_count": 148,
     "metadata": {},
     "output_type": "execute_result"
    },
    {
     "data": {
      "image/png": "[encoded data removed]",
      "text/plain": [
       "<matplotlib.figure.Figure at 0x7f4aa7bbd198>"
      ]
     },
     "metadata": {
      "needs_background": "light"
     },
     "output_type": "display_data"
    }
   ],
   "source": [
    "plt.imshow(sim.V.T)"
   ]
  },
  {
   "cell_type": "code",
   "execution_count": 149,
   "metadata": {},
   "outputs": [
    {
     "data": {
      "text/plain": [
       "<matplotlib.axes._subplots.AxesSubplot at 0x7f4aa77e4470>"
      ]
     },
     "execution_count": 149,
     "metadata": {},
     "output_type": "execute_result"
    },
    {
     "data": {
      "image/png": "[encoded data removed]",
      "text/plain": [
       "<matplotlib.figure.Figure at 0x7f4aa7a7c128>"
      ]
     },
     "metadata": {
      "needs_background": "light"
     },
     "output_type": "display_data"
    }
   ],
   "source": [
    "sim.V[0].plot()"
   ]
  },
  {
   "cell_type": "code",
   "execution_count": null,
   "metadata": {},
   "outputs": [],
   "source": []
  }
 ],
 "metadata": {
  "kernelspec": {
   "display_name": "Python 3",
   "language": "python",
   "name": "python3"
  },
  "language_info": {
   "codemirror_mode": {
    "name": "ipython",
    "version": 3
   },
   "file_extension": ".py",
   "mimetype": "text/x-python",
   "name": "python",
   "nbconvert_exporter": "python",
   "pygments_lexer": "ipython3",
   "version": "3.6.8"
  }
 },
 "nbformat": 4,
 "nbformat_minor": 2
}
