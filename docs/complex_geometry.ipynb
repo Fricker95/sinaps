{
 "cells": [
  {
   "cell_type": "markdown",
   "metadata": {},
   "source": [
    "# Complex Geometry"
   ]
  },
  {
   "cell_type": "code",
   "execution_count": null,
   "metadata": {},
   "outputs": [],
   "source": [
    "import sinaps as sn\n",
    "import numpy as np"
   ]
  },
  {
   "cell_type": "markdown",
   "metadata": {},
   "source": [
    "## Creating Neuron structure from swc file"
   ]
  },
  {
   "cell_type": "markdown",
   "metadata": {},
   "source": [
    "We choose a neuron from the [neuromorpho](http://neuromorpho.org) database :"
   ]
  },
  {
   "cell_type": "code",
   "execution_count": null,
   "metadata": {},
   "outputs": [],
   "source": [
    "filename = \"http://neuromorpho.org/dableFiles/chang/CNG%20version/V247fs-MT-Untreated-56.CNG.swc\""
   ]
  },
  {
   "cell_type": "markdown",
   "metadata": {},
   "source": [
    "Use the function read_swc from io module to create a neuron from this file :"
   ]
  },
  {
   "cell_type": "code",
   "execution_count": null,
   "metadata": {},
   "outputs": [],
   "source": [
    "nrn = sn.io.read_swc(filename)\n",
    "nrn.plot()"
   ]
  },
  {
   "cell_type": "markdown",
   "metadata": {},
   "source": [
    "## Accessing data"
   ]
  },
  {
   "cell_type": "markdown",
   "metadata": {},
   "source": [
    "The neuron structure is stored using the [networkx](https://networkx.org) library, and you can access this underlying structure using :"
   ]
  },
  {
   "cell_type": "code",
   "execution_count": null,
   "metadata": {},
   "outputs": [],
   "source": [
    "nrn.graph"
   ]
  },
  {
   "cell_type": "markdown",
   "metadata": {},
   "source": [
    "For example :"
   ]
  },
  {
   "cell_type": "code",
   "execution_count": null,
   "metadata": {},
   "outputs": [],
   "source": [
    "nrn.graph.edges"
   ]
  },
  {
   "cell_type": "code",
   "execution_count": null,
   "metadata": {},
   "outputs": [],
   "source": [
    "nrn.graph.nodes"
   ]
  },
  {
   "cell_type": "markdown",
   "metadata": {},
   "source": [
    "You can access the section corresponding to an edge in the graph structure using the `section` attribute of edges"
   ]
  },
  {
   "cell_type": "code",
   "execution_count": null,
   "metadata": {},
   "outputs": [],
   "source": [
    "nrn.graph[1][2]['section']"
   ]
  },
  {
   "cell_type": "markdown",
   "metadata": {},
   "source": [
    "### Setting custom radius"
   ]
  },
  {
   "cell_type": "markdown",
   "metadata": {},
   "source": [
    "We want to redifine the radius of the dentrite, assumiong that the radius decreases at each bifurcation"
   ]
  },
  {
   "cell_type": "code",
   "execution_count": null,
   "metadata": {},
   "outputs": [],
   "source": [
    "def set_radius(G,dep,a,factor):\n",
    "    if G.degree(dep)>1:\n",
    "        a=max(a*(G.degree(dep)-1)**(factor),0.1)\n",
    "        for node in G[dep]:\n",
    "            s = G[dep][node]['section']\n",
    "            if s.a == 1000:\n",
    "                s.a=a\n",
    "                set_radius(G,node,a,factor)"
   ]
  },
  {
   "cell_type": "code",
   "execution_count": null,
   "metadata": {},
   "outputs": [],
   "source": [
    "nrn['dendrite'].a = 1000"
   ]
  },
  {
   "cell_type": "code",
   "execution_count": null,
   "metadata": {},
   "outputs": [],
   "source": [
    "# Setting radius of each node\n",
    "set_radius(nrn.graph,1,5,-0.5) "
   ]
  },
  {
   "cell_type": "code",
   "execution_count": null,
   "metadata": {},
   "outputs": [],
   "source": [
    "nrn.plot()"
   ]
  },
  {
   "cell_type": "code",
   "execution_count": null,
   "metadata": {},
   "outputs": [],
   "source": [
    "nrn.plot.layout(force=True)\n",
    "nrn.plot()"
   ]
  },
  {
   "cell_type": "code",
   "execution_count": null,
   "metadata": {},
   "outputs": [],
   "source": [
    "s = nrn['soma']\n",
    "[nrn.sections[s] for s in s]"
   ]
  },
  {
   "cell_type": "code",
   "execution_count": null,
   "metadata": {},
   "outputs": [],
   "source": [
    "import random"
   ]
  },
  {
   "cell_type": "code",
   "execution_count": null,
   "metadata": {},
   "outputs": [],
   "source": [
    "# Finding the leaves\n",
    "leaves = nrn.leaves()\n",
    "del leaves[2]\n",
    "del leaves[3] # Removing the soma\n",
    "stim_leaves = random.sample(leaves,10)\n",
    "stim_sec = nrn[stim_leaves]"
   ]
  },
  {
   "cell_type": "markdown",
   "metadata": {},
   "source": [
    "### Setting up the channels"
   ]
  },
  {
   "cell_type": "code",
   "execution_count": null,
   "metadata": {},
   "outputs": [],
   "source": [
    "nrn[:].add_channel(sn.channels.Hodgkin_Huxley())\n",
    "stim_sec.add_channel(sn.channels.NMDAR(0.5,gnmda=2),1)"
   ]
  },
  {
   "cell_type": "code",
   "execution_count": null,
   "metadata": {},
   "outputs": [],
   "source": [
    "# Stimulate leaves\n",
    "stim_sec"
   ]
  },
  {
   "cell_type": "markdown",
   "metadata": {},
   "source": [
    "### Running the simu"
   ]
  },
  {
   "cell_type": "code",
   "execution_count": null,
   "metadata": {},
   "outputs": [],
   "source": [
    "# Initialisation of the simulation\n",
    "sim=sn.Simulation(N,dx=100)"
   ]
  },
  {
   "cell_type": "code",
   "execution_count": null,
   "metadata": {},
   "outputs": [],
   "source": [
    "# Runing the simulation\n",
    "sim.run((0,1000))"
   ]
  },
  {
   "cell_type": "code",
   "execution_count": null,
   "metadata": {},
   "outputs": [],
   "source": [
    "# Data structure (panda series)\n",
    "sim.V"
   ]
  },
  {
   "cell_type": "markdown",
   "metadata": {},
   "source": [
    "### Plots"
   ]
  },
  {
   "cell_type": "code",
   "execution_count": null,
   "metadata": {},
   "outputs": [],
   "source": [
    "# Plotting the potential\n",
    "sim.plot()"
   ]
  },
  {
   "cell_type": "code",
   "execution_count": null,
   "metadata": {},
   "outputs": [],
   "source": [
    "# Extracting some sections\n",
    "sim['Section0060'].plot() * sim['Section0000'].plot()"
   ]
  },
  {
   "cell_type": "markdown",
   "metadata": {},
   "source": [
    "### Chemical reactions"
   ]
  },
  {
   "cell_type": "code",
   "execution_count": null,
   "metadata": {},
   "outputs": [],
   "source": [
    "# Clearing previous reactions\n",
    "N.reactions=[]\n",
    "# Adding Ca + BF <-> BFB (BF = GCamp, BFB = GCamp-Ca)\n",
    "N.add_reaction(\n",
    "    {Ca:1,\n",
    "     BF:1},\n",
    "    {BFB:1},\n",
    "    k1=12.3,\n",
    "    k2=0.002)\n",
    "# Calcium extrusion\n",
    "N.add_reaction(\n",
    "    {Ca:1},\n",
    "    {},\n",
    "    k1=0.003,k2=0)\n",
    "#Calcium initial concentration\n",
    "for s in N:\n",
    "    s.C0[Ca]=10**(-7)\n",
    "#Buffer initial concentration\n",
    "for s in N:\n",
    "    s.C0[BF]=10**(-6)"
   ]
  },
  {
   "cell_type": "code",
   "execution_count": null,
   "metadata": {},
   "outputs": [],
   "source": [
    "# Running the chemical reactions part   \n",
    "sim.run_diff(max_step=1)"
   ]
  },
  {
   "cell_type": "markdown",
   "metadata": {},
   "source": [
    "### Plots"
   ]
  },
  {
   "cell_type": "code",
   "execution_count": null,
   "metadata": {},
   "outputs": [],
   "source": [
    "# Plot of the Calcium concentration\n",
    "sim[:].plot.C(Ca)"
   ]
  },
  {
   "cell_type": "code",
   "execution_count": null,
   "metadata": {},
   "outputs": [],
   "source": [
    "# Plot of GCamp bound with Ca\n",
    "sim[:].plot.C(BFB)"
   ]
  },
  {
   "cell_type": "code",
   "execution_count": null,
   "metadata": {},
   "outputs": [],
   "source": [
    "# 2D plots, non linear in time (plotting against dt in the simulations) Highlits time periods with activity. Careful: the graph don't corresponds in the x axis, as the simulation for the potential and for the chemical reactions are separated.\n",
    "( graph2D(sim.V[dfs]).opts(title='Potential',    **common_opts)\n",
    "+ graph2D(sim.C[Ca][dfs]).opts(title='Calcium',      **common_opts)\n",
    "+ graph2D(sim.C[BFB][dfs]).opts(title='Bound Calcium',**common_opts)\n",
    "    )"
   ]
  },
  {
   "cell_type": "code",
   "execution_count": null,
   "metadata": {},
   "outputs": [],
   "source": [
    "# 2D graph linear in time\n",
    "(graph2Dlinear(sim.V[dfs]).opts(title='Potential', **common_opts)\n",
    "+ graph2Dlinear(sim.C[Ca][dfs]).opts(title='Calcium',      **common_opts)\n",
    "+ graph2Dlinear(sim.C[BFB][dfs]).opts(title='Bound Calcium',**common_opts)\n",
    "    )"
   ]
  },
  {
   "cell_type": "code",
   "execution_count": null,
   "metadata": {},
   "outputs": [],
   "source": [
    "# 2D graph linear in time, extracting the first 6 ms\n",
    "(graph2Dlinear(sim.V[0:6][dfs]).opts(title='Potential', **common_opts)\n",
    "+ graph2Dlinear(sim.C[0:6][Ca][dfs]).opts(title='Calcium',      **common_opts)\n",
    "+ graph2Dlinear(sim.C[0:6][BFB][dfs]).opts(title='Bound Calcium',**common_opts)\n",
    "    )"
   ]
  },
  {
   "cell_type": "code",
   "execution_count": null,
   "metadata": {},
   "outputs": [],
   "source": [
    "graph2Dlinear(sim.C[BFB][dfs]).opts(title='Bound Calcium',**common_opts)"
   ]
  },
  {
   "cell_type": "code",
   "execution_count": null,
   "metadata": {},
   "outputs": [],
   "source": [
    "Test=sim.C[BFB][:].iloc\n",
    "N[:].name\n",
    "for name in N[:].name:\n",
    "    sim.C[BFB][:].iloc[:,0]/N[name].a\n",
    "    sim.C[BFB][:].iloc[:,1]/N[name].a"
   ]
  },
  {
   "cell_type": "code",
   "execution_count": null,
   "metadata": {},
   "outputs": [],
   "source": [
    "Test=sim.C[BFB].values\n"
   ]
  },
  {
   "cell_type": "code",
   "execution_count": null,
   "metadata": {},
   "outputs": [],
   "source": [
    "sim.C[BFB][:].iloc[:,1]"
   ]
  },
  {
   "cell_type": "markdown",
   "metadata": {},
   "source": [
    "## Currents"
   ]
  },
  {
   "cell_type": "code",
   "execution_count": null,
   "metadata": {},
   "outputs": [],
   "source": [
    "# Currents in the simulation\n",
    "[ch.__name__ for ch in sim.channels]"
   ]
  },
  {
   "cell_type": "code",
   "execution_count": null,
   "metadata": {},
   "outputs": [],
   "source": [
    "I(sim,'Hodgkin_Huxley')['Section0484'].iloc[0:550,0].hvplot()"
   ]
  },
  {
   "cell_type": "code",
   "execution_count": null,
   "metadata": {},
   "outputs": [],
   "source": [
    "I(sim,'Hodgkin_Huxley_Ca')['Section0484'].iloc[0:600,0].hvplot()"
   ]
  },
  {
   "cell_type": "code",
   "execution_count": null,
   "metadata": {},
   "outputs": [],
   "source": [
    "I(sim,'NMDAR')['Section0236'].clip(0).iloc[0:600,1].hvplot()"
   ]
  },
  {
   "cell_type": "code",
   "execution_count": null,
   "metadata": {},
   "outputs": [],
   "source": [
    "graph2Dlinear(I(sim,'Hodgkin_Huxley')[dfs][0:4]).opts(**common_opts,title='HH Current')"
   ]
  },
  {
   "cell_type": "code",
   "execution_count": null,
   "metadata": {},
   "outputs": [],
   "source": [
    "graph2Dlinear(I(sim,'NMDAR')[dfs][0:4].clip(0)).opts(**common_opts,title='NMDA Current')"
   ]
  },
  {
   "cell_type": "code",
   "execution_count": null,
   "metadata": {},
   "outputs": [],
   "source": []
  }
 ],
 "metadata": {
  "kernelspec": {
   "display_name": "Python 3",
   "language": "python",
   "name": "python3"
  },
  "language_info": {
   "codemirror_mode": {
    "name": "ipython",
    "version": 3
   },
   "file_extension": ".py",
   "mimetype": "text/x-python",
   "name": "python",
   "nbconvert_exporter": "python",
   "pygments_lexer": "ipython3",
   "version": "3.8.10"
  }
 },
 "nbformat": 4,
 "nbformat_minor": 4
}
