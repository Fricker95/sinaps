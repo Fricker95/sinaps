{
 "cells": [
  {
   "cell_type": "markdown",
   "metadata": {},
   "source": [
    "# Customizing channels"
   ]
  },
  {
   "cell_type": "code",
   "execution_count": null,
   "metadata": {},
   "outputs": [],
   "source": [
    "import sinaps as sn"
   ]
  },
  {
   "cell_type": "code",
   "execution_count": null,
   "metadata": {},
   "outputs": [],
   "source": [
    "import numpy as np"
   ]
  },
  {
   "cell_type": "markdown",
   "metadata": {},
   "source": [
    "To implement a channel C, it is necessary to implement  :\n",
    " - a static method  C._I(V,t,**st_vars,**params) returning the net  current towards inside\n",
    "  ([A] for point channel and [pA/μm2] for density channels ) of the mechanism with\n",
    " V the voltage (:array) and **st_vars the state variable of the mechanism (:array)\n",
    " - If there is state variables a static method C._dS(V,t,**st_vars,**params) returning a\n",
    "  tuple with the differential of each state variable\n",
    "   and a function S0 returning a tuple with the initial value for each state\n",
    "   variable\n",
    "   \n",
    "   C._J for spevies\n",
    "\"\"\""
   ]
  },
  {
   "cell_type": "markdown",
   "metadata": {},
   "source": [
    "you need to subclass Channel Class :"
   ]
  },
  {
   "cell_type": "markdown",
   "metadata": {},
   "source": [
    "in this example we will create to additionals channels"
   ]
  },
  {
   "cell_type": "code",
   "execution_count": null,
   "metadata": {},
   "outputs": [],
   "source": [
    "class AMPAR(sn.Channel):\n",
    "    \"\"\"Point channel with a AMPAr-type current starting at time t0, \n",
    "\n",
    "    \"\"\"\n",
    "    param_names = ('gampa','tampa1','tampa2','V_ampa','t0')\n",
    "\n",
    "    def __init__(self,t0,gampa=0.02,tampa1=0.3,tampa2=3,V_ampa=70):\n",
    "        \"\"\"Point channel with a AMPAr-type current starting at time t0 [pA]\n",
    "            t0: start of the current [ms]\n",
    "            gampa: max conductance of Ampar []nS]\n",
    "            tampa1: Ampar time constant [ms]\n",
    "            tampa2: Ampar time constant [ms]\n",
    "            V_ampa: Ampar Nernst potential [mV]\n",
    "        \"\"\"\n",
    "        self.params={'t0' : t0,\n",
    "                     'gampa' : gampa,\n",
    "                     'tampa1' : tampa1,\n",
    "                     'tampa2' : tampa2,\n",
    "                     'V_ampa': V_ampa,\n",
    "                    }\n",
    "\n",
    "    @staticmethod\n",
    "    def _I(V,t,\n",
    "           t0,gampa,tampa1,tampa2,V_ampa):\n",
    "        return ((t <= t0+20) & (t >= t0)) * (-gampa*(1-np.exp(-t/tampa1))*np.exp(-t/tampa2)*(V-V_ampa))\n",
    "    \n",
    "    @staticmethod\n",
    "    def _J(ion,V,t,\n",
    "           t0,gampa,tampa1,tampa2,V_ampa):\n",
    "        \"\"\"\n",
    "        Return the flux of ion [aM/ms/um2] of the mechanism towards inside\n",
    "        \"\"\"\n",
    "        if ion is sn.Species.Ca:\n",
    "            return ((t <= t0+20) & (t >= t0)) * np.maximum(-gampa*(1-np.exp(-t/tampa1))*np.exp(-t/tampa2)*(V-V_ampa) /96.48533132838746/2*0.014,0)\n",
    "        else:\n",
    "            return 0 * V"
   ]
  },
  {
   "cell_type": "code",
   "execution_count": null,
   "metadata": {},
   "outputs": [],
   "source": [
    "class NMDAR(sn.Channel):\n",
    "    \"\"\"Point channel with a NMDAr-type current starting at time t0, \n",
    "voltage-dependent flow of sodium (Na+) and small amounts of calcium (Ca2+) ions into the cell and potassium (K+) out of the cell.\n",
    "    \"\"\"\n",
    "    param_names = ('t0','gnmda','tnmda1','tnmda2','V_nmda')\n",
    "\n",
    "    def __init__(self,t0,gnmda=0.02,tnmda1=11.5,tnmda2=0.67,V_nmda=75):\n",
    "        \"\"\"Point channel with a AMPAr-type current starting at time t0 [pA]\n",
    "            t0: start of the current [ms]\n",
    "            gnmda: max conductance of NMDAr [nS]\n",
    "            tnmda1: NMDAr time constant [ms]\n",
    "            tnmda2: NMDAr time constant [ms]\n",
    "            V_nmda: NMDAr Nernst potential [mV]\n",
    "        \"\"\"\n",
    "        self.params={'t0' : t0,\n",
    "                     'gnmda' : gnmda,\n",
    "                     'tnmda1' : tnmda1,\n",
    "                     'tnmda2' : tnmda2,\n",
    "                     'V_nmda': V_nmda,\n",
    "                    }\n",
    "\n",
    "    @staticmethod\n",
    "    def _I(V,t,\n",
    "           t0,gnmda,tnmda1,tnmda2,V_nmda):\n",
    "        return -((t <= t0+50) & (t >= t0))*gnmda*(np.exp(-(t-t0)/tnmda1)-np.exp(-(t-t0)/tnmda2))/(1+0.33*2*np.exp(-0.06*(V-65)))*(V-V_nmda)\n",
    "\n",
    "    \n",
    "    @staticmethod\n",
    "    def _J(ion,V,t,\n",
    "           t0,gnmda,tnmda1,tnmda2,V_nmda):\n",
    "        \"\"\"\n",
    "        Return the flux of ion [aM/ms/um2] of the mechanism towards inside\n",
    "        \"\"\"\n",
    "        if ion is sn.Species.Ca:\n",
    "            return ((t <= t0+50) & (t >= t0)) *np.maximum(-gnmda*(np.exp(-(t-t0)/tnmda1)-np.exp(-(t-t0)/tnmda2))/(1+0.33*2*np.exp(-0.06*(V-65)))*(V-V_nmda)/96.48533132838746/2*0.15,0)\n",
    "        else:\n",
    "            return 0 *V"
   ]
  },
  {
   "cell_type": "markdown",
   "metadata": {},
   "source": [
    "### Setting up the channels"
   ]
  },
  {
   "cell_type": "code",
   "execution_count": null,
   "metadata": {},
   "outputs": [],
   "source": [
    "nrn = sn.Neuron([(0,1),(1,2),(1,3),(3,4)])"
   ]
  },
  {
   "cell_type": "code",
   "execution_count": null,
   "metadata": {},
   "outputs": [],
   "source": [
    "nrn[0]"
   ]
  },
  {
   "cell_type": "code",
   "execution_count": null,
   "metadata": {},
   "outputs": [],
   "source": [
    "nrn[:].clear_channels()\n",
    "nrn[:].add_channel(sn.channels.Hodgkin_Huxley())\n",
    "nrn[:].add_channel(sn.channels.Hodgkin_Huxley_Ca())\n",
    "nrn[0].add_channel(NMDAR(0.5,gnmda=2),0) #"
   ]
  },
  {
   "cell_type": "markdown",
   "metadata": {},
   "source": [
    "### Running the simu"
   ]
  },
  {
   "cell_type": "code",
   "execution_count": null,
   "metadata": {},
   "outputs": [],
   "source": [
    "# Initialisation of the simulation\n",
    "sim=sn.Simulation(nrn,dx=100)"
   ]
  },
  {
   "cell_type": "code",
   "execution_count": null,
   "metadata": {},
   "outputs": [],
   "source": [
    "# Runing the simulation\n",
    "sim.run((0,1000))"
   ]
  },
  {
   "cell_type": "markdown",
   "metadata": {},
   "source": [
    "### Plots"
   ]
  },
  {
   "cell_type": "code",
   "execution_count": null,
   "metadata": {},
   "outputs": [],
   "source": [
    "# Plotting the potential\n",
    "sim.plot()"
   ]
  },
  {
   "cell_type": "code",
   "execution_count": null,
   "metadata": {},
   "outputs": [],
   "source": [
    "# Extracting some sections\n",
    "sim['Section0060'].plot() * sim['Section0000'].plot()"
   ]
  },
  {
   "cell_type": "markdown",
   "metadata": {},
   "source": [
    "### Chemical reactions"
   ]
  },
  {
   "cell_type": "code",
   "execution_count": null,
   "metadata": {},
   "outputs": [],
   "source": [
    "# Clearing previous reactions\n",
    "N.reactions=[]\n",
    "# Adding Ca + BF <-> BFB (BF = GCamp, BFB = GCamp-Ca)\n",
    "N.add_reaction(\n",
    "    {Ca:1,\n",
    "     BF:1},\n",
    "    {BFB:1},\n",
    "    k1=12.3,\n",
    "    k2=0.002)\n",
    "# Calcium extrusion\n",
    "N.add_reaction(\n",
    "    {Ca:1},\n",
    "    {},\n",
    "    k1=0.003,k2=0)\n",
    "#Calcium initial concentration\n",
    "for s in N:\n",
    "    s.C0[Ca]=10**(-7)\n",
    "#Buffer initial concentration\n",
    "for s in N:\n",
    "    s.C0[BF]=10**(-6)"
   ]
  },
  {
   "cell_type": "code",
   "execution_count": null,
   "metadata": {},
   "outputs": [],
   "source": [
    "# Running the chemical reactions part   \n",
    "sim.run_diff(max_step=1)"
   ]
  },
  {
   "cell_type": "markdown",
   "metadata": {},
   "source": [
    "### Plots"
   ]
  },
  {
   "cell_type": "code",
   "execution_count": null,
   "metadata": {},
   "outputs": [],
   "source": [
    "# Plot of the Calcium concentration\n",
    "sim[:].plot.C(Ca)"
   ]
  },
  {
   "cell_type": "code",
   "execution_count": null,
   "metadata": {},
   "outputs": [],
   "source": [
    "# Plot of GCamp bound with Ca\n",
    "sim[:].plot.C(BFB)"
   ]
  },
  {
   "cell_type": "code",
   "execution_count": null,
   "metadata": {},
   "outputs": [],
   "source": [
    "# 2D plots, non linear in time (plotting against dt in the simulations) Highlits time periods with activity. Careful: the graph don't corresponds in the x axis, as the simulation for the potential and for the chemical reactions are separated.\n",
    "( graph2D(sim.V[dfs]).opts(title='Potential',    **common_opts)\n",
    "+ graph2D(sim.C[Ca][dfs]).opts(title='Calcium',      **common_opts)\n",
    "+ graph2D(sim.C[BFB][dfs]).opts(title='Bound Calcium',**common_opts)\n",
    "    )"
   ]
  },
  {
   "cell_type": "code",
   "execution_count": null,
   "metadata": {},
   "outputs": [],
   "source": [
    "# 2D graph linear in time\n",
    "(graph2Dlinear(sim.V[dfs]).opts(title='Potential', **common_opts)\n",
    "+ graph2Dlinear(sim.C[Ca][dfs]).opts(title='Calcium',      **common_opts)\n",
    "+ graph2Dlinear(sim.C[BFB][dfs]).opts(title='Bound Calcium',**common_opts)\n",
    "    )"
   ]
  },
  {
   "cell_type": "code",
   "execution_count": null,
   "metadata": {},
   "outputs": [],
   "source": [
    "# 2D graph linear in time, extracting the first 6 ms\n",
    "(graph2Dlinear(sim.V[0:6][dfs]).opts(title='Potential', **common_opts)\n",
    "+ graph2Dlinear(sim.C[0:6][Ca][dfs]).opts(title='Calcium',      **common_opts)\n",
    "+ graph2Dlinear(sim.C[0:6][BFB][dfs]).opts(title='Bound Calcium',**common_opts)\n",
    "    )"
   ]
  },
  {
   "cell_type": "code",
   "execution_count": null,
   "metadata": {},
   "outputs": [],
   "source": [
    "graph2Dlinear(sim.C[BFB][dfs]).opts(title='Bound Calcium',**common_opts)"
   ]
  },
  {
   "cell_type": "code",
   "execution_count": null,
   "metadata": {},
   "outputs": [],
   "source": [
    "Test=sim.C[BFB][:].iloc\n",
    "N[:].name\n",
    "for name in N[:].name:\n",
    "    sim.C[BFB][:].iloc[:,0]/N[name].a\n",
    "    sim.C[BFB][:].iloc[:,1]/N[name].a"
   ]
  },
  {
   "cell_type": "code",
   "execution_count": null,
   "metadata": {},
   "outputs": [],
   "source": [
    "Test=sim.C[BFB].values\n"
   ]
  },
  {
   "cell_type": "code",
   "execution_count": null,
   "metadata": {},
   "outputs": [],
   "source": [
    "sim.C[BFB][:].iloc[:,1]"
   ]
  },
  {
   "cell_type": "markdown",
   "metadata": {},
   "source": [
    "## Currents"
   ]
  },
  {
   "cell_type": "code",
   "execution_count": null,
   "metadata": {},
   "outputs": [],
   "source": [
    "# Currents in the simulation\n",
    "[ch.__name__ for ch in sim.channels]"
   ]
  },
  {
   "cell_type": "code",
   "execution_count": null,
   "metadata": {},
   "outputs": [],
   "source": [
    "I(sim,'Hodgkin_Huxley')['Section0484'].iloc[0:550,0].hvplot()"
   ]
  },
  {
   "cell_type": "code",
   "execution_count": null,
   "metadata": {},
   "outputs": [],
   "source": [
    "I(sim,'Hodgkin_Huxley_Ca')['Section0484'].iloc[0:600,0].hvplot()"
   ]
  },
  {
   "cell_type": "code",
   "execution_count": null,
   "metadata": {},
   "outputs": [],
   "source": [
    "I(sim,'NMDAR')['Section0236'].clip(0).iloc[0:600,1].hvplot()"
   ]
  },
  {
   "cell_type": "code",
   "execution_count": null,
   "metadata": {},
   "outputs": [],
   "source": [
    "graph2Dlinear(I(sim,'Hodgkin_Huxley')[dfs][0:4]).opts(**common_opts,title='HH Current')"
   ]
  },
  {
   "cell_type": "code",
   "execution_count": null,
   "metadata": {},
   "outputs": [],
   "source": [
    "graph2Dlinear(I(sim,'NMDAR')[dfs][0:4].clip(0)).opts(**common_opts,title='NMDA Current')"
   ]
  },
  {
   "cell_type": "code",
   "execution_count": null,
   "metadata": {},
   "outputs": [],
   "source": []
  }
 ],
 "metadata": {
  "kernelspec": {
   "display_name": "Python 3 (ipykernel)",
   "language": "python",
   "name": "python3"
  },
  "language_info": {
   "codemirror_mode": {
    "name": "ipython",
    "version": 3
   },
   "file_extension": ".py",
   "mimetype": "text/x-python",
   "name": "python",
   "nbconvert_exporter": "python",
   "pygments_lexer": "ipython3",
   "version": "3.8.10"
  }
 },
 "nbformat": 4,
 "nbformat_minor": 4
}
