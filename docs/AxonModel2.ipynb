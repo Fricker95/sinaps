{
 "cells": [
  {
   "cell_type": "code",
   "execution_count": null,
   "metadata": {},
   "outputs": [],
   "source": [
    "import sinaps as sn"
   ]
  },
  {
   "cell_type": "code",
   "execution_count": null,
   "metadata": {},
   "outputs": [],
   "source": [
    "n=7\n",
    "\n",
    "N=sn.Neuron()\n",
    "\n",
    "for i in range(n):\n",
    "    N.add_section(sn.Section(L=10,#100 μm (Migliore et al 2005) up to 600 μm\n",
    "                       a=0.7,#1 μm  (Migliore et al 2005) 0.3 to 5 μm (for oblique dend)\n",
    "                       C_m=1,#10 mF/ m2 = 1 μF / cm2 (Migliore et al 2005) taum = 28 ms -> Cm = 1 μF/cm2\n",
    "                       R_l=70, #(Migliore et al 2005) 150 Ω.cm\n",
    "                       V0 = 0),# mV\n",
    "                 2*i,2*i+1) \n",
    "    N.add_section(sn.Section(L=1200,#100 μm (Migliore et al 2005) up to 600 μm\n",
    "                       a=0.8-0.12*i,#1 μm  (Migliore et al 2005) 0.3 to 5 μm (for oblique dend)\n",
    "                       C_m=0.15,#10 mF/ m2 = 1 μF / cm2 (Migliore et al 2005) taum = 28 ms -> Cm = 1 μF/cm2\n",
    "                       R_l=70, #(Migliore et al 2005) 150 Ω.cm\n",
    "                       V0 = 0),# mV\n",
    "                2*i+1,2*i+2)\n",
    "    N[2*i].dx=10\n",
    "    N[2*i+1].dx=200\n"
   ]
  },
  {
   "cell_type": "code",
   "execution_count": null,
   "metadata": {},
   "outputs": [],
   "source": [
    "N.view.graph()"
   ]
  },
  {
   "cell_type": "code",
   "execution_count": null,
   "metadata": {},
   "outputs": [],
   "source": [
    "N[11]"
   ]
  },
  {
   "cell_type": "code",
   "execution_count": null,
   "metadata": {},
   "outputs": [],
   "source": [
    "N[0].add_channel_p(sn.channels.HeavysideCurrent(500,10,12),x = 0)"
   ]
  },
  {
   "cell_type": "code",
   "execution_count": null,
   "metadata": {},
   "outputs": [],
   "source": [
    "for i in range(n):\n",
    "    N[2*i].add_channel_c(sn.channels.Hodgkin_Huxley())"
   ]
  },
  {
   "cell_type": "code",
   "execution_count": null,
   "metadata": {},
   "outputs": [],
   "source": [
    "for i in range(n):\n",
    "    N[2*i+1].add_channel_c(sn.channels.LeakChannel(0,0.03))"
   ]
  },
  {
   "cell_type": "code",
   "execution_count": null,
   "metadata": {},
   "outputs": [],
   "source": [
    "sim=sn.Simulation(N,dx=0)\n",
    "max_step=0.1 #ms\n",
    "t_span =(8,25)"
   ]
  },
  {
   "cell_type": "code",
   "execution_count": null,
   "metadata": {},
   "outputs": [],
   "source": [
    "\n",
    "sim.run(t_span,max_step=max_step)\n"
   ]
  },
  {
   "cell_type": "code",
   "execution_count": null,
   "metadata": {},
   "outputs": [],
   "source": [
    "sim.V[9].loc[::,::].plot(ylabel='Voltage (mV)',figsize=(800,500))"
   ]
  },
  {
   "cell_type": "code",
   "execution_count": null,
   "metadata": {},
   "outputs": [],
   "source": [
    "sim.view.graph2D()"
   ]
  },
  {
   "cell_type": "code",
   "execution_count": null,
   "metadata": {},
   "outputs": [],
   "source": [
    "sim.view.graph3D()"
   ]
  },
  {
   "cell_type": "code",
   "execution_count": null,
   "metadata": {},
   "outputs": [],
   "source": []
  },
  {
   "cell_type": "code",
   "execution_count": null,
   "metadata": {},
   "outputs": [],
   "source": []
  }
 ],
 "metadata": {
  "kernelspec": {
   "display_name": "Python 3",
   "language": "python",
   "name": "python3"
  },
  "language_info": {
   "codemirror_mode": {
    "name": "ipython",
    "version": 3
   },
   "file_extension": ".py",
   "mimetype": "text/x-python",
   "name": "python",
   "nbconvert_exporter": "python",
   "pygments_lexer": "ipython3",
   "version": "3.6.8"
  }
 },
 "nbformat": 4,
 "nbformat_minor": 2
}
