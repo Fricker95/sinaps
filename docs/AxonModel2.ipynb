{
 "cells": [
  {
   "cell_type": "code",
   "execution_count": 1,
   "metadata": {},
   "outputs": [],
   "source": [
    "import sinaps as sn"
   ]
  },
  {
   "cell_type": "code",
   "execution_count": null,
   "metadata": {},
   "outputs": [],
   "source": []
  },
  {
   "cell_type": "code",
   "execution_count": 2,
   "metadata": {},
   "outputs": [],
   "source": [
    "sec=list()\n",
    "for i in range(2):\n",
    "    sec.append(sn.Section(L=10,#100 μm (Migliore et al 2005) up to 600 μm\n",
    "                       a=0.7,#1 μm  (Migliore et al 2005) 0.3 to 5 μm (for oblique dend)\n",
    "                       C_m=1,#10 mF/ m2 = 1 μF / cm2 (Migliore et al 2005) taum = 28 ms -> Cm = 1 μF/cm2\n",
    "                       R_l=70, #(Migliore et al 2005) 150 Ω.cm\n",
    "                       V0 = 0)) # mV\n",
    "    sec.append(sn.Section(L=100,#100 μm (Migliore et al 2005) up to 600 μm\n",
    "                       a=0.8,#1 μm  (Migliore et al 2005) 0.3 to 5 μm (for oblique dend)\n",
    "                       C_m=1,#10 mF/ m2 = 1 μF / cm2 (Migliore et al 2005) taum = 28 ms -> Cm = 1 μF/cm2\n",
    "                       R_l=70, #(Migliore et al 2005) 150 Ω.cm\n",
    "                       V0 = 0)) # mV"
   ]
  },
  {
   "cell_type": "code",
   "execution_count": 3,
   "metadata": {},
   "outputs": [],
   "source": [
    "N=sn.Neuron()\n",
    "\n",
    "N.add_section(sec[0],0,1)\n",
    "N.add_section(sec[1],1,2)\n",
    "N.add_section(sec[2],2,3)\n",
    "N.add_section(sec[3],3,4)\n",
    "\n"
   ]
  },
  {
   "cell_type": "code",
   "execution_count": 4,
   "metadata": {},
   "outputs": [
    {
     "data": {
      "image/png": "[encoded data removed]",
      "text/plain": [
       "<Figure size 432x288 with 1 Axes>"
      ]
     },
     "metadata": {
      "needs_background": "light"
     },
     "output_type": "display_data"
    }
   ],
   "source": [
    "N.view.graph()"
   ]
  },
  {
   "cell_type": "code",
   "execution_count": 5,
   "metadata": {},
   "outputs": [],
   "source": [
    "sec[0].add_channel_p(sn.channels.HeavysideCurrent(500,10,12),x = 0)"
   ]
  },
  {
   "cell_type": "code",
   "execution_count": 6,
   "metadata": {},
   "outputs": [],
   "source": [
    "sec[0].add_channel_c(sn.channels.Hodgkin_Huxley())\n",
    "sec[2].add_channel_c(sn.channels.Hodgkin_Huxley())"
   ]
  },
  {
   "cell_type": "code",
   "execution_count": 7,
   "metadata": {},
   "outputs": [],
   "source": [
    "sec[1].add_channel_c(sn.channels.LeakChannel(0,2000))\n",
    "sec[3].add_channel_c(sn.channels.LeakChannel(0,2000))"
   ]
  },
  {
   "cell_type": "code",
   "execution_count": 8,
   "metadata": {},
   "outputs": [
    {
     "data": {
      "text/plain": [
       "Neuron([\"0-1: Section(name=139975834419832, L=10 um, a=700 nm, C_m=10 fF/μm², R_l=700 kΩ.μm, channels : [<sinaps.channels.Hodgkin_Huxley object at 0x7f4ea6f45f28>], point_channels : ['0:<sinaps.channels.HeavysideCurrent object at 0x7f4ea6f45c88>'])\", '1-2: Section(name=139975834420000, L=100 um, a=800 nm, C_m=10 fF/μm², R_l=700 kΩ.μm, channels : [LeakChannel(Veq=0 V, R_m=2 MΩ.cm²)], point_channels : [])', '2-3: Section(name=139975834420056, L=10 um, a=700 nm, C_m=10 fF/μm², R_l=700 kΩ.μm, channels : [<sinaps.channels.Hodgkin_Huxley object at 0x7f4ea6f45c18>], point_channels : [])', '3-4: Section(name=139975834420112, L=100 um, a=800 nm, C_m=10 fF/μm², R_l=700 kΩ.μm, channels : [LeakChannel(Veq=0 V, R_m=2 MΩ.cm²)], point_channels : [])'])"
      ]
     },
     "execution_count": 8,
     "metadata": {},
     "output_type": "execute_result"
    }
   ],
   "source": [
    "N"
   ]
  },
  {
   "cell_type": "code",
   "execution_count": 14,
   "metadata": {},
   "outputs": [],
   "source": [
    "sec[0].dx=0.1\n",
    "sec[2].dx=0.1\n",
    "sec[1].dx=1\n",
    "sec[3].dx=1"
   ]
  },
  {
   "cell_type": "code",
   "execution_count": null,
   "metadata": {},
   "outputs": [],
   "source": []
  },
  {
   "cell_type": "code",
   "execution_count": 9,
   "metadata": {},
   "outputs": [],
   "source": [
    "sim=sn.Simulation(N,dx=10)"
   ]
  },
  {
   "cell_type": "code",
   "execution_count": 10,
   "metadata": {},
   "outputs": [
    {
     "data": {
      "text/plain": [
       "Neuron([\"0-1: Section(name=139975834419832, L=10 um, a=700 nm, C_m=10 fF/μm², R_l=700 kΩ.μm, channels : [<sinaps.channels.Hodgkin_Huxley object at 0x7f4ea6f455c0>], point_channels : ['0:<sinaps.channels.HeavysideCurrent object at 0x7f4ea6f45dd8>'])\", '1-2: Section(name=139975834420000, L=100 um, a=800 nm, C_m=10 fF/μm², R_l=700 kΩ.μm, channels : [LeakChannel(Veq=0 V, R_m=2 MΩ.cm²)], point_channels : [])', '2-3: Section(name=139975834420056, L=10 um, a=700 nm, C_m=10 fF/μm², R_l=700 kΩ.μm, channels : [<sinaps.channels.Hodgkin_Huxley object at 0x7f4ea6f847b8>], point_channels : [])', '3-4: Section(name=139975834420112, L=100 um, a=800 nm, C_m=10 fF/μm², R_l=700 kΩ.μm, channels : [LeakChannel(Veq=0 V, R_m=2 MΩ.cm²)], point_channels : [])'])"
      ]
     },
     "execution_count": 10,
     "metadata": {},
     "output_type": "execute_result"
    }
   ],
   "source": [
    "sim.N"
   ]
  },
  {
   "cell_type": "code",
   "execution_count": null,
   "metadata": {},
   "outputs": [],
   "source": []
  },
  {
   "cell_type": "code",
   "execution_count": 11,
   "metadata": {},
   "outputs": [],
   "source": [
    "max_step=0.01 #ms\n",
    "t_span =(0,40)\n",
    "sim.run(t_span)\n"
   ]
  },
  {
   "cell_type": "code",
   "execution_count": 198,
   "metadata": {},
   "outputs": [],
   "source": [
    "import matplotlib.pyplot as plt"
   ]
  },
  {
   "cell_type": "code",
   "execution_count": 12,
   "metadata": {},
   "outputs": [
    {
     "data": {
      "text/plain": [
       "<matplotlib.axes._subplots.AxesSubplot at 0x7f4ea6a99358>"
      ]
     },
     "execution_count": 12,
     "metadata": {},
     "output_type": "execute_result"
    },
    {
     "data": {
      "image/png": "[encoded data removed]",
      "text/plain": [
       "<Figure size 432x288 with 1 Axes>"
      ]
     },
     "metadata": {
      "needs_background": "light"
     },
     "output_type": "display_data"
    }
   ],
   "source": [
    "sim.V.loc[:,0::10].plot()"
   ]
  },
  {
   "cell_type": "code",
   "execution_count": 71,
   "metadata": {},
   "outputs": [
    {
     "data": {
      "text/plain": [
       "<matplotlib.image.AxesImage at 0x7f9ea810aef0>"
      ]
     },
     "execution_count": 71,
     "metadata": {},
     "output_type": "execute_result"
    },
    {
     "data": {
      "image/png": "[encoded data removed]",
      "text/plain": [
       "<matplotlib.figure.Figure at 0x7f9ea8185208>"
      ]
     },
     "metadata": {
      "needs_background": "light"
     },
     "output_type": "display_data"
    }
   ],
   "source": [
    "plt.imshow(sim.V.T)"
   ]
  },
  {
   "cell_type": "code",
   "execution_count": null,
   "metadata": {},
   "outputs": [],
   "source": []
  }
 ],
 "metadata": {
  "kernelspec": {
   "display_name": "Python 3",
   "language": "python",
   "name": "python3"
  },
  "language_info": {
   "codemirror_mode": {
    "name": "ipython",
    "version": 3
   },
   "file_extension": ".py",
   "mimetype": "text/x-python",
   "name": "python",
   "nbconvert_exporter": "python",
   "pygments_lexer": "ipython3",
   "version": "3.6.8"
  }
 },
 "nbformat": 4,
 "nbformat_minor": 2
}
