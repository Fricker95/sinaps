{
 "cells": [
  {
   "cell_type": "code",
   "execution_count": null,
   "metadata": {},
   "outputs": [],
   "source": [
    "import sinaps as sn"
   ]
  },
  {
   "cell_type": "code",
   "execution_count": null,
   "metadata": {},
   "outputs": [],
   "source": []
  },
  {
   "cell_type": "code",
   "execution_count": null,
   "metadata": {},
   "outputs": [],
   "source": [
    "sec=list()\n",
    "for i in range(2):\n",
    "    sec.append(sn.Section(L=10,#100 μm (Migliore et al 2005) up to 600 μm\n",
    "                       a=0.7,#1 μm  (Migliore et al 2005) 0.3 to 5 μm (for oblique dend)\n",
    "                       C_m=1,#10 mF/ m2 = 1 μF / cm2 (Migliore et al 2005) taum = 28 ms -> Cm = 1 μF/cm2\n",
    "                       R_l=70, #(Migliore et al 2005) 150 Ω.cm\n",
    "                       V0 = 0)) # mV\n",
    "    sec.append(sn.Section(L=100,#100 μm (Migliore et al 2005) up to 600 μm\n",
    "                       a=0.8,#1 μm  (Migliore et al 2005) 0.3 to 5 μm (for oblique dend)\n",
    "                       C_m=1,#10 mF/ m2 = 1 μF / cm2 (Migliore et al 2005) taum = 28 ms -> Cm = 1 μF/cm2\n",
    "                       R_l=70, #(Migliore et al 2005) 150 Ω.cm\n",
    "                       V0 = 0)) # mV"
   ]
  },
  {
   "cell_type": "code",
   "execution_count": null,
   "metadata": {},
   "outputs": [],
   "source": [
    "N=sn.Neuron()\n",
    "\n",
    "N.add_section(sec[0],0,1)\n",
    "N.add_section(sec[1],1,2)\n",
    "N.add_section(sec[2],2,3)\n",
    "N.add_section(sec[3],3,4)\n",
    "\n"
   ]
  },
  {
   "cell_type": "code",
   "execution_count": null,
   "metadata": {},
   "outputs": [],
   "source": [
    "N.view.graph()"
   ]
  },
  {
   "cell_type": "code",
   "execution_count": null,
   "metadata": {},
   "outputs": [],
   "source": [
    "sec[0].add_channel_p(sn.channels.HeavysideCurrent(500,10,12),x = 0)"
   ]
  },
  {
   "cell_type": "code",
   "execution_count": null,
   "metadata": {},
   "outputs": [],
   "source": [
    "sec[0].add_channel_c(sn.channels.Hodgkin_Huxley())\n",
    "sec[2].add_channel_c(sn.channels.Hodgkin_Huxley())"
   ]
  },
  {
   "cell_type": "code",
   "execution_count": null,
   "metadata": {},
   "outputs": [],
   "source": [
    "sec[1].add_channel_c(sn.channels.LeakChannel(0,2000))\n",
    "sec[3].add_channel_c(sn.channels.LeakChannel(0,2000))"
   ]
  },
  {
   "cell_type": "code",
   "execution_count": null,
   "metadata": {},
   "outputs": [],
   "source": [
    "sec[0]"
   ]
  },
  {
   "cell_type": "code",
   "execution_count": null,
   "metadata": {},
   "outputs": [],
   "source": [
    "N"
   ]
  },
  {
   "cell_type": "code",
   "execution_count": null,
   "metadata": {},
   "outputs": [],
   "source": [
    "sec[0].dx=0.1\n",
    "sec[2].dx=0.1\n",
    "sec[1].dx=1\n",
    "sec[3].dx=1"
   ]
  },
  {
   "cell_type": "code",
   "execution_count": null,
   "metadata": {},
   "outputs": [],
   "source": []
  },
  {
   "cell_type": "code",
   "execution_count": null,
   "metadata": {},
   "outputs": [],
   "source": [
    "sim=sn.Simulation(N,dx=10)"
   ]
  },
  {
   "cell_type": "code",
   "execution_count": null,
   "metadata": {},
   "outputs": [],
   "source": [
    "sim.N"
   ]
  },
  {
   "cell_type": "code",
   "execution_count": null,
   "metadata": {},
   "outputs": [],
   "source": [
    "max_step=0.01 #ms\n",
    "t_span =(0,40)\n",
    "sim.run(t_span,max_step=max_step)\n"
   ]
  },
  {
   "cell_type": "code",
   "execution_count": null,
   "metadata": {
    "scrolled": true
   },
   "outputs": [],
   "source": [
    "sim.V[1].loc[:,:].plot(ylabel='Voltage (mV)',figsize=(800,500))"
   ]
  },
  {
   "cell_type": "code",
   "execution_count": null,
   "metadata": {},
   "outputs": [],
   "source": [
    "import matplotlib.pyplot as plt"
   ]
  },
  {
   "cell_type": "code",
   "execution_count": null,
   "metadata": {},
   "outputs": [],
   "source": [
    "plt.imshow(sim.V.loc[::100,:].T)"
   ]
  },
  {
   "cell_type": "code",
   "execution_count": null,
   "metadata": {},
   "outputs": [],
   "source": []
  }
 ],
 "metadata": {
  "kernelspec": {
   "display_name": "Python 3",
   "language": "python",
   "name": "python3"
  },
  "language_info": {
   "codemirror_mode": {
    "name": "ipython",
    "version": 3
   },
   "file_extension": ".py",
   "mimetype": "text/x-python",
   "name": "python",
   "nbconvert_exporter": "python",
   "pygments_lexer": "ipython3",
   "version": "3.6.8"
  }
 },
 "nbformat": 4,
 "nbformat_minor": 2
}
