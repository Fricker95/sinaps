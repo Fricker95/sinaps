{
 "cells": [
  {
   "cell_type": "code",
   "execution_count": 5,
   "metadata": {},
   "outputs": [],
   "source": [
    "import numpy as np\n",
    "pi=np.pi\n",
    "\n",
    "from scipy.integrate import odeint\n",
    "from quantiphy import Quantity"
   ]
  },
  {
   "cell_type": "code",
   "execution_count": 6,
   "metadata": {},
   "outputs": [],
   "source": [
    "class Section:\n",
    "    \"\"\"This class represent a section of neuron with uniform physical values\n",
    "    S=Section(L = length [m],\n",
    "              a = radius [m],\n",
    "              R_m = membrane resistance [Ohm.m²] (leak channels), \n",
    "              C_m = menbrane capacitance [F/m2]\n",
    "              R_l = longitudinal resistance [Ohm.m])\n",
    "    \n",
    "    resistance and capacitance given per menbrane-area unit\n",
    "    \"\"\"\n",
    "    def __init__(self, L, a, R_m, C_m, R_l, name=None):\n",
    "        self.L = Quantity (L,'m')\n",
    "        self.a = Quantity (a,'m')\n",
    "        self.R_m = Quantity (R_m,'Ω.m²')\n",
    "        self.C_m = Quantity (C_m,'F/m²')\n",
    "        self.R_l = Quantity (R_l,'Ω.m')\n",
    "        if name is None:\n",
    "            self.name=id(self)\n",
    "        else:\n",
    "            self.name=name\n",
    "   \n",
    "\n",
    "    @property\n",
    "    def r_m(self):\n",
    "        \"\"\"membrane resistance per unit length [Ohm.m]\"\"\"\n",
    "        self.r_m = Quantity(self.R_m / 2 / pi / self.a,'Ω.m')\n",
    "        \n",
    "    @property\n",
    "    def r_l(self):\n",
    "        \"\"\"longitudinal resistance per unit length [Ohm/m]\"\"\"\n",
    "        self.r_m = Quantity(self.R_l /  pi / self.a**2,'Ω/m')\n",
    "        \n",
    "    def c_m(self):\n",
    "        \"\"\"membrane capacitance per unit length [F/m]\"\"\"\n",
    "        self.c_m = Quantity(C_m * 2 * pi * radius ,'F/m')\n",
    "    \n",
    "    \n",
    "    def __repr__(self):\n",
    "        return \"Section(name={}, L={}, a={}, R_m={}, R_l={}, C_m={})\".format(\n",
    "            self.name,self.L,self.a,self.R_m,self.R_l,self.C_m)\n",
    "    \n",
    "    def __str__(self):\n",
    "        return \"Section {}\".format(self.name)\n"
   ]
  },
  {
   "cell_type": "code",
   "execution_count": 7,
   "metadata": {},
   "outputs": [],
   "source": [
    "S=list()\n",
    "for i in range(3):\n",
    "    S.append(Section(L=1E-4,\n",
    "              a=1E-6,\n",
    "              R_m=1,\n",
    "              C_m=100E-6,\n",
    "              R_l=1))"
   ]
  },
  {
   "cell_type": "code",
   "execution_count": 9,
   "metadata": {},
   "outputs": [],
   "source": [
    "class Neuron:\n",
    "    \"\"\"This class represent a neuron\n",
    "    N=Neuron(sections)\n",
    "    structure is a dictionary with segments and connections:\n",
    "    \n",
    "    example : sections = {S0:[1,2],S1:[2,3],S2:[2,4]}\n",
    "    S0, S1, S2 are Section type\n",
    "    node 1 is connected to node 2 with S0 section\n",
    "    node 2 is connected to node 3 with S1 section, and to node 4 with S2 section\n",
    "    \n",
    "    \n",
    "    N=Neuron(nb_nodes)\n",
    "    \n",
    "    \n",
    "    \n",
    "    \n",
    "    \"\"\"\n",
    "    \n",
    "    def __init__(self, sections):\n",
    "\n",
    "                     \n",
    "        self.sections=sections\n",
    "                \n",
    "    def add_section(self,s,i,j):\n",
    "        \"\"\"Connect nodes\n",
    "        \n",
    "        example : N.add_section(i,j,s)\n",
    "        With i and j:Int and s:Section\n",
    "        connect nodes i and j with section s\n",
    "        \n",
    "        \"\"\"\n",
    "        self.sections[s]=[i,j]\n",
    "    \n",
    "    \n",
    "    def adj_mat(self):\n",
    "        n=max(max(sections.values()))+1\n",
    "        self.mat = np.ndarray([n,n],Section)    \n",
    "        for s,ind in sections.items():\n",
    "            self.mat[ind[0],ind[1]]=s\n",
    "    \n",
    "    \n",
    "    def create_segments(res):\n",
    "        \"\"\"\n",
    "        N.create_segments(res = spatial_resolution [m])\n",
    "    \n",
    "        \"\"\"\n",
    "        for s in self.sections:\n",
    "            pass\n",
    "            \n",
    "        \n",
    "        \n",
    "        \n",
    "    def conductance_mat(res):\n",
    "        \"\"\"Return conductance matrix of the neuron\n",
    "        \n",
    "        N.conductance_mat(res = spatial_resolution [m])\n",
    "        \n",
    "        \n",
    "        \"\"\"\n",
    "        \n",
    "        \n",
    "        \n",
    "        "
   ]
  },
  {
   "cell_type": "code",
   "execution_count": 170,
   "metadata": {},
   "outputs": [],
   "source": [
    "a=np.ndarray([3,3],Segment)"
   ]
  },
  {
   "cell_type": "code",
   "execution_count": 10,
   "metadata": {},
   "outputs": [],
   "source": [
    "N=Neuron({S[0]:[0,1],S[1]:[1,2],S[2]:[1,3]})"
   ]
  },
  {
   "cell_type": "code",
   "execution_count": 199,
   "metadata": {},
   "outputs": [],
   "source": [
    "N.add_section(S[1],1,2)"
   ]
  },
  {
   "cell_type": "code",
   "execution_count": 174,
   "metadata": {},
   "outputs": [],
   "source": [
    "a={S[0]:[0,1],S[1]:[1,2],S[2]:[1,3]}"
   ]
  },
  {
   "cell_type": "code",
   "execution_count": 183,
   "metadata": {},
   "outputs": [
    {
     "data": {
      "text/plain": [
       "3"
      ]
     },
     "execution_count": 183,
     "metadata": {},
     "output_type": "execute_result"
    }
   ],
   "source": [
    "max(max(a.values()))"
   ]
  },
  {
   "cell_type": "code",
   "execution_count": 11,
   "metadata": {},
   "outputs": [
    {
     "data": {
      "text/plain": [
       "{Section(name=2545392076728, L=100 um, a=1 um, R_m=1 Ω.m², R_l=1 Ω.m, C_m=100 uF/m²): [1,\n",
       "  3],\n",
       " Section(name=2545392078464, L=100 um, a=1 um, R_m=1 Ω.m², R_l=1 Ω.m, C_m=100 uF/m²): [1,\n",
       "  2],\n",
       " Section(name=2545392078800, L=100 um, a=1 um, R_m=1 Ω.m², R_l=1 Ω.m, C_m=100 uF/m²): [0,\n",
       "  1]}"
      ]
     },
     "execution_count": 11,
     "metadata": {},
     "output_type": "execute_result"
    }
   ],
   "source": [
    "N.sections"
   ]
  },
  {
   "cell_type": "code",
   "execution_count": null,
   "metadata": {},
   "outputs": [],
   "source": [
    "class Simulation:\n",
    "    \"\"\"This class represent a simulation\"\"\"\n",
    "    \n",
    "    "
   ]
  },
  {
   "cell_type": "code",
   "execution_count": 150,
   "metadata": {},
   "outputs": [
    {
     "name": "stdout",
     "output_type": "stream",
     "text": [
      "14\n",
      "56\n"
     ]
    }
   ],
   "source": [
    "b={1:4,5:6}\n",
    "for a,c in b.items():\n",
    "    print(str(a)+str(c))"
   ]
  },
  {
   "cell_type": "code",
   "execution_count": 4,
   "metadata": {
    "outputExpanded": true
   },
   "outputs": [
    {
     "name": "stdout",
     "output_type": "stream",
     "text": [
      "Collecting quantiphy\n",
      "Requirement already satisfied: six in c:\\users\\nicolas.galtier\\appdata\\local\\programs\\python\\python36\\lib\\site-packages (from quantiphy)\n",
      "Installing collected packages: quantiphy\n",
      "Successfully installed quantiphy-2.2.0\n"
     ]
    },
    {
     "name": "stderr",
     "output_type": "stream",
     "text": [
      "  Cache entry deserialization failed, entry ignored\n"
     ]
    }
   ],
   "source": [
    "!pip3 install quantiphy"
   ]
  }
 ],
 "metadata": {
  "kernel_info": {
   "name": "python3"
  },
  "kernelspec": {
   "display_name": "Python 3",
   "language": "python",
   "name": "python3"
  },
  "language_info": {
   "codemirror_mode": {
    "name": "ipython",
    "version": 3
   },
   "file_extension": ".py",
   "mimetype": "text/x-python",
   "name": "python",
   "nbconvert_exporter": "python",
   "pygments_lexer": "ipython3",
   "version": "3.6.7"
  },
  "nteract": {
   "version": "0.5.5"
  }
 },
 "nbformat": 4,
 "nbformat_minor": 2
}
