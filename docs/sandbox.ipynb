{
 "cells": [
  {
   "cell_type": "code",
   "execution_count": 1,
   "metadata": {},
   "outputs": [],
   "source": [
    "import sinaps as sn"
   ]
  },
  {
   "cell_type": "code",
   "execution_count": 2,
   "metadata": {},
   "outputs": [],
   "source": [
    "import numpy as np"
   ]
  },
  {
   "cell_type": "code",
   "execution_count": 3,
   "metadata": {},
   "outputs": [
    {
     "data": {
      "text/plain": [
       "3.141592653589793"
      ]
     },
     "execution_count": 3,
     "metadata": {},
     "output_type": "execute_result"
    }
   ],
   "source": [
    "np.pi"
   ]
  },
  {
   "cell_type": "code",
   "execution_count": 4,
   "metadata": {},
   "outputs": [],
   "source": [
    "sec=list()\n",
    "for i in range(2):\n",
    "    sec.append(sn.Section(L=10,#100 μm (Migliore et al 2005) up to 600 μm\n",
    "                       a=0.7,#1 μm  (Migliore et al 2005) 0.3 to 5 μm (for oblique dend)\n",
    "                       C_m=1,#10 mF/ m2 = 1 μF / cm2 (Migliore et al 2005) taum = 28 ms -> Cm = 1 μF/cm2\n",
    "                       R_l=70, #(Migliore et al 2005) 150 Ω.cm\n",
    "                       V0 = 0)) # mV\n",
    "    sec.append(sn.Section(L=100,#100 μm (Migliore et al 2005) up to 600 μm\n",
    "                       a=1.5,#1 μm  (Migliore et al 2005) 0.3 to 5 μm (for oblique dend)\n",
    "                       C_m=1,#10 mF/ m2 = 1 μF / cm2 (Migliore et al 2005) taum = 28 ms -> Cm = 1 μF/cm2\n",
    "                       R_l=70, #(Migliore et al 2005) 150 Ω.cm\n",
    "                       V0 = 0)) # mV\n",
    "\n",
    "N=sn.Neuron()\n",
    "\n",
    "N.add_section(sec[0],0,1)\n",
    "N.add_section(sec[1],1,2)\n",
    "N.add_section(sec[2],1,3)\n",
    "N.add_section(sec[3],3,4)\n",
    "\n"
   ]
  },
  {
   "cell_type": "code",
   "execution_count": 5,
   "metadata": {},
   "outputs": [],
   "source": [
    "N._x"
   ]
  },
  {
   "cell_type": "code",
   "execution_count": 6,
   "metadata": {},
   "outputs": [
    {
     "data": {
      "image/png": "[encoded data removed]",
      "text/plain": [
       "<matplotlib.figure.Figure at 0x7fc6f0fec198>"
      ]
     },
     "metadata": {
      "needs_background": "light"
     },
     "output_type": "display_data"
    }
   ],
   "source": [
    "N.view.graph()"
   ]
  },
  {
   "cell_type": "code",
   "execution_count": 6,
   "metadata": {},
   "outputs": [],
   "source": [
    "self=N"
   ]
  },
  {
   "cell_type": "code",
   "execution_count": 7,
   "metadata": {},
   "outputs": [
    {
     "data": {
      "text/plain": [
       "3"
      ]
     },
     "execution_count": 7,
     "metadata": {},
     "output_type": "execute_result"
    }
   ],
   "source": [
    "max([s['i'] for s in self.sections])"
   ]
  },
  {
   "cell_type": "code",
   "execution_count": 8,
   "metadata": {},
   "outputs": [
    {
     "data": {
      "text/plain": [
       "array([[None,\n",
       "        Section(name=139931622018912, L=10 um, a=700 nm, C_m=10 fF/μm², R_l=700 kΩ.μm),\n",
       "        None, None, None],\n",
       "       [None, None,\n",
       "        Section(name=139931622018968, L=1 mm, a=800 nm, C_m=10 fF/μm², R_l=700 kΩ.μm),\n",
       "        None, None],\n",
       "       [None, None, None,\n",
       "        Section(name=139931622019024, L=10 um, a=700 nm, C_m=10 fF/μm², R_l=700 kΩ.μm),\n",
       "        None],\n",
       "       [None, None, None, None,\n",
       "        Section(name=139931622027336, L=1 mm, a=800 nm, C_m=10 fF/μm², R_l=700 kΩ.μm)],\n",
       "       [None, None, None, None, None]], dtype=object)"
      ]
     },
     "execution_count": 8,
     "metadata": {},
     "output_type": "execute_result"
    }
   ],
   "source": [
    "N.adj_mat"
   ]
  },
  {
   "cell_type": "code",
   "execution_count": 29,
   "metadata": {},
   "outputs": [],
   "source": [
    "def _create_coordinate(self,\n",
    "                      permut= np.random.permutation,\n",
    "                      start_angle=0,\n",
    "                      diff_angle=np.pi/6,\n",
    "                     ):\n",
    "        \"\"\"create the nodes coordinate from tree structure for ploting the neuron\"\"\"\n",
    "    \n",
    "        n=self.nb_nodes\n",
    "        self.x=[0]*n\n",
    "        self.y=[0]*n\n",
    "\n",
    "        def set_coordinate_from_node(i,angle_i):\n",
    "            nb_children=np.count_nonzero(self.adj_mat[i])\n",
    "            k=-(nb_children-1)/2.0\n",
    "            for j in permut(n):\n",
    "                if self.adj_mat[i,j]:\n",
    "                    angle_j=angle_i+k*diff_angle\n",
    "                    k=k+1\n",
    "                    self.x[j]=self.x[i]+math.cos(angle_j)*self.adj_mat[i,j].L\n",
    "                    self.y[j]=self.y[i]-math.sin(angle_j)*self.adj_mat[i,j].L\n",
    "                    set_coordinate_from_node(j,angle_j)\n",
    "\n",
    "        set_coordinate_from_node(0,start_angle)\n"
   ]
  },
  {
   "cell_type": "code",
   "execution_count": 13,
   "metadata": {},
   "outputs": [
    {
     "data": {
      "text/plain": [
       "array([None, None,\n",
       "       Section(name=139931622018968, L=1 mm, a=800 nm, C_m=10 fF/μm², R_l=700 kΩ.μm),\n",
       "       None, None], dtype=object)"
      ]
     },
     "execution_count": 13,
     "metadata": {},
     "output_type": "execute_result"
    }
   ],
   "source": [
    "self.adj_mat[i]"
   ]
  },
  {
   "cell_type": "code",
   "execution_count": 18,
   "metadata": {},
   "outputs": [],
   "source": [
    "import math"
   ]
  },
  {
   "cell_type": "code",
   "execution_count": 15,
   "metadata": {},
   "outputs": [
    {
     "data": {
      "text/plain": [
       "1"
      ]
     },
     "execution_count": 15,
     "metadata": {},
     "output_type": "execute_result"
    }
   ],
   "source": [
    "np.count_nonzero(self.adj_mat[i])"
   ]
  },
  {
   "cell_type": "code",
   "execution_count": 45,
   "metadata": {},
   "outputs": [],
   "source": [
    "_create_coordinate(N)"
   ]
  },
  {
   "cell_type": "code",
   "execution_count": 59,
   "metadata": {},
   "outputs": [],
   "source": [
    "def plot(self):    \n",
    "    plt.scatter(self.x, self.y, marker='|')\n",
    "    for s in self.sections:\n",
    "            plt.plot([self.x[s['i']],self.x[s['j']]],[self.y[s['i']],self.y[s['j']]],\n",
    "                    linewidth=s['obj'].a*2,\n",
    "                    color='grey')\n",
    "\n"
   ]
  },
  {
   "cell_type": "code",
   "execution_count": null,
   "metadata": {},
   "outputs": [],
   "source": []
  },
  {
   "cell_type": "code",
   "execution_count": 22,
   "metadata": {},
   "outputs": [],
   "source": [
    "import matplotlib.pyplot as plt"
   ]
  },
  {
   "cell_type": "code",
   "execution_count": 60,
   "metadata": {},
   "outputs": [
    {
     "data": {
      "image/png": "[encoded data removed]",
      "text/plain": [
       "<matplotlib.figure.Figure at 0x7f445a9f6828>"
      ]
     },
     "metadata": {
      "needs_background": "light"
     },
     "output_type": "display_data"
    }
   ],
   "source": [
    "plot(N)"
   ]
  },
  {
   "cell_type": "code",
   "execution_count": null,
   "metadata": {},
   "outputs": [],
   "source": [
    "\n",
    "        \n",
    "    def _create_sections(self):\n",
    "        \"\"\"create neuron sections from geometry\"\"\"\n",
    "        n=self.nb_nodes()\n",
    "        self.sections=[h.Section(name=\"node_{}\".format(self.node_names[i])) for i in xrange(n)]\n",
    "        for parent,child in self.edges:\n",
    "            self.sections[child].connect(self.sections[parent](1))\n",
    "            \n",
    "            \n",
    "    def print_details(self):\n",
    "        print \"Node names :\"\n",
    "        print self.node_names\n",
    "        print\"==============\"\n",
    "        print \"Edges :\"\n",
    "        print self.edges\n",
    "        print\"==============\"\n",
    "\n",
    "    def print_details_neuron(self):\n",
    "        for i in xrange(self.nb_nodes()):\n",
    "            checknode=self.sections[i]\n",
    "            print 'Parent'\n",
    "            print checknode.name()\n",
    "            print 'Child'\n",
    "            for c in checknode.children():\n",
    "                print c.name()\n",
    "        \n",
    "    def plot(self,**kwargs):    \n",
    "        pyplot.scatter(self.x, self.y, **kwargs)\n",
    "        pyplot.show()\n",
    "\n",
    "\n",
    "    def plot_edges(self):\n",
    "        for e in self.edges:\n",
    "            pyplot.plot([x[e[0]],x[e[1]]],[y[e[0]],y[e[1]]])\n",
    "            self.plot()"
   ]
  },
  {
   "cell_type": "code",
   "execution_count": 5,
   "metadata": {},
   "outputs": [],
   "source": [
    "import numpy as np\n",
    "pi=np.pi\n",
    "\n",
    "from scipy.integrate import odeint\n",
    "from quantiphy import Quantity"
   ]
  },
  {
   "cell_type": "code",
   "execution_count": 7,
   "metadata": {},
   "outputs": [],
   "source": [
    "S=list()\n",
    "for i in range(3):\n",
    "    S.append(Section(L=1E-4,\n",
    "              a=1E-6,\n",
    "              R_m=1,\n",
    "              C_m=100E-6,\n",
    "              R_l=1))"
   ]
  },
  {
   "cell_type": "code",
   "execution_count": 9,
   "metadata": {},
   "outputs": [],
   "source": [
    "class Neuron:\n",
    "    \"\"\"This class represent a neuron\n",
    "    N=Neuron(sections)\n",
    "    structure is a dictionary with segments and connections:\n",
    "    \n",
    "    example : sections = {S0:[1,2],S1:[2,3],S2:[2,4]}\n",
    "    S0, S1, S2 are Section type\n",
    "    node 1 is connected to node 2 with S0 section\n",
    "    node 2 is connected to node 3 with S1 section, and to node 4 with S2 section\n",
    "    \n",
    "    \n",
    "    N=Neuron(nb_nodes)\n",
    "    \n",
    "    \n",
    "    \n",
    "    \n",
    "    \"\"\"\n",
    "    \n",
    "    def __init__(self, sections):\n",
    "\n",
    "                     \n",
    "        self.sections=sections\n",
    "                \n",
    "    def add_section(self,s,i,j):\n",
    "        \"\"\"Connect nodes\n",
    "        \n",
    "        example : N.add_section(i,j,s)\n",
    "        With i and j:Int and s:Section\n",
    "        connect nodes i and j with section s\n",
    "        \n",
    "        \"\"\"\n",
    "        self.sections[s]=[i,j]\n",
    "    \n",
    "    \n",
    "    def adj_mat(self):\n",
    "        n=max(max(sections.values()))+1\n",
    "        self.mat = np.ndarray([n,n],Section)    \n",
    "        for s,ind in sections.items():\n",
    "            self.mat[ind[0],ind[1]]=s\n",
    "    \n",
    "    \n",
    "    def create_segments(res):\n",
    "        \"\"\"\n",
    "        N.create_segments(res = spatial_resolution [m])\n",
    "    \n",
    "        \"\"\"\n",
    "        for s in self.sections:\n",
    "            pass\n",
    "            \n",
    "        \n",
    "        \n",
    "        \n",
    "    def conductance_mat(res):\n",
    "        \"\"\"Return conductance matrix of the neuron\n",
    "        \n",
    "        N.conductance_mat(res = spatial_resolution [m])\n",
    "        \n",
    "        \n",
    "        \"\"\"\n",
    "        \n",
    "        \n",
    "        \n",
    "        "
   ]
  },
  {
   "cell_type": "code",
   "execution_count": 170,
   "metadata": {},
   "outputs": [],
   "source": [
    "a=np.ndarray([3,3],Segment)"
   ]
  },
  {
   "cell_type": "code",
   "execution_count": 10,
   "metadata": {},
   "outputs": [],
   "source": [
    "N=Neuron({S[0]:[0,1],S[1]:[1,2],S[2]:[1,3]})"
   ]
  },
  {
   "cell_type": "code",
   "execution_count": 199,
   "metadata": {},
   "outputs": [],
   "source": [
    "N.add_section(S[1],1,2)"
   ]
  },
  {
   "cell_type": "code",
   "execution_count": 174,
   "metadata": {},
   "outputs": [],
   "source": [
    "a={S[0]:[0,1],S[1]:[1,2],S[2]:[1,3]}"
   ]
  },
  {
   "cell_type": "code",
   "execution_count": 183,
   "metadata": {},
   "outputs": [
    {
     "data": {
      "text/plain": [
       "3"
      ]
     },
     "execution_count": 183,
     "metadata": {},
     "output_type": "execute_result"
    }
   ],
   "source": [
    "max(max(a.values()))"
   ]
  },
  {
   "cell_type": "code",
   "execution_count": 11,
   "metadata": {},
   "outputs": [
    {
     "data": {
      "text/plain": [
       "{Section(name=2545392076728, L=100 um, a=1 um, R_m=1 Ω.m², R_l=1 Ω.m, C_m=100 uF/m²): [1,\n",
       "  3],\n",
       " Section(name=2545392078464, L=100 um, a=1 um, R_m=1 Ω.m², R_l=1 Ω.m, C_m=100 uF/m²): [1,\n",
       "  2],\n",
       " Section(name=2545392078800, L=100 um, a=1 um, R_m=1 Ω.m², R_l=1 Ω.m, C_m=100 uF/m²): [0,\n",
       "  1]}"
      ]
     },
     "execution_count": 11,
     "metadata": {},
     "output_type": "execute_result"
    }
   ],
   "source": [
    "N.sections"
   ]
  },
  {
   "cell_type": "code",
   "execution_count": null,
   "metadata": {},
   "outputs": [],
   "source": [
    "class Simulation:\n",
    "    \"\"\"This class represent a simulation\"\"\"\n",
    "    \n",
    "    "
   ]
  },
  {
   "cell_type": "code",
   "execution_count": 150,
   "metadata": {},
   "outputs": [
    {
     "name": "stdout",
     "output_type": "stream",
     "text": [
      "14\n",
      "56\n"
     ]
    }
   ],
   "source": [
    "b={1:4,5:6}\n",
    "for a,c in b.items():\n",
    "    print(str(a)+str(c))"
   ]
  },
  {
   "cell_type": "code",
   "execution_count": 4,
   "metadata": {
    "outputExpanded": true
   },
   "outputs": [
    {
     "name": "stdout",
     "output_type": "stream",
     "text": [
      "Collecting quantiphy\n",
      "Requirement already satisfied: six in c:\\users\\nicolas.galtier\\appdata\\local\\programs\\python\\python36\\lib\\site-packages (from quantiphy)\n",
      "Installing collected packages: quantiphy\n",
      "Successfully installed quantiphy-2.2.0\n"
     ]
    },
    {
     "name": "stderr",
     "output_type": "stream",
     "text": [
      "  Cache entry deserialization failed, entry ignored\n"
     ]
    }
   ],
   "source": [
    "!pip3 install quantiphy"
   ]
  }
 ],
 "metadata": {
  "kernel_info": {
   "name": "python3"
  },
  "kernelspec": {
   "display_name": "Python 3",
   "language": "python",
   "name": "python3"
  },
  "language_info": {
   "codemirror_mode": {
    "name": "ipython",
    "version": 3
   },
   "file_extension": ".py",
   "mimetype": "text/x-python",
   "name": "python",
   "nbconvert_exporter": "python",
   "pygments_lexer": "ipython3",
   "version": "3.6.8"
  },
  "nteract": {
   "version": "0.5.5"
  }
 },
 "nbformat": 4,
 "nbformat_minor": 2
}
