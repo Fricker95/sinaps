{
 "cells": [
  {
   "cell_type": "markdown",
   "metadata": {},
   "source": [
    "# Getting started\n",
    "\n",
    "## Overview\n",
    "\n",
    "**sinaps** is a [Python](https://www.python.org) package providing fast, flexible and expressive tools to model signal propagation in neurons. It is an efficient framework to build computational models of neuron. It is based on the [Cable theory](https://en.wikipedia.org/wiki/Cable_theory) and [Nernst-Plank equation](https://en.wikipedia.org/wiki/Nernst%E2%80%93Planck_equation) for the electrodiffusion in the neuron.\n",
    "\n",
    "The primary data structures of sinaps are :\n",
    "\n",
    "* `Section` wich aims to represent a segment of a neuron with uniform physicals values\n",
    "* `Neuron` wich aims to represent a complete neuron is a directed graph whose edges are of `Section` type.\n",
    "* `Channels` wich aim to represent ionic channels with various dynamics\n",
    "\n",
    "The outputs of a simulation are :\n",
    "\n",
    "* Electric potential for each time step and position in the neuron\n",
    "* Concentration of species for each time step and position in the neuron\n",
    "\n"
   ]
  },
  {
   "cell_type": "markdown",
   "metadata": {},
   "source": [
    "## Introduction\n",
    "This is a short introduction to sinaps for new users.\n",
    "\n",
    "Customarily, we import as follows:"
   ]
  },
  {
   "cell_type": "code",
   "execution_count": 18,
   "metadata": {
    "scrolled": false
   },
   "outputs": [],
   "source": [
    "import sinaps as sn"
   ]
  },
  {
   "cell_type": "markdown",
   "metadata": {},
   "source": [
    "### Object creation\n",
    "Creating an empty `Neuron`:"
   ]
  },
  {
   "cell_type": "code",
   "execution_count": 19,
   "metadata": {},
   "outputs": [],
   "source": [
    "nrn = sn.Neuron()"
   ]
  },
  {
   "cell_type": "code",
   "execution_count": 20,
   "metadata": {},
   "outputs": [
    {
     "data": {
      "text/plain": [
       "Neuron(V_ref=0, name='Neuron02081', reactions=[], sections={})"
      ]
     },
     "execution_count": 20,
     "metadata": {},
     "output_type": "execute_result"
    }
   ],
   "source": [
    "nrn"
   ]
  },
  {
   "cell_type": "markdown",
   "metadata": {},
   "source": [
    "Creating a `Section`, letting sinaps setting default attribute :"
   ]
  },
  {
   "cell_type": "code",
   "execution_count": 21,
   "metadata": {},
   "outputs": [],
   "source": [
    "sec = sn.Section()"
   ]
  },
  {
   "cell_type": "code",
   "execution_count": 22,
   "metadata": {},
   "outputs": [
    {
     "data": {
      "text/markdown": [
       "Section **Section0001**\n",
       "\n",
       "* L: 100 um\n",
       "* a: 1 um\n",
       "* C_m: 1 uF/cm² (c_m=62.832 fF)\n",
       "* R_l: 150 Ω.cm (r_l=477.46 aΩ)\n",
       "* channels: \n",
       "* point_channels: "
      ],
      "text/plain": [
       "Section(C0={}, C_m=1, D={}, L=100, R_l=150, V0=0, a=1, dx=None, name='Section0001')"
      ]
     },
     "execution_count": 22,
     "metadata": {},
     "output_type": "execute_result"
    }
   ],
   "source": [
    "sec"
   ]
  },
  {
   "cell_type": "markdown",
   "metadata": {},
   "source": [
    "Adding a `HodgkinHuxley` [channel](https://en.wikipedia.org/wiki/Hodgkin%E2%80%93Huxley_model) to the newly created section:"
   ]
  },
  {
   "cell_type": "code",
   "execution_count": 23,
   "metadata": {},
   "outputs": [],
   "source": [
    "sec.add_channel(sn.channels.Hodgkin_Huxley())"
   ]
  },
  {
   "cell_type": "code",
   "execution_count": 24,
   "metadata": {},
   "outputs": [
    {
     "data": {
      "text/markdown": [
       "Section **Section0001**\n",
       "\n",
       "* L: 100 um\n",
       "* a: 1 um\n",
       "* C_m: 1 uF/cm² (c_m=62.832 fF)\n",
       "* R_l: 150 Ω.cm (r_l=477.46 aΩ)\n",
       "* channels: <sinaps.channels.Hodgkin_Huxley object at 0x7f09e8126978>\n",
       "* point_channels: "
      ],
      "text/plain": [
       "Section(C0={}, C_m=1, D={}, L=100, R_l=150, V0=0, a=1, dx=None, name='Section0001')"
      ]
     },
     "execution_count": 24,
     "metadata": {},
     "output_type": "execute_result"
    }
   ],
   "source": [
    "sec"
   ]
  },
  {
   "cell_type": "markdown",
   "metadata": {},
   "source": [
    "Adding a `HeavysideCurrent` channel with a current of `100` pA from `2` to `4` ms at the beginning of the section:"
   ]
  },
  {
   "cell_type": "code",
   "execution_count": 25,
   "metadata": {},
   "outputs": [],
   "source": [
    "sec.add_channel(sn.channels.HeavysideCurrent(100,2,4),0)"
   ]
  },
  {
   "cell_type": "code",
   "execution_count": 26,
   "metadata": {},
   "outputs": [
    {
     "data": {
      "text/markdown": [
       "Section **Section0001**\n",
       "\n",
       "* L: 100 um\n",
       "* a: 1 um\n",
       "* C_m: 1 uF/cm² (c_m=62.832 fF)\n",
       "* R_l: 150 Ω.cm (r_l=477.46 aΩ)\n",
       "* channels: <sinaps.channels.Hodgkin_Huxley object at 0x7f09e8126978>\n",
       "* point_channels: 0:<sinaps.channels.HeavysideCurrent object at 0x7f09e8126f60>"
      ],
      "text/plain": [
       "Section(C0={}, C_m=1, D={}, L=100, R_l=150, V0=0, a=1, dx=None, name='Section0001')"
      ]
     },
     "execution_count": 26,
     "metadata": {},
     "output_type": "execute_result"
    }
   ],
   "source": [
    "sec"
   ]
  },
  {
   "cell_type": "markdown",
   "metadata": {},
   "source": [
    "Adding the section `s` to the neuron `n` as an edge between nodes `0` and `1` :"
   ]
  },
  {
   "cell_type": "code",
   "execution_count": 27,
   "metadata": {},
   "outputs": [],
   "source": [
    "nrn.add_section(sec,0,1)"
   ]
  },
  {
   "cell_type": "code",
   "execution_count": 28,
   "metadata": {},
   "outputs": [
    {
     "data": {
      "text/plain": [
       "Neuron(V_ref=0, name='Neuron02081', reactions=[], sections={Section(C0={}, C_m=1, D={}, L=100, R_l=150, V0=0, a=1, dx=None, name='Section0001'): (0, 1)})"
      ]
     },
     "execution_count": 28,
     "metadata": {},
     "output_type": "execute_result"
    }
   ],
   "source": [
    "nrn"
   ]
  },
  {
   "cell_type": "markdown",
   "metadata": {},
   "source": [
    "Viewing the neuron structure :"
   ]
  },
  {
   "cell_type": "code",
   "execution_count": 29,
   "metadata": {},
   "outputs": [
    {
     "data": {
      "image/png": "[encoded data removed]",
      "text/plain": [
       "<matplotlib.figure.Figure at 0x7f09e8126668>"
      ]
     },
     "metadata": {
      "needs_background": "light"
     },
     "output_type": "display_data"
    }
   ],
   "source": [
    "nrn.view.graph()"
   ]
  },
  {
   "cell_type": "markdown",
   "metadata": {},
   "source": [
    "### Simulation running"
   ]
  },
  {
   "cell_type": "markdown",
   "metadata": {},
   "source": [
    "Creating a `Simulation` of neuron `n` with spatial resolution `10` um:"
   ]
  },
  {
   "cell_type": "code",
   "execution_count": 30,
   "metadata": {},
   "outputs": [],
   "source": [
    "sim = sn.Simulation(nrn,dx=10)"
   ]
  },
  {
   "cell_type": "code",
   "execution_count": 31,
   "metadata": {},
   "outputs": [
    {
     "data": {
      "text/markdown": [
       "Section **Section0001**\n",
       "\n",
       "* L: 100 um\n",
       "* a: 1 um\n",
       "* C_m: 1 uF/cm² (c_m=62.832 fF)\n",
       "* R_l: 150 Ω.cm (r_l=477.46 aΩ)\n",
       "* channels: <sinaps.channels.Hodgkin_Huxley object at 0x7f09e8126978>\n",
       "* point_channels: 0:<sinaps.channels.HeavysideCurrent object at 0x7f09e8126f60>"
      ],
      "text/plain": [
       "Section(C0={}, C_m=1, D={}, L=100, R_l=150, V0=0, a=1, dx=None, name='Section0001')"
      ]
     },
     "execution_count": 31,
     "metadata": {},
     "output_type": "execute_result"
    }
   ],
   "source": [
    "nrn[0]"
   ]
  },
  {
   "cell_type": "markdown",
   "metadata": {},
   "source": [
    "Running the simulation for timespan `0` to `20` ms:"
   ]
  },
  {
   "cell_type": "code",
   "execution_count": 32,
   "metadata": {},
   "outputs": [
    {
     "name": "stderr",
     "output_type": "stream",
     "text": [
      "100%|██████████| 20.0/20 [00:01<00:00, 13.02ms/s]     \n"
     ]
    }
   ],
   "source": [
    "sim.run((0,20))"
   ]
  },
  {
   "cell_type": "markdown",
   "metadata": {},
   "source": [
    "Results of the simulation are stored as a [pandas](https://pandas.pydata.org/) Dataframe:"
   ]
  },
  {
   "cell_type": "markdown",
   "metadata": {},
   "source": [
    "### Viewing results"
   ]
  },
  {
   "cell_type": "code",
   "execution_count": 33,
   "metadata": {},
   "outputs": [
    {
     "data": {
      "application/vnd.holoviews_exec.v0+json": "",
      "text/html": [
       "<div id='1691' style='display: table; margin: 0 auto;'>\n",
       "\n",
       "\n",
       "\n",
       "\n",
       "\n",
       "  <div class=\"bk-root\" id=\"d50b9713-1c08-4a54-b88a-4db196727b50\" data-root-id=\"1691\"></div>\n",
       "</div>\n",
       "<script type=\"application/javascript\">(function(root) {\n",
       "  function embed_document(root) {\n",
       "    \n",
       "  var docs_json = {\"42a8fcde-8278-489f-9808-9be26f6862c5\":{\"roots\":{\"references\":[{\"attributes\":{\"align\":null,\"below\":[{\"id\":\"1700\",\"type\":\"LinearAxis\"}],\"center\":[{\"id\":\"1704\",\"type\":\"Grid\"},{\"id\":\"1709\",\"type\":\"Grid\"},{\"id\":\"1740\",\"type\":\"Legend\"}],\"left\":[{\"id\":\"1705\",\"type\":\"LinearAxis\"}],\"margin\":null,\"min_border_bottom\":10,\"min_border_left\":10,\"min_border_right\":10,\"min_border_top\":10,\"plot_height\":400,\"plot_width\":null,\"renderers\":[{\"id\":\"1732\",\"type\":\"GlyphRenderer\"},{\"id\":\"1748\",\"type\":\"GlyphRenderer\"},{\"id\":\"1765\",\"type\":\"GlyphRenderer\"},{\"id\":\"1784\",\"type\":\"GlyphRenderer\"},{\"id\":\"1805\",\"type\":\"GlyphRenderer\"},{\"id\":\"1828\",\"type\":\"GlyphRenderer\"},{\"id\":\"1853\",\"type\":\"GlyphRenderer\"},{\"id\":\"1880\",\"type\":\"GlyphRenderer\"},{\"id\":\"1909\",\"type\":\"GlyphRenderer\"},{\"id\":\"1940\",\"type\":\"GlyphRenderer\"}],\"right\":[{\"id\":\"1740\",\"type\":\"Legend\"}],\"sizing_mode\":\"stretch_width\",\"title\":{\"id\":\"1692\",\"type\":\"Title\"},\"toolbar\":{\"id\":\"1715\",\"type\":\"Toolbar\"},\"x_range\":{\"id\":\"1679\",\"type\":\"Range1d\"},\"x_scale\":{\"id\":\"1696\",\"type\":\"LinearScale\"},\"y_range\":{\"id\":\"1680\",\"type\":\"Range1d\"},\"y_scale\":{\"id\":\"1698\",\"type\":\"LinearScale\"}},\"id\":\"1691\",\"subtype\":\"Figure\",\"type\":\"Plot\"},{\"attributes\":{\"line_color\":\"#bcbc21\",\"line_width\":2,\"x\":{\"field\":\"Time\"},\"y\":{\"field\":\"value\"}},\"id\":\"1906\",\"type\":\"Line\"},{\"attributes\":{},\"id\":\"1871\",\"type\":\"UnionRenderers\"},{\"attributes\":{},\"id\":\"1935\",\"type\":\"Selection\"},{\"attributes\":{\"label\":{\"value\":\"Section0001 - 95.0\\u00b5m\"},\"renderers\":[{\"id\":\"1940\",\"type\":\"GlyphRenderer\"}]},\"id\":\"1966\",\"type\":\"LegendItem\"},{\"attributes\":{\"line_color\":\"#7e7e7e\",\"line_width\":2,\"x\":{\"field\":\"Time\"},\"y\":{\"field\":\"value\"}},\"id\":\"1877\",\"type\":\"Line\"},{\"attributes\":{},\"id\":\"1964\",\"type\":\"UnionRenderers\"},{\"attributes\":{\"line_alpha\":0.2,\"line_color\":\"#7e7e7e\",\"line_width\":2,\"x\":{\"field\":\"Time\"},\"y\":{\"field\":\"value\"}},\"id\":\"1879\",\"type\":\"Line\"},{\"attributes\":{},\"id\":\"1727\",\"type\":\"Selection\"},{\"attributes\":{\"label\":{\"value\":\"Section0001 - 75.0\\u00b5m\"},\"renderers\":[{\"id\":\"1880\",\"type\":\"GlyphRenderer\"}]},\"id\":\"1902\",\"type\":\"LegendItem\"},{\"attributes\":{\"callback\":null,\"data\":{\"Time\":{\"__ndarray__\":\"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\",\"dtype\":\"float64\",\"shape\":[195]},\"Variable\":[\"Section0001 - 85.0\\u00b5m\",\"Section0001 - 85.0\\u00b5m\",\"Section0001 - 85.0\\u00b5m\",\"Section0001 - 85.0\\u00b5m\",\"Section0001 - 85.0\\u00b5m\",\"Section0001 - 85.0\\u00b5m\",\"Section0001 - 85.0\\u00b5m\",\"Section0001 - 85.0\\u00b5m\",\"Section0001 - 85.0\\u00b5m\",\"Section0001 - 85.0\\u00b5m\",\"Section0001 - 85.0\\u00b5m\",\"Section0001 - 85.0\\u00b5m\",\"Section0001 - 85.0\\u00b5m\",\"Section0001 - 85.0\\u00b5m\",\"Section0001 - 85.0\\u00b5m\",\"Section0001 - 85.0\\u00b5m\",\"Section0001 - 85.0\\u00b5m\",\"Section0001 - 85.0\\u00b5m\",\"Section0001 - 85.0\\u00b5m\",\"Section0001 - 85.0\\u00b5m\",\"Section0001 - 85.0\\u00b5m\",\"Section0001 - 85.0\\u00b5m\",\"Section0001 - 85.0\\u00b5m\",\"Section0001 - 85.0\\u00b5m\",\"Section0001 - 85.0\\u00b5m\",\"Section0001 - 85.0\\u00b5m\",\"Section0001 - 85.0\\u00b5m\",\"Section0001 - 85.0\\u00b5m\",\"Section0001 - 85.0\\u00b5m\",\"Section0001 - 85.0\\u00b5m\",\"Section0001 - 85.0\\u00b5m\",\"Section0001 - 85.0\\u00b5m\",\"Section0001 - 85.0\\u00b5m\",\"Section0001 - 85.0\\u00b5m\",\"Section0001 - 85.0\\u00b5m\",\"Section0001 - 85.0\\u00b5m\",\"Section0001 - 85.0\\u00b5m\",\"Section0001 - 85.0\\u00b5m\",\"Section0001 - 85.0\\u00b5m\",\"Section0001 - 85.0\\u00b5m\",\"Section0001 - 85.0\\u00b5m\",\"Section0001 - 85.0\\u00b5m\",\"Section0001 - 85.0\\u00b5m\",\"Section0001 - 85.0\\u00b5m\",\"Section0001 - 85.0\\u00b5m\",\"Section0001 - 85.0\\u00b5m\",\"Section0001 - 85.0\\u00b5m\",\"Section0001 - 85.0\\u00b5m\",\"Section0001 - 85.0\\u00b5m\",\"Section0001 - 85.0\\u00b5m\",\"Section0001 - 85.0\\u00b5m\",\"Section0001 - 85.0\\u00b5m\",\"Section0001 - 85.0\\u00b5m\",\"Section0001 - 85.0\\u00b5m\",\"Section0001 - 85.0\\u00b5m\",\"Section0001 - 85.0\\u00b5m\",\"Section0001 - 85.0\\u00b5m\",\"Section0001 - 85.0\\u00b5m\",\"Section0001 - 85.0\\u00b5m\",\"Section0001 - 85.0\\u00b5m\",\"Section0001 - 85.0\\u00b5m\",\"Section0001 - 85.0\\u00b5m\",\"Section0001 - 85.0\\u00b5m\",\"Section0001 - 85.0\\u00b5m\",\"Section0001 - 85.0\\u00b5m\",\"Section0001 - 85.0\\u00b5m\",\"Section0001 - 85.0\\u00b5m\",\"Section0001 - 85.0\\u00b5m\",\"Section0001 - 85.0\\u00b5m\",\"Section0001 - 85.0\\u00b5m\",\"Section0001 - 85.0\\u00b5m\",\"Section0001 - 85.0\\u00b5m\",\"Section0001 - 85.0\\u00b5m\",\"Section0001 - 85.0\\u00b5m\",\"Section0001 - 85.0\\u00b5m\",\"Section0001 - 85.0\\u00b5m\",\"Section0001 - 85.0\\u00b5m\",\"Section0001 - 85.0\\u00b5m\",\"Section0001 - 85.0\\u00b5m\",\"Section0001 - 85.0\\u00b5m\",\"Section0001 - 85.0\\u00b5m\",\"Section0001 - 85.0\\u00b5m\",\"Section0001 - 85.0\\u00b5m\",\"Section0001 - 85.0\\u00b5m\",\"Section0001 - 85.0\\u00b5m\",\"Section0001 - 85.0\\u00b5m\",\"Section0001 - 85.0\\u00b5m\",\"Section0001 - 85.0\\u00b5m\",\"Section0001 - 85.0\\u00b5m\",\"Section0001 - 85.0\\u00b5m\",\"Section0001 - 85.0\\u00b5m\",\"Section0001 - 85.0\\u00b5m\",\"Section0001 - 85.0\\u00b5m\",\"Section0001 - 85.0\\u00b5m\",\"Section0001 - 85.0\\u00b5m\",\"Section0001 - 85.0\\u00b5m\",\"Section0001 - 85.0\\u00b5m\",\"Section0001 - 85.0\\u00b5m\",\"Section0001 - 85.0\\u00b5m\",\"Section0001 - 85.0\\u00b5m\",\"Section0001 - 85.0\\u00b5m\",\"Section0001 - 85.0\\u00b5m\",\"Section0001 - 85.0\\u00b5m\",\"Section0001 - 85.0\\u00b5m\",\"Section0001 - 85.0\\u00b5m\",\"Section0001 - 85.0\\u00b5m\",\"Section0001 - 85.0\\u00b5m\",\"Section0001 - 85.0\\u00b5m\",\"Section0001 - 85.0\\u00b5m\",\"Section0001 - 85.0\\u00b5m\",\"Section0001 - 85.0\\u00b5m\",\"Section0001 - 85.0\\u00b5m\",\"Section0001 - 85.0\\u00b5m\",\"Section0001 - 85.0\\u00b5m\",\"Section0001 - 85.0\\u00b5m\",\"Section0001 - 85.0\\u00b5m\",\"Section0001 - 85.0\\u00b5m\",\"Section0001 - 85.0\\u00b5m\",\"Section0001 - 85.0\\u00b5m\",\"Section0001 - 85.0\\u00b5m\",\"Section0001 - 85.0\\u00b5m\",\"Section0001 - 85.0\\u00b5m\",\"Section0001 - 85.0\\u00b5m\",\"Section0001 - 85.0\\u00b5m\",\"Section0001 - 85.0\\u00b5m\",\"Section0001 - 85.0\\u00b5m\",\"Section0001 - 85.0\\u00b5m\",\"Section0001 - 85.0\\u00b5m\",\"Section0001 - 85.0\\u00b5m\",\"Section0001 - 85.0\\u00b5m\",\"Section0001 - 85.0\\u00b5m\",\"Section0001 - 85.0\\u00b5m\",\"Section0001 - 85.0\\u00b5m\",\"Section0001 - 85.0\\u00b5m\",\"Section0001 - 85.0\\u00b5m\",\"Section0001 - 85.0\\u00b5m\",\"Section0001 - 85.0\\u00b5m\",\"Section0001 - 85.0\\u00b5m\",\"Section0001 - 85.0\\u00b5m\",\"Section0001 - 85.0\\u00b5m\",\"Section0001 - 85.0\\u00b5m\",\"Section0001 - 85.0\\u00b5m\",\"Section0001 - 85.0\\u00b5m\",\"Section0001 - 85.0\\u00b5m\",\"Section0001 - 85.0\\u00b5m\",\"Section0001 - 85.0\\u00b5m\",\"Section0001 - 85.0\\u00b5m\",\"Section0001 - 85.0\\u00b5m\",\"Section0001 - 85.0\\u00b5m\",\"Section0001 - 85.0\\u00b5m\",\"Section0001 - 85.0\\u00b5m\",\"Section0001 - 85.0\\u00b5m\",\"Section0001 - 85.0\\u00b5m\",\"Section0001 - 85.0\\u00b5m\",\"Section0001 - 85.0\\u00b5m\",\"Section0001 - 85.0\\u00b5m\",\"Section0001 - 85.0\\u00b5m\",\"Section0001 - 85.0\\u00b5m\",\"Section0001 - 85.0\\u00b5m\",\"Section0001 - 85.0\\u00b5m\",\"Section0001 - 85.0\\u00b5m\",\"Section0001 - 85.0\\u00b5m\",\"Section0001 - 85.0\\u00b5m\",\"Section0001 - 85.0\\u00b5m\",\"Section0001 - 85.0\\u00b5m\",\"Section0001 - 85.0\\u00b5m\",\"Section0001 - 85.0\\u00b5m\",\"Section0001 - 85.0\\u00b5m\",\"Section0001 - 85.0\\u00b5m\",\"Section0001 - 85.0\\u00b5m\",\"Section0001 - 85.0\\u00b5m\",\"Section0001 - 85.0\\u00b5m\",\"Section0001 - 85.0\\u00b5m\",\"Section0001 - 85.0\\u00b5m\",\"Section0001 - 85.0\\u00b5m\",\"Section0001 - 85.0\\u00b5m\",\"Section0001 - 85.0\\u00b5m\",\"Section0001 - 85.0\\u00b5m\",\"Section0001 - 85.0\\u00b5m\",\"Section0001 - 85.0\\u00b5m\",\"Section0001 - 85.0\\u00b5m\",\"Section0001 - 85.0\\u00b5m\",\"Section0001 - 85.0\\u00b5m\",\"Section0001 - 85.0\\u00b5m\",\"Section0001 - 85.0\\u00b5m\",\"Section0001 - 85.0\\u00b5m\",\"Section0001 - 85.0\\u00b5m\",\"Section0001 - 85.0\\u00b5m\",\"Section0001 - 85.0\\u00b5m\",\"Section0001 - 85.0\\u00b5m\",\"Section0001 - 85.0\\u00b5m\",\"Section0001 - 85.0\\u00b5m\",\"Section0001 - 85.0\\u00b5m\",\"Section0001 - 85.0\\u00b5m\",\"Section0001 - 85.0\\u00b5m\"],\"value\":{\"__ndarray__\":\"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\",\"dtype\":\"float64\",\"shape\":[195]}},\"selected\":{\"id\":\"1904\",\"type\":\"Selection\"},\"selection_policy\":{\"id\":\"1964\",\"type\":\"UnionRenderers\"}},\"id\":\"1903\",\"type\":\"ColumnDataSource\"},{\"attributes\":{\"line_alpha\":0.1,\"line_color\":\"#16bdcf\",\"line_width\":2,\"x\":{\"field\":\"Time\"},\"y\":{\"field\":\"value\"}},\"id\":\"1938\",\"type\":\"Line\"},{\"attributes\":{},\"id\":\"1931\",\"type\":\"UnionRenderers\"},{\"attributes\":{\"source\":{\"id\":\"1934\",\"type\":\"ColumnDataSource\"}},\"id\":\"1941\",\"type\":\"CDSView\"},{\"attributes\":{\"line_color\":\"#16bdcf\",\"line_width\":2,\"x\":{\"field\":\"Time\"},\"y\":{\"field\":\"value\"}},\"id\":\"1937\",\"type\":\"Line\"},{\"attributes\":{\"line_alpha\":0.1,\"line_color\":\"#7e7e7e\",\"line_width\":2,\"x\":{\"field\":\"Time\"},\"y\":{\"field\":\"value\"}},\"id\":\"1878\",\"type\":\"Line\"},{\"attributes\":{\"callback\":null,\"data\":{\"Time\":{\"__ndarray__\":\"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\",\"dtype\":\"float64\",\"shape\":[195]},\"Variable\":[\"Section0001 - 95.0\\u00b5m\",\"Section0001 - 95.0\\u00b5m\",\"Section0001 - 95.0\\u00b5m\",\"Section0001 - 95.0\\u00b5m\",\"Section0001 - 95.0\\u00b5m\",\"Section0001 - 95.0\\u00b5m\",\"Section0001 - 95.0\\u00b5m\",\"Section0001 - 95.0\\u00b5m\",\"Section0001 - 95.0\\u00b5m\",\"Section0001 - 95.0\\u00b5m\",\"Section0001 - 95.0\\u00b5m\",\"Section0001 - 95.0\\u00b5m\",\"Section0001 - 95.0\\u00b5m\",\"Section0001 - 95.0\\u00b5m\",\"Section0001 - 95.0\\u00b5m\",\"Section0001 - 95.0\\u00b5m\",\"Section0001 - 95.0\\u00b5m\",\"Section0001 - 95.0\\u00b5m\",\"Section0001 - 95.0\\u00b5m\",\"Section0001 - 95.0\\u00b5m\",\"Section0001 - 95.0\\u00b5m\",\"Section0001 - 95.0\\u00b5m\",\"Section0001 - 95.0\\u00b5m\",\"Section0001 - 95.0\\u00b5m\",\"Section0001 - 95.0\\u00b5m\",\"Section0001 - 95.0\\u00b5m\",\"Section0001 - 95.0\\u00b5m\",\"Section0001 - 95.0\\u00b5m\",\"Section0001 - 95.0\\u00b5m\",\"Section0001 - 95.0\\u00b5m\",\"Section0001 - 95.0\\u00b5m\",\"Section0001 - 95.0\\u00b5m\",\"Section0001 - 95.0\\u00b5m\",\"Section0001 - 95.0\\u00b5m\",\"Section0001 - 95.0\\u00b5m\",\"Section0001 - 95.0\\u00b5m\",\"Section0001 - 95.0\\u00b5m\",\"Section0001 - 95.0\\u00b5m\",\"Section0001 - 95.0\\u00b5m\",\"Section0001 - 95.0\\u00b5m\",\"Section0001 - 95.0\\u00b5m\",\"Section0001 - 95.0\\u00b5m\",\"Section0001 - 95.0\\u00b5m\",\"Section0001 - 95.0\\u00b5m\",\"Section0001 - 95.0\\u00b5m\",\"Section0001 - 95.0\\u00b5m\",\"Section0001 - 95.0\\u00b5m\",\"Section0001 - 95.0\\u00b5m\",\"Section0001 - 95.0\\u00b5m\",\"Section0001 - 95.0\\u00b5m\",\"Section0001 - 95.0\\u00b5m\",\"Section0001 - 95.0\\u00b5m\",\"Section0001 - 95.0\\u00b5m\",\"Section0001 - 95.0\\u00b5m\",\"Section0001 - 95.0\\u00b5m\",\"Section0001 - 95.0\\u00b5m\",\"Section0001 - 95.0\\u00b5m\",\"Section0001 - 95.0\\u00b5m\",\"Section0001 - 95.0\\u00b5m\",\"Section0001 - 95.0\\u00b5m\",\"Section0001 - 95.0\\u00b5m\",\"Section0001 - 95.0\\u00b5m\",\"Section0001 - 95.0\\u00b5m\",\"Section0001 - 95.0\\u00b5m\",\"Section0001 - 95.0\\u00b5m\",\"Section0001 - 95.0\\u00b5m\",\"Section0001 - 95.0\\u00b5m\",\"Section0001 - 95.0\\u00b5m\",\"Section0001 - 95.0\\u00b5m\",\"Section0001 - 95.0\\u00b5m\",\"Section0001 - 95.0\\u00b5m\",\"Section0001 - 95.0\\u00b5m\",\"Section0001 - 95.0\\u00b5m\",\"Section0001 - 95.0\\u00b5m\",\"Section0001 - 95.0\\u00b5m\",\"Section0001 - 95.0\\u00b5m\",\"Section0001 - 95.0\\u00b5m\",\"Section0001 - 95.0\\u00b5m\",\"Section0001 - 95.0\\u00b5m\",\"Section0001 - 95.0\\u00b5m\",\"Section0001 - 95.0\\u00b5m\",\"Section0001 - 95.0\\u00b5m\",\"Section0001 - 95.0\\u00b5m\",\"Section0001 - 95.0\\u00b5m\",\"Section0001 - 95.0\\u00b5m\",\"Section0001 - 95.0\\u00b5m\",\"Section0001 - 95.0\\u00b5m\",\"Section0001 - 95.0\\u00b5m\",\"Section0001 - 95.0\\u00b5m\",\"Section0001 - 95.0\\u00b5m\",\"Section0001 - 95.0\\u00b5m\",\"Section0001 - 95.0\\u00b5m\",\"Section0001 - 95.0\\u00b5m\",\"Section0001 - 95.0\\u00b5m\",\"Section0001 - 95.0\\u00b5m\",\"Section0001 - 95.0\\u00b5m\",\"Section0001 - 95.0\\u00b5m\",\"Section0001 - 95.0\\u00b5m\",\"Section0001 - 95.0\\u00b5m\",\"Section0001 - 95.0\\u00b5m\",\"Section0001 - 95.0\\u00b5m\",\"Section0001 - 95.0\\u00b5m\",\"Section0001 - 95.0\\u00b5m\",\"Section0001 - 95.0\\u00b5m\",\"Section0001 - 95.0\\u00b5m\",\"Section0001 - 95.0\\u00b5m\",\"Section0001 - 95.0\\u00b5m\",\"Section0001 - 95.0\\u00b5m\",\"Section0001 - 95.0\\u00b5m\",\"Section0001 - 95.0\\u00b5m\",\"Section0001 - 95.0\\u00b5m\",\"Section0001 - 95.0\\u00b5m\",\"Section0001 - 95.0\\u00b5m\",\"Section0001 - 95.0\\u00b5m\",\"Section0001 - 95.0\\u00b5m\",\"Section0001 - 95.0\\u00b5m\",\"Section0001 - 95.0\\u00b5m\",\"Section0001 - 95.0\\u00b5m\",\"Section0001 - 95.0\\u00b5m\",\"Section0001 - 95.0\\u00b5m\",\"Section0001 - 95.0\\u00b5m\",\"Section0001 - 95.0\\u00b5m\",\"Section0001 - 95.0\\u00b5m\",\"Section0001 - 95.0\\u00b5m\",\"Section0001 - 95.0\\u00b5m\",\"Section0001 - 95.0\\u00b5m\",\"Section0001 - 95.0\\u00b5m\",\"Section0001 - 95.0\\u00b5m\",\"Section0001 - 95.0\\u00b5m\",\"Section0001 - 95.0\\u00b5m\",\"Section0001 - 95.0\\u00b5m\",\"Section0001 - 95.0\\u00b5m\",\"Section0001 - 95.0\\u00b5m\",\"Section0001 - 95.0\\u00b5m\",\"Section0001 - 95.0\\u00b5m\",\"Section0001 - 95.0\\u00b5m\",\"Section0001 - 95.0\\u00b5m\",\"Section0001 - 95.0\\u00b5m\",\"Section0001 - 95.0\\u00b5m\",\"Section0001 - 95.0\\u00b5m\",\"Section0001 - 95.0\\u00b5m\",\"Section0001 - 95.0\\u00b5m\",\"Section0001 - 95.0\\u00b5m\",\"Section0001 - 95.0\\u00b5m\",\"Section0001 - 95.0\\u00b5m\",\"Section0001 - 95.0\\u00b5m\",\"Section0001 - 95.0\\u00b5m\",\"Section0001 - 95.0\\u00b5m\",\"Section0001 - 95.0\\u00b5m\",\"Section0001 - 95.0\\u00b5m\",\"Section0001 - 95.0\\u00b5m\",\"Section0001 - 95.0\\u00b5m\",\"Section0001 - 95.0\\u00b5m\",\"Section0001 - 95.0\\u00b5m\",\"Section0001 - 95.0\\u00b5m\",\"Section0001 - 95.0\\u00b5m\",\"Section0001 - 95.0\\u00b5m\",\"Section0001 - 95.0\\u00b5m\",\"Section0001 - 95.0\\u00b5m\",\"Section0001 - 95.0\\u00b5m\",\"Section0001 - 95.0\\u00b5m\",\"Section0001 - 95.0\\u00b5m\",\"Section0001 - 95.0\\u00b5m\",\"Section0001 - 95.0\\u00b5m\",\"Section0001 - 95.0\\u00b5m\",\"Section0001 - 95.0\\u00b5m\",\"Section0001 - 95.0\\u00b5m\",\"Section0001 - 95.0\\u00b5m\",\"Section0001 - 95.0\\u00b5m\",\"Section0001 - 95.0\\u00b5m\",\"Section0001 - 95.0\\u00b5m\",\"Section0001 - 95.0\\u00b5m\",\"Section0001 - 95.0\\u00b5m\",\"Section0001 - 95.0\\u00b5m\",\"Section0001 - 95.0\\u00b5m\",\"Section0001 - 95.0\\u00b5m\",\"Section0001 - 95.0\\u00b5m\",\"Section0001 - 95.0\\u00b5m\",\"Section0001 - 95.0\\u00b5m\",\"Section0001 - 95.0\\u00b5m\",\"Section0001 - 95.0\\u00b5m\",\"Section0001 - 95.0\\u00b5m\",\"Section0001 - 95.0\\u00b5m\",\"Section0001 - 95.0\\u00b5m\",\"Section0001 - 95.0\\u00b5m\",\"Section0001 - 95.0\\u00b5m\",\"Section0001 - 95.0\\u00b5m\",\"Section0001 - 95.0\\u00b5m\",\"Section0001 - 95.0\\u00b5m\",\"Section0001 - 95.0\\u00b5m\",\"Section0001 - 95.0\\u00b5m\",\"Section0001 - 95.0\\u00b5m\",\"Section0001 - 95.0\\u00b5m\",\"Section0001 - 95.0\\u00b5m\",\"Section0001 - 95.0\\u00b5m\"],\"value\":{\"__ndarray__\":\"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\",\"dtype\":\"float64\",\"shape\":[195]}},\"selected\":{\"id\":\"1935\",\"type\":\"Selection\"},\"selection_policy\":{\"id\":\"1991\",\"type\":\"UnionRenderers\"}},\"id\":\"1934\",\"type\":\"ColumnDataSource\"},{\"attributes\":{},\"id\":\"1904\",\"type\":\"Selection\"},{\"attributes\":{\"axis_label\":\"potential (mv)\",\"bounds\":\"auto\",\"formatter\":{\"id\":\"1724\",\"type\":\"BasicTickFormatter\"},\"major_label_orientation\":\"horizontal\",\"ticker\":{\"id\":\"1706\",\"type\":\"BasicTicker\"}},\"id\":\"1705\",\"type\":\"LinearAxis\"},{\"attributes\":{\"grid_line_color\":null,\"ticker\":{\"id\":\"1701\",\"type\":\"BasicTicker\"}},\"id\":\"1704\",\"type\":\"Grid\"},{\"attributes\":{\"axis_label\":\"Time\",\"bounds\":\"auto\",\"formatter\":{\"id\":\"1722\",\"type\":\"BasicTickFormatter\"},\"major_label_orientation\":\"horizontal\",\"ticker\":{\"id\":\"1701\",\"type\":\"BasicTicker\"}},\"id\":\"1700\",\"type\":\"LinearAxis\"},{\"attributes\":{\"callback\":null,\"end\":20.0,\"reset_end\":20.0,\"reset_start\":0.0,\"tags\":[[[\"Time\",\"Time\",null]]]},\"id\":\"1679\",\"type\":\"Range1d\"},{\"attributes\":{},\"id\":\"1706\",\"type\":\"BasicTicker\"},{\"attributes\":{},\"id\":\"1698\",\"type\":\"LinearScale\"},{\"attributes\":{},\"id\":\"1701\",\"type\":\"BasicTicker\"},{\"attributes\":{\"callback\":null,\"end\":113.500788025191,\"reset_end\":113.500788025191,\"reset_start\":-11.115809150745802,\"start\":-11.115809150745802,\"tags\":[[[\"value\",\"value\",null]]]},\"id\":\"1680\",\"type\":\"Range1d\"},{\"attributes\":{},\"id\":\"1900\",\"type\":\"UnionRenderers\"},{\"attributes\":{},\"id\":\"1875\",\"type\":\"Selection\"},{\"attributes\":{\"line_alpha\":0.1,\"line_color\":\"#9367bc\",\"line_width\":2,\"x\":{\"field\":\"Time\"},\"y\":{\"field\":\"value\"}},\"id\":\"1803\",\"type\":\"Line\"},{\"attributes\":{},\"id\":\"1848\",\"type\":\"Selection\"},{\"attributes\":{\"label\":{\"value\":\"Section0001 - 45.0\\u00b5m\"},\"renderers\":[{\"id\":\"1805\",\"type\":\"GlyphRenderer\"}]},\"id\":\"1821\",\"type\":\"LegendItem\"},{\"attributes\":{\"line_color\":\"#9367bc\",\"line_width\":2,\"x\":{\"field\":\"Time\"},\"y\":{\"field\":\"value\"}},\"id\":\"1802\",\"type\":\"Line\"},{\"attributes\":{\"label\":{\"value\":\"Section0001 - 85.0\\u00b5m\"},\"renderers\":[{\"id\":\"1909\",\"type\":\"GlyphRenderer\"}]},\"id\":\"1933\",\"type\":\"LegendItem\"},{\"attributes\":{},\"id\":\"1779\",\"type\":\"Selection\"},{\"attributes\":{\"label\":{\"value\":\"Section0001 - 15.0\\u00b5m\"},\"renderers\":[{\"id\":\"1748\",\"type\":\"GlyphRenderer\"}]},\"id\":\"1758\",\"type\":\"LegendItem\"},{\"attributes\":{},\"id\":\"1711\",\"type\":\"PanTool\"},{\"attributes\":{\"overlay\":{\"id\":\"1739\",\"type\":\"BoxAnnotation\"}},\"id\":\"1713\",\"type\":\"BoxZoomTool\"},{\"attributes\":{\"source\":{\"id\":\"1759\",\"type\":\"ColumnDataSource\"}},\"id\":\"1766\",\"type\":\"CDSView\"},{\"attributes\":{},\"id\":\"1712\",\"type\":\"WheelZoomTool\"},{\"attributes\":{\"label\":{\"value\":\"Section0001 - 65.0\\u00b5m\"},\"renderers\":[{\"id\":\"1853\",\"type\":\"GlyphRenderer\"}]},\"id\":\"1873\",\"type\":\"LegendItem\"},{\"attributes\":{\"callback\":null,\"data\":{\"Time\":{\"__ndarray__\":\"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\",\"dtype\":\"float64\",\"shape\":[195]},\"Variable\":[\"Section0001 - 35.0\\u00b5m\",\"Section0001 - 35.0\\u00b5m\",\"Section0001 - 35.0\\u00b5m\",\"Section0001 - 35.0\\u00b5m\",\"Section0001 - 35.0\\u00b5m\",\"Section0001 - 35.0\\u00b5m\",\"Section0001 - 35.0\\u00b5m\",\"Section0001 - 35.0\\u00b5m\",\"Section0001 - 35.0\\u00b5m\",\"Section0001 - 35.0\\u00b5m\",\"Section0001 - 35.0\\u00b5m\",\"Section0001 - 35.0\\u00b5m\",\"Section0001 - 35.0\\u00b5m\",\"Section0001 - 35.0\\u00b5m\",\"Section0001 - 35.0\\u00b5m\",\"Section0001 - 35.0\\u00b5m\",\"Section0001 - 35.0\\u00b5m\",\"Section0001 - 35.0\\u00b5m\",\"Section0001 - 35.0\\u00b5m\",\"Section0001 - 35.0\\u00b5m\",\"Section0001 - 35.0\\u00b5m\",\"Section0001 - 35.0\\u00b5m\",\"Section0001 - 35.0\\u00b5m\",\"Section0001 - 35.0\\u00b5m\",\"Section0001 - 35.0\\u00b5m\",\"Section0001 - 35.0\\u00b5m\",\"Section0001 - 35.0\\u00b5m\",\"Section0001 - 35.0\\u00b5m\",\"Section0001 - 35.0\\u00b5m\",\"Section0001 - 35.0\\u00b5m\",\"Section0001 - 35.0\\u00b5m\",\"Section0001 - 35.0\\u00b5m\",\"Section0001 - 35.0\\u00b5m\",\"Section0001 - 35.0\\u00b5m\",\"Section0001 - 35.0\\u00b5m\",\"Section0001 - 35.0\\u00b5m\",\"Section0001 - 35.0\\u00b5m\",\"Section0001 - 35.0\\u00b5m\",\"Section0001 - 35.0\\u00b5m\",\"Section0001 - 35.0\\u00b5m\",\"Section0001 - 35.0\\u00b5m\",\"Section0001 - 35.0\\u00b5m\",\"Section0001 - 35.0\\u00b5m\",\"Section0001 - 35.0\\u00b5m\",\"Section0001 - 35.0\\u00b5m\",\"Section0001 - 35.0\\u00b5m\",\"Section0001 - 35.0\\u00b5m\",\"Section0001 - 35.0\\u00b5m\",\"Section0001 - 35.0\\u00b5m\",\"Section0001 - 35.0\\u00b5m\",\"Section0001 - 35.0\\u00b5m\",\"Section0001 - 35.0\\u00b5m\",\"Section0001 - 35.0\\u00b5m\",\"Section0001 - 35.0\\u00b5m\",\"Section0001 - 35.0\\u00b5m\",\"Section0001 - 35.0\\u00b5m\",\"Section0001 - 35.0\\u00b5m\",\"Section0001 - 35.0\\u00b5m\",\"Section0001 - 35.0\\u00b5m\",\"Section0001 - 35.0\\u00b5m\",\"Section0001 - 35.0\\u00b5m\",\"Section0001 - 35.0\\u00b5m\",\"Section0001 - 35.0\\u00b5m\",\"Section0001 - 35.0\\u00b5m\",\"Section0001 - 35.0\\u00b5m\",\"Section0001 - 35.0\\u00b5m\",\"Section0001 - 35.0\\u00b5m\",\"Section0001 - 35.0\\u00b5m\",\"Section0001 - 35.0\\u00b5m\",\"Section0001 - 35.0\\u00b5m\",\"Section0001 - 35.0\\u00b5m\",\"Section0001 - 35.0\\u00b5m\",\"Section0001 - 35.0\\u00b5m\",\"Section0001 - 35.0\\u00b5m\",\"Section0001 - 35.0\\u00b5m\",\"Section0001 - 35.0\\u00b5m\",\"Section0001 - 35.0\\u00b5m\",\"Section0001 - 35.0\\u00b5m\",\"Section0001 - 35.0\\u00b5m\",\"Section0001 - 35.0\\u00b5m\",\"Section0001 - 35.0\\u00b5m\",\"Section0001 - 35.0\\u00b5m\",\"Section0001 - 35.0\\u00b5m\",\"Section0001 - 35.0\\u00b5m\",\"Section0001 - 35.0\\u00b5m\",\"Section0001 - 35.0\\u00b5m\",\"Section0001 - 35.0\\u00b5m\",\"Section0001 - 35.0\\u00b5m\",\"Section0001 - 35.0\\u00b5m\",\"Section0001 - 35.0\\u00b5m\",\"Section0001 - 35.0\\u00b5m\",\"Section0001 - 35.0\\u00b5m\",\"Section0001 - 35.0\\u00b5m\",\"Section0001 - 35.0\\u00b5m\",\"Section0001 - 35.0\\u00b5m\",\"Section0001 - 35.0\\u00b5m\",\"Section0001 - 35.0\\u00b5m\",\"Section0001 - 35.0\\u00b5m\",\"Section0001 - 35.0\\u00b5m\",\"Section0001 - 35.0\\u00b5m\",\"Section0001 - 35.0\\u00b5m\",\"Section0001 - 35.0\\u00b5m\",\"Section0001 - 35.0\\u00b5m\",\"Section0001 - 35.0\\u00b5m\",\"Section0001 - 35.0\\u00b5m\",\"Section0001 - 35.0\\u00b5m\",\"Section0001 - 35.0\\u00b5m\",\"Section0001 - 35.0\\u00b5m\",\"Section0001 - 35.0\\u00b5m\",\"Section0001 - 35.0\\u00b5m\",\"Section0001 - 35.0\\u00b5m\",\"Section0001 - 35.0\\u00b5m\",\"Section0001 - 35.0\\u00b5m\",\"Section0001 - 35.0\\u00b5m\",\"Section0001 - 35.0\\u00b5m\",\"Section0001 - 35.0\\u00b5m\",\"Section0001 - 35.0\\u00b5m\",\"Section0001 - 35.0\\u00b5m\",\"Section0001 - 35.0\\u00b5m\",\"Section0001 - 35.0\\u00b5m\",\"Section0001 - 35.0\\u00b5m\",\"Section0001 - 35.0\\u00b5m\",\"Section0001 - 35.0\\u00b5m\",\"Section0001 - 35.0\\u00b5m\",\"Section0001 - 35.0\\u00b5m\",\"Section0001 - 35.0\\u00b5m\",\"Section0001 - 35.0\\u00b5m\",\"Section0001 - 35.0\\u00b5m\",\"Section0001 - 35.0\\u00b5m\",\"Section0001 - 35.0\\u00b5m\",\"Section0001 - 35.0\\u00b5m\",\"Section0001 - 35.0\\u00b5m\",\"Section0001 - 35.0\\u00b5m\",\"Section0001 - 35.0\\u00b5m\",\"Section0001 - 35.0\\u00b5m\",\"Section0001 - 35.0\\u00b5m\",\"Section0001 - 35.0\\u00b5m\",\"Section0001 - 35.0\\u00b5m\",\"Section0001 - 35.0\\u00b5m\",\"Section0001 - 35.0\\u00b5m\",\"Section0001 - 35.0\\u00b5m\",\"Section0001 - 35.0\\u00b5m\",\"Section0001 - 35.0\\u00b5m\",\"Section0001 - 35.0\\u00b5m\",\"Section0001 - 35.0\\u00b5m\",\"Section0001 - 35.0\\u00b5m\",\"Section0001 - 35.0\\u00b5m\",\"Section0001 - 35.0\\u00b5m\",\"Section0001 - 35.0\\u00b5m\",\"Section0001 - 35.0\\u00b5m\",\"Section0001 - 35.0\\u00b5m\",\"Section0001 - 35.0\\u00b5m\",\"Section0001 - 35.0\\u00b5m\",\"Section0001 - 35.0\\u00b5m\",\"Section0001 - 35.0\\u00b5m\",\"Section0001 - 35.0\\u00b5m\",\"Section0001 - 35.0\\u00b5m\",\"Section0001 - 35.0\\u00b5m\",\"Section0001 - 35.0\\u00b5m\",\"Section0001 - 35.0\\u00b5m\",\"Section0001 - 35.0\\u00b5m\",\"Section0001 - 35.0\\u00b5m\",\"Section0001 - 35.0\\u00b5m\",\"Section0001 - 35.0\\u00b5m\",\"Section0001 - 35.0\\u00b5m\",\"Section0001 - 35.0\\u00b5m\",\"Section0001 - 35.0\\u00b5m\",\"Section0001 - 35.0\\u00b5m\",\"Section0001 - 35.0\\u00b5m\",\"Section0001 - 35.0\\u00b5m\",\"Section0001 - 35.0\\u00b5m\",\"Section0001 - 35.0\\u00b5m\",\"Section0001 - 35.0\\u00b5m\",\"Section0001 - 35.0\\u00b5m\",\"Section0001 - 35.0\\u00b5m\",\"Section0001 - 35.0\\u00b5m\",\"Section0001 - 35.0\\u00b5m\",\"Section0001 - 35.0\\u00b5m\",\"Section0001 - 35.0\\u00b5m\",\"Section0001 - 35.0\\u00b5m\",\"Section0001 - 35.0\\u00b5m\",\"Section0001 - 35.0\\u00b5m\",\"Section0001 - 35.0\\u00b5m\",\"Section0001 - 35.0\\u00b5m\",\"Section0001 - 35.0\\u00b5m\",\"Section0001 - 35.0\\u00b5m\",\"Section0001 - 35.0\\u00b5m\",\"Section0001 - 35.0\\u00b5m\",\"Section0001 - 35.0\\u00b5m\",\"Section0001 - 35.0\\u00b5m\",\"Section0001 - 35.0\\u00b5m\",\"Section0001 - 35.0\\u00b5m\",\"Section0001 - 35.0\\u00b5m\",\"Section0001 - 35.0\\u00b5m\",\"Section0001 - 35.0\\u00b5m\"],\"value\":{\"__ndarray__\":\"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\",\"dtype\":\"float64\",\"shape\":[195]}},\"selected\":{\"id\":\"1779\",\"type\":\"Selection\"},\"selection_policy\":{\"id\":\"1819\",\"type\":\"UnionRenderers\"}},\"id\":\"1778\",\"type\":\"ColumnDataSource\"},{\"attributes\":{},\"id\":\"1819\",\"type\":\"UnionRenderers\"},{\"attributes\":{\"callback\":null,\"data\":{\"Time\":{\"__ndarray__\":\"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\",\"dtype\":\"float64\",\"shape\":[195]},\"Variable\":[\"Section0001 - 55.0\\u00b5m\",\"Section0001 - 55.0\\u00b5m\",\"Section0001 - 55.0\\u00b5m\",\"Section0001 - 55.0\\u00b5m\",\"Section0001 - 55.0\\u00b5m\",\"Section0001 - 55.0\\u00b5m\",\"Section0001 - 55.0\\u00b5m\",\"Section0001 - 55.0\\u00b5m\",\"Section0001 - 55.0\\u00b5m\",\"Section0001 - 55.0\\u00b5m\",\"Section0001 - 55.0\\u00b5m\",\"Section0001 - 55.0\\u00b5m\",\"Section0001 - 55.0\\u00b5m\",\"Section0001 - 55.0\\u00b5m\",\"Section0001 - 55.0\\u00b5m\",\"Section0001 - 55.0\\u00b5m\",\"Section0001 - 55.0\\u00b5m\",\"Section0001 - 55.0\\u00b5m\",\"Section0001 - 55.0\\u00b5m\",\"Section0001 - 55.0\\u00b5m\",\"Section0001 - 55.0\\u00b5m\",\"Section0001 - 55.0\\u00b5m\",\"Section0001 - 55.0\\u00b5m\",\"Section0001 - 55.0\\u00b5m\",\"Section0001 - 55.0\\u00b5m\",\"Section0001 - 55.0\\u00b5m\",\"Section0001 - 55.0\\u00b5m\",\"Section0001 - 55.0\\u00b5m\",\"Section0001 - 55.0\\u00b5m\",\"Section0001 - 55.0\\u00b5m\",\"Section0001 - 55.0\\u00b5m\",\"Section0001 - 55.0\\u00b5m\",\"Section0001 - 55.0\\u00b5m\",\"Section0001 - 55.0\\u00b5m\",\"Section0001 - 55.0\\u00b5m\",\"Section0001 - 55.0\\u00b5m\",\"Section0001 - 55.0\\u00b5m\",\"Section0001 - 55.0\\u00b5m\",\"Section0001 - 55.0\\u00b5m\",\"Section0001 - 55.0\\u00b5m\",\"Section0001 - 55.0\\u00b5m\",\"Section0001 - 55.0\\u00b5m\",\"Section0001 - 55.0\\u00b5m\",\"Section0001 - 55.0\\u00b5m\",\"Section0001 - 55.0\\u00b5m\",\"Section0001 - 55.0\\u00b5m\",\"Section0001 - 55.0\\u00b5m\",\"Section0001 - 55.0\\u00b5m\",\"Section0001 - 55.0\\u00b5m\",\"Section0001 - 55.0\\u00b5m\",\"Section0001 - 55.0\\u00b5m\",\"Section0001 - 55.0\\u00b5m\",\"Section0001 - 55.0\\u00b5m\",\"Section0001 - 55.0\\u00b5m\",\"Section0001 - 55.0\\u00b5m\",\"Section0001 - 55.0\\u00b5m\",\"Section0001 - 55.0\\u00b5m\",\"Section0001 - 55.0\\u00b5m\",\"Section0001 - 55.0\\u00b5m\",\"Section0001 - 55.0\\u00b5m\",\"Section0001 - 55.0\\u00b5m\",\"Section0001 - 55.0\\u00b5m\",\"Section0001 - 55.0\\u00b5m\",\"Section0001 - 55.0\\u00b5m\",\"Section0001 - 55.0\\u00b5m\",\"Section0001 - 55.0\\u00b5m\",\"Section0001 - 55.0\\u00b5m\",\"Section0001 - 55.0\\u00b5m\",\"Section0001 - 55.0\\u00b5m\",\"Section0001 - 55.0\\u00b5m\",\"Section0001 - 55.0\\u00b5m\",\"Section0001 - 55.0\\u00b5m\",\"Section0001 - 55.0\\u00b5m\",\"Section0001 - 55.0\\u00b5m\",\"Section0001 - 55.0\\u00b5m\",\"Section0001 - 55.0\\u00b5m\",\"Section0001 - 55.0\\u00b5m\",\"Section0001 - 55.0\\u00b5m\",\"Section0001 - 55.0\\u00b5m\",\"Section0001 - 55.0\\u00b5m\",\"Section0001 - 55.0\\u00b5m\",\"Section0001 - 55.0\\u00b5m\",\"Section0001 - 55.0\\u00b5m\",\"Section0001 - 55.0\\u00b5m\",\"Section0001 - 55.0\\u00b5m\",\"Section0001 - 55.0\\u00b5m\",\"Section0001 - 55.0\\u00b5m\",\"Section0001 - 55.0\\u00b5m\",\"Section0001 - 55.0\\u00b5m\",\"Section0001 - 55.0\\u00b5m\",\"Section0001 - 55.0\\u00b5m\",\"Section0001 - 55.0\\u00b5m\",\"Section0001 - 55.0\\u00b5m\",\"Section0001 - 55.0\\u00b5m\",\"Section0001 - 55.0\\u00b5m\",\"Section0001 - 55.0\\u00b5m\",\"Section0001 - 55.0\\u00b5m\",\"Section0001 - 55.0\\u00b5m\",\"Section0001 - 55.0\\u00b5m\",\"Section0001 - 55.0\\u00b5m\",\"Section0001 - 55.0\\u00b5m\",\"Section0001 - 55.0\\u00b5m\",\"Section0001 - 55.0\\u00b5m\",\"Section0001 - 55.0\\u00b5m\",\"Section0001 - 55.0\\u00b5m\",\"Section0001 - 55.0\\u00b5m\",\"Section0001 - 55.0\\u00b5m\",\"Section0001 - 55.0\\u00b5m\",\"Section0001 - 55.0\\u00b5m\",\"Section0001 - 55.0\\u00b5m\",\"Section0001 - 55.0\\u00b5m\",\"Section0001 - 55.0\\u00b5m\",\"Section0001 - 55.0\\u00b5m\",\"Section0001 - 55.0\\u00b5m\",\"Section0001 - 55.0\\u00b5m\",\"Section0001 - 55.0\\u00b5m\",\"Section0001 - 55.0\\u00b5m\",\"Section0001 - 55.0\\u00b5m\",\"Section0001 - 55.0\\u00b5m\",\"Section0001 - 55.0\\u00b5m\",\"Section0001 - 55.0\\u00b5m\",\"Section0001 - 55.0\\u00b5m\",\"Section0001 - 55.0\\u00b5m\",\"Section0001 - 55.0\\u00b5m\",\"Section0001 - 55.0\\u00b5m\",\"Section0001 - 55.0\\u00b5m\",\"Section0001 - 55.0\\u00b5m\",\"Section0001 - 55.0\\u00b5m\",\"Section0001 - 55.0\\u00b5m\",\"Section0001 - 55.0\\u00b5m\",\"Section0001 - 55.0\\u00b5m\",\"Section0001 - 55.0\\u00b5m\",\"Section0001 - 55.0\\u00b5m\",\"Section0001 - 55.0\\u00b5m\",\"Section0001 - 55.0\\u00b5m\",\"Section0001 - 55.0\\u00b5m\",\"Section0001 - 55.0\\u00b5m\",\"Section0001 - 55.0\\u00b5m\",\"Section0001 - 55.0\\u00b5m\",\"Section0001 - 55.0\\u00b5m\",\"Section0001 - 55.0\\u00b5m\",\"Section0001 - 55.0\\u00b5m\",\"Section0001 - 55.0\\u00b5m\",\"Section0001 - 55.0\\u00b5m\",\"Section0001 - 55.0\\u00b5m\",\"Section0001 - 55.0\\u00b5m\",\"Section0001 - 55.0\\u00b5m\",\"Section0001 - 55.0\\u00b5m\",\"Section0001 - 55.0\\u00b5m\",\"Section0001 - 55.0\\u00b5m\",\"Section0001 - 55.0\\u00b5m\",\"Section0001 - 55.0\\u00b5m\",\"Section0001 - 55.0\\u00b5m\",\"Section0001 - 55.0\\u00b5m\",\"Section0001 - 55.0\\u00b5m\",\"Section0001 - 55.0\\u00b5m\",\"Section0001 - 55.0\\u00b5m\",\"Section0001 - 55.0\\u00b5m\",\"Section0001 - 55.0\\u00b5m\",\"Section0001 - 55.0\\u00b5m\",\"Section0001 - 55.0\\u00b5m\",\"Section0001 - 55.0\\u00b5m\",\"Section0001 - 55.0\\u00b5m\",\"Section0001 - 55.0\\u00b5m\",\"Section0001 - 55.0\\u00b5m\",\"Section0001 - 55.0\\u00b5m\",\"Section0001 - 55.0\\u00b5m\",\"Section0001 - 55.0\\u00b5m\",\"Section0001 - 55.0\\u00b5m\",\"Section0001 - 55.0\\u00b5m\",\"Section0001 - 55.0\\u00b5m\",\"Section0001 - 55.0\\u00b5m\",\"Section0001 - 55.0\\u00b5m\",\"Section0001 - 55.0\\u00b5m\",\"Section0001 - 55.0\\u00b5m\",\"Section0001 - 55.0\\u00b5m\",\"Section0001 - 55.0\\u00b5m\",\"Section0001 - 55.0\\u00b5m\",\"Section0001 - 55.0\\u00b5m\",\"Section0001 - 55.0\\u00b5m\",\"Section0001 - 55.0\\u00b5m\",\"Section0001 - 55.0\\u00b5m\",\"Section0001 - 55.0\\u00b5m\",\"Section0001 - 55.0\\u00b5m\",\"Section0001 - 55.0\\u00b5m\",\"Section0001 - 55.0\\u00b5m\",\"Section0001 - 55.0\\u00b5m\",\"Section0001 - 55.0\\u00b5m\",\"Section0001 - 55.0\\u00b5m\",\"Section0001 - 55.0\\u00b5m\",\"Section0001 - 55.0\\u00b5m\",\"Section0001 - 55.0\\u00b5m\",\"Section0001 - 55.0\\u00b5m\",\"Section0001 - 55.0\\u00b5m\",\"Section0001 - 55.0\\u00b5m\"],\"value\":{\"__ndarray__\":\"AAAAAAAAAADmPBikyqzEvrpneSjZrNS+3vV8KpcE/76HdueUsW8Mv4zKBKp4SzC/N3VpE3kOPb++ZdgcfetEv1MuJbdOWWW/y9qCQPHacr8vK7m3eyV7v1mWETtTZYq/sOWhYf3Ck7/RQ4DZQGiav6X4E0PwiKC/iHzkHwOLqL/NLWzFJGOsv8EIfBaWbq2/99NONsF2rr9kaESxe3uvv/9TYNKAiK+/yUcdNnaMr793ebCz/Iyvv1N9mAYaja+/K3Rkni6Nr79VmrE1Q42vvwVBPs1Xja+/twE/ZWyNr783NQ/9gI2vv1js/h2gja+/N86ePr+Nr7+vc/Fe3o2vvxgexn79ja+/2CjjOUqOr7/pvdvmZ46vvy/djJCFjq+/JjXTNaOOr7/CwQ4QB4+vv3Ykf0Nqj6+/riEvScyPr7/jjecGLpGvv4wpAWT/ka+/XIxC+gCSr7/fXOrVj5Gvv8YiE5qCkK+/0Py6GquOr7/nRwi3b4Gvv+xT6x2vY6+/RkigA0Iur7+QyAqGNtquv+FVx69yNK6/32tbov5Frb/lVdmzRAisv6fkVOwaeKq/AENW+ZU/p78sW90wYTSjvwda7NGuypy/JHAexw/Lkb+XFXlunLpjPxmM7Ht5VZk/jJdC1PMlqT9kp1d6zjuzPxS4ETZA3Lg/cK5kfPSrvj8EwKl90FHCP2ZNtwKUXsU/RGuCYRk2zD94pay3pJ/RPxW+iHnTNtU/lQxwL1Xc2D9CD0zzEY3cP8QuQQ+qN+M/H/itOdk76D8vPyxpcUztP+yFpIMNM/E/5Q6bPP2N9T8x/W/X/+75P3I46wpvVP4/Qk9AVuxeAUDPY0Xa5JUDQBFo5p+ZeAhAC8NzNUtxDUCbS4hs5EURQGrop6AY7BNAXxjQ6wubGUAVgxJ/VEMgQO97wY2CmSFAQb+DE2EgI0BkYrVKfu8kQOMI/om9MSdApB5z3YrzKkBJYGdVHa0tQBtNb6Hg3TBAzRqikF9dMkDNnHjaw5U0QFuJcknJhjZAO6yR/NB0OUAJ4IbA+2I+QLEYA5NXIEJAuke8mXIxRkDfNjd9SvlKQFJvLoIxsU5AMd+5KvINUUCNIuvMppNSQHZ8S5fz61NAYABxVfMZVUBYFbnMz1VWQKCu0MeaXFdAqSw5hK42WECbqLSC1utYQPVOOaIngllAlMTvgdd5WkBpvcHfixpbQP0IEy6Wg1tAX+rqPH7IW0DCeaZyUgBcQC44BO6AHVxA6DWJmbQrXECLFgiUAjFcQL2a2CnyLlxAU3sK7NojXECHydqEsRRcQAbzm9Di8ltA9Erlb7PMW0DVdkXgAU5bQL3WFADfplpAtp6FgC3VWUDtF3UVSVNXQB+pTdOCR1ZA7J3o230vVUAl5DWGFQ9UQGPcI5tosFFAb7aYdK6wTkBPasUsjP1JQNwI++gqdUdA/r6p4gGdRUBjhitqgcJDQHVoFqBeRUFA2GAW4mmWO0BzIsbRU5s2QA+1hz7XxjJARewq084fLkBhYcZjBlInQOJImS6uTiFA4BU2N+qQGECv9z7KKpkPQDlRispKiQNA8+BGnm5d8T/X+KVVRF7aPyIsbH8qmMy/KZAUJl1Z6r+ByDV+Qj32v+369ETMy/6/XG7F3AFvCcD1bBd00wkRwCw/++OCwxTA8YP67TX6F8AOZkg4dVkewLgLLgjfXyHALmzCZ/LkIsAXZtOB/fEjwKR4p/a8rCTAikcvHWJHJcA++MztsaolwFc8wTl+6SXA+niDhE4QJsDOVaANkicmwEivQ646OCbAUJkk+x86JsDMjjmYljQmwH7TwsNrKibAF7ApwD0NJsBBmJsYYOklwMfL/UQmwiXAZC5k4pZ2JcB9bRtHsiMlwFaYzXllySTAXxLFPE4kI8Dyj0MsbhYhwAK+YFxEvx7AZAkOn1UfG8BW8BxrcW4XwDcA5zYmOQ/AI2M23waQBsBKi1Nb+Tz+v9PWxBbT+vG/4e231Vnc4L/E2uYvwK/Nv05noPxn38C/+Hj8whkrpr9ItgirU0yhP9B6h5A4g7k/ECA/DrnSxz/5Ulo5SzXPPzzT4+K4PM8/\",\"dtype\":\"float64\",\"shape\":[195]}},\"selected\":{\"id\":\"1823\",\"type\":\"Selection\"},\"selection_policy\":{\"id\":\"1871\",\"type\":\"UnionRenderers\"}},\"id\":\"1822\",\"type\":\"ColumnDataSource\"},{\"attributes\":{\"line_alpha\":0.2,\"line_color\":\"#9367bc\",\"line_width\":2,\"x\":{\"field\":\"Time\"},\"y\":{\"field\":\"value\"}},\"id\":\"1804\",\"type\":\"Line\"},{\"attributes\":{\"line_color\":\"#e277c1\",\"line_width\":2,\"x\":{\"field\":\"Time\"},\"y\":{\"field\":\"value\"}},\"id\":\"1850\",\"type\":\"Line\"},{\"attributes\":{\"callback\":null,\"data\":{\"Time\":{\"__ndarray__\":\"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\",\"dtype\":\"float64\",\"shape\":[195]},\"Variable\":[\"Section0001 - 25.0\\u00b5m\",\"Section0001 - 25.0\\u00b5m\",\"Section0001 - 25.0\\u00b5m\",\"Section0001 - 25.0\\u00b5m\",\"Section0001 - 25.0\\u00b5m\",\"Section0001 - 25.0\\u00b5m\",\"Section0001 - 25.0\\u00b5m\",\"Section0001 - 25.0\\u00b5m\",\"Section0001 - 25.0\\u00b5m\",\"Section0001 - 25.0\\u00b5m\",\"Section0001 - 25.0\\u00b5m\",\"Section0001 - 25.0\\u00b5m\",\"Section0001 - 25.0\\u00b5m\",\"Section0001 - 25.0\\u00b5m\",\"Section0001 - 25.0\\u00b5m\",\"Section0001 - 25.0\\u00b5m\",\"Section0001 - 25.0\\u00b5m\",\"Section0001 - 25.0\\u00b5m\",\"Section0001 - 25.0\\u00b5m\",\"Section0001 - 25.0\\u00b5m\",\"Section0001 - 25.0\\u00b5m\",\"Section0001 - 25.0\\u00b5m\",\"Section0001 - 25.0\\u00b5m\",\"Section0001 - 25.0\\u00b5m\",\"Section0001 - 25.0\\u00b5m\",\"Section0001 - 25.0\\u00b5m\",\"Section0001 - 25.0\\u00b5m\",\"Section0001 - 25.0\\u00b5m\",\"Section0001 - 25.0\\u00b5m\",\"Section0001 - 25.0\\u00b5m\",\"Section0001 - 25.0\\u00b5m\",\"Section0001 - 25.0\\u00b5m\",\"Section0001 - 25.0\\u00b5m\",\"Section0001 - 25.0\\u00b5m\",\"Section0001 - 25.0\\u00b5m\",\"Section0001 - 25.0\\u00b5m\",\"Section0001 - 25.0\\u00b5m\",\"Section0001 - 25.0\\u00b5m\",\"Section0001 - 25.0\\u00b5m\",\"Section0001 - 25.0\\u00b5m\",\"Section0001 - 25.0\\u00b5m\",\"Section0001 - 25.0\\u00b5m\",\"Section0001 - 25.0\\u00b5m\",\"Section0001 - 25.0\\u00b5m\",\"Section0001 - 25.0\\u00b5m\",\"Section0001 - 25.0\\u00b5m\",\"Section0001 - 25.0\\u00b5m\",\"Section0001 - 25.0\\u00b5m\",\"Section0001 - 25.0\\u00b5m\",\"Section0001 - 25.0\\u00b5m\",\"Section0001 - 25.0\\u00b5m\",\"Section0001 - 25.0\\u00b5m\",\"Section0001 - 25.0\\u00b5m\",\"Section0001 - 25.0\\u00b5m\",\"Section0001 - 25.0\\u00b5m\",\"Section0001 - 25.0\\u00b5m\",\"Section0001 - 25.0\\u00b5m\",\"Section0001 - 25.0\\u00b5m\",\"Section0001 - 25.0\\u00b5m\",\"Section0001 - 25.0\\u00b5m\",\"Section0001 - 25.0\\u00b5m\",\"Section0001 - 25.0\\u00b5m\",\"Section0001 - 25.0\\u00b5m\",\"Section0001 - 25.0\\u00b5m\",\"Section0001 - 25.0\\u00b5m\",\"Section0001 - 25.0\\u00b5m\",\"Section0001 - 25.0\\u00b5m\",\"Section0001 - 25.0\\u00b5m\",\"Section0001 - 25.0\\u00b5m\",\"Section0001 - 25.0\\u00b5m\",\"Section0001 - 25.0\\u00b5m\",\"Section0001 - 25.0\\u00b5m\",\"Section0001 - 25.0\\u00b5m\",\"Section0001 - 25.0\\u00b5m\",\"Section0001 - 25.0\\u00b5m\",\"Section0001 - 25.0\\u00b5m\",\"Section0001 - 25.0\\u00b5m\",\"Section0001 - 25.0\\u00b5m\",\"Section0001 - 25.0\\u00b5m\",\"Section0001 - 25.0\\u00b5m\",\"Section0001 - 25.0\\u00b5m\",\"Section0001 - 25.0\\u00b5m\",\"Section0001 - 25.0\\u00b5m\",\"Section0001 - 25.0\\u00b5m\",\"Section0001 - 25.0\\u00b5m\",\"Section0001 - 25.0\\u00b5m\",\"Section0001 - 25.0\\u00b5m\",\"Section0001 - 25.0\\u00b5m\",\"Section0001 - 25.0\\u00b5m\",\"Section0001 - 25.0\\u00b5m\",\"Section0001 - 25.0\\u00b5m\",\"Section0001 - 25.0\\u00b5m\",\"Section0001 - 25.0\\u00b5m\",\"Section0001 - 25.0\\u00b5m\",\"Section0001 - 25.0\\u00b5m\",\"Section0001 - 25.0\\u00b5m\",\"Section0001 - 25.0\\u00b5m\",\"Section0001 - 25.0\\u00b5m\",\"Section0001 - 25.0\\u00b5m\",\"Section0001 - 25.0\\u00b5m\",\"Section0001 - 25.0\\u00b5m\",\"Section0001 - 25.0\\u00b5m\",\"Section0001 - 25.0\\u00b5m\",\"Section0001 - 25.0\\u00b5m\",\"Section0001 - 25.0\\u00b5m\",\"Section0001 - 25.0\\u00b5m\",\"Section0001 - 25.0\\u00b5m\",\"Section0001 - 25.0\\u00b5m\",\"Section0001 - 25.0\\u00b5m\",\"Section0001 - 25.0\\u00b5m\",\"Section0001 - 25.0\\u00b5m\",\"Section0001 - 25.0\\u00b5m\",\"Section0001 - 25.0\\u00b5m\",\"Section0001 - 25.0\\u00b5m\",\"Section0001 - 25.0\\u00b5m\",\"Section0001 - 25.0\\u00b5m\",\"Section0001 - 25.0\\u00b5m\",\"Section0001 - 25.0\\u00b5m\",\"Section0001 - 25.0\\u00b5m\",\"Section0001 - 25.0\\u00b5m\",\"Section0001 - 25.0\\u00b5m\",\"Section0001 - 25.0\\u00b5m\",\"Section0001 - 25.0\\u00b5m\",\"Section0001 - 25.0\\u00b5m\",\"Section0001 - 25.0\\u00b5m\",\"Section0001 - 25.0\\u00b5m\",\"Section0001 - 25.0\\u00b5m\",\"Section0001 - 25.0\\u00b5m\",\"Section0001 - 25.0\\u00b5m\",\"Section0001 - 25.0\\u00b5m\",\"Section0001 - 25.0\\u00b5m\",\"Section0001 - 25.0\\u00b5m\",\"Section0001 - 25.0\\u00b5m\",\"Section0001 - 25.0\\u00b5m\",\"Section0001 - 25.0\\u00b5m\",\"Section0001 - 25.0\\u00b5m\",\"Section0001 - 25.0\\u00b5m\",\"Section0001 - 25.0\\u00b5m\",\"Section0001 - 25.0\\u00b5m\",\"Section0001 - 25.0\\u00b5m\",\"Section0001 - 25.0\\u00b5m\",\"Section0001 - 25.0\\u00b5m\",\"Section0001 - 25.0\\u00b5m\",\"Section0001 - 25.0\\u00b5m\",\"Section0001 - 25.0\\u00b5m\",\"Section0001 - 25.0\\u00b5m\",\"Section0001 - 25.0\\u00b5m\",\"Section0001 - 25.0\\u00b5m\",\"Section0001 - 25.0\\u00b5m\",\"Section0001 - 25.0\\u00b5m\",\"Section0001 - 25.0\\u00b5m\",\"Section0001 - 25.0\\u00b5m\",\"Section0001 - 25.0\\u00b5m\",\"Section0001 - 25.0\\u00b5m\",\"Section0001 - 25.0\\u00b5m\",\"Section0001 - 25.0\\u00b5m\",\"Section0001 - 25.0\\u00b5m\",\"Section0001 - 25.0\\u00b5m\",\"Section0001 - 25.0\\u00b5m\",\"Section0001 - 25.0\\u00b5m\",\"Section0001 - 25.0\\u00b5m\",\"Section0001 - 25.0\\u00b5m\",\"Section0001 - 25.0\\u00b5m\",\"Section0001 - 25.0\\u00b5m\",\"Section0001 - 25.0\\u00b5m\",\"Section0001 - 25.0\\u00b5m\",\"Section0001 - 25.0\\u00b5m\",\"Section0001 - 25.0\\u00b5m\",\"Section0001 - 25.0\\u00b5m\",\"Section0001 - 25.0\\u00b5m\",\"Section0001 - 25.0\\u00b5m\",\"Section0001 - 25.0\\u00b5m\",\"Section0001 - 25.0\\u00b5m\",\"Section0001 - 25.0\\u00b5m\",\"Section0001 - 25.0\\u00b5m\",\"Section0001 - 25.0\\u00b5m\",\"Section0001 - 25.0\\u00b5m\",\"Section0001 - 25.0\\u00b5m\",\"Section0001 - 25.0\\u00b5m\",\"Section0001 - 25.0\\u00b5m\",\"Section0001 - 25.0\\u00b5m\",\"Section0001 - 25.0\\u00b5m\",\"Section0001 - 25.0\\u00b5m\",\"Section0001 - 25.0\\u00b5m\",\"Section0001 - 25.0\\u00b5m\",\"Section0001 - 25.0\\u00b5m\",\"Section0001 - 25.0\\u00b5m\",\"Section0001 - 25.0\\u00b5m\",\"Section0001 - 25.0\\u00b5m\",\"Section0001 - 25.0\\u00b5m\",\"Section0001 - 25.0\\u00b5m\",\"Section0001 - 25.0\\u00b5m\",\"Section0001 - 25.0\\u00b5m\",\"Section0001 - 25.0\\u00b5m\",\"Section0001 - 25.0\\u00b5m\"],\"value\":{\"__ndarray__\":\"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\",\"dtype\":\"float64\",\"shape\":[195]}},\"selected\":{\"id\":\"1760\",\"type\":\"Selection\"},\"selection_policy\":{\"id\":\"1796\",\"type\":\"UnionRenderers\"}},\"id\":\"1759\",\"type\":\"ColumnDataSource\"},{\"attributes\":{\"line_alpha\":0.2,\"line_color\":\"#e277c1\",\"line_width\":2,\"x\":{\"field\":\"Time\"},\"y\":{\"field\":\"value\"}},\"id\":\"1852\",\"type\":\"Line\"},{\"attributes\":{},\"id\":\"1991\",\"type\":\"UnionRenderers\"},{\"attributes\":{\"data_source\":{\"id\":\"1847\",\"type\":\"ColumnDataSource\"},\"glyph\":{\"id\":\"1850\",\"type\":\"Line\"},\"hover_glyph\":null,\"muted_glyph\":{\"id\":\"1852\",\"type\":\"Line\"},\"nonselection_glyph\":{\"id\":\"1851\",\"type\":\"Line\"},\"selection_glyph\":null,\"view\":{\"id\":\"1854\",\"type\":\"CDSView\"}},\"id\":\"1853\",\"type\":\"GlyphRenderer\"},{\"attributes\":{\"data_source\":{\"id\":\"1778\",\"type\":\"ColumnDataSource\"},\"glyph\":{\"id\":\"1781\",\"type\":\"Line\"},\"hover_glyph\":null,\"muted_glyph\":{\"id\":\"1783\",\"type\":\"Line\"},\"nonselection_glyph\":{\"id\":\"1782\",\"type\":\"Line\"},\"selection_glyph\":null,\"view\":{\"id\":\"1785\",\"type\":\"CDSView\"}},\"id\":\"1784\",\"type\":\"GlyphRenderer\"},{\"attributes\":{},\"id\":\"1714\",\"type\":\"ResetTool\"},{\"attributes\":{\"line_color\":\"#d62628\",\"line_width\":2,\"x\":{\"field\":\"Time\"},\"y\":{\"field\":\"value\"}},\"id\":\"1781\",\"type\":\"Line\"},{\"attributes\":{\"callback\":null,\"data\":{\"Time\":{\"__ndarray__\":\"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\",\"dtype\":\"float64\",\"shape\":[195]},\"Variable\":[\"Section0001 - 15.0\\u00b5m\",\"Section0001 - 15.0\\u00b5m\",\"Section0001 - 15.0\\u00b5m\",\"Section0001 - 15.0\\u00b5m\",\"Section0001 - 15.0\\u00b5m\",\"Section0001 - 15.0\\u00b5m\",\"Section0001 - 15.0\\u00b5m\",\"Section0001 - 15.0\\u00b5m\",\"Section0001 - 15.0\\u00b5m\",\"Section0001 - 15.0\\u00b5m\",\"Section0001 - 15.0\\u00b5m\",\"Section0001 - 15.0\\u00b5m\",\"Section0001 - 15.0\\u00b5m\",\"Section0001 - 15.0\\u00b5m\",\"Section0001 - 15.0\\u00b5m\",\"Section0001 - 15.0\\u00b5m\",\"Section0001 - 15.0\\u00b5m\",\"Section0001 - 15.0\\u00b5m\",\"Section0001 - 15.0\\u00b5m\",\"Section0001 - 15.0\\u00b5m\",\"Section0001 - 15.0\\u00b5m\",\"Section0001 - 15.0\\u00b5m\",\"Section0001 - 15.0\\u00b5m\",\"Section0001 - 15.0\\u00b5m\",\"Section0001 - 15.0\\u00b5m\",\"Section0001 - 15.0\\u00b5m\",\"Section0001 - 15.0\\u00b5m\",\"Section0001 - 15.0\\u00b5m\",\"Section0001 - 15.0\\u00b5m\",\"Section0001 - 15.0\\u00b5m\",\"Section0001 - 15.0\\u00b5m\",\"Section0001 - 15.0\\u00b5m\",\"Section0001 - 15.0\\u00b5m\",\"Section0001 - 15.0\\u00b5m\",\"Section0001 - 15.0\\u00b5m\",\"Section0001 - 15.0\\u00b5m\",\"Section0001 - 15.0\\u00b5m\",\"Section0001 - 15.0\\u00b5m\",\"Section0001 - 15.0\\u00b5m\",\"Section0001 - 15.0\\u00b5m\",\"Section0001 - 15.0\\u00b5m\",\"Section0001 - 15.0\\u00b5m\",\"Section0001 - 15.0\\u00b5m\",\"Section0001 - 15.0\\u00b5m\",\"Section0001 - 15.0\\u00b5m\",\"Section0001 - 15.0\\u00b5m\",\"Section0001 - 15.0\\u00b5m\",\"Section0001 - 15.0\\u00b5m\",\"Section0001 - 15.0\\u00b5m\",\"Section0001 - 15.0\\u00b5m\",\"Section0001 - 15.0\\u00b5m\",\"Section0001 - 15.0\\u00b5m\",\"Section0001 - 15.0\\u00b5m\",\"Section0001 - 15.0\\u00b5m\",\"Section0001 - 15.0\\u00b5m\",\"Section0001 - 15.0\\u00b5m\",\"Section0001 - 15.0\\u00b5m\",\"Section0001 - 15.0\\u00b5m\",\"Section0001 - 15.0\\u00b5m\",\"Section0001 - 15.0\\u00b5m\",\"Section0001 - 15.0\\u00b5m\",\"Section0001 - 15.0\\u00b5m\",\"Section0001 - 15.0\\u00b5m\",\"Section0001 - 15.0\\u00b5m\",\"Section0001 - 15.0\\u00b5m\",\"Section0001 - 15.0\\u00b5m\",\"Section0001 - 15.0\\u00b5m\",\"Section0001 - 15.0\\u00b5m\",\"Section0001 - 15.0\\u00b5m\",\"Section0001 - 15.0\\u00b5m\",\"Section0001 - 15.0\\u00b5m\",\"Section0001 - 15.0\\u00b5m\",\"Section0001 - 15.0\\u00b5m\",\"Section0001 - 15.0\\u00b5m\",\"Section0001 - 15.0\\u00b5m\",\"Section0001 - 15.0\\u00b5m\",\"Section0001 - 15.0\\u00b5m\",\"Section0001 - 15.0\\u00b5m\",\"Section0001 - 15.0\\u00b5m\",\"Section0001 - 15.0\\u00b5m\",\"Section0001 - 15.0\\u00b5m\",\"Section0001 - 15.0\\u00b5m\",\"Section0001 - 15.0\\u00b5m\",\"Section0001 - 15.0\\u00b5m\",\"Section0001 - 15.0\\u00b5m\",\"Section0001 - 15.0\\u00b5m\",\"Section0001 - 15.0\\u00b5m\",\"Section0001 - 15.0\\u00b5m\",\"Section0001 - 15.0\\u00b5m\",\"Section0001 - 15.0\\u00b5m\",\"Section0001 - 15.0\\u00b5m\",\"Section0001 - 15.0\\u00b5m\",\"Section0001 - 15.0\\u00b5m\",\"Section0001 - 15.0\\u00b5m\",\"Section0001 - 15.0\\u00b5m\",\"Section0001 - 15.0\\u00b5m\",\"Section0001 - 15.0\\u00b5m\",\"Section0001 - 15.0\\u00b5m\",\"Section0001 - 15.0\\u00b5m\",\"Section0001 - 15.0\\u00b5m\",\"Section0001 - 15.0\\u00b5m\",\"Section0001 - 15.0\\u00b5m\",\"Section0001 - 15.0\\u00b5m\",\"Section0001 - 15.0\\u00b5m\",\"Section0001 - 15.0\\u00b5m\",\"Section0001 - 15.0\\u00b5m\",\"Section0001 - 15.0\\u00b5m\",\"Section0001 - 15.0\\u00b5m\",\"Section0001 - 15.0\\u00b5m\",\"Section0001 - 15.0\\u00b5m\",\"Section0001 - 15.0\\u00b5m\",\"Section0001 - 15.0\\u00b5m\",\"Section0001 - 15.0\\u00b5m\",\"Section0001 - 15.0\\u00b5m\",\"Section0001 - 15.0\\u00b5m\",\"Section0001 - 15.0\\u00b5m\",\"Section0001 - 15.0\\u00b5m\",\"Section0001 - 15.0\\u00b5m\",\"Section0001 - 15.0\\u00b5m\",\"Section0001 - 15.0\\u00b5m\",\"Section0001 - 15.0\\u00b5m\",\"Section0001 - 15.0\\u00b5m\",\"Section0001 - 15.0\\u00b5m\",\"Section0001 - 15.0\\u00b5m\",\"Section0001 - 15.0\\u00b5m\",\"Section0001 - 15.0\\u00b5m\",\"Section0001 - 15.0\\u00b5m\",\"Section0001 - 15.0\\u00b5m\",\"Section0001 - 15.0\\u00b5m\",\"Section0001 - 15.0\\u00b5m\",\"Section0001 - 15.0\\u00b5m\",\"Section0001 - 15.0\\u00b5m\",\"Section0001 - 15.0\\u00b5m\",\"Section0001 - 15.0\\u00b5m\",\"Section0001 - 15.0\\u00b5m\",\"Section0001 - 15.0\\u00b5m\",\"Section0001 - 15.0\\u00b5m\",\"Section0001 - 15.0\\u00b5m\",\"Section0001 - 15.0\\u00b5m\",\"Section0001 - 15.0\\u00b5m\",\"Section0001 - 15.0\\u00b5m\",\"Section0001 - 15.0\\u00b5m\",\"Section0001 - 15.0\\u00b5m\",\"Section0001 - 15.0\\u00b5m\",\"Section0001 - 15.0\\u00b5m\",\"Section0001 - 15.0\\u00b5m\",\"Section0001 - 15.0\\u00b5m\",\"Section0001 - 15.0\\u00b5m\",\"Section0001 - 15.0\\u00b5m\",\"Section0001 - 15.0\\u00b5m\",\"Section0001 - 15.0\\u00b5m\",\"Section0001 - 15.0\\u00b5m\",\"Section0001 - 15.0\\u00b5m\",\"Section0001 - 15.0\\u00b5m\",\"Section0001 - 15.0\\u00b5m\",\"Section0001 - 15.0\\u00b5m\",\"Section0001 - 15.0\\u00b5m\",\"Section0001 - 15.0\\u00b5m\",\"Section0001 - 15.0\\u00b5m\",\"Section0001 - 15.0\\u00b5m\",\"Section0001 - 15.0\\u00b5m\",\"Section0001 - 15.0\\u00b5m\",\"Section0001 - 15.0\\u00b5m\",\"Section0001 - 15.0\\u00b5m\",\"Section0001 - 15.0\\u00b5m\",\"Section0001 - 15.0\\u00b5m\",\"Section0001 - 15.0\\u00b5m\",\"Section0001 - 15.0\\u00b5m\",\"Section0001 - 15.0\\u00b5m\",\"Section0001 - 15.0\\u00b5m\",\"Section0001 - 15.0\\u00b5m\",\"Section0001 - 15.0\\u00b5m\",\"Section0001 - 15.0\\u00b5m\",\"Section0001 - 15.0\\u00b5m\",\"Section0001 - 15.0\\u00b5m\",\"Section0001 - 15.0\\u00b5m\",\"Section0001 - 15.0\\u00b5m\",\"Section0001 - 15.0\\u00b5m\",\"Section0001 - 15.0\\u00b5m\",\"Section0001 - 15.0\\u00b5m\",\"Section0001 - 15.0\\u00b5m\",\"Section0001 - 15.0\\u00b5m\",\"Section0001 - 15.0\\u00b5m\",\"Section0001 - 15.0\\u00b5m\",\"Section0001 - 15.0\\u00b5m\",\"Section0001 - 15.0\\u00b5m\",\"Section0001 - 15.0\\u00b5m\",\"Section0001 - 15.0\\u00b5m\",\"Section0001 - 15.0\\u00b5m\",\"Section0001 - 15.0\\u00b5m\",\"Section0001 - 15.0\\u00b5m\",\"Section0001 - 15.0\\u00b5m\",\"Section0001 - 15.0\\u00b5m\",\"Section0001 - 15.0\\u00b5m\",\"Section0001 - 15.0\\u00b5m\"],\"value\":{\"__ndarray__\":\"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\",\"dtype\":\"float64\",\"shape\":[195]}},\"selected\":{\"id\":\"1743\",\"type\":\"Selection\"},\"selection_policy\":{\"id\":\"1775\",\"type\":\"UnionRenderers\"}},\"id\":\"1742\",\"type\":\"ColumnDataSource\"},{\"attributes\":{\"callback\":null,\"data\":{\"Time\":{\"__ndarray__\":\"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\",\"dtype\":\"float64\",\"shape\":[195]},\"Variable\":[\"Section0001 - 65.0\\u00b5m\",\"Section0001 - 65.0\\u00b5m\",\"Section0001 - 65.0\\u00b5m\",\"Section0001 - 65.0\\u00b5m\",\"Section0001 - 65.0\\u00b5m\",\"Section0001 - 65.0\\u00b5m\",\"Section0001 - 65.0\\u00b5m\",\"Section0001 - 65.0\\u00b5m\",\"Section0001 - 65.0\\u00b5m\",\"Section0001 - 65.0\\u00b5m\",\"Section0001 - 65.0\\u00b5m\",\"Section0001 - 65.0\\u00b5m\",\"Section0001 - 65.0\\u00b5m\",\"Section0001 - 65.0\\u00b5m\",\"Section0001 - 65.0\\u00b5m\",\"Section0001 - 65.0\\u00b5m\",\"Section0001 - 65.0\\u00b5m\",\"Section0001 - 65.0\\u00b5m\",\"Section0001 - 65.0\\u00b5m\",\"Section0001 - 65.0\\u00b5m\",\"Section0001 - 65.0\\u00b5m\",\"Section0001 - 65.0\\u00b5m\",\"Section0001 - 65.0\\u00b5m\",\"Section0001 - 65.0\\u00b5m\",\"Section0001 - 65.0\\u00b5m\",\"Section0001 - 65.0\\u00b5m\",\"Section0001 - 65.0\\u00b5m\",\"Section0001 - 65.0\\u00b5m\",\"Section0001 - 65.0\\u00b5m\",\"Section0001 - 65.0\\u00b5m\",\"Section0001 - 65.0\\u00b5m\",\"Section0001 - 65.0\\u00b5m\",\"Section0001 - 65.0\\u00b5m\",\"Section0001 - 65.0\\u00b5m\",\"Section0001 - 65.0\\u00b5m\",\"Section0001 - 65.0\\u00b5m\",\"Section0001 - 65.0\\u00b5m\",\"Section0001 - 65.0\\u00b5m\",\"Section0001 - 65.0\\u00b5m\",\"Section0001 - 65.0\\u00b5m\",\"Section0001 - 65.0\\u00b5m\",\"Section0001 - 65.0\\u00b5m\",\"Section0001 - 65.0\\u00b5m\",\"Section0001 - 65.0\\u00b5m\",\"Section0001 - 65.0\\u00b5m\",\"Section0001 - 65.0\\u00b5m\",\"Section0001 - 65.0\\u00b5m\",\"Section0001 - 65.0\\u00b5m\",\"Section0001 - 65.0\\u00b5m\",\"Section0001 - 65.0\\u00b5m\",\"Section0001 - 65.0\\u00b5m\",\"Section0001 - 65.0\\u00b5m\",\"Section0001 - 65.0\\u00b5m\",\"Section0001 - 65.0\\u00b5m\",\"Section0001 - 65.0\\u00b5m\",\"Section0001 - 65.0\\u00b5m\",\"Section0001 - 65.0\\u00b5m\",\"Section0001 - 65.0\\u00b5m\",\"Section0001 - 65.0\\u00b5m\",\"Section0001 - 65.0\\u00b5m\",\"Section0001 - 65.0\\u00b5m\",\"Section0001 - 65.0\\u00b5m\",\"Section0001 - 65.0\\u00b5m\",\"Section0001 - 65.0\\u00b5m\",\"Section0001 - 65.0\\u00b5m\",\"Section0001 - 65.0\\u00b5m\",\"Section0001 - 65.0\\u00b5m\",\"Section0001 - 65.0\\u00b5m\",\"Section0001 - 65.0\\u00b5m\",\"Section0001 - 65.0\\u00b5m\",\"Section0001 - 65.0\\u00b5m\",\"Section0001 - 65.0\\u00b5m\",\"Section0001 - 65.0\\u00b5m\",\"Section0001 - 65.0\\u00b5m\",\"Section0001 - 65.0\\u00b5m\",\"Section0001 - 65.0\\u00b5m\",\"Section0001 - 65.0\\u00b5m\",\"Section0001 - 65.0\\u00b5m\",\"Section0001 - 65.0\\u00b5m\",\"Section0001 - 65.0\\u00b5m\",\"Section0001 - 65.0\\u00b5m\",\"Section0001 - 65.0\\u00b5m\",\"Section0001 - 65.0\\u00b5m\",\"Section0001 - 65.0\\u00b5m\",\"Section0001 - 65.0\\u00b5m\",\"Section0001 - 65.0\\u00b5m\",\"Section0001 - 65.0\\u00b5m\",\"Section0001 - 65.0\\u00b5m\",\"Section0001 - 65.0\\u00b5m\",\"Section0001 - 65.0\\u00b5m\",\"Section0001 - 65.0\\u00b5m\",\"Section0001 - 65.0\\u00b5m\",\"Section0001 - 65.0\\u00b5m\",\"Section0001 - 65.0\\u00b5m\",\"Section0001 - 65.0\\u00b5m\",\"Section0001 - 65.0\\u00b5m\",\"Section0001 - 65.0\\u00b5m\",\"Section0001 - 65.0\\u00b5m\",\"Section0001 - 65.0\\u00b5m\",\"Section0001 - 65.0\\u00b5m\",\"Section0001 - 65.0\\u00b5m\",\"Section0001 - 65.0\\u00b5m\",\"Section0001 - 65.0\\u00b5m\",\"Section0001 - 65.0\\u00b5m\",\"Section0001 - 65.0\\u00b5m\",\"Section0001 - 65.0\\u00b5m\",\"Section0001 - 65.0\\u00b5m\",\"Section0001 - 65.0\\u00b5m\",\"Section0001 - 65.0\\u00b5m\",\"Section0001 - 65.0\\u00b5m\",\"Section0001 - 65.0\\u00b5m\",\"Section0001 - 65.0\\u00b5m\",\"Section0001 - 65.0\\u00b5m\",\"Section0001 - 65.0\\u00b5m\",\"Section0001 - 65.0\\u00b5m\",\"Section0001 - 65.0\\u00b5m\",\"Section0001 - 65.0\\u00b5m\",\"Section0001 - 65.0\\u00b5m\",\"Section0001 - 65.0\\u00b5m\",\"Section0001 - 65.0\\u00b5m\",\"Section0001 - 65.0\\u00b5m\",\"Section0001 - 65.0\\u00b5m\",\"Section0001 - 65.0\\u00b5m\",\"Section0001 - 65.0\\u00b5m\",\"Section0001 - 65.0\\u00b5m\",\"Section0001 - 65.0\\u00b5m\",\"Section0001 - 65.0\\u00b5m\",\"Section0001 - 65.0\\u00b5m\",\"Section0001 - 65.0\\u00b5m\",\"Section0001 - 65.0\\u00b5m\",\"Section0001 - 65.0\\u00b5m\",\"Section0001 - 65.0\\u00b5m\",\"Section0001 - 65.0\\u00b5m\",\"Section0001 - 65.0\\u00b5m\",\"Section0001 - 65.0\\u00b5m\",\"Section0001 - 65.0\\u00b5m\",\"Section0001 - 65.0\\u00b5m\",\"Section0001 - 65.0\\u00b5m\",\"Section0001 - 65.0\\u00b5m\",\"Section0001 - 65.0\\u00b5m\",\"Section0001 - 65.0\\u00b5m\",\"Section0001 - 65.0\\u00b5m\",\"Section0001 - 65.0\\u00b5m\",\"Section0001 - 65.0\\u00b5m\",\"Section0001 - 65.0\\u00b5m\",\"Section0001 - 65.0\\u00b5m\",\"Section0001 - 65.0\\u00b5m\",\"Section0001 - 65.0\\u00b5m\",\"Section0001 - 65.0\\u00b5m\",\"Section0001 - 65.0\\u00b5m\",\"Section0001 - 65.0\\u00b5m\",\"Section0001 - 65.0\\u00b5m\",\"Section0001 - 65.0\\u00b5m\",\"Section0001 - 65.0\\u00b5m\",\"Section0001 - 65.0\\u00b5m\",\"Section0001 - 65.0\\u00b5m\",\"Section0001 - 65.0\\u00b5m\",\"Section0001 - 65.0\\u00b5m\",\"Section0001 - 65.0\\u00b5m\",\"Section0001 - 65.0\\u00b5m\",\"Section0001 - 65.0\\u00b5m\",\"Section0001 - 65.0\\u00b5m\",\"Section0001 - 65.0\\u00b5m\",\"Section0001 - 65.0\\u00b5m\",\"Section0001 - 65.0\\u00b5m\",\"Section0001 - 65.0\\u00b5m\",\"Section0001 - 65.0\\u00b5m\",\"Section0001 - 65.0\\u00b5m\",\"Section0001 - 65.0\\u00b5m\",\"Section0001 - 65.0\\u00b5m\",\"Section0001 - 65.0\\u00b5m\",\"Section0001 - 65.0\\u00b5m\",\"Section0001 - 65.0\\u00b5m\",\"Section0001 - 65.0\\u00b5m\",\"Section0001 - 65.0\\u00b5m\",\"Section0001 - 65.0\\u00b5m\",\"Section0001 - 65.0\\u00b5m\",\"Section0001 - 65.0\\u00b5m\",\"Section0001 - 65.0\\u00b5m\",\"Section0001 - 65.0\\u00b5m\",\"Section0001 - 65.0\\u00b5m\",\"Section0001 - 65.0\\u00b5m\",\"Section0001 - 65.0\\u00b5m\",\"Section0001 - 65.0\\u00b5m\",\"Section0001 - 65.0\\u00b5m\",\"Section0001 - 65.0\\u00b5m\",\"Section0001 - 65.0\\u00b5m\",\"Section0001 - 65.0\\u00b5m\",\"Section0001 - 65.0\\u00b5m\",\"Section0001 - 65.0\\u00b5m\",\"Section0001 - 65.0\\u00b5m\",\"Section0001 - 65.0\\u00b5m\",\"Section0001 - 65.0\\u00b5m\",\"Section0001 - 65.0\\u00b5m\",\"Section0001 - 65.0\\u00b5m\"],\"value\":{\"__ndarray__\":\"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\",\"dtype\":\"float64\",\"shape\":[195]}},\"selected\":{\"id\":\"1848\",\"type\":\"Selection\"},\"selection_policy\":{\"id\":\"1900\",\"type\":\"UnionRenderers\"}},\"id\":\"1847\",\"type\":\"ColumnDataSource\"},{\"attributes\":{},\"id\":\"1775\",\"type\":\"UnionRenderers\"},{\"attributes\":{\"line_alpha\":0.2,\"line_color\":\"#16bdcf\",\"line_width\":2,\"x\":{\"field\":\"Time\"},\"y\":{\"field\":\"value\"}},\"id\":\"1939\",\"type\":\"Line\"},{\"attributes\":{\"label\":{\"value\":\"Section0001 - 25.0\\u00b5m\"},\"renderers\":[{\"id\":\"1765\",\"type\":\"GlyphRenderer\"}]},\"id\":\"1777\",\"type\":\"LegendItem\"},{\"attributes\":{\"source\":{\"id\":\"1778\",\"type\":\"ColumnDataSource\"}},\"id\":\"1785\",\"type\":\"CDSView\"},{\"attributes\":{\"data_source\":{\"id\":\"1903\",\"type\":\"ColumnDataSource\"},\"glyph\":{\"id\":\"1906\",\"type\":\"Line\"},\"hover_glyph\":null,\"muted_glyph\":{\"id\":\"1908\",\"type\":\"Line\"},\"nonselection_glyph\":{\"id\":\"1907\",\"type\":\"Line\"},\"selection_glyph\":null,\"view\":{\"id\":\"1910\",\"type\":\"CDSView\"}},\"id\":\"1909\",\"type\":\"GlyphRenderer\"},{\"attributes\":{\"callback\":null,\"data\":{\"Time\":{\"__ndarray__\":\"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\",\"dtype\":\"float64\",\"shape\":[195]},\"Variable\":[\"Section0001 - 75.0\\u00b5m\",\"Section0001 - 75.0\\u00b5m\",\"Section0001 - 75.0\\u00b5m\",\"Section0001 - 75.0\\u00b5m\",\"Section0001 - 75.0\\u00b5m\",\"Section0001 - 75.0\\u00b5m\",\"Section0001 - 75.0\\u00b5m\",\"Section0001 - 75.0\\u00b5m\",\"Section0001 - 75.0\\u00b5m\",\"Section0001 - 75.0\\u00b5m\",\"Section0001 - 75.0\\u00b5m\",\"Section0001 - 75.0\\u00b5m\",\"Section0001 - 75.0\\u00b5m\",\"Section0001 - 75.0\\u00b5m\",\"Section0001 - 75.0\\u00b5m\",\"Section0001 - 75.0\\u00b5m\",\"Section0001 - 75.0\\u00b5m\",\"Section0001 - 75.0\\u00b5m\",\"Section0001 - 75.0\\u00b5m\",\"Section0001 - 75.0\\u00b5m\",\"Section0001 - 75.0\\u00b5m\",\"Section0001 - 75.0\\u00b5m\",\"Section0001 - 75.0\\u00b5m\",\"Section0001 - 75.0\\u00b5m\",\"Section0001 - 75.0\\u00b5m\",\"Section0001 - 75.0\\u00b5m\",\"Section0001 - 75.0\\u00b5m\",\"Section0001 - 75.0\\u00b5m\",\"Section0001 - 75.0\\u00b5m\",\"Section0001 - 75.0\\u00b5m\",\"Section0001 - 75.0\\u00b5m\",\"Section0001 - 75.0\\u00b5m\",\"Section0001 - 75.0\\u00b5m\",\"Section0001 - 75.0\\u00b5m\",\"Section0001 - 75.0\\u00b5m\",\"Section0001 - 75.0\\u00b5m\",\"Section0001 - 75.0\\u00b5m\",\"Section0001 - 75.0\\u00b5m\",\"Section0001 - 75.0\\u00b5m\",\"Section0001 - 75.0\\u00b5m\",\"Section0001 - 75.0\\u00b5m\",\"Section0001 - 75.0\\u00b5m\",\"Section0001 - 75.0\\u00b5m\",\"Section0001 - 75.0\\u00b5m\",\"Section0001 - 75.0\\u00b5m\",\"Section0001 - 75.0\\u00b5m\",\"Section0001 - 75.0\\u00b5m\",\"Section0001 - 75.0\\u00b5m\",\"Section0001 - 75.0\\u00b5m\",\"Section0001 - 75.0\\u00b5m\",\"Section0001 - 75.0\\u00b5m\",\"Section0001 - 75.0\\u00b5m\",\"Section0001 - 75.0\\u00b5m\",\"Section0001 - 75.0\\u00b5m\",\"Section0001 - 75.0\\u00b5m\",\"Section0001 - 75.0\\u00b5m\",\"Section0001 - 75.0\\u00b5m\",\"Section0001 - 75.0\\u00b5m\",\"Section0001 - 75.0\\u00b5m\",\"Section0001 - 75.0\\u00b5m\",\"Section0001 - 75.0\\u00b5m\",\"Section0001 - 75.0\\u00b5m\",\"Section0001 - 75.0\\u00b5m\",\"Section0001 - 75.0\\u00b5m\",\"Section0001 - 75.0\\u00b5m\",\"Section0001 - 75.0\\u00b5m\",\"Section0001 - 75.0\\u00b5m\",\"Section0001 - 75.0\\u00b5m\",\"Section0001 - 75.0\\u00b5m\",\"Section0001 - 75.0\\u00b5m\",\"Section0001 - 75.0\\u00b5m\",\"Section0001 - 75.0\\u00b5m\",\"Section0001 - 75.0\\u00b5m\",\"Section0001 - 75.0\\u00b5m\",\"Section0001 - 75.0\\u00b5m\",\"Section0001 - 75.0\\u00b5m\",\"Section0001 - 75.0\\u00b5m\",\"Section0001 - 75.0\\u00b5m\",\"Section0001 - 75.0\\u00b5m\",\"Section0001 - 75.0\\u00b5m\",\"Section0001 - 75.0\\u00b5m\",\"Section0001 - 75.0\\u00b5m\",\"Section0001 - 75.0\\u00b5m\",\"Section0001 - 75.0\\u00b5m\",\"Section0001 - 75.0\\u00b5m\",\"Section0001 - 75.0\\u00b5m\",\"Section0001 - 75.0\\u00b5m\",\"Section0001 - 75.0\\u00b5m\",\"Section0001 - 75.0\\u00b5m\",\"Section0001 - 75.0\\u00b5m\",\"Section0001 - 75.0\\u00b5m\",\"Section0001 - 75.0\\u00b5m\",\"Section0001 - 75.0\\u00b5m\",\"Section0001 - 75.0\\u00b5m\",\"Section0001 - 75.0\\u00b5m\",\"Section0001 - 75.0\\u00b5m\",\"Section0001 - 75.0\\u00b5m\",\"Section0001 - 75.0\\u00b5m\",\"Section0001 - 75.0\\u00b5m\",\"Section0001 - 75.0\\u00b5m\",\"Section0001 - 75.0\\u00b5m\",\"Section0001 - 75.0\\u00b5m\",\"Section0001 - 75.0\\u00b5m\",\"Section0001 - 75.0\\u00b5m\",\"Section0001 - 75.0\\u00b5m\",\"Section0001 - 75.0\\u00b5m\",\"Section0001 - 75.0\\u00b5m\",\"Section0001 - 75.0\\u00b5m\",\"Section0001 - 75.0\\u00b5m\",\"Section0001 - 75.0\\u00b5m\",\"Section0001 - 75.0\\u00b5m\",\"Section0001 - 75.0\\u00b5m\",\"Section0001 - 75.0\\u00b5m\",\"Section0001 - 75.0\\u00b5m\",\"Section0001 - 75.0\\u00b5m\",\"Section0001 - 75.0\\u00b5m\",\"Section0001 - 75.0\\u00b5m\",\"Section0001 - 75.0\\u00b5m\",\"Section0001 - 75.0\\u00b5m\",\"Section0001 - 75.0\\u00b5m\",\"Section0001 - 75.0\\u00b5m\",\"Section0001 - 75.0\\u00b5m\",\"Section0001 - 75.0\\u00b5m\",\"Section0001 - 75.0\\u00b5m\",\"Section0001 - 75.0\\u00b5m\",\"Section0001 - 75.0\\u00b5m\",\"Section0001 - 75.0\\u00b5m\",\"Section0001 - 75.0\\u00b5m\",\"Section0001 - 75.0\\u00b5m\",\"Section0001 - 75.0\\u00b5m\",\"Section0001 - 75.0\\u00b5m\",\"Section0001 - 75.0\\u00b5m\",\"Section0001 - 75.0\\u00b5m\",\"Section0001 - 75.0\\u00b5m\",\"Section0001 - 75.0\\u00b5m\",\"Section0001 - 75.0\\u00b5m\",\"Section0001 - 75.0\\u00b5m\",\"Section0001 - 75.0\\u00b5m\",\"Section0001 - 75.0\\u00b5m\",\"Section0001 - 75.0\\u00b5m\",\"Section0001 - 75.0\\u00b5m\",\"Section0001 - 75.0\\u00b5m\",\"Section0001 - 75.0\\u00b5m\",\"Section0001 - 75.0\\u00b5m\",\"Section0001 - 75.0\\u00b5m\",\"Section0001 - 75.0\\u00b5m\",\"Section0001 - 75.0\\u00b5m\",\"Section0001 - 75.0\\u00b5m\",\"Section0001 - 75.0\\u00b5m\",\"Section0001 - 75.0\\u00b5m\",\"Section0001 - 75.0\\u00b5m\",\"Section0001 - 75.0\\u00b5m\",\"Section0001 - 75.0\\u00b5m\",\"Section0001 - 75.0\\u00b5m\",\"Section0001 - 75.0\\u00b5m\",\"Section0001 - 75.0\\u00b5m\",\"Section0001 - 75.0\\u00b5m\",\"Section0001 - 75.0\\u00b5m\",\"Section0001 - 75.0\\u00b5m\",\"Section0001 - 75.0\\u00b5m\",\"Section0001 - 75.0\\u00b5m\",\"Section0001 - 75.0\\u00b5m\",\"Section0001 - 75.0\\u00b5m\",\"Section0001 - 75.0\\u00b5m\",\"Section0001 - 75.0\\u00b5m\",\"Section0001 - 75.0\\u00b5m\",\"Section0001 - 75.0\\u00b5m\",\"Section0001 - 75.0\\u00b5m\",\"Section0001 - 75.0\\u00b5m\",\"Section0001 - 75.0\\u00b5m\",\"Section0001 - 75.0\\u00b5m\",\"Section0001 - 75.0\\u00b5m\",\"Section0001 - 75.0\\u00b5m\",\"Section0001 - 75.0\\u00b5m\",\"Section0001 - 75.0\\u00b5m\",\"Section0001 - 75.0\\u00b5m\",\"Section0001 - 75.0\\u00b5m\",\"Section0001 - 75.0\\u00b5m\",\"Section0001 - 75.0\\u00b5m\",\"Section0001 - 75.0\\u00b5m\",\"Section0001 - 75.0\\u00b5m\",\"Section0001 - 75.0\\u00b5m\",\"Section0001 - 75.0\\u00b5m\",\"Section0001 - 75.0\\u00b5m\",\"Section0001 - 75.0\\u00b5m\",\"Section0001 - 75.0\\u00b5m\",\"Section0001 - 75.0\\u00b5m\",\"Section0001 - 75.0\\u00b5m\",\"Section0001 - 75.0\\u00b5m\",\"Section0001 - 75.0\\u00b5m\",\"Section0001 - 75.0\\u00b5m\",\"Section0001 - 75.0\\u00b5m\",\"Section0001 - 75.0\\u00b5m\",\"Section0001 - 75.0\\u00b5m\",\"Section0001 - 75.0\\u00b5m\"],\"value\":{\"__ndarray__\":\"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\",\"dtype\":\"float64\",\"shape\":[195]}},\"selected\":{\"id\":\"1875\",\"type\":\"Selection\"},\"selection_policy\":{\"id\":\"1931\",\"type\":\"UnionRenderers\"}},\"id\":\"1874\",\"type\":\"ColumnDataSource\"},{\"attributes\":{},\"id\":\"1724\",\"type\":\"BasicTickFormatter\"},{\"attributes\":{\"source\":{\"id\":\"1742\",\"type\":\"ColumnDataSource\"}},\"id\":\"1749\",\"type\":\"CDSView\"},{\"attributes\":{},\"id\":\"1756\",\"type\":\"UnionRenderers\"},{\"attributes\":{\"line_alpha\":0.1,\"line_color\":\"#ff7e0e\",\"line_width\":2,\"x\":{\"field\":\"Time\"},\"y\":{\"field\":\"value\"}},\"id\":\"1746\",\"type\":\"Line\"},{\"attributes\":{\"line_color\":\"#ff7e0e\",\"line_width\":2,\"x\":{\"field\":\"Time\"},\"y\":{\"field\":\"value\"}},\"id\":\"1745\",\"type\":\"Line\"},{\"attributes\":{},\"id\":\"1796\",\"type\":\"UnionRenderers\"},{\"attributes\":{},\"id\":\"1844\",\"type\":\"UnionRenderers\"},{\"attributes\":{\"line_alpha\":0.1,\"line_color\":\"#e277c1\",\"line_width\":2,\"x\":{\"field\":\"Time\"},\"y\":{\"field\":\"value\"}},\"id\":\"1851\",\"type\":\"Line\"},{\"attributes\":{\"line_alpha\":0.1,\"line_color\":\"#bcbc21\",\"line_width\":2,\"x\":{\"field\":\"Time\"},\"y\":{\"field\":\"value\"}},\"id\":\"1907\",\"type\":\"Line\"},{\"attributes\":{\"data_source\":{\"id\":\"1742\",\"type\":\"ColumnDataSource\"},\"glyph\":{\"id\":\"1745\",\"type\":\"Line\"},\"hover_glyph\":null,\"muted_glyph\":{\"id\":\"1747\",\"type\":\"Line\"},\"nonselection_glyph\":{\"id\":\"1746\",\"type\":\"Line\"},\"selection_glyph\":null,\"view\":{\"id\":\"1749\",\"type\":\"CDSView\"}},\"id\":\"1748\",\"type\":\"GlyphRenderer\"},{\"attributes\":{\"line_alpha\":0.2,\"line_color\":\"#ff7e0e\",\"line_width\":2,\"x\":{\"field\":\"Time\"},\"y\":{\"field\":\"value\"}},\"id\":\"1747\",\"type\":\"Line\"},{\"attributes\":{\"data_source\":{\"id\":\"1874\",\"type\":\"ColumnDataSource\"},\"glyph\":{\"id\":\"1877\",\"type\":\"Line\"},\"hover_glyph\":null,\"muted_glyph\":{\"id\":\"1879\",\"type\":\"Line\"},\"nonselection_glyph\":{\"id\":\"1878\",\"type\":\"Line\"},\"selection_glyph\":null,\"view\":{\"id\":\"1881\",\"type\":\"CDSView\"}},\"id\":\"1880\",\"type\":\"GlyphRenderer\"},{\"attributes\":{\"label\":{\"value\":\"Section0001 - 5.0\\u00b5m\"},\"renderers\":[{\"id\":\"1732\",\"type\":\"GlyphRenderer\"}]},\"id\":\"1741\",\"type\":\"LegendItem\"},{\"attributes\":{\"data_source\":{\"id\":\"1799\",\"type\":\"ColumnDataSource\"},\"glyph\":{\"id\":\"1802\",\"type\":\"Line\"},\"hover_glyph\":null,\"muted_glyph\":{\"id\":\"1804\",\"type\":\"Line\"},\"nonselection_glyph\":{\"id\":\"1803\",\"type\":\"Line\"},\"selection_glyph\":null,\"view\":{\"id\":\"1806\",\"type\":\"CDSView\"}},\"id\":\"1805\",\"type\":\"GlyphRenderer\"},{\"attributes\":{\"callback\":null,\"renderers\":[{\"id\":\"1732\",\"type\":\"GlyphRenderer\"},{\"id\":\"1748\",\"type\":\"GlyphRenderer\"},{\"id\":\"1765\",\"type\":\"GlyphRenderer\"},{\"id\":\"1784\",\"type\":\"GlyphRenderer\"},{\"id\":\"1805\",\"type\":\"GlyphRenderer\"},{\"id\":\"1828\",\"type\":\"GlyphRenderer\"},{\"id\":\"1853\",\"type\":\"GlyphRenderer\"},{\"id\":\"1880\",\"type\":\"GlyphRenderer\"},{\"id\":\"1909\",\"type\":\"GlyphRenderer\"},{\"id\":\"1940\",\"type\":\"GlyphRenderer\"}],\"tags\":[\"hv_created\"],\"tooltips\":[[\"Variable\",\"@{Variable}\"],[\"Time\",\"@{Time}\"],[\"value\",\"@{value}\"]]},\"id\":\"1681\",\"type\":\"HoverTool\"},{\"attributes\":{\"data_source\":{\"id\":\"1822\",\"type\":\"ColumnDataSource\"},\"glyph\":{\"id\":\"1825\",\"type\":\"Line\"},\"hover_glyph\":null,\"muted_glyph\":{\"id\":\"1827\",\"type\":\"Line\"},\"nonselection_glyph\":{\"id\":\"1826\",\"type\":\"Line\"},\"selection_glyph\":null,\"view\":{\"id\":\"1829\",\"type\":\"CDSView\"}},\"id\":\"1828\",\"type\":\"GlyphRenderer\"},{\"attributes\":{\"label\":{\"value\":\"Section0001 - 55.0\\u00b5m\"},\"renderers\":[{\"id\":\"1828\",\"type\":\"GlyphRenderer\"}]},\"id\":\"1846\",\"type\":\"LegendItem\"},{\"attributes\":{},\"id\":\"1743\",\"type\":\"Selection\"},{\"attributes\":{\"source\":{\"id\":\"1874\",\"type\":\"ColumnDataSource\"}},\"id\":\"1881\",\"type\":\"CDSView\"},{\"attributes\":{},\"id\":\"1760\",\"type\":\"Selection\"},{\"attributes\":{\"line_alpha\":0.2,\"line_color\":\"#bcbc21\",\"line_width\":2,\"x\":{\"field\":\"Time\"},\"y\":{\"field\":\"value\"}},\"id\":\"1908\",\"type\":\"Line\"},{\"attributes\":{\"click_policy\":\"mute\",\"items\":[{\"id\":\"1741\",\"type\":\"LegendItem\"},{\"id\":\"1758\",\"type\":\"LegendItem\"},{\"id\":\"1777\",\"type\":\"LegendItem\"},{\"id\":\"1798\",\"type\":\"LegendItem\"},{\"id\":\"1821\",\"type\":\"LegendItem\"},{\"id\":\"1846\",\"type\":\"LegendItem\"},{\"id\":\"1873\",\"type\":\"LegendItem\"},{\"id\":\"1902\",\"type\":\"LegendItem\"},{\"id\":\"1933\",\"type\":\"LegendItem\"},{\"id\":\"1966\",\"type\":\"LegendItem\"}],\"location\":[0,0]},\"id\":\"1740\",\"type\":\"Legend\"},{\"attributes\":{\"bottom_units\":\"screen\",\"fill_alpha\":{\"value\":0.5},\"fill_color\":{\"value\":\"lightgrey\"},\"left_units\":\"screen\",\"level\":\"overlay\",\"line_alpha\":{\"value\":1.0},\"line_color\":{\"value\":\"black\"},\"line_dash\":[4,4],\"line_width\":{\"value\":2},\"render_mode\":\"css\",\"right_units\":\"screen\",\"top_units\":\"screen\"},\"id\":\"1739\",\"type\":\"BoxAnnotation\"},{\"attributes\":{\"line_alpha\":0.1,\"line_color\":\"#1f77b3\",\"line_width\":2,\"x\":{\"field\":\"Time\"},\"y\":{\"field\":\"value\"}},\"id\":\"1730\",\"type\":\"Line\"},{\"attributes\":{\"line_alpha\":0.2,\"line_color\":\"#8c564b\",\"line_width\":2,\"x\":{\"field\":\"Time\"},\"y\":{\"field\":\"value\"}},\"id\":\"1827\",\"type\":\"Line\"},{\"attributes\":{\"line_alpha\":0.2,\"line_color\":\"#1f77b3\",\"line_width\":2,\"x\":{\"field\":\"Time\"},\"y\":{\"field\":\"value\"}},\"id\":\"1731\",\"type\":\"Line\"},{\"attributes\":{\"source\":{\"id\":\"1822\",\"type\":\"ColumnDataSource\"}},\"id\":\"1829\",\"type\":\"CDSView\"},{\"attributes\":{\"label\":{\"value\":\"Section0001 - 35.0\\u00b5m\"},\"renderers\":[{\"id\":\"1784\",\"type\":\"GlyphRenderer\"}]},\"id\":\"1798\",\"type\":\"LegendItem\"},{\"attributes\":{\"data_source\":{\"id\":\"1726\",\"type\":\"ColumnDataSource\"},\"glyph\":{\"id\":\"1729\",\"type\":\"Line\"},\"hover_glyph\":null,\"muted_glyph\":{\"id\":\"1731\",\"type\":\"Line\"},\"nonselection_glyph\":{\"id\":\"1730\",\"type\":\"Line\"},\"selection_glyph\":null,\"view\":{\"id\":\"1733\",\"type\":\"CDSView\"}},\"id\":\"1732\",\"type\":\"GlyphRenderer\"},{\"attributes\":{\"callback\":null,\"data\":{\"Time\":{\"__ndarray__\":\"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\",\"dtype\":\"float64\",\"shape\":[195]},\"Variable\":[\"Section0001 - 5.0\\u00b5m\",\"Section0001 - 5.0\\u00b5m\",\"Section0001 - 5.0\\u00b5m\",\"Section0001 - 5.0\\u00b5m\",\"Section0001 - 5.0\\u00b5m\",\"Section0001 - 5.0\\u00b5m\",\"Section0001 - 5.0\\u00b5m\",\"Section0001 - 5.0\\u00b5m\",\"Section0001 - 5.0\\u00b5m\",\"Section0001 - 5.0\\u00b5m\",\"Section0001 - 5.0\\u00b5m\",\"Section0001 - 5.0\\u00b5m\",\"Section0001 - 5.0\\u00b5m\",\"Section0001 - 5.0\\u00b5m\",\"Section0001 - 5.0\\u00b5m\",\"Section0001 - 5.0\\u00b5m\",\"Section0001 - 5.0\\u00b5m\",\"Section0001 - 5.0\\u00b5m\",\"Section0001 - 5.0\\u00b5m\",\"Section0001 - 5.0\\u00b5m\",\"Section0001 - 5.0\\u00b5m\",\"Section0001 - 5.0\\u00b5m\",\"Section0001 - 5.0\\u00b5m\",\"Section0001 - 5.0\\u00b5m\",\"Section0001 - 5.0\\u00b5m\",\"Section0001 - 5.0\\u00b5m\",\"Section0001 - 5.0\\u00b5m\",\"Section0001 - 5.0\\u00b5m\",\"Section0001 - 5.0\\u00b5m\",\"Section0001 - 5.0\\u00b5m\",\"Section0001 - 5.0\\u00b5m\",\"Section0001 - 5.0\\u00b5m\",\"Section0001 - 5.0\\u00b5m\",\"Section0001 - 5.0\\u00b5m\",\"Section0001 - 5.0\\u00b5m\",\"Section0001 - 5.0\\u00b5m\",\"Section0001 - 5.0\\u00b5m\",\"Section0001 - 5.0\\u00b5m\",\"Section0001 - 5.0\\u00b5m\",\"Section0001 - 5.0\\u00b5m\",\"Section0001 - 5.0\\u00b5m\",\"Section0001 - 5.0\\u00b5m\",\"Section0001 - 5.0\\u00b5m\",\"Section0001 - 5.0\\u00b5m\",\"Section0001 - 5.0\\u00b5m\",\"Section0001 - 5.0\\u00b5m\",\"Section0001 - 5.0\\u00b5m\",\"Section0001 - 5.0\\u00b5m\",\"Section0001 - 5.0\\u00b5m\",\"Section0001 - 5.0\\u00b5m\",\"Section0001 - 5.0\\u00b5m\",\"Section0001 - 5.0\\u00b5m\",\"Section0001 - 5.0\\u00b5m\",\"Section0001 - 5.0\\u00b5m\",\"Section0001 - 5.0\\u00b5m\",\"Section0001 - 5.0\\u00b5m\",\"Section0001 - 5.0\\u00b5m\",\"Section0001 - 5.0\\u00b5m\",\"Section0001 - 5.0\\u00b5m\",\"Section0001 - 5.0\\u00b5m\",\"Section0001 - 5.0\\u00b5m\",\"Section0001 - 5.0\\u00b5m\",\"Section0001 - 5.0\\u00b5m\",\"Section0001 - 5.0\\u00b5m\",\"Section0001 - 5.0\\u00b5m\",\"Section0001 - 5.0\\u00b5m\",\"Section0001 - 5.0\\u00b5m\",\"Section0001 - 5.0\\u00b5m\",\"Section0001 - 5.0\\u00b5m\",\"Section0001 - 5.0\\u00b5m\",\"Section0001 - 5.0\\u00b5m\",\"Section0001 - 5.0\\u00b5m\",\"Section0001 - 5.0\\u00b5m\",\"Section0001 - 5.0\\u00b5m\",\"Section0001 - 5.0\\u00b5m\",\"Section0001 - 5.0\\u00b5m\",\"Section0001 - 5.0\\u00b5m\",\"Section0001 - 5.0\\u00b5m\",\"Section0001 - 5.0\\u00b5m\",\"Section0001 - 5.0\\u00b5m\",\"Section0001 - 5.0\\u00b5m\",\"Section0001 - 5.0\\u00b5m\",\"Section0001 - 5.0\\u00b5m\",\"Section0001 - 5.0\\u00b5m\",\"Section0001 - 5.0\\u00b5m\",\"Section0001 - 5.0\\u00b5m\",\"Section0001 - 5.0\\u00b5m\",\"Section0001 - 5.0\\u00b5m\",\"Section0001 - 5.0\\u00b5m\",\"Section0001 - 5.0\\u00b5m\",\"Section0001 - 5.0\\u00b5m\",\"Section0001 - 5.0\\u00b5m\",\"Section0001 - 5.0\\u00b5m\",\"Section0001 - 5.0\\u00b5m\",\"Section0001 - 5.0\\u00b5m\",\"Section0001 - 5.0\\u00b5m\",\"Section0001 - 5.0\\u00b5m\",\"Section0001 - 5.0\\u00b5m\",\"Section0001 - 5.0\\u00b5m\",\"Section0001 - 5.0\\u00b5m\",\"Section0001 - 5.0\\u00b5m\",\"Section0001 - 5.0\\u00b5m\",\"Section0001 - 5.0\\u00b5m\",\"Section0001 - 5.0\\u00b5m\",\"Section0001 - 5.0\\u00b5m\",\"Section0001 - 5.0\\u00b5m\",\"Section0001 - 5.0\\u00b5m\",\"Section0001 - 5.0\\u00b5m\",\"Section0001 - 5.0\\u00b5m\",\"Section0001 - 5.0\\u00b5m\",\"Section0001 - 5.0\\u00b5m\",\"Section0001 - 5.0\\u00b5m\",\"Section0001 - 5.0\\u00b5m\",\"Section0001 - 5.0\\u00b5m\",\"Section0001 - 5.0\\u00b5m\",\"Section0001 - 5.0\\u00b5m\",\"Section0001 - 5.0\\u00b5m\",\"Section0001 - 5.0\\u00b5m\",\"Section0001 - 5.0\\u00b5m\",\"Section0001 - 5.0\\u00b5m\",\"Section0001 - 5.0\\u00b5m\",\"Section0001 - 5.0\\u00b5m\",\"Section0001 - 5.0\\u00b5m\",\"Section0001 - 5.0\\u00b5m\",\"Section0001 - 5.0\\u00b5m\",\"Section0001 - 5.0\\u00b5m\",\"Section0001 - 5.0\\u00b5m\",\"Section0001 - 5.0\\u00b5m\",\"Section0001 - 5.0\\u00b5m\",\"Section0001 - 5.0\\u00b5m\",\"Section0001 - 5.0\\u00b5m\",\"Section0001 - 5.0\\u00b5m\",\"Section0001 - 5.0\\u00b5m\",\"Section0001 - 5.0\\u00b5m\",\"Section0001 - 5.0\\u00b5m\",\"Section0001 - 5.0\\u00b5m\",\"Section0001 - 5.0\\u00b5m\",\"Section0001 - 5.0\\u00b5m\",\"Section0001 - 5.0\\u00b5m\",\"Section0001 - 5.0\\u00b5m\",\"Section0001 - 5.0\\u00b5m\",\"Section0001 - 5.0\\u00b5m\",\"Section0001 - 5.0\\u00b5m\",\"Section0001 - 5.0\\u00b5m\",\"Section0001 - 5.0\\u00b5m\",\"Section0001 - 5.0\\u00b5m\",\"Section0001 - 5.0\\u00b5m\",\"Section0001 - 5.0\\u00b5m\",\"Section0001 - 5.0\\u00b5m\",\"Section0001 - 5.0\\u00b5m\",\"Section0001 - 5.0\\u00b5m\",\"Section0001 - 5.0\\u00b5m\",\"Section0001 - 5.0\\u00b5m\",\"Section0001 - 5.0\\u00b5m\",\"Section0001 - 5.0\\u00b5m\",\"Section0001 - 5.0\\u00b5m\",\"Section0001 - 5.0\\u00b5m\",\"Section0001 - 5.0\\u00b5m\",\"Section0001 - 5.0\\u00b5m\",\"Section0001 - 5.0\\u00b5m\",\"Section0001 - 5.0\\u00b5m\",\"Section0001 - 5.0\\u00b5m\",\"Section0001 - 5.0\\u00b5m\",\"Section0001 - 5.0\\u00b5m\",\"Section0001 - 5.0\\u00b5m\",\"Section0001 - 5.0\\u00b5m\",\"Section0001 - 5.0\\u00b5m\",\"Section0001 - 5.0\\u00b5m\",\"Section0001 - 5.0\\u00b5m\",\"Section0001 - 5.0\\u00b5m\",\"Section0001 - 5.0\\u00b5m\",\"Section0001 - 5.0\\u00b5m\",\"Section0001 - 5.0\\u00b5m\",\"Section0001 - 5.0\\u00b5m\",\"Section0001 - 5.0\\u00b5m\",\"Section0001 - 5.0\\u00b5m\",\"Section0001 - 5.0\\u00b5m\",\"Section0001 - 5.0\\u00b5m\",\"Section0001 - 5.0\\u00b5m\",\"Section0001 - 5.0\\u00b5m\",\"Section0001 - 5.0\\u00b5m\",\"Section0001 - 5.0\\u00b5m\",\"Section0001 - 5.0\\u00b5m\",\"Section0001 - 5.0\\u00b5m\",\"Section0001 - 5.0\\u00b5m\",\"Section0001 - 5.0\\u00b5m\",\"Section0001 - 5.0\\u00b5m\",\"Section0001 - 5.0\\u00b5m\",\"Section0001 - 5.0\\u00b5m\",\"Section0001 - 5.0\\u00b5m\",\"Section0001 - 5.0\\u00b5m\",\"Section0001 - 5.0\\u00b5m\",\"Section0001 - 5.0\\u00b5m\",\"Section0001 - 5.0\\u00b5m\",\"Section0001 - 5.0\\u00b5m\"],\"value\":{\"__ndarray__\":\"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\",\"dtype\":\"float64\",\"shape\":[195]}},\"selected\":{\"id\":\"1727\",\"type\":\"Selection\"},\"selection_policy\":{\"id\":\"1756\",\"type\":\"UnionRenderers\"}},\"id\":\"1726\",\"type\":\"ColumnDataSource\"},{\"attributes\":{\"line_color\":\"#8c564b\",\"line_width\":2,\"x\":{\"field\":\"Time\"},\"y\":{\"field\":\"value\"}},\"id\":\"1825\",\"type\":\"Line\"},{\"attributes\":{},\"id\":\"1722\",\"type\":\"BasicTickFormatter\"},{\"attributes\":{\"source\":{\"id\":\"1726\",\"type\":\"ColumnDataSource\"}},\"id\":\"1733\",\"type\":\"CDSView\"},{\"attributes\":{\"source\":{\"id\":\"1903\",\"type\":\"ColumnDataSource\"}},\"id\":\"1910\",\"type\":\"CDSView\"},{\"attributes\":{},\"id\":\"1823\",\"type\":\"Selection\"},{\"attributes\":{\"line_color\":\"#1f77b3\",\"line_width\":2,\"x\":{\"field\":\"Time\"},\"y\":{\"field\":\"value\"}},\"id\":\"1729\",\"type\":\"Line\"},{\"attributes\":{\"text\":\"\",\"text_color\":{\"value\":\"black\"},\"text_font_size\":{\"value\":\"12pt\"}},\"id\":\"1692\",\"type\":\"Title\"},{\"attributes\":{\"callback\":null,\"data\":{\"Time\":{\"__ndarray__\":\"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\",\"dtype\":\"float64\",\"shape\":[195]},\"Variable\":[\"Section0001 - 45.0\\u00b5m\",\"Section0001 - 45.0\\u00b5m\",\"Section0001 - 45.0\\u00b5m\",\"Section0001 - 45.0\\u00b5m\",\"Section0001 - 45.0\\u00b5m\",\"Section0001 - 45.0\\u00b5m\",\"Section0001 - 45.0\\u00b5m\",\"Section0001 - 45.0\\u00b5m\",\"Section0001 - 45.0\\u00b5m\",\"Section0001 - 45.0\\u00b5m\",\"Section0001 - 45.0\\u00b5m\",\"Section0001 - 45.0\\u00b5m\",\"Section0001 - 45.0\\u00b5m\",\"Section0001 - 45.0\\u00b5m\",\"Section0001 - 45.0\\u00b5m\",\"Section0001 - 45.0\\u00b5m\",\"Section0001 - 45.0\\u00b5m\",\"Section0001 - 45.0\\u00b5m\",\"Section0001 - 45.0\\u00b5m\",\"Section0001 - 45.0\\u00b5m\",\"Section0001 - 45.0\\u00b5m\",\"Section0001 - 45.0\\u00b5m\",\"Section0001 - 45.0\\u00b5m\",\"Section0001 - 45.0\\u00b5m\",\"Section0001 - 45.0\\u00b5m\",\"Section0001 - 45.0\\u00b5m\",\"Section0001 - 45.0\\u00b5m\",\"Section0001 - 45.0\\u00b5m\",\"Section0001 - 45.0\\u00b5m\",\"Section0001 - 45.0\\u00b5m\",\"Section0001 - 45.0\\u00b5m\",\"Section0001 - 45.0\\u00b5m\",\"Section0001 - 45.0\\u00b5m\",\"Section0001 - 45.0\\u00b5m\",\"Section0001 - 45.0\\u00b5m\",\"Section0001 - 45.0\\u00b5m\",\"Section0001 - 45.0\\u00b5m\",\"Section0001 - 45.0\\u00b5m\",\"Section0001 - 45.0\\u00b5m\",\"Section0001 - 45.0\\u00b5m\",\"Section0001 - 45.0\\u00b5m\",\"Section0001 - 45.0\\u00b5m\",\"Section0001 - 45.0\\u00b5m\",\"Section0001 - 45.0\\u00b5m\",\"Section0001 - 45.0\\u00b5m\",\"Section0001 - 45.0\\u00b5m\",\"Section0001 - 45.0\\u00b5m\",\"Section0001 - 45.0\\u00b5m\",\"Section0001 - 45.0\\u00b5m\",\"Section0001 - 45.0\\u00b5m\",\"Section0001 - 45.0\\u00b5m\",\"Section0001 - 45.0\\u00b5m\",\"Section0001 - 45.0\\u00b5m\",\"Section0001 - 45.0\\u00b5m\",\"Section0001 - 45.0\\u00b5m\",\"Section0001 - 45.0\\u00b5m\",\"Section0001 - 45.0\\u00b5m\",\"Section0001 - 45.0\\u00b5m\",\"Section0001 - 45.0\\u00b5m\",\"Section0001 - 45.0\\u00b5m\",\"Section0001 - 45.0\\u00b5m\",\"Section0001 - 45.0\\u00b5m\",\"Section0001 - 45.0\\u00b5m\",\"Section0001 - 45.0\\u00b5m\",\"Section0001 - 45.0\\u00b5m\",\"Section0001 - 45.0\\u00b5m\",\"Section0001 - 45.0\\u00b5m\",\"Section0001 - 45.0\\u00b5m\",\"Section0001 - 45.0\\u00b5m\",\"Section0001 - 45.0\\u00b5m\",\"Section0001 - 45.0\\u00b5m\",\"Section0001 - 45.0\\u00b5m\",\"Section0001 - 45.0\\u00b5m\",\"Section0001 - 45.0\\u00b5m\",\"Section0001 - 45.0\\u00b5m\",\"Section0001 - 45.0\\u00b5m\",\"Section0001 - 45.0\\u00b5m\",\"Section0001 - 45.0\\u00b5m\",\"Section0001 - 45.0\\u00b5m\",\"Section0001 - 45.0\\u00b5m\",\"Section0001 - 45.0\\u00b5m\",\"Section0001 - 45.0\\u00b5m\",\"Section0001 - 45.0\\u00b5m\",\"Section0001 - 45.0\\u00b5m\",\"Section0001 - 45.0\\u00b5m\",\"Section0001 - 45.0\\u00b5m\",\"Section0001 - 45.0\\u00b5m\",\"Section0001 - 45.0\\u00b5m\",\"Section0001 - 45.0\\u00b5m\",\"Section0001 - 45.0\\u00b5m\",\"Section0001 - 45.0\\u00b5m\",\"Section0001 - 45.0\\u00b5m\",\"Section0001 - 45.0\\u00b5m\",\"Section0001 - 45.0\\u00b5m\",\"Section0001 - 45.0\\u00b5m\",\"Section0001 - 45.0\\u00b5m\",\"Section0001 - 45.0\\u00b5m\",\"Section0001 - 45.0\\u00b5m\",\"Section0001 - 45.0\\u00b5m\",\"Section0001 - 45.0\\u00b5m\",\"Section0001 - 45.0\\u00b5m\",\"Section0001 - 45.0\\u00b5m\",\"Section0001 - 45.0\\u00b5m\",\"Section0001 - 45.0\\u00b5m\",\"Section0001 - 45.0\\u00b5m\",\"Section0001 - 45.0\\u00b5m\",\"Section0001 - 45.0\\u00b5m\",\"Section0001 - 45.0\\u00b5m\",\"Section0001 - 45.0\\u00b5m\",\"Section0001 - 45.0\\u00b5m\",\"Section0001 - 45.0\\u00b5m\",\"Section0001 - 45.0\\u00b5m\",\"Section0001 - 45.0\\u00b5m\",\"Section0001 - 45.0\\u00b5m\",\"Section0001 - 45.0\\u00b5m\",\"Section0001 - 45.0\\u00b5m\",\"Section0001 - 45.0\\u00b5m\",\"Section0001 - 45.0\\u00b5m\",\"Section0001 - 45.0\\u00b5m\",\"Section0001 - 45.0\\u00b5m\",\"Section0001 - 45.0\\u00b5m\",\"Section0001 - 45.0\\u00b5m\",\"Section0001 - 45.0\\u00b5m\",\"Section0001 - 45.0\\u00b5m\",\"Section0001 - 45.0\\u00b5m\",\"Section0001 - 45.0\\u00b5m\",\"Section0001 - 45.0\\u00b5m\",\"Section0001 - 45.0\\u00b5m\",\"Section0001 - 45.0\\u00b5m\",\"Section0001 - 45.0\\u00b5m\",\"Section0001 - 45.0\\u00b5m\",\"Section0001 - 45.0\\u00b5m\",\"Section0001 - 45.0\\u00b5m\",\"Section0001 - 45.0\\u00b5m\",\"Section0001 - 45.0\\u00b5m\",\"Section0001 - 45.0\\u00b5m\",\"Section0001 - 45.0\\u00b5m\",\"Section0001 - 45.0\\u00b5m\",\"Section0001 - 45.0\\u00b5m\",\"Section0001 - 45.0\\u00b5m\",\"Section0001 - 45.0\\u00b5m\",\"Section0001 - 45.0\\u00b5m\",\"Section0001 - 45.0\\u00b5m\",\"Section0001 - 45.0\\u00b5m\",\"Section0001 - 45.0\\u00b5m\",\"Section0001 - 45.0\\u00b5m\",\"Section0001 - 45.0\\u00b5m\",\"Section0001 - 45.0\\u00b5m\",\"Section0001 - 45.0\\u00b5m\",\"Section0001 - 45.0\\u00b5m\",\"Section0001 - 45.0\\u00b5m\",\"Section0001 - 45.0\\u00b5m\",\"Section0001 - 45.0\\u00b5m\",\"Section0001 - 45.0\\u00b5m\",\"Section0001 - 45.0\\u00b5m\",\"Section0001 - 45.0\\u00b5m\",\"Section0001 - 45.0\\u00b5m\",\"Section0001 - 45.0\\u00b5m\",\"Section0001 - 45.0\\u00b5m\",\"Section0001 - 45.0\\u00b5m\",\"Section0001 - 45.0\\u00b5m\",\"Section0001 - 45.0\\u00b5m\",\"Section0001 - 45.0\\u00b5m\",\"Section0001 - 45.0\\u00b5m\",\"Section0001 - 45.0\\u00b5m\",\"Section0001 - 45.0\\u00b5m\",\"Section0001 - 45.0\\u00b5m\",\"Section0001 - 45.0\\u00b5m\",\"Section0001 - 45.0\\u00b5m\",\"Section0001 - 45.0\\u00b5m\",\"Section0001 - 45.0\\u00b5m\",\"Section0001 - 45.0\\u00b5m\",\"Section0001 - 45.0\\u00b5m\",\"Section0001 - 45.0\\u00b5m\",\"Section0001 - 45.0\\u00b5m\",\"Section0001 - 45.0\\u00b5m\",\"Section0001 - 45.0\\u00b5m\",\"Section0001 - 45.0\\u00b5m\",\"Section0001 - 45.0\\u00b5m\",\"Section0001 - 45.0\\u00b5m\",\"Section0001 - 45.0\\u00b5m\",\"Section0001 - 45.0\\u00b5m\",\"Section0001 - 45.0\\u00b5m\",\"Section0001 - 45.0\\u00b5m\",\"Section0001 - 45.0\\u00b5m\",\"Section0001 - 45.0\\u00b5m\",\"Section0001 - 45.0\\u00b5m\",\"Section0001 - 45.0\\u00b5m\",\"Section0001 - 45.0\\u00b5m\",\"Section0001 - 45.0\\u00b5m\",\"Section0001 - 45.0\\u00b5m\",\"Section0001 - 45.0\\u00b5m\",\"Section0001 - 45.0\\u00b5m\",\"Section0001 - 45.0\\u00b5m\",\"Section0001 - 45.0\\u00b5m\"],\"value\":{\"__ndarray__\":\"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\",\"dtype\":\"float64\",\"shape\":[195]}},\"selected\":{\"id\":\"1800\",\"type\":\"Selection\"},\"selection_policy\":{\"id\":\"1844\",\"type\":\"UnionRenderers\"}},\"id\":\"1799\",\"type\":\"ColumnDataSource\"},{\"attributes\":{\"data_source\":{\"id\":\"1934\",\"type\":\"ColumnDataSource\"},\"glyph\":{\"id\":\"1937\",\"type\":\"Line\"},\"hover_glyph\":null,\"muted_glyph\":{\"id\":\"1939\",\"type\":\"Line\"},\"nonselection_glyph\":{\"id\":\"1938\",\"type\":\"Line\"},\"selection_glyph\":null,\"view\":{\"id\":\"1941\",\"type\":\"CDSView\"}},\"id\":\"1940\",\"type\":\"GlyphRenderer\"},{\"attributes\":{},\"id\":\"1696\",\"type\":\"LinearScale\"},{\"attributes\":{\"active_drag\":\"auto\",\"active_inspect\":\"auto\",\"active_multi\":null,\"active_scroll\":\"auto\",\"active_tap\":\"auto\",\"tools\":[{\"id\":\"1681\",\"type\":\"HoverTool\"},{\"id\":\"1710\",\"type\":\"SaveTool\"},{\"id\":\"1711\",\"type\":\"PanTool\"},{\"id\":\"1712\",\"type\":\"WheelZoomTool\"},{\"id\":\"1713\",\"type\":\"BoxZoomTool\"},{\"id\":\"1714\",\"type\":\"ResetTool\"}]},\"id\":\"1715\",\"type\":\"Toolbar\"},{\"attributes\":{\"line_alpha\":0.2,\"line_color\":\"#d62628\",\"line_width\":2,\"x\":{\"field\":\"Time\"},\"y\":{\"field\":\"value\"}},\"id\":\"1783\",\"type\":\"Line\"},{\"attributes\":{\"source\":{\"id\":\"1799\",\"type\":\"ColumnDataSource\"}},\"id\":\"1806\",\"type\":\"CDSView\"},{\"attributes\":{\"line_alpha\":0.1,\"line_color\":\"#2ba02b\",\"line_width\":2,\"x\":{\"field\":\"Time\"},\"y\":{\"field\":\"value\"}},\"id\":\"1763\",\"type\":\"Line\"},{\"attributes\":{\"line_alpha\":0.1,\"line_color\":\"#d62628\",\"line_width\":2,\"x\":{\"field\":\"Time\"},\"y\":{\"field\":\"value\"}},\"id\":\"1782\",\"type\":\"Line\"},{\"attributes\":{\"line_alpha\":0.1,\"line_color\":\"#8c564b\",\"line_width\":2,\"x\":{\"field\":\"Time\"},\"y\":{\"field\":\"value\"}},\"id\":\"1826\",\"type\":\"Line\"},{\"attributes\":{\"data_source\":{\"id\":\"1759\",\"type\":\"ColumnDataSource\"},\"glyph\":{\"id\":\"1762\",\"type\":\"Line\"},\"hover_glyph\":null,\"muted_glyph\":{\"id\":\"1764\",\"type\":\"Line\"},\"nonselection_glyph\":{\"id\":\"1763\",\"type\":\"Line\"},\"selection_glyph\":null,\"view\":{\"id\":\"1766\",\"type\":\"CDSView\"}},\"id\":\"1765\",\"type\":\"GlyphRenderer\"},{\"attributes\":{\"dimension\":1,\"grid_line_color\":null,\"ticker\":{\"id\":\"1706\",\"type\":\"BasicTicker\"}},\"id\":\"1709\",\"type\":\"Grid\"},{\"attributes\":{\"line_color\":\"#2ba02b\",\"line_width\":2,\"x\":{\"field\":\"Time\"},\"y\":{\"field\":\"value\"}},\"id\":\"1762\",\"type\":\"Line\"},{\"attributes\":{},\"id\":\"1710\",\"type\":\"SaveTool\"},{\"attributes\":{\"line_alpha\":0.2,\"line_color\":\"#2ba02b\",\"line_width\":2,\"x\":{\"field\":\"Time\"},\"y\":{\"field\":\"value\"}},\"id\":\"1764\",\"type\":\"Line\"},{\"attributes\":{\"source\":{\"id\":\"1847\",\"type\":\"ColumnDataSource\"}},\"id\":\"1854\",\"type\":\"CDSView\"},{\"attributes\":{},\"id\":\"1800\",\"type\":\"Selection\"}],\"root_ids\":[\"1691\"]},\"title\":\"Bokeh Application\",\"version\":\"1.3.4\"}};\n",
       "  var render_items = [{\"docid\":\"42a8fcde-8278-489f-9808-9be26f6862c5\",\"roots\":{\"1691\":\"d50b9713-1c08-4a54-b88a-4db196727b50\"}}];\n",
       "  root.Bokeh.embed.embed_items_notebook(docs_json, render_items);\n",
       "\n",
       "  }\n",
       "  if (root.Bokeh !== undefined) {\n",
       "    embed_document(root);\n",
       "  } else {\n",
       "    var attempts = 0;\n",
       "    var timer = setInterval(function(root) {\n",
       "      if (root.Bokeh !== undefined) {\n",
       "        embed_document(root);\n",
       "        clearInterval(timer);\n",
       "      }\n",
       "      attempts++;\n",
       "      if (attempts > 100) {\n",
       "        console.log(\"Bokeh: ERROR: Unable to run BokehJS code because BokehJS library is missing\");\n",
       "        clearInterval(timer);\n",
       "      }\n",
       "    }, 10, root)\n",
       "  }\n",
       "})(window);</script>"
      ],
      "text/plain": [
       ":NdOverlay   [Variable]\n",
       "   :Curve   [Time]   (value)"
      ]
     },
     "execution_count": 33,
     "metadata": {
      "application/vnd.holoviews_exec.v0+json": {
       "id": "1691"
      }
     },
     "output_type": "execute_result"
    }
   ],
   "source": [
    "sim.view.V()"
   ]
  },
  {
   "cell_type": "markdown",
   "metadata": {},
   "source": [
    "## Section\n",
    "\n",
    "The class `Section` represents a section of neuron with uniform physical values\n",
    "\n",
    "The characteristics of a section are :\n",
    "\n",
    "* The length `L` in **μm**\n",
    "* The radius `a` in **μm**\n",
    "* The menbrane capacitance `C_m` in **μF/cm²**\n",
    "* The longitunal resistance `R_l` in **Ohm.cm**\n",
    "* The initial potential `V0` in **mV**"
   ]
  },
  {
   "cell_type": "markdown",
   "metadata": {},
   "source": [
    "### Default parameters"
   ]
  },
  {
   "cell_type": "code",
   "execution_count": 34,
   "metadata": {},
   "outputs": [
    {
     "data": {
      "text/markdown": [
       "Section **Sample section 1**\n",
       "\n",
       "* L: 100 um\n",
       "* a: 1 um\n",
       "* C_m: 1 uF/cm² (c_m=62.832 fF)\n",
       "* R_l: 150 Ω.cm (r_l=477.46 aΩ)\n",
       "* channels: \n",
       "* point_channels: "
      ],
      "text/plain": [
       "Section(C0={}, C_m=1, D={}, L=100, R_l=150, V0=0, a=1, dx=None, name='Sample section 1')"
      ]
     },
     "execution_count": 34,
     "metadata": {},
     "output_type": "execute_result"
    }
   ],
   "source": [
    "sec0 = sn.Section(name=\"Sample section 1\")\n",
    "sec0"
   ]
  },
  {
   "cell_type": "markdown",
   "metadata": {},
   "source": [
    "### Customized values"
   ]
  },
  {
   "cell_type": "markdown",
   "metadata": {},
   "source": [
    "sinaps uses the [param](https://param.holoviz.org/) library. You can set custom parameter at the object creation :"
   ]
  },
  {
   "cell_type": "code",
   "execution_count": 35,
   "metadata": {},
   "outputs": [],
   "source": [
    "sec1 = sn.Section(L=50,a=2)"
   ]
  },
  {
   "cell_type": "code",
   "execution_count": 36,
   "metadata": {},
   "outputs": [
    {
     "data": {
      "text/markdown": [
       "Section **Section0003**\n",
       "\n",
       "* L: 50 um\n",
       "* a: 2 um\n",
       "* C_m: 1 uF/cm² (c_m=125.66 fF)\n",
       "* R_l: 150 Ω.cm (r_l=119.37 aΩ)\n",
       "* channels: \n",
       "* point_channels: "
      ],
      "text/plain": [
       "Section(C0={}, C_m=1, D={}, L=50, R_l=150, V0=0, a=2, dx=None, name='Section0003')"
      ]
     },
     "execution_count": 36,
     "metadata": {},
     "output_type": "execute_result"
    }
   ],
   "source": [
    "sec1"
   ]
  },
  {
   "cell_type": "markdown",
   "metadata": {},
   "source": [
    "You can also set the attribute value once the object created :"
   ]
  },
  {
   "cell_type": "code",
   "execution_count": 37,
   "metadata": {},
   "outputs": [],
   "source": [
    "sec1.R_l=100"
   ]
  },
  {
   "cell_type": "code",
   "execution_count": 38,
   "metadata": {},
   "outputs": [
    {
     "data": {
      "text/markdown": [
       "Section **Section0003**\n",
       "\n",
       "* L: 50 um\n",
       "* a: 2 um\n",
       "* C_m: 1 uF/cm² (c_m=125.66 fF)\n",
       "* R_l: 100 Ω.cm (r_l=79.577 aΩ)\n",
       "* channels: \n",
       "* point_channels: "
      ],
      "text/plain": [
       "Section(C0={}, C_m=1, D={}, L=50, R_l=100, V0=0, a=2, dx=None, name='Section0003')"
      ]
     },
     "execution_count": 38,
     "metadata": {},
     "output_type": "execute_result"
    }
   ],
   "source": [
    "sec1"
   ]
  },
  {
   "cell_type": "markdown",
   "metadata": {},
   "source": [
    "## Channels\n",
    "\n",
    "Ion channels can be added to a section.\n",
    "\n",
    "There are two types of channels\n",
    "+ Point channels\n",
    "+ Density channels\n",
    "\n",
    "\n"
   ]
  },
  {
   "cell_type": "markdown",
   "metadata": {},
   "source": [
    "### Density Channels\n",
    "Denisty channels are used to model channels that distributed on all the section. The current is given per unit of membrane surface"
   ]
  },
  {
   "cell_type": "markdown",
   "metadata": {},
   "source": [
    "#### Leak Channel\n"
   ]
  },
  {
   "cell_type": "code",
   "execution_count": 39,
   "metadata": {},
   "outputs": [
    {
     "data": {
      "text/plain": [
       "LeakChannel(Veq=0 V, G_m=300 uS/cm²)"
      ]
     },
     "execution_count": 39,
     "metadata": {},
     "output_type": "execute_result"
    }
   ],
   "source": [
    "lc1=sn.channels.LeakChannel()\n",
    "lc1"
   ]
  },
  {
   "cell_type": "code",
   "execution_count": 40,
   "metadata": {},
   "outputs": [
    {
     "data": {
      "text/plain": [
       "LeakChannel(Veq=10 mV, G_m=1 mS/cm²)"
      ]
     },
     "execution_count": 40,
     "metadata": {},
     "output_type": "execute_result"
    }
   ],
   "source": [
    "lc2=sn.channels.LeakChannel(\n",
    "            Veq=10, #mV\n",
    "            G_m= 1 #mS/cm²\n",
    "            )\n",
    "lc2"
   ]
  },
  {
   "cell_type": "code",
   "execution_count": 41,
   "metadata": {},
   "outputs": [
    {
     "data": {
      "text/markdown": [
       "Section **Sample section 1**\n",
       "\n",
       "* L: 100 um\n",
       "* a: 1 um\n",
       "* C_m: 1 uF/cm² (c_m=62.832 fF)\n",
       "* R_l: 150 Ω.cm (r_l=477.46 aΩ)\n",
       "* channels: LeakChannel(Veq=0 V, G_m=300 uS/cm²)\n",
       "* point_channels: "
      ],
      "text/plain": [
       "Section(C0={}, C_m=1, D={}, L=100, R_l=150, V0=0, a=1, dx=None, name='Sample section 1')"
      ]
     },
     "execution_count": 41,
     "metadata": {},
     "output_type": "execute_result"
    }
   ],
   "source": [
    "sec0.add_channel(lc1)\n",
    "sec0"
   ]
  },
  {
   "cell_type": "markdown",
   "metadata": {},
   "source": [
    "### Point Channels\n",
    "Point channels are used to model channel in specific location of the section, the current is given in absolute"
   ]
  },
  {
   "cell_type": "markdown",
   "metadata": {},
   "source": [
    "### Constant current"
   ]
  },
  {
   "cell_type": "code",
   "execution_count": 42,
   "metadata": {},
   "outputs": [],
   "source": [
    "pc=sn.channels.ConstantCurrent(1)"
   ]
  },
  {
   "cell_type": "code",
   "execution_count": 43,
   "metadata": {},
   "outputs": [
    {
     "data": {
      "text/markdown": [
       "Section **Sample section 1**\n",
       "\n",
       "* L: 100 um\n",
       "* a: 1 um\n",
       "* C_m: 1 uF/cm² (c_m=62.832 fF)\n",
       "* R_l: 150 Ω.cm (r_l=477.46 aΩ)\n",
       "* channels: LeakChannel(Veq=0 V, G_m=300 uS/cm²)\n",
       "* point_channels: 0:ConstantCurrent(I=1 pA)"
      ],
      "text/plain": [
       "Section(C0={}, C_m=1, D={}, L=100, R_l=150, V0=0, a=1, dx=None, name='Sample section 1')"
      ]
     },
     "execution_count": 43,
     "metadata": {},
     "output_type": "execute_result"
    }
   ],
   "source": [
    "sec0.add_channel(pc,0)\n",
    "sec0"
   ]
  },
  {
   "cell_type": "markdown",
   "metadata": {},
   "source": [
    "## Neuron\n",
    "\n",
    "The class `Neuron` represents a set of sections connected together"
   ]
  },
  {
   "cell_type": "code",
   "execution_count": 44,
   "metadata": {},
   "outputs": [],
   "source": [
    "N=sn.Neuron()"
   ]
  },
  {
   "cell_type": "code",
   "execution_count": 45,
   "metadata": {},
   "outputs": [],
   "source": [
    "N.add_section(sec0,0,1)\n",
    "N.add_section(sec1,1,2)"
   ]
  },
  {
   "cell_type": "markdown",
   "metadata": {},
   "source": [
    "The structure of the neuron is stored in the attribute `sections` wich is a Dict with the section as key and the nodes connected by the section as values (2-tuple) :"
   ]
  },
  {
   "cell_type": "code",
   "execution_count": 46,
   "metadata": {},
   "outputs": [
    {
     "data": {
      "text/plain": [
       "{Section(C0={}, C_m=1, D={}, L=100, R_l=150, V0=0, a=1, dx=None, name='Sample section 1'): (0,\n",
       "  1),\n",
       " Section(C0={}, C_m=1, D={}, L=50, R_l=100, V0=0, a=2, dx=None, name='Section0003'): (1,\n",
       "  2)}"
      ]
     },
     "execution_count": 46,
     "metadata": {},
     "output_type": "execute_result"
    }
   ],
   "source": [
    "N.sections"
   ]
  },
  {
   "cell_type": "markdown",
   "metadata": {},
   "source": [
    "### Acces the section :\n",
    "By index in the neuron structure"
   ]
  },
  {
   "cell_type": "code",
   "execution_count": 47,
   "metadata": {},
   "outputs": [
    {
     "data": {
      "text/markdown": [
       "Section **Sample section 1**\n",
       "\n",
       "* L: 100 um\n",
       "* a: 1 um\n",
       "* C_m: 1 uF/cm² (c_m=62.832 fF)\n",
       "* R_l: 150 Ω.cm (r_l=477.46 aΩ)\n",
       "* channels: LeakChannel(Veq=0 V, G_m=300 uS/cm²)\n",
       "* point_channels: 0:ConstantCurrent(I=1 pA)"
      ],
      "text/plain": [
       "Section(C0={}, C_m=1, D={}, L=100, R_l=150, V0=0, a=1, dx=None, name='Sample section 1')"
      ]
     },
     "execution_count": 47,
     "metadata": {},
     "output_type": "execute_result"
    }
   ],
   "source": [
    "N[0]"
   ]
  },
  {
   "cell_type": "markdown",
   "metadata": {},
   "source": [
    "By name"
   ]
  },
  {
   "cell_type": "code",
   "execution_count": 48,
   "metadata": {},
   "outputs": [
    {
     "data": {
      "text/plain": [
       "[]"
      ]
     },
     "execution_count": 48,
     "metadata": {},
     "output_type": "execute_result"
    }
   ],
   "source": [
    "N['Sample section 2']"
   ]
  },
  {
   "cell_type": "markdown",
   "metadata": {},
   "source": [
    "Not that if sections have same names or same part of the name a list of section will be returned"
   ]
  },
  {
   "cell_type": "code",
   "execution_count": 49,
   "metadata": {},
   "outputs": [
    {
     "data": {
      "text/markdown": [
       "Section **Sample section 1**\n",
       "\n",
       "* L: 100 um\n",
       "* a: 1 um\n",
       "* C_m: 1 uF/cm² (c_m=62.832 fF)\n",
       "* R_l: 150 Ω.cm (r_l=477.46 aΩ)\n",
       "* channels: LeakChannel(Veq=0 V, G_m=300 uS/cm²)\n",
       "* point_channels: 0:ConstantCurrent(I=1 pA)"
      ],
      "text/plain": [
       "Section(C0={}, C_m=1, D={}, L=100, R_l=150, V0=0, a=1, dx=None, name='Sample section 1')"
      ]
     },
     "execution_count": 49,
     "metadata": {},
     "output_type": "execute_result"
    }
   ],
   "source": [
    "N['Sample section']"
   ]
  },
  {
   "cell_type": "markdown",
   "metadata": {},
   "source": [
    "You can change the parameters of multiples section at once :"
   ]
  },
  {
   "cell_type": "code",
   "execution_count": 50,
   "metadata": {},
   "outputs": [],
   "source": [
    "N['Sample section'].a=1"
   ]
  },
  {
   "cell_type": "markdown",
   "metadata": {},
   "source": [
    "Access all the sections :"
   ]
  },
  {
   "cell_type": "code",
   "execution_count": 51,
   "metadata": {},
   "outputs": [
    {
     "data": {
      "text/plain": [
       "[Section(C0={}, C_m=1, D={}, L=100, R_l=150, V0=0, a=1, dx=None, name='Sample section 1'),\n",
       " Section(C0={}, C_m=1, D={}, L=50, R_l=100, V0=0, a=2, dx=None, name='Section0003')]"
      ]
     },
     "execution_count": 51,
     "metadata": {},
     "output_type": "execute_result"
    }
   ],
   "source": [
    "N[:]"
   ]
  },
  {
   "cell_type": "code",
   "execution_count": 52,
   "metadata": {},
   "outputs": [
    {
     "data": {
      "image/png": "[encoded data removed]",
      "text/plain": [
       "<matplotlib.figure.Figure at 0x7f09e80ad390>"
      ]
     },
     "metadata": {
      "needs_background": "light"
     },
     "output_type": "display_data"
    }
   ],
   "source": [
    "N.view.graph()"
   ]
  },
  {
   "cell_type": "markdown",
   "metadata": {},
   "source": [
    "## Simulation\n",
    "\n",
    "The class simulation is linked to a specific neuron and is used to run voltage propagation simulation and electrodiffusion simulations with some custom spatial and time resolution.\n",
    "The object stores also results of the simulation"
   ]
  },
  {
   "cell_type": "markdown",
   "metadata": {},
   "source": [
    "Create the simulation with neuron `N` and spatial resolution of `20 um` :"
   ]
  },
  {
   "cell_type": "code",
   "execution_count": 53,
   "metadata": {},
   "outputs": [],
   "source": [
    "sim=sn.Simulation(N,dx=20)"
   ]
  },
  {
   "cell_type": "markdown",
   "metadata": {},
   "source": [
    "Run the simulation for timespan `0 - 300 ms` : "
   ]
  },
  {
   "cell_type": "code",
   "execution_count": 54,
   "metadata": {},
   "outputs": [
    {
     "name": "stderr",
     "output_type": "stream",
     "text": [
      "100%|██████████| 300.0/300 [00:00<00:00, 899.87ms/s]   \n"
     ]
    }
   ],
   "source": [
    "sim.run((0,300))"
   ]
  },
  {
   "cell_type": "markdown",
   "metadata": {},
   "source": [
    "Acces the results of the simulation, potential for each time and position :"
   ]
  },
  {
   "cell_type": "code",
   "execution_count": 55,
   "metadata": {},
   "outputs": [
    {
     "data": {
      "text/html": [
       "<div>\n",
       "<style scoped>\n",
       "    .dataframe tbody tr th:only-of-type {\n",
       "        vertical-align: middle;\n",
       "    }\n",
       "\n",
       "    .dataframe tbody tr th {\n",
       "        vertical-align: top;\n",
       "    }\n",
       "\n",
       "    .dataframe thead tr th {\n",
       "        text-align: left;\n",
       "    }\n",
       "\n",
       "    .dataframe thead tr:last-of-type th {\n",
       "        text-align: right;\n",
       "    }\n",
       "</style>\n",
       "<table border=\"1\" class=\"dataframe\">\n",
       "  <thead>\n",
       "    <tr>\n",
       "      <th>Section</th>\n",
       "      <th colspan=\"5\" halign=\"left\">Sample section 1</th>\n",
       "      <th colspan=\"3\" halign=\"left\">Section0003</th>\n",
       "    </tr>\n",
       "    <tr>\n",
       "      <th>Position (μm)</th>\n",
       "      <th>10.000000</th>\n",
       "      <th>30.000000</th>\n",
       "      <th>50.000000</th>\n",
       "      <th>70.000000</th>\n",
       "      <th>90.000000</th>\n",
       "      <th>8.333333</th>\n",
       "      <th>25.000000</th>\n",
       "      <th>41.666667</th>\n",
       "    </tr>\n",
       "    <tr>\n",
       "      <th>Time</th>\n",
       "      <th></th>\n",
       "      <th></th>\n",
       "      <th></th>\n",
       "      <th></th>\n",
       "      <th></th>\n",
       "      <th></th>\n",
       "      <th></th>\n",
       "      <th></th>\n",
       "    </tr>\n",
       "  </thead>\n",
       "  <tbody>\n",
       "    <tr>\n",
       "      <td>0.000000</td>\n",
       "      <td>0.000000</td>\n",
       "      <td>0.000000e+00</td>\n",
       "      <td>0.000000e+00</td>\n",
       "      <td>0.000000e+00</td>\n",
       "      <td>0.000000e+00</td>\n",
       "      <td>0.000000e+00</td>\n",
       "      <td>0.000000e+00</td>\n",
       "      <td>0.000000e+00</td>\n",
       "    </tr>\n",
       "    <tr>\n",
       "      <td>0.000002</td>\n",
       "      <td>0.000002</td>\n",
       "      <td>2.509324e-10</td>\n",
       "      <td>3.736438e-14</td>\n",
       "      <td>5.563639e-18</td>\n",
       "      <td>8.283449e-22</td>\n",
       "      <td>1.298956e-25</td>\n",
       "      <td>8.347389e-29</td>\n",
       "      <td>5.367669e-32</td>\n",
       "    </tr>\n",
       "    <tr>\n",
       "      <td>0.000004</td>\n",
       "      <td>0.000003</td>\n",
       "      <td>7.918423e-10</td>\n",
       "      <td>1.610918e-13</td>\n",
       "      <td>3.041723e-17</td>\n",
       "      <td>5.485955e-21</td>\n",
       "      <td>1.010326e-24</td>\n",
       "      <td>7.456403e-28</td>\n",
       "      <td>5.414901e-31</td>\n",
       "    </tr>\n",
       "    <tr>\n",
       "      <td>0.000025</td>\n",
       "      <td>0.000020</td>\n",
       "      <td>3.162004e-08</td>\n",
       "      <td>4.731016e-11</td>\n",
       "      <td>7.032639e-14</td>\n",
       "      <td>1.043331e-16</td>\n",
       "      <td>1.624481e-19</td>\n",
       "      <td>1.032034e-21</td>\n",
       "      <td>6.598164e-24</td>\n",
       "    </tr>\n",
       "    <tr>\n",
       "      <td>0.000047</td>\n",
       "      <td>0.000037</td>\n",
       "      <td>9.125399e-08</td>\n",
       "      <td>1.900242e-10</td>\n",
       "      <td>3.632524e-13</td>\n",
       "      <td>6.589674e-16</td>\n",
       "      <td>1.212339e-18</td>\n",
       "      <td>8.880078e-21</td>\n",
       "      <td>6.435300e-23</td>\n",
       "    </tr>\n",
       "    <tr>\n",
       "      <td>...</td>\n",
       "      <td>...</td>\n",
       "      <td>...</td>\n",
       "      <td>...</td>\n",
       "      <td>...</td>\n",
       "      <td>...</td>\n",
       "      <td>...</td>\n",
       "      <td>...</td>\n",
       "      <td>...</td>\n",
       "    </tr>\n",
       "    <tr>\n",
       "      <td>85.245147</td>\n",
       "      <td>0.541920</td>\n",
       "      <td>5.343220e-01</td>\n",
       "      <td>5.286473e-01</td>\n",
       "      <td>5.248756e-01</td>\n",
       "      <td>5.229934e-01</td>\n",
       "      <td>5.229937e-01</td>\n",
       "      <td>5.229937e-01</td>\n",
       "      <td>5.229938e-01</td>\n",
       "    </tr>\n",
       "    <tr>\n",
       "      <td>105.858383</td>\n",
       "      <td>0.541873</td>\n",
       "      <td>5.342749e-01</td>\n",
       "      <td>5.286001e-01</td>\n",
       "      <td>5.248282e-01</td>\n",
       "      <td>5.229456e-01</td>\n",
       "      <td>5.229457e-01</td>\n",
       "      <td>5.229457e-01</td>\n",
       "      <td>5.229457e-01</td>\n",
       "    </tr>\n",
       "    <tr>\n",
       "      <td>126.471619</td>\n",
       "      <td>0.541868</td>\n",
       "      <td>5.342694e-01</td>\n",
       "      <td>5.285944e-01</td>\n",
       "      <td>5.248222e-01</td>\n",
       "      <td>5.229395e-01</td>\n",
       "      <td>5.229395e-01</td>\n",
       "      <td>5.229395e-01</td>\n",
       "      <td>5.229395e-01</td>\n",
       "    </tr>\n",
       "    <tr>\n",
       "      <td>232.286054</td>\n",
       "      <td>0.541882</td>\n",
       "      <td>5.342832e-01</td>\n",
       "      <td>5.286082e-01</td>\n",
       "      <td>5.248361e-01</td>\n",
       "      <td>5.229535e-01</td>\n",
       "      <td>5.229535e-01</td>\n",
       "      <td>5.229535e-01</td>\n",
       "      <td>5.229535e-01</td>\n",
       "    </tr>\n",
       "    <tr>\n",
       "      <td>300.000000</td>\n",
       "      <td>0.541886</td>\n",
       "      <td>5.342872e-01</td>\n",
       "      <td>5.286121e-01</td>\n",
       "      <td>5.248400e-01</td>\n",
       "      <td>5.229574e-01</td>\n",
       "      <td>5.229574e-01</td>\n",
       "      <td>5.229574e-01</td>\n",
       "      <td>5.229574e-01</td>\n",
       "    </tr>\n",
       "  </tbody>\n",
       "</table>\n",
       "<p>82 rows × 8 columns</p>\n",
       "</div>"
      ],
      "text/plain": [
       "Section       Sample section 1                                            \\\n",
       "Position (μm)        10.000000     30.000000     50.000000     70.000000   \n",
       "Time                                                                       \n",
       "0.000000              0.000000  0.000000e+00  0.000000e+00  0.000000e+00   \n",
       "0.000002              0.000002  2.509324e-10  3.736438e-14  5.563639e-18   \n",
       "0.000004              0.000003  7.918423e-10  1.610918e-13  3.041723e-17   \n",
       "0.000025              0.000020  3.162004e-08  4.731016e-11  7.032639e-14   \n",
       "0.000047              0.000037  9.125399e-08  1.900242e-10  3.632524e-13   \n",
       "...                        ...           ...           ...           ...   \n",
       "85.245147             0.541920  5.343220e-01  5.286473e-01  5.248756e-01   \n",
       "105.858383            0.541873  5.342749e-01  5.286001e-01  5.248282e-01   \n",
       "126.471619            0.541868  5.342694e-01  5.285944e-01  5.248222e-01   \n",
       "232.286054            0.541882  5.342832e-01  5.286082e-01  5.248361e-01   \n",
       "300.000000            0.541886  5.342872e-01  5.286121e-01  5.248400e-01   \n",
       "\n",
       "Section                       Section0003                              \n",
       "Position (μm)     90.000000     8.333333      25.000000     41.666667  \n",
       "Time                                                                   \n",
       "0.000000       0.000000e+00  0.000000e+00  0.000000e+00  0.000000e+00  \n",
       "0.000002       8.283449e-22  1.298956e-25  8.347389e-29  5.367669e-32  \n",
       "0.000004       5.485955e-21  1.010326e-24  7.456403e-28  5.414901e-31  \n",
       "0.000025       1.043331e-16  1.624481e-19  1.032034e-21  6.598164e-24  \n",
       "0.000047       6.589674e-16  1.212339e-18  8.880078e-21  6.435300e-23  \n",
       "...                     ...           ...           ...           ...  \n",
       "85.245147      5.229934e-01  5.229937e-01  5.229937e-01  5.229938e-01  \n",
       "105.858383     5.229456e-01  5.229457e-01  5.229457e-01  5.229457e-01  \n",
       "126.471619     5.229395e-01  5.229395e-01  5.229395e-01  5.229395e-01  \n",
       "232.286054     5.229535e-01  5.229535e-01  5.229535e-01  5.229535e-01  \n",
       "300.000000     5.229574e-01  5.229574e-01  5.229574e-01  5.229574e-01  \n",
       "\n",
       "[82 rows x 8 columns]"
      ]
     },
     "execution_count": 55,
     "metadata": {},
     "output_type": "execute_result"
    }
   ],
   "source": [
    "sim.V"
   ]
  },
  {
   "cell_type": "code",
   "execution_count": 60,
   "metadata": {},
   "outputs": [
    {
     "data": {
      "application/vnd.holoviews_exec.v0+json": "",
      "text/html": [
       "<div id='2914' style='display: table; margin: 0 auto;'>\n",
       "\n",
       "\n",
       "\n",
       "\n",
       "\n",
       "  <div class=\"bk-root\" id=\"6841a102-50e2-4832-ad3e-cd040db80944\" data-root-id=\"2914\"></div>\n",
       "</div>\n",
       "<script type=\"application/javascript\">(function(root) {\n",
       "  function embed_document(root) {\n",
       "    \n",
       "  var docs_json = {\"278fe341-1f95-46f1-9b71-d89a856f2f9c\":{\"roots\":{\"references\":[{\"attributes\":{\"align\":null,\"below\":[{\"id\":\"2923\",\"type\":\"LinearAxis\"}],\"center\":[{\"id\":\"2927\",\"type\":\"Grid\"},{\"id\":\"2932\",\"type\":\"Grid\"},{\"id\":\"2963\",\"type\":\"Legend\"}],\"left\":[{\"id\":\"2928\",\"type\":\"LinearAxis\"}],\"margin\":null,\"min_border_bottom\":10,\"min_border_left\":10,\"min_border_right\":10,\"min_border_top\":10,\"plot_height\":400,\"plot_width\":null,\"renderers\":[{\"id\":\"2955\",\"type\":\"GlyphRenderer\"},{\"id\":\"2971\",\"type\":\"GlyphRenderer\"},{\"id\":\"2988\",\"type\":\"GlyphRenderer\"}],\"right\":[{\"id\":\"2963\",\"type\":\"Legend\"}],\"sizing_mode\":\"stretch_width\",\"title\":{\"id\":\"2915\",\"type\":\"Title\"},\"toolbar\":{\"id\":\"2938\",\"type\":\"Toolbar\"},\"x_range\":{\"id\":\"2909\",\"type\":\"Range1d\"},\"x_scale\":{\"id\":\"2919\",\"type\":\"LinearScale\"},\"y_range\":{\"id\":\"2910\",\"type\":\"Range1d\"},\"y_scale\":{\"id\":\"2921\",\"type\":\"LinearScale\"}},\"id\":\"2914\",\"subtype\":\"Figure\",\"type\":\"Plot\"},{\"attributes\":{\"line_color\":\"#ff7e0e\",\"line_width\":2,\"x\":{\"field\":\"Time\"},\"y\":{\"field\":\"value\"}},\"id\":\"2968\",\"type\":\"Line\"},{\"attributes\":{\"line_alpha\":0.2,\"line_color\":\"#2ba02b\",\"line_width\":2,\"x\":{\"field\":\"Time\"},\"y\":{\"field\":\"value\"}},\"id\":\"2987\",\"type\":\"Line\"},{\"attributes\":{\"data_source\":{\"id\":\"2965\",\"type\":\"ColumnDataSource\"},\"glyph\":{\"id\":\"2968\",\"type\":\"Line\"},\"hover_glyph\":null,\"muted_glyph\":{\"id\":\"2970\",\"type\":\"Line\"},\"nonselection_glyph\":{\"id\":\"2969\",\"type\":\"Line\"},\"selection_glyph\":null,\"view\":{\"id\":\"2972\",\"type\":\"CDSView\"}},\"id\":\"2971\",\"type\":\"GlyphRenderer\"},{\"attributes\":{\"bottom_units\":\"screen\",\"fill_alpha\":{\"value\":0.5},\"fill_color\":{\"value\":\"lightgrey\"},\"left_units\":\"screen\",\"level\":\"overlay\",\"line_alpha\":{\"value\":1.0},\"line_color\":{\"value\":\"black\"},\"line_dash\":[4,4],\"line_width\":{\"value\":2},\"render_mode\":\"css\",\"right_units\":\"screen\",\"top_units\":\"screen\"},\"id\":\"2962\",\"type\":\"BoxAnnotation\"},{\"attributes\":{\"callback\":null,\"end\":0.5229937583352791,\"reset_end\":0.5229937583352791,\"reset_start\":0.0,\"tags\":[[[\"value\",\"value\",null]]]},\"id\":\"2910\",\"type\":\"Range1d\"},{\"attributes\":{\"callback\":null,\"data\":{\"Time\":{\"__ndarray__\":\"AAAAAAAAAABubEp9asTBPm5sSn1qxNE+pqLvu5+m+j4YVUZsEm4IPy3TAcwk7h4/5z3wMKDSKD8cye/9FhcxP0ascBQJpEE//nPpqYa8Sj/bHbEfgupRP7sZkT0rzFo/zoq4LerWYT++iKi8vkdmP66GmEuTuGo/nyADBZtucT/n/Tlk7IB1Py/bcMM9k3k/d7inIo+lfT/gSu9A8NuAP7ZUuRuTV4Q/jF6D9jXThz9iaE3R2E6LPzhyF6x7yo4/B75wQw8jkT/N0aiBvQOUP5Pl4L9r5JY/WfkY/hnFmT8fDVE8yKWcP+UgiXp2hp8/ZGDToHIgoj9WMGIEqn2kP0gA8Wfh2qY/OtB/yxg4qT8soA4vUJWrP+hhj3g3v68/0hEIYY/0sT+wcsgFgwm0P47TiKp2HrY/bDRJT2ozuD+SH5Munl29P1yF7gbpQ8E/73qT9gLZwz+CcDjmHG7GP5YfS2VZm8o/qs5d5JXIzj/fPrgx6XrRP2mWQXGHkdM/8+3KsCWo1T+Hge2Mb5PZPxsVEGm5ft0/WFSZogG14D8inqqQpqriP/Tx8HIXlug/xkU3VYiB7j/MzL6bfDbyP+T6bpCtL/o/fpSPQm8UAUCKq+e8BxEFQJ6CKBUIHBBAdy/dS4yvFUBQ3JGCEEMbQJREo1xKayBA133UnU1QJkAatwXfUDUsQC54GxAqDTFAzxS0sKv/M0BwsUxRLfI2QG82HuYZbjpAbrvvegbqPUA2oOCH+bJAQLViSdLvcEJANCWyHOYuREA/iQMyZTdHQErtVEfkP0pAVVGmXGNITUCw2vs4cShQQGWtzHuwT1VAGoCdvu92WkDPUm4BL55fQJhLe1snCW1AAAAAAADAckA=\",\"dtype\":\"float64\",\"shape\":[82]},\"Variable\":[\"Section0003 - 8.333333333333334\\u00b5m\",\"Section0003 - 8.333333333333334\\u00b5m\",\"Section0003 - 8.333333333333334\\u00b5m\",\"Section0003 - 8.333333333333334\\u00b5m\",\"Section0003 - 8.333333333333334\\u00b5m\",\"Section0003 - 8.333333333333334\\u00b5m\",\"Section0003 - 8.333333333333334\\u00b5m\",\"Section0003 - 8.333333333333334\\u00b5m\",\"Section0003 - 8.333333333333334\\u00b5m\",\"Section0003 - 8.333333333333334\\u00b5m\",\"Section0003 - 8.333333333333334\\u00b5m\",\"Section0003 - 8.333333333333334\\u00b5m\",\"Section0003 - 8.333333333333334\\u00b5m\",\"Section0003 - 8.333333333333334\\u00b5m\",\"Section0003 - 8.333333333333334\\u00b5m\",\"Section0003 - 8.333333333333334\\u00b5m\",\"Section0003 - 8.333333333333334\\u00b5m\",\"Section0003 - 8.333333333333334\\u00b5m\",\"Section0003 - 8.333333333333334\\u00b5m\",\"Section0003 - 8.333333333333334\\u00b5m\",\"Section0003 - 8.333333333333334\\u00b5m\",\"Section0003 - 8.333333333333334\\u00b5m\",\"Section0003 - 8.333333333333334\\u00b5m\",\"Section0003 - 8.333333333333334\\u00b5m\",\"Section0003 - 8.333333333333334\\u00b5m\",\"Section0003 - 8.333333333333334\\u00b5m\",\"Section0003 - 8.333333333333334\\u00b5m\",\"Section0003 - 8.333333333333334\\u00b5m\",\"Section0003 - 8.333333333333334\\u00b5m\",\"Section0003 - 8.333333333333334\\u00b5m\",\"Section0003 - 8.333333333333334\\u00b5m\",\"Section0003 - 8.333333333333334\\u00b5m\",\"Section0003 - 8.333333333333334\\u00b5m\",\"Section0003 - 8.333333333333334\\u00b5m\",\"Section0003 - 8.333333333333334\\u00b5m\",\"Section0003 - 8.333333333333334\\u00b5m\",\"Section0003 - 8.333333333333334\\u00b5m\",\"Section0003 - 8.333333333333334\\u00b5m\",\"Section0003 - 8.333333333333334\\u00b5m\",\"Section0003 - 8.333333333333334\\u00b5m\",\"Section0003 - 8.333333333333334\\u00b5m\",\"Section0003 - 8.333333333333334\\u00b5m\",\"Section0003 - 8.333333333333334\\u00b5m\",\"Section0003 - 8.333333333333334\\u00b5m\",\"Section0003 - 8.333333333333334\\u00b5m\",\"Section0003 - 8.333333333333334\\u00b5m\",\"Section0003 - 8.333333333333334\\u00b5m\",\"Section0003 - 8.333333333333334\\u00b5m\",\"Section0003 - 8.333333333333334\\u00b5m\",\"Section0003 - 8.333333333333334\\u00b5m\",\"Section0003 - 8.333333333333334\\u00b5m\",\"Section0003 - 8.333333333333334\\u00b5m\",\"Section0003 - 8.333333333333334\\u00b5m\",\"Section0003 - 8.333333333333334\\u00b5m\",\"Section0003 - 8.333333333333334\\u00b5m\",\"Section0003 - 8.333333333333334\\u00b5m\",\"Section0003 - 8.333333333333334\\u00b5m\",\"Section0003 - 8.333333333333334\\u00b5m\",\"Section0003 - 8.333333333333334\\u00b5m\",\"Section0003 - 8.333333333333334\\u00b5m\",\"Section0003 - 8.333333333333334\\u00b5m\",\"Section0003 - 8.333333333333334\\u00b5m\",\"Section0003 - 8.333333333333334\\u00b5m\",\"Section0003 - 8.333333333333334\\u00b5m\",\"Section0003 - 8.333333333333334\\u00b5m\",\"Section0003 - 8.333333333333334\\u00b5m\",\"Section0003 - 8.333333333333334\\u00b5m\",\"Section0003 - 8.333333333333334\\u00b5m\",\"Section0003 - 8.333333333333334\\u00b5m\",\"Section0003 - 8.333333333333334\\u00b5m\",\"Section0003 - 8.333333333333334\\u00b5m\",\"Section0003 - 8.333333333333334\\u00b5m\",\"Section0003 - 8.333333333333334\\u00b5m\",\"Section0003 - 8.333333333333334\\u00b5m\",\"Section0003 - 8.333333333333334\\u00b5m\",\"Section0003 - 8.333333333333334\\u00b5m\",\"Section0003 - 8.333333333333334\\u00b5m\",\"Section0003 - 8.333333333333334\\u00b5m\",\"Section0003 - 8.333333333333334\\u00b5m\",\"Section0003 - 8.333333333333334\\u00b5m\",\"Section0003 - 8.333333333333334\\u00b5m\",\"Section0003 - 8.333333333333334\\u00b5m\"],\"value\":{\"__ndarray__\":\"AAAAAAAAAAAXEFcishnEOpO2npvkivM6GolRRh35BzzYtz3AG102PDm77ApI4p88DYnGoWopzTw+ncTYcoDvPJr5r9vabF49djIld2yPij1f+DsyCkCrPaFTZvwmfNs9i/uD8Iiz/T2C72fbz3EXPqxIoG8BSC4+x9xobReLTj4E9866AqlmPoqM/Z2Bb3s+VKS5aH3AjD4K2Y9xKwybPv6Qq/ykkbA+AHQ+ks0owT5ev7YAa4LPPjgnRE4Yb9o+5Kt13R+u5D52S4ZRkUnzPmVemm5pJQA/3t5HDwj1CD8wD5rw8SQSP4wXHbmNJRk/260TafjXIz+01WIctQstP8ldOxOyFzQ/yxmKj8KdOj/R/OKgtghBPzEy7396rEg/sfZrxhrMUD94W2REZtdVP6jT4dITals/AEKruHm7YD9PZLoSmh9pPzCoMDhwQ3E/joUlEmtYdj/ozHa8iLZ7P1CUwZbhaII/SW7pdJkjhz/0MyxIBPqLP5zdoxIUcJA/5L8vx/vmkj9yOL5vO4qXP8s8RfovKZw/rwLwq/pfoD8LHYhswaaiPxtkh4cmaak/POSAIov9rz+YA0psEDKzP781lz+KZbs/WgBrkoqBwT8ECd5ukQrFP0GgcGe4os0/d52WL41O0j/luYmblCTVP24BabcGc9c/LHWIM6oE2z/MTmy+AFTdPxAEcVlpz94/YFcCk7DB3z/CLdpBpS7gP+0OT8tUaOA/ZdN6QeGK4D+4H2QFH5/gP8jWXbHWquA/STA3gsKx4D+X0nzBSbfgPxlk3SDUueA/yNyfNEC74D/Izq+F6LvgP81YnERdvOA/u1UdhPi74D//0DqM67vgP9nZ/+gIvOA/nFosFRG84D8=\",\"dtype\":\"float64\",\"shape\":[82]}},\"selected\":{\"id\":\"2950\",\"type\":\"Selection\"},\"selection_policy\":{\"id\":\"2979\",\"type\":\"UnionRenderers\"}},\"id\":\"2949\",\"type\":\"ColumnDataSource\"},{\"attributes\":{\"line_color\":\"#2ba02b\",\"line_width\":2,\"x\":{\"field\":\"Time\"},\"y\":{\"field\":\"value\"}},\"id\":\"2985\",\"type\":\"Line\"},{\"attributes\":{\"label\":{\"value\":\"Section0003 - 8.333333333333334\\u00b5m\"},\"renderers\":[{\"id\":\"2955\",\"type\":\"GlyphRenderer\"}]},\"id\":\"2964\",\"type\":\"LegendItem\"},{\"attributes\":{},\"id\":\"2947\",\"type\":\"BasicTickFormatter\"},{\"attributes\":{},\"id\":\"2921\",\"type\":\"LinearScale\"},{\"attributes\":{\"callback\":null,\"data\":{\"Time\":{\"__ndarray__\":\"AAAAAAAAAABubEp9asTBPm5sSn1qxNE+pqLvu5+m+j4YVUZsEm4IPy3TAcwk7h4/5z3wMKDSKD8cye/9FhcxP0ascBQJpEE//nPpqYa8Sj/bHbEfgupRP7sZkT0rzFo/zoq4LerWYT++iKi8vkdmP66GmEuTuGo/nyADBZtucT/n/Tlk7IB1Py/bcMM9k3k/d7inIo+lfT/gSu9A8NuAP7ZUuRuTV4Q/jF6D9jXThz9iaE3R2E6LPzhyF6x7yo4/B75wQw8jkT/N0aiBvQOUP5Pl4L9r5JY/WfkY/hnFmT8fDVE8yKWcP+UgiXp2hp8/ZGDToHIgoj9WMGIEqn2kP0gA8Wfh2qY/OtB/yxg4qT8soA4vUJWrP+hhj3g3v68/0hEIYY/0sT+wcsgFgwm0P47TiKp2HrY/bDRJT2ozuD+SH5Munl29P1yF7gbpQ8E/73qT9gLZwz+CcDjmHG7GP5YfS2VZm8o/qs5d5JXIzj/fPrgx6XrRP2mWQXGHkdM/8+3KsCWo1T+Hge2Mb5PZPxsVEGm5ft0/WFSZogG14D8inqqQpqriP/Tx8HIXlug/xkU3VYiB7j/MzL6bfDbyP+T6bpCtL/o/fpSPQm8UAUCKq+e8BxEFQJ6CKBUIHBBAdy/dS4yvFUBQ3JGCEEMbQJREo1xKayBA133UnU1QJkAatwXfUDUsQC54GxAqDTFAzxS0sKv/M0BwsUxRLfI2QG82HuYZbjpAbrvvegbqPUA2oOCH+bJAQLViSdLvcEJANCWyHOYuREA/iQMyZTdHQErtVEfkP0pAVVGmXGNITUCw2vs4cShQQGWtzHuwT1VAGoCdvu92WkDPUm4BL55fQJhLe1snCW1AAAAAAADAckA=\",\"dtype\":\"float64\",\"shape\":[82]},\"Variable\":[\"Section0003 - 41.666666666666664\\u00b5m\",\"Section0003 - 41.666666666666664\\u00b5m\",\"Section0003 - 41.666666666666664\\u00b5m\",\"Section0003 - 41.666666666666664\\u00b5m\",\"Section0003 - 41.666666666666664\\u00b5m\",\"Section0003 - 41.666666666666664\\u00b5m\",\"Section0003 - 41.666666666666664\\u00b5m\",\"Section0003 - 41.666666666666664\\u00b5m\",\"Section0003 - 41.666666666666664\\u00b5m\",\"Section0003 - 41.666666666666664\\u00b5m\",\"Section0003 - 41.666666666666664\\u00b5m\",\"Section0003 - 41.666666666666664\\u00b5m\",\"Section0003 - 41.666666666666664\\u00b5m\",\"Section0003 - 41.666666666666664\\u00b5m\",\"Section0003 - 41.666666666666664\\u00b5m\",\"Section0003 - 41.666666666666664\\u00b5m\",\"Section0003 - 41.666666666666664\\u00b5m\",\"Section0003 - 41.666666666666664\\u00b5m\",\"Section0003 - 41.666666666666664\\u00b5m\",\"Section0003 - 41.666666666666664\\u00b5m\",\"Section0003 - 41.666666666666664\\u00b5m\",\"Section0003 - 41.666666666666664\\u00b5m\",\"Section0003 - 41.666666666666664\\u00b5m\",\"Section0003 - 41.666666666666664\\u00b5m\",\"Section0003 - 41.666666666666664\\u00b5m\",\"Section0003 - 41.666666666666664\\u00b5m\",\"Section0003 - 41.666666666666664\\u00b5m\",\"Section0003 - 41.666666666666664\\u00b5m\",\"Section0003 - 41.666666666666664\\u00b5m\",\"Section0003 - 41.666666666666664\\u00b5m\",\"Section0003 - 41.666666666666664\\u00b5m\",\"Section0003 - 41.666666666666664\\u00b5m\",\"Section0003 - 41.666666666666664\\u00b5m\",\"Section0003 - 41.666666666666664\\u00b5m\",\"Section0003 - 41.666666666666664\\u00b5m\",\"Section0003 - 41.666666666666664\\u00b5m\",\"Section0003 - 41.666666666666664\\u00b5m\",\"Section0003 - 41.666666666666664\\u00b5m\",\"Section0003 - 41.666666666666664\\u00b5m\",\"Section0003 - 41.666666666666664\\u00b5m\",\"Section0003 - 41.666666666666664\\u00b5m\",\"Section0003 - 41.666666666666664\\u00b5m\",\"Section0003 - 41.666666666666664\\u00b5m\",\"Section0003 - 41.666666666666664\\u00b5m\",\"Section0003 - 41.666666666666664\\u00b5m\",\"Section0003 - 41.666666666666664\\u00b5m\",\"Section0003 - 41.666666666666664\\u00b5m\",\"Section0003 - 41.666666666666664\\u00b5m\",\"Section0003 - 41.666666666666664\\u00b5m\",\"Section0003 - 41.666666666666664\\u00b5m\",\"Section0003 - 41.666666666666664\\u00b5m\",\"Section0003 - 41.666666666666664\\u00b5m\",\"Section0003 - 41.666666666666664\\u00b5m\",\"Section0003 - 41.666666666666664\\u00b5m\",\"Section0003 - 41.666666666666664\\u00b5m\",\"Section0003 - 41.666666666666664\\u00b5m\",\"Section0003 - 41.666666666666664\\u00b5m\",\"Section0003 - 41.666666666666664\\u00b5m\",\"Section0003 - 41.666666666666664\\u00b5m\",\"Section0003 - 41.666666666666664\\u00b5m\",\"Section0003 - 41.666666666666664\\u00b5m\",\"Section0003 - 41.666666666666664\\u00b5m\",\"Section0003 - 41.666666666666664\\u00b5m\",\"Section0003 - 41.666666666666664\\u00b5m\",\"Section0003 - 41.666666666666664\\u00b5m\",\"Section0003 - 41.666666666666664\\u00b5m\",\"Section0003 - 41.666666666666664\\u00b5m\",\"Section0003 - 41.666666666666664\\u00b5m\",\"Section0003 - 41.666666666666664\\u00b5m\",\"Section0003 - 41.666666666666664\\u00b5m\",\"Section0003 - 41.666666666666664\\u00b5m\",\"Section0003 - 41.666666666666664\\u00b5m\",\"Section0003 - 41.666666666666664\\u00b5m\",\"Section0003 - 41.666666666666664\\u00b5m\",\"Section0003 - 41.666666666666664\\u00b5m\",\"Section0003 - 41.666666666666664\\u00b5m\",\"Section0003 - 41.666666666666664\\u00b5m\",\"Section0003 - 41.666666666666664\\u00b5m\",\"Section0003 - 41.666666666666664\\u00b5m\",\"Section0003 - 41.666666666666664\\u00b5m\",\"Section0003 - 41.666666666666664\\u00b5m\",\"Section0003 - 41.666666666666664\\u00b5m\"],\"value\":{\"__ndarray__\":\"AAAAAAAAAAD9G8b2SGtxOUsaQ4Mn96U5A/VzyyHoHzsL45RlEnNTO65sG6IeGd47LsSTtrcREzz7pwh/HRU7PN57gl5y0tc8TH+fqjbeDD3NrBTMWHIzPddfHJfifnE94UbdLT2Qmj1LKGB8dZK7PeqZBSlLkdY9E4MTWtr7AD4gFu3ZtREhPuUfL/BRhDo+x3l7l280UT6Gv836VYFjPp2/VISDYX8+OeecmD4/lD6YvuClYk2mPod3dCBw1LU+CFQf1QGAwz7OfbKPWNDVPp2bRqJRKeU+9b6hdPR48j7kNnOZRr79PieTx/kaeAY/Bg33uA7nEz9BGV8o1eofP/ahCmdewyc/t/vqjY22MD8xI2qZNHs2P5av+wytcUE/ccYecqoEST8EPqT+ze5QPygWgoyy8FU/wWIYV4l6Wz+gJSwqvJllPwmeO5clmm4/iVsttj07dD/v59jTCXx5P4WaNDkyO4E/S8euesDrhT8mGMujN7yKP2fmQnsin48/PoffcbVFkj+qnKh/8eiWPxrJ9pytiJs/bhiH9UQQoD87UeChrFeiP80rqt0fHKk/VIcJzqGyrz8VQm7loQ2zP1akg7G2Q7s/EvPpK9ZxwT9Kc/eL/PvEP5E8dXXels0//Ih7B7xJ0j/6d04WqiDVP4fnP8XXb9c/kXusjp0C2z8ytE0NsFLdP4dnLzSRzt4/YRy8WiXB3z/SB9RXeC7gP1maXjQ6aOA/Ml0wptGK4D/jfA7YFZ/gP44AzTrRquA/Nne0PL+x4D+a4G41SLfgP2TB7mHTueA/sPuW7D+74D+x8t926LvgPyT9AWhdvOA/r4Dyh/i74D8SLsKD67vgPxFWDOgIvOA/GUj6FBG84D8=\",\"dtype\":\"float64\",\"shape\":[82]}},\"selected\":{\"id\":\"2983\",\"type\":\"Selection\"},\"selection_policy\":{\"id\":\"3011\",\"type\":\"UnionRenderers\"}},\"id\":\"2982\",\"type\":\"ColumnDataSource\"},{\"attributes\":{},\"id\":\"2950\",\"type\":\"Selection\"},{\"attributes\":{},\"id\":\"2919\",\"type\":\"LinearScale\"},{\"attributes\":{},\"id\":\"3011\",\"type\":\"UnionRenderers\"},{\"attributes\":{},\"id\":\"2929\",\"type\":\"BasicTicker\"},{\"attributes\":{\"line_alpha\":0.2,\"line_color\":\"#ff7e0e\",\"line_width\":2,\"x\":{\"field\":\"Time\"},\"y\":{\"field\":\"value\"}},\"id\":\"2970\",\"type\":\"Line\"},{\"attributes\":{\"line_color\":\"#1f77b3\",\"line_width\":2,\"x\":{\"field\":\"Time\"},\"y\":{\"field\":\"value\"}},\"id\":\"2952\",\"type\":\"Line\"},{\"attributes\":{\"label\":{\"value\":\"Section0003 - 41.666666666666664\\u00b5m\"},\"renderers\":[{\"id\":\"2988\",\"type\":\"GlyphRenderer\"}]},\"id\":\"3000\",\"type\":\"LegendItem\"},{\"attributes\":{\"grid_line_color\":null,\"ticker\":{\"id\":\"2924\",\"type\":\"BasicTicker\"}},\"id\":\"2927\",\"type\":\"Grid\"},{\"attributes\":{\"line_alpha\":0.1,\"line_color\":\"#1f77b3\",\"line_width\":2,\"x\":{\"field\":\"Time\"},\"y\":{\"field\":\"value\"}},\"id\":\"2953\",\"type\":\"Line\"},{\"attributes\":{\"axis_label\":\"Time\",\"bounds\":\"auto\",\"formatter\":{\"id\":\"2945\",\"type\":\"BasicTickFormatter\"},\"major_label_orientation\":\"horizontal\",\"ticker\":{\"id\":\"2924\",\"type\":\"BasicTicker\"}},\"id\":\"2923\",\"type\":\"LinearAxis\"},{\"attributes\":{\"line_alpha\":0.1,\"line_color\":\"#ff7e0e\",\"line_width\":2,\"x\":{\"field\":\"Time\"},\"y\":{\"field\":\"value\"}},\"id\":\"2969\",\"type\":\"Line\"},{\"attributes\":{\"click_policy\":\"mute\",\"items\":[{\"id\":\"2964\",\"type\":\"LegendItem\"},{\"id\":\"2981\",\"type\":\"LegendItem\"},{\"id\":\"3000\",\"type\":\"LegendItem\"}],\"location\":[0,0]},\"id\":\"2963\",\"type\":\"Legend\"},{\"attributes\":{\"data_source\":{\"id\":\"2949\",\"type\":\"ColumnDataSource\"},\"glyph\":{\"id\":\"2952\",\"type\":\"Line\"},\"hover_glyph\":null,\"muted_glyph\":{\"id\":\"2954\",\"type\":\"Line\"},\"nonselection_glyph\":{\"id\":\"2953\",\"type\":\"Line\"},\"selection_glyph\":null,\"view\":{\"id\":\"2956\",\"type\":\"CDSView\"}},\"id\":\"2955\",\"type\":\"GlyphRenderer\"},{\"attributes\":{},\"id\":\"2924\",\"type\":\"BasicTicker\"},{\"attributes\":{},\"id\":\"2979\",\"type\":\"UnionRenderers\"},{\"attributes\":{},\"id\":\"2983\",\"type\":\"Selection\"},{\"attributes\":{\"text\":\"\",\"text_color\":{\"value\":\"black\"},\"text_font_size\":{\"value\":\"12pt\"}},\"id\":\"2915\",\"type\":\"Title\"},{\"attributes\":{\"dimension\":1,\"grid_line_color\":null,\"ticker\":{\"id\":\"2929\",\"type\":\"BasicTicker\"}},\"id\":\"2932\",\"type\":\"Grid\"},{\"attributes\":{\"label\":{\"value\":\"Section0003 - 25.0\\u00b5m\"},\"renderers\":[{\"id\":\"2971\",\"type\":\"GlyphRenderer\"}]},\"id\":\"2981\",\"type\":\"LegendItem\"},{\"attributes\":{},\"id\":\"2935\",\"type\":\"WheelZoomTool\"},{\"attributes\":{\"callback\":null,\"end\":300.0,\"reset_end\":300.0,\"reset_start\":0.0,\"tags\":[[[\"Time\",\"Time\",null]]]},\"id\":\"2909\",\"type\":\"Range1d\"},{\"attributes\":{},\"id\":\"2937\",\"type\":\"ResetTool\"},{\"attributes\":{},\"id\":\"2934\",\"type\":\"PanTool\"},{\"attributes\":{\"line_alpha\":0.1,\"line_color\":\"#2ba02b\",\"line_width\":2,\"x\":{\"field\":\"Time\"},\"y\":{\"field\":\"value\"}},\"id\":\"2986\",\"type\":\"Line\"},{\"attributes\":{\"source\":{\"id\":\"2982\",\"type\":\"ColumnDataSource\"}},\"id\":\"2989\",\"type\":\"CDSView\"},{\"attributes\":{\"callback\":null,\"renderers\":[{\"id\":\"2955\",\"type\":\"GlyphRenderer\"},{\"id\":\"2971\",\"type\":\"GlyphRenderer\"},{\"id\":\"2988\",\"type\":\"GlyphRenderer\"}],\"tags\":[\"hv_created\"],\"tooltips\":[[\"Variable\",\"@{Variable}\"],[\"Time\",\"@{Time}\"],[\"value\",\"@{value}\"]]},\"id\":\"2911\",\"type\":\"HoverTool\"},{\"attributes\":{},\"id\":\"2945\",\"type\":\"BasicTickFormatter\"},{\"attributes\":{},\"id\":\"2966\",\"type\":\"Selection\"},{\"attributes\":{},\"id\":\"2933\",\"type\":\"SaveTool\"},{\"attributes\":{\"axis_label\":\"potential (mv)\",\"bounds\":\"auto\",\"formatter\":{\"id\":\"2947\",\"type\":\"BasicTickFormatter\"},\"major_label_orientation\":\"horizontal\",\"ticker\":{\"id\":\"2929\",\"type\":\"BasicTicker\"}},\"id\":\"2928\",\"type\":\"LinearAxis\"},{\"attributes\":{\"callback\":null,\"data\":{\"Time\":{\"__ndarray__\":\"AAAAAAAAAABubEp9asTBPm5sSn1qxNE+pqLvu5+m+j4YVUZsEm4IPy3TAcwk7h4/5z3wMKDSKD8cye/9FhcxP0ascBQJpEE//nPpqYa8Sj/bHbEfgupRP7sZkT0rzFo/zoq4LerWYT++iKi8vkdmP66GmEuTuGo/nyADBZtucT/n/Tlk7IB1Py/bcMM9k3k/d7inIo+lfT/gSu9A8NuAP7ZUuRuTV4Q/jF6D9jXThz9iaE3R2E6LPzhyF6x7yo4/B75wQw8jkT/N0aiBvQOUP5Pl4L9r5JY/WfkY/hnFmT8fDVE8yKWcP+UgiXp2hp8/ZGDToHIgoj9WMGIEqn2kP0gA8Wfh2qY/OtB/yxg4qT8soA4vUJWrP+hhj3g3v68/0hEIYY/0sT+wcsgFgwm0P47TiKp2HrY/bDRJT2ozuD+SH5Munl29P1yF7gbpQ8E/73qT9gLZwz+CcDjmHG7GP5YfS2VZm8o/qs5d5JXIzj/fPrgx6XrRP2mWQXGHkdM/8+3KsCWo1T+Hge2Mb5PZPxsVEGm5ft0/WFSZogG14D8inqqQpqriP/Tx8HIXlug/xkU3VYiB7j/MzL6bfDbyP+T6bpCtL/o/fpSPQm8UAUCKq+e8BxEFQJ6CKBUIHBBAdy/dS4yvFUBQ3JGCEEMbQJREo1xKayBA133UnU1QJkAatwXfUDUsQC54GxAqDTFAzxS0sKv/M0BwsUxRLfI2QG82HuYZbjpAbrvvegbqPUA2oOCH+bJAQLViSdLvcEJANCWyHOYuREA/iQMyZTdHQErtVEfkP0pAVVGmXGNITUCw2vs4cShQQGWtzHuwT1VAGoCdvu92WkDPUm4BL55fQJhLe1snCW1AAAAAAADAckA=\",\"dtype\":\"float64\",\"shape\":[82]},\"Variable\":[\"Section0003 - 25.0\\u00b5m\",\"Section0003 - 25.0\\u00b5m\",\"Section0003 - 25.0\\u00b5m\",\"Section0003 - 25.0\\u00b5m\",\"Section0003 - 25.0\\u00b5m\",\"Section0003 - 25.0\\u00b5m\",\"Section0003 - 25.0\\u00b5m\",\"Section0003 - 25.0\\u00b5m\",\"Section0003 - 25.0\\u00b5m\",\"Section0003 - 25.0\\u00b5m\",\"Section0003 - 25.0\\u00b5m\",\"Section0003 - 25.0\\u00b5m\",\"Section0003 - 25.0\\u00b5m\",\"Section0003 - 25.0\\u00b5m\",\"Section0003 - 25.0\\u00b5m\",\"Section0003 - 25.0\\u00b5m\",\"Section0003 - 25.0\\u00b5m\",\"Section0003 - 25.0\\u00b5m\",\"Section0003 - 25.0\\u00b5m\",\"Section0003 - 25.0\\u00b5m\",\"Section0003 - 25.0\\u00b5m\",\"Section0003 - 25.0\\u00b5m\",\"Section0003 - 25.0\\u00b5m\",\"Section0003 - 25.0\\u00b5m\",\"Section0003 - 25.0\\u00b5m\",\"Section0003 - 25.0\\u00b5m\",\"Section0003 - 25.0\\u00b5m\",\"Section0003 - 25.0\\u00b5m\",\"Section0003 - 25.0\\u00b5m\",\"Section0003 - 25.0\\u00b5m\",\"Section0003 - 25.0\\u00b5m\",\"Section0003 - 25.0\\u00b5m\",\"Section0003 - 25.0\\u00b5m\",\"Section0003 - 25.0\\u00b5m\",\"Section0003 - 25.0\\u00b5m\",\"Section0003 - 25.0\\u00b5m\",\"Section0003 - 25.0\\u00b5m\",\"Section0003 - 25.0\\u00b5m\",\"Section0003 - 25.0\\u00b5m\",\"Section0003 - 25.0\\u00b5m\",\"Section0003 - 25.0\\u00b5m\",\"Section0003 - 25.0\\u00b5m\",\"Section0003 - 25.0\\u00b5m\",\"Section0003 - 25.0\\u00b5m\",\"Section0003 - 25.0\\u00b5m\",\"Section0003 - 25.0\\u00b5m\",\"Section0003 - 25.0\\u00b5m\",\"Section0003 - 25.0\\u00b5m\",\"Section0003 - 25.0\\u00b5m\",\"Section0003 - 25.0\\u00b5m\",\"Section0003 - 25.0\\u00b5m\",\"Section0003 - 25.0\\u00b5m\",\"Section0003 - 25.0\\u00b5m\",\"Section0003 - 25.0\\u00b5m\",\"Section0003 - 25.0\\u00b5m\",\"Section0003 - 25.0\\u00b5m\",\"Section0003 - 25.0\\u00b5m\",\"Section0003 - 25.0\\u00b5m\",\"Section0003 - 25.0\\u00b5m\",\"Section0003 - 25.0\\u00b5m\",\"Section0003 - 25.0\\u00b5m\",\"Section0003 - 25.0\\u00b5m\",\"Section0003 - 25.0\\u00b5m\",\"Section0003 - 25.0\\u00b5m\",\"Section0003 - 25.0\\u00b5m\",\"Section0003 - 25.0\\u00b5m\",\"Section0003 - 25.0\\u00b5m\",\"Section0003 - 25.0\\u00b5m\",\"Section0003 - 25.0\\u00b5m\",\"Section0003 - 25.0\\u00b5m\",\"Section0003 - 25.0\\u00b5m\",\"Section0003 - 25.0\\u00b5m\",\"Section0003 - 25.0\\u00b5m\",\"Section0003 - 25.0\\u00b5m\",\"Section0003 - 25.0\\u00b5m\",\"Section0003 - 25.0\\u00b5m\",\"Section0003 - 25.0\\u00b5m\",\"Section0003 - 25.0\\u00b5m\",\"Section0003 - 25.0\\u00b5m\",\"Section0003 - 25.0\\u00b5m\",\"Section0003 - 25.0\\u00b5m\",\"Section0003 - 25.0\\u00b5m\"],\"value\":{\"__ndarray__\":\"AAAAAAAAAADsPrjGNHQaOrBL8vqwiU06ozeGgZx+kzvxSJGFrffEO/ExYs4s0z486U4NSknDcDwHIfNTfueUPDp5ChKgRRo9B/o4SAI+Sz2YbknczhNwPc8TQ4mOcaU9FsBJhOtwyz2xL3aU58zoPWxZ0S4V/QE+wBhfujfpJT7zhCM3D8lCPttNr8SYmlk+z9q7QaCubT4aLI0uU3t+PoZR1Mh3MpU+zhsAM8hXqD7mfqaVz164PglRoFWtBMY+Gy8gZdJf0j5peHewvMDiPiKH0YHG6vA+u+Ceajja+z7sjmRADF8FP6EaaH5aBw8/cryJT8cXGj/HnGronxokPxJtyQ88Ay0/5mhVh6PmMz9qq/+dPzs6P/oVEB3vzEM/b+MTjcvTSz8rU49F14tSP2dszuSHvlc/nz76SpB0XT8nKxR7icRmP4aaYBqt528/3oUo+BvvdD+NJebXzjl6P28smYOin4E/1MNVwaBThj+Ani3pGyaLP4CanGMPBZA/JoDgZXZ7kj+FZwM+tR6XPwfBPJQvvps/B/36o9cqoD9aMWLDCXKiPxwP6LHNNak/Oq6fI5vLrz8EIQ0qxxmzP4kQZpv9Trs/shlefRJ3wT+XyYQD2QDFP0+c2unRms0/toVSI1dL0j+r0H5O+CHVPz3y4nTncNc/N616dkwD2z8L2EtMIFPdP1JrJEPZzt4/dWt2xFPB3z/b1AdRhy7gP66FqRFDaOA/ssQi2taK4D9rm0bnGJ/gP3avDQ3TquA/dt/pU8Cx4D+wBHi5SLfgP1f5laHTueA/DtSaBEC74D/PGtB76LvgPwUUNVxdvOA/lF6rhvi74D/yHJWG67vgP+6FXegIvOA/8PgKFRG84D8=\",\"dtype\":\"float64\",\"shape\":[82]}},\"selected\":{\"id\":\"2966\",\"type\":\"Selection\"},\"selection_policy\":{\"id\":\"2998\",\"type\":\"UnionRenderers\"}},\"id\":\"2965\",\"type\":\"ColumnDataSource\"},{\"attributes\":{\"line_alpha\":0.2,\"line_color\":\"#1f77b3\",\"line_width\":2,\"x\":{\"field\":\"Time\"},\"y\":{\"field\":\"value\"}},\"id\":\"2954\",\"type\":\"Line\"},{\"attributes\":{},\"id\":\"2998\",\"type\":\"UnionRenderers\"},{\"attributes\":{\"source\":{\"id\":\"2949\",\"type\":\"ColumnDataSource\"}},\"id\":\"2956\",\"type\":\"CDSView\"},{\"attributes\":{\"source\":{\"id\":\"2965\",\"type\":\"ColumnDataSource\"}},\"id\":\"2972\",\"type\":\"CDSView\"},{\"attributes\":{\"active_drag\":\"auto\",\"active_inspect\":\"auto\",\"active_multi\":null,\"active_scroll\":\"auto\",\"active_tap\":\"auto\",\"tools\":[{\"id\":\"2911\",\"type\":\"HoverTool\"},{\"id\":\"2933\",\"type\":\"SaveTool\"},{\"id\":\"2934\",\"type\":\"PanTool\"},{\"id\":\"2935\",\"type\":\"WheelZoomTool\"},{\"id\":\"2936\",\"type\":\"BoxZoomTool\"},{\"id\":\"2937\",\"type\":\"ResetTool\"}]},\"id\":\"2938\",\"type\":\"Toolbar\"},{\"attributes\":{\"data_source\":{\"id\":\"2982\",\"type\":\"ColumnDataSource\"},\"glyph\":{\"id\":\"2985\",\"type\":\"Line\"},\"hover_glyph\":null,\"muted_glyph\":{\"id\":\"2987\",\"type\":\"Line\"},\"nonselection_glyph\":{\"id\":\"2986\",\"type\":\"Line\"},\"selection_glyph\":null,\"view\":{\"id\":\"2989\",\"type\":\"CDSView\"}},\"id\":\"2988\",\"type\":\"GlyphRenderer\"},{\"attributes\":{\"overlay\":{\"id\":\"2962\",\"type\":\"BoxAnnotation\"}},\"id\":\"2936\",\"type\":\"BoxZoomTool\"}],\"root_ids\":[\"2914\"]},\"title\":\"Bokeh Application\",\"version\":\"1.3.4\"}};\n",
       "  var render_items = [{\"docid\":\"278fe341-1f95-46f1-9b71-d89a856f2f9c\",\"roots\":{\"2914\":\"6841a102-50e2-4832-ad3e-cd040db80944\"}}];\n",
       "  root.Bokeh.embed.embed_items_notebook(docs_json, render_items);\n",
       "\n",
       "  }\n",
       "  if (root.Bokeh !== undefined) {\n",
       "    embed_document(root);\n",
       "  } else {\n",
       "    var attempts = 0;\n",
       "    var timer = setInterval(function(root) {\n",
       "      if (root.Bokeh !== undefined) {\n",
       "        embed_document(root);\n",
       "        clearInterval(timer);\n",
       "      }\n",
       "      attempts++;\n",
       "      if (attempts > 100) {\n",
       "        console.log(\"Bokeh: ERROR: Unable to run BokehJS code because BokehJS library is missing\");\n",
       "        clearInterval(timer);\n",
       "      }\n",
       "    }, 10, root)\n",
       "  }\n",
       "})(window);</script>"
      ],
      "text/plain": [
       ":NdOverlay   [Variable]\n",
       "   :Curve   [Time]   (value)"
      ]
     },
     "execution_count": 60,
     "metadata": {
      "application/vnd.holoviews_exec.v0+json": {
       "id": "2914"
      }
     },
     "output_type": "execute_result"
    }
   ],
   "source": [
    "sim['Section0003'].plot()"
   ]
  },
  {
   "cell_type": "markdown",
   "metadata": {},
   "source": [
    "On peut definir d par section avec sec.dx=truc  il faut alors lancer Simulation avec dx=0 sinon le dx global est utilise"
   ]
  },
  {
   "cell_type": "code",
   "execution_count": 61,
   "metadata": {},
   "outputs": [
    {
     "data": {
      "application/vnd.holoviews_exec.v0+json": "",
      "text/html": [
       "<div id='3191' style='display: table; margin: 0 auto;'>\n",
       "\n",
       "\n",
       "\n",
       "\n",
       "\n",
       "  <div class=\"bk-root\" id=\"e265f1ba-195b-4383-ae07-8f394a6d7f8e\" data-root-id=\"3191\"></div>\n",
       "</div>\n",
       "<script type=\"application/javascript\">(function(root) {\n",
       "  function embed_document(root) {\n",
       "    \n",
       "  var docs_json = {\"0294f7d8-1c8a-43b4-8258-0b4025c52b77\":{\"roots\":{\"references\":[{\"attributes\":{\"align\":null,\"below\":[{\"id\":\"3200\",\"type\":\"LinearAxis\"}],\"center\":[{\"id\":\"3204\",\"type\":\"Grid\"},{\"id\":\"3209\",\"type\":\"Grid\"},{\"id\":\"3240\",\"type\":\"Legend\"}],\"left\":[{\"id\":\"3205\",\"type\":\"LinearAxis\"}],\"margin\":null,\"min_border_bottom\":10,\"min_border_left\":10,\"min_border_right\":10,\"min_border_top\":10,\"plot_height\":400,\"plot_width\":null,\"renderers\":[{\"id\":\"3232\",\"type\":\"GlyphRenderer\"},{\"id\":\"3248\",\"type\":\"GlyphRenderer\"},{\"id\":\"3265\",\"type\":\"GlyphRenderer\"},{\"id\":\"3284\",\"type\":\"GlyphRenderer\"},{\"id\":\"3305\",\"type\":\"GlyphRenderer\"},{\"id\":\"3328\",\"type\":\"GlyphRenderer\"},{\"id\":\"3353\",\"type\":\"GlyphRenderer\"},{\"id\":\"3380\",\"type\":\"GlyphRenderer\"}],\"right\":[{\"id\":\"3240\",\"type\":\"Legend\"}],\"sizing_mode\":\"stretch_width\",\"title\":{\"id\":\"3192\",\"type\":\"Title\"},\"toolbar\":{\"id\":\"3215\",\"type\":\"Toolbar\"},\"x_range\":{\"id\":\"3181\",\"type\":\"Range1d\"},\"x_scale\":{\"id\":\"3196\",\"type\":\"LinearScale\"},\"y_range\":{\"id\":\"3182\",\"type\":\"Range1d\"},\"y_scale\":{\"id\":\"3198\",\"type\":\"LinearScale\"}},\"id\":\"3191\",\"subtype\":\"Figure\",\"type\":\"Plot\"},{\"attributes\":{\"line_alpha\":0.1,\"line_color\":\"#d62628\",\"line_width\":2,\"x\":{\"field\":\"Time\"},\"y\":{\"field\":\"value\"}},\"id\":\"3282\",\"type\":\"Line\"},{\"attributes\":{\"line_alpha\":0.1,\"line_color\":\"#8c564b\",\"line_width\":2,\"x\":{\"field\":\"Time\"},\"y\":{\"field\":\"value\"}},\"id\":\"3326\",\"type\":\"Line\"},{\"attributes\":{\"line_alpha\":0.1,\"line_color\":\"#9367bc\",\"line_width\":2,\"x\":{\"field\":\"Time\"},\"y\":{\"field\":\"value\"}},\"id\":\"3303\",\"type\":\"Line\"},{\"attributes\":{},\"id\":\"3224\",\"type\":\"BasicTickFormatter\"},{\"attributes\":{\"data_source\":{\"id\":\"3347\",\"type\":\"ColumnDataSource\"},\"glyph\":{\"id\":\"3350\",\"type\":\"Line\"},\"hover_glyph\":null,\"muted_glyph\":{\"id\":\"3352\",\"type\":\"Line\"},\"nonselection_glyph\":{\"id\":\"3351\",\"type\":\"Line\"},\"selection_glyph\":null,\"view\":{\"id\":\"3354\",\"type\":\"CDSView\"}},\"id\":\"3353\",\"type\":\"GlyphRenderer\"},{\"attributes\":{\"line_alpha\":0.2,\"line_color\":\"#2ba02b\",\"line_width\":2,\"x\":{\"field\":\"Time\"},\"y\":{\"field\":\"value\"}},\"id\":\"3264\",\"type\":\"Line\"},{\"attributes\":{\"line_alpha\":0.2,\"line_color\":\"#8c564b\",\"line_width\":2,\"x\":{\"field\":\"Time\"},\"y\":{\"field\":\"value\"}},\"id\":\"3327\",\"type\":\"Line\"},{\"attributes\":{\"callback\":null,\"renderers\":[{\"id\":\"3232\",\"type\":\"GlyphRenderer\"},{\"id\":\"3248\",\"type\":\"GlyphRenderer\"},{\"id\":\"3265\",\"type\":\"GlyphRenderer\"},{\"id\":\"3284\",\"type\":\"GlyphRenderer\"},{\"id\":\"3305\",\"type\":\"GlyphRenderer\"},{\"id\":\"3328\",\"type\":\"GlyphRenderer\"},{\"id\":\"3353\",\"type\":\"GlyphRenderer\"},{\"id\":\"3380\",\"type\":\"GlyphRenderer\"}],\"tags\":[\"hv_created\"],\"tooltips\":[[\"Variable\",\"@{Variable}\"],[\"Time\",\"@{Time}\"],[\"value\",\"@{value}\"]]},\"id\":\"3183\",\"type\":\"HoverTool\"},{\"attributes\":{\"line_alpha\":0.1,\"line_color\":\"#1f77b3\",\"line_width\":2,\"x\":{\"field\":\"Time\"},\"y\":{\"field\":\"value\"}},\"id\":\"3230\",\"type\":\"Line\"},{\"attributes\":{\"axis_label\":\"Time\",\"bounds\":\"auto\",\"formatter\":{\"id\":\"3222\",\"type\":\"BasicTickFormatter\"},\"major_label_orientation\":\"horizontal\",\"ticker\":{\"id\":\"3201\",\"type\":\"BasicTicker\"}},\"id\":\"3200\",\"type\":\"LinearAxis\"},{\"attributes\":{\"line_color\":\"#e277c1\",\"line_width\":2,\"x\":{\"field\":\"Time\"},\"y\":{\"field\":\"value\"}},\"id\":\"3350\",\"type\":\"Line\"},{\"attributes\":{\"label\":{\"value\":\"Section0003 - 25.0\\u00b5m\"},\"renderers\":[{\"id\":\"3353\",\"type\":\"GlyphRenderer\"}]},\"id\":\"3373\",\"type\":\"LegendItem\"},{\"attributes\":{\"callback\":null,\"data\":{\"Time\":{\"__ndarray__\":\"AAAAAAAAAABubEp9asTBPm5sSn1qxNE+pqLvu5+m+j4YVUZsEm4IPy3TAcwk7h4/5z3wMKDSKD8cye/9FhcxP0ascBQJpEE//nPpqYa8Sj/bHbEfgupRP7sZkT0rzFo/zoq4LerWYT++iKi8vkdmP66GmEuTuGo/nyADBZtucT/n/Tlk7IB1Py/bcMM9k3k/d7inIo+lfT/gSu9A8NuAP7ZUuRuTV4Q/jF6D9jXThz9iaE3R2E6LPzhyF6x7yo4/B75wQw8jkT/N0aiBvQOUP5Pl4L9r5JY/WfkY/hnFmT8fDVE8yKWcP+UgiXp2hp8/ZGDToHIgoj9WMGIEqn2kP0gA8Wfh2qY/OtB/yxg4qT8soA4vUJWrP+hhj3g3v68/0hEIYY/0sT+wcsgFgwm0P47TiKp2HrY/bDRJT2ozuD+SH5Munl29P1yF7gbpQ8E/73qT9gLZwz+CcDjmHG7GP5YfS2VZm8o/qs5d5JXIzj/fPrgx6XrRP2mWQXGHkdM/8+3KsCWo1T+Hge2Mb5PZPxsVEGm5ft0/WFSZogG14D8inqqQpqriP/Tx8HIXlug/xkU3VYiB7j/MzL6bfDbyP+T6bpCtL/o/fpSPQm8UAUCKq+e8BxEFQJ6CKBUIHBBAdy/dS4yvFUBQ3JGCEEMbQJREo1xKayBA133UnU1QJkAatwXfUDUsQC54GxAqDTFAzxS0sKv/M0BwsUxRLfI2QG82HuYZbjpAbrvvegbqPUA2oOCH+bJAQLViSdLvcEJANCWyHOYuREA/iQMyZTdHQErtVEfkP0pAVVGmXGNITUCw2vs4cShQQGWtzHuwT1VAGoCdvu92WkDPUm4BL55fQJhLe1snCW1AAAAAAADAckA=\",\"dtype\":\"float64\",\"shape\":[82]},\"Variable\":[\"Sample section 1 - 10.0\\u00b5m\",\"Sample section 1 - 10.0\\u00b5m\",\"Sample section 1 - 10.0\\u00b5m\",\"Sample section 1 - 10.0\\u00b5m\",\"Sample section 1 - 10.0\\u00b5m\",\"Sample section 1 - 10.0\\u00b5m\",\"Sample section 1 - 10.0\\u00b5m\",\"Sample section 1 - 10.0\\u00b5m\",\"Sample section 1 - 10.0\\u00b5m\",\"Sample section 1 - 10.0\\u00b5m\",\"Sample section 1 - 10.0\\u00b5m\",\"Sample section 1 - 10.0\\u00b5m\",\"Sample section 1 - 10.0\\u00b5m\",\"Sample section 1 - 10.0\\u00b5m\",\"Sample section 1 - 10.0\\u00b5m\",\"Sample section 1 - 10.0\\u00b5m\",\"Sample section 1 - 10.0\\u00b5m\",\"Sample section 1 - 10.0\\u00b5m\",\"Sample section 1 - 10.0\\u00b5m\",\"Sample section 1 - 10.0\\u00b5m\",\"Sample section 1 - 10.0\\u00b5m\",\"Sample section 1 - 10.0\\u00b5m\",\"Sample section 1 - 10.0\\u00b5m\",\"Sample section 1 - 10.0\\u00b5m\",\"Sample section 1 - 10.0\\u00b5m\",\"Sample section 1 - 10.0\\u00b5m\",\"Sample section 1 - 10.0\\u00b5m\",\"Sample section 1 - 10.0\\u00b5m\",\"Sample section 1 - 10.0\\u00b5m\",\"Sample section 1 - 10.0\\u00b5m\",\"Sample section 1 - 10.0\\u00b5m\",\"Sample section 1 - 10.0\\u00b5m\",\"Sample section 1 - 10.0\\u00b5m\",\"Sample section 1 - 10.0\\u00b5m\",\"Sample section 1 - 10.0\\u00b5m\",\"Sample section 1 - 10.0\\u00b5m\",\"Sample section 1 - 10.0\\u00b5m\",\"Sample section 1 - 10.0\\u00b5m\",\"Sample section 1 - 10.0\\u00b5m\",\"Sample section 1 - 10.0\\u00b5m\",\"Sample section 1 - 10.0\\u00b5m\",\"Sample section 1 - 10.0\\u00b5m\",\"Sample section 1 - 10.0\\u00b5m\",\"Sample section 1 - 10.0\\u00b5m\",\"Sample section 1 - 10.0\\u00b5m\",\"Sample section 1 - 10.0\\u00b5m\",\"Sample section 1 - 10.0\\u00b5m\",\"Sample section 1 - 10.0\\u00b5m\",\"Sample section 1 - 10.0\\u00b5m\",\"Sample section 1 - 10.0\\u00b5m\",\"Sample section 1 - 10.0\\u00b5m\",\"Sample section 1 - 10.0\\u00b5m\",\"Sample section 1 - 10.0\\u00b5m\",\"Sample section 1 - 10.0\\u00b5m\",\"Sample section 1 - 10.0\\u00b5m\",\"Sample section 1 - 10.0\\u00b5m\",\"Sample section 1 - 10.0\\u00b5m\",\"Sample section 1 - 10.0\\u00b5m\",\"Sample section 1 - 10.0\\u00b5m\",\"Sample section 1 - 10.0\\u00b5m\",\"Sample section 1 - 10.0\\u00b5m\",\"Sample section 1 - 10.0\\u00b5m\",\"Sample section 1 - 10.0\\u00b5m\",\"Sample section 1 - 10.0\\u00b5m\",\"Sample section 1 - 10.0\\u00b5m\",\"Sample section 1 - 10.0\\u00b5m\",\"Sample section 1 - 10.0\\u00b5m\",\"Sample section 1 - 10.0\\u00b5m\",\"Sample section 1 - 10.0\\u00b5m\",\"Sample section 1 - 10.0\\u00b5m\",\"Sample section 1 - 10.0\\u00b5m\",\"Sample section 1 - 10.0\\u00b5m\",\"Sample section 1 - 10.0\\u00b5m\",\"Sample section 1 - 10.0\\u00b5m\",\"Sample section 1 - 10.0\\u00b5m\",\"Sample section 1 - 10.0\\u00b5m\",\"Sample section 1 - 10.0\\u00b5m\",\"Sample section 1 - 10.0\\u00b5m\",\"Sample section 1 - 10.0\\u00b5m\",\"Sample section 1 - 10.0\\u00b5m\",\"Sample section 1 - 10.0\\u00b5m\",\"Sample section 1 - 10.0\\u00b5m\"],\"value\":{\"__ndarray__\":\"AAAAAAAAAAAULfxy8kW8Pu/xD2lSRcw+Ke2Lg70s9T4MYBa3g2QDP4R76E0IfBg/DwGokRWYIz8Jm11/N+cqP1Mu1ttgdjs/Jf5WrD6VRD/DsggCnUlLP+3ZOc1Z/VM/LlNEBqkWWj+3kL9N6PVfP1JEdJPVz2I/8HWn3ULCZz/t0PEYWWxsP7j6/Z2Ja3A/P+td7QKFcj/HKxrNzIV0P7Qek8F6wXc/bkB61ZDHej9m0+vlYKB9P+LTbsk+KYA/ITe+cpVxgT8QK1YPCnGDPzoe8NbFT4U/Ca9OWA8Thz8BVVCz/L6IP+QC/o/FVoo/8Mf0gZDPjD/hp1bU8CCPP2ii0m5sqJA/5wYQhvOxkT9ewCfo3a6SP3LIuovQUZQ/z91uDZDXlT8ntVXrLESXP2p5FVLtmpg/bddoKILemT80QkRg1rqcP9FihKPTR58/5PCpHjnMoD/2WgJ6ON2hP6+8FcXlcqM/q9uWDiPppD/asY0MMEqmP6MZTbj/nKc/36sQwzDmqD+GQTmnVD6rP1DJLUaFia0/i8qP5HTMrz8He9wiPgSxP1FSfZnmUrQ/PED9MIKJtz9D2AqY3qm6P8qMxgarVsE/WLWPFC4PxT+9J77mgoPIPwTlVW2tdNA/LDAQHHDd0z8gO6/L3aLWP96x2XfP49g/shOV94tg3D+txfsGWaLePwKA9PyJCuA/J1jVeemA4D+VdjL+78zgP5EPRudNBeE//V16yQ8n4T+gc6ka1zrhP7pEL5dKRuE/RWyNOg5N4T+Mw5qkdlLhP/Ey1mXyVOE/LMXIjVVW4T9lATZT+VbhPw+Qw/VoV+E/rMvrbwZX4T8vPsBJ+1bhP4BVjE8YV+E/s4GioyBX4T8=\",\"dtype\":\"float64\",\"shape\":[82]}},\"selected\":{\"id\":\"3227\",\"type\":\"Selection\"},\"selection_policy\":{\"id\":\"3256\",\"type\":\"UnionRenderers\"}},\"id\":\"3226\",\"type\":\"ColumnDataSource\"},{\"attributes\":{\"line_alpha\":0.2,\"line_color\":\"#e277c1\",\"line_width\":2,\"x\":{\"field\":\"Time\"},\"y\":{\"field\":\"value\"}},\"id\":\"3352\",\"type\":\"Line\"},{\"attributes\":{\"source\":{\"id\":\"3259\",\"type\":\"ColumnDataSource\"}},\"id\":\"3266\",\"type\":\"CDSView\"},{\"attributes\":{\"line_alpha\":0.1,\"line_color\":\"#e277c1\",\"line_width\":2,\"x\":{\"field\":\"Time\"},\"y\":{\"field\":\"value\"}},\"id\":\"3351\",\"type\":\"Line\"},{\"attributes\":{\"source\":{\"id\":\"3322\",\"type\":\"ColumnDataSource\"}},\"id\":\"3329\",\"type\":\"CDSView\"},{\"attributes\":{},\"id\":\"3371\",\"type\":\"UnionRenderers\"},{\"attributes\":{\"source\":{\"id\":\"3347\",\"type\":\"ColumnDataSource\"}},\"id\":\"3354\",\"type\":\"CDSView\"},{\"attributes\":{\"line_color\":\"#8c564b\",\"line_width\":2,\"x\":{\"field\":\"Time\"},\"y\":{\"field\":\"value\"}},\"id\":\"3325\",\"type\":\"Line\"},{\"attributes\":{},\"id\":\"3348\",\"type\":\"Selection\"},{\"attributes\":{\"callback\":null,\"end\":300.0,\"reset_end\":300.0,\"reset_start\":0.0,\"tags\":[[[\"Time\",\"Time\",null]]]},\"id\":\"3181\",\"type\":\"Range1d\"},{\"attributes\":{\"data_source\":{\"id\":\"3322\",\"type\":\"ColumnDataSource\"},\"glyph\":{\"id\":\"3325\",\"type\":\"Line\"},\"hover_glyph\":null,\"muted_glyph\":{\"id\":\"3327\",\"type\":\"Line\"},\"nonselection_glyph\":{\"id\":\"3326\",\"type\":\"Line\"},\"selection_glyph\":null,\"view\":{\"id\":\"3329\",\"type\":\"CDSView\"}},\"id\":\"3328\",\"type\":\"GlyphRenderer\"},{\"attributes\":{\"label\":{\"value\":\"Sample section 1 - 90.0\\u00b5m\"},\"renderers\":[{\"id\":\"3305\",\"type\":\"GlyphRenderer\"}]},\"id\":\"3321\",\"type\":\"LegendItem\"},{\"attributes\":{},\"id\":\"3319\",\"type\":\"UnionRenderers\"},{\"attributes\":{\"callback\":null,\"end\":0.5419201660229208,\"reset_end\":0.5419201660229208,\"reset_start\":0.0,\"tags\":[[[\"value\",\"value\",null]]]},\"id\":\"3182\",\"type\":\"Range1d\"},{\"attributes\":{},\"id\":\"3196\",\"type\":\"LinearScale\"},{\"attributes\":{},\"id\":\"3344\",\"type\":\"UnionRenderers\"},{\"attributes\":{},\"id\":\"3375\",\"type\":\"Selection\"},{\"attributes\":{\"line_color\":\"#2ba02b\",\"line_width\":2,\"x\":{\"field\":\"Time\"},\"y\":{\"field\":\"value\"}},\"id\":\"3262\",\"type\":\"Line\"},{\"attributes\":{},\"id\":\"3323\",\"type\":\"Selection\"},{\"attributes\":{},\"id\":\"3423\",\"type\":\"UnionRenderers\"},{\"attributes\":{\"line_alpha\":0.1,\"line_color\":\"#2ba02b\",\"line_width\":2,\"x\":{\"field\":\"Time\"},\"y\":{\"field\":\"value\"}},\"id\":\"3263\",\"type\":\"Line\"},{\"attributes\":{\"data_source\":{\"id\":\"3259\",\"type\":\"ColumnDataSource\"},\"glyph\":{\"id\":\"3262\",\"type\":\"Line\"},\"hover_glyph\":null,\"muted_glyph\":{\"id\":\"3264\",\"type\":\"Line\"},\"nonselection_glyph\":{\"id\":\"3263\",\"type\":\"Line\"},\"selection_glyph\":null,\"view\":{\"id\":\"3266\",\"type\":\"CDSView\"}},\"id\":\"3265\",\"type\":\"GlyphRenderer\"},{\"attributes\":{},\"id\":\"3198\",\"type\":\"LinearScale\"},{\"attributes\":{\"axis_label\":\"potential (mv)\",\"bounds\":\"auto\",\"formatter\":{\"id\":\"3224\",\"type\":\"BasicTickFormatter\"},\"major_label_orientation\":\"horizontal\",\"ticker\":{\"id\":\"3206\",\"type\":\"BasicTicker\"}},\"id\":\"3205\",\"type\":\"LinearAxis\"},{\"attributes\":{\"label\":{\"value\":\"Sample section 1 - 30.0\\u00b5m\"},\"renderers\":[{\"id\":\"3248\",\"type\":\"GlyphRenderer\"}]},\"id\":\"3258\",\"type\":\"LegendItem\"},{\"attributes\":{},\"id\":\"3206\",\"type\":\"BasicTicker\"},{\"attributes\":{\"callback\":null,\"data\":{\"Time\":{\"__ndarray__\":\"AAAAAAAAAABubEp9asTBPm5sSn1qxNE+pqLvu5+m+j4YVUZsEm4IPy3TAcwk7h4/5z3wMKDSKD8cye/9FhcxP0ascBQJpEE//nPpqYa8Sj/bHbEfgupRP7sZkT0rzFo/zoq4LerWYT++iKi8vkdmP66GmEuTuGo/nyADBZtucT/n/Tlk7IB1Py/bcMM9k3k/d7inIo+lfT/gSu9A8NuAP7ZUuRuTV4Q/jF6D9jXThz9iaE3R2E6LPzhyF6x7yo4/B75wQw8jkT/N0aiBvQOUP5Pl4L9r5JY/WfkY/hnFmT8fDVE8yKWcP+UgiXp2hp8/ZGDToHIgoj9WMGIEqn2kP0gA8Wfh2qY/OtB/yxg4qT8soA4vUJWrP+hhj3g3v68/0hEIYY/0sT+wcsgFgwm0P47TiKp2HrY/bDRJT2ozuD+SH5Munl29P1yF7gbpQ8E/73qT9gLZwz+CcDjmHG7GP5YfS2VZm8o/qs5d5JXIzj/fPrgx6XrRP2mWQXGHkdM/8+3KsCWo1T+Hge2Mb5PZPxsVEGm5ft0/WFSZogG14D8inqqQpqriP/Tx8HIXlug/xkU3VYiB7j/MzL6bfDbyP+T6bpCtL/o/fpSPQm8UAUCKq+e8BxEFQJ6CKBUIHBBAdy/dS4yvFUBQ3JGCEEMbQJREo1xKayBA133UnU1QJkAatwXfUDUsQC54GxAqDTFAzxS0sKv/M0BwsUxRLfI2QG82HuYZbjpAbrvvegbqPUA2oOCH+bJAQLViSdLvcEJANCWyHOYuREA/iQMyZTdHQErtVEfkP0pAVVGmXGNITUCw2vs4cShQQGWtzHuwT1VAGoCdvu92WkDPUm4BL55fQJhLe1snCW1AAAAAAADAckA=\",\"dtype\":\"float64\",\"shape\":[82]},\"Variable\":[\"Section0003 - 41.666666666666664\\u00b5m\",\"Section0003 - 41.666666666666664\\u00b5m\",\"Section0003 - 41.666666666666664\\u00b5m\",\"Section0003 - 41.666666666666664\\u00b5m\",\"Section0003 - 41.666666666666664\\u00b5m\",\"Section0003 - 41.666666666666664\\u00b5m\",\"Section0003 - 41.666666666666664\\u00b5m\",\"Section0003 - 41.666666666666664\\u00b5m\",\"Section0003 - 41.666666666666664\\u00b5m\",\"Section0003 - 41.666666666666664\\u00b5m\",\"Section0003 - 41.666666666666664\\u00b5m\",\"Section0003 - 41.666666666666664\\u00b5m\",\"Section0003 - 41.666666666666664\\u00b5m\",\"Section0003 - 41.666666666666664\\u00b5m\",\"Section0003 - 41.666666666666664\\u00b5m\",\"Section0003 - 41.666666666666664\\u00b5m\",\"Section0003 - 41.666666666666664\\u00b5m\",\"Section0003 - 41.666666666666664\\u00b5m\",\"Section0003 - 41.666666666666664\\u00b5m\",\"Section0003 - 41.666666666666664\\u00b5m\",\"Section0003 - 41.666666666666664\\u00b5m\",\"Section0003 - 41.666666666666664\\u00b5m\",\"Section0003 - 41.666666666666664\\u00b5m\",\"Section0003 - 41.666666666666664\\u00b5m\",\"Section0003 - 41.666666666666664\\u00b5m\",\"Section0003 - 41.666666666666664\\u00b5m\",\"Section0003 - 41.666666666666664\\u00b5m\",\"Section0003 - 41.666666666666664\\u00b5m\",\"Section0003 - 41.666666666666664\\u00b5m\",\"Section0003 - 41.666666666666664\\u00b5m\",\"Section0003 - 41.666666666666664\\u00b5m\",\"Section0003 - 41.666666666666664\\u00b5m\",\"Section0003 - 41.666666666666664\\u00b5m\",\"Section0003 - 41.666666666666664\\u00b5m\",\"Section0003 - 41.666666666666664\\u00b5m\",\"Section0003 - 41.666666666666664\\u00b5m\",\"Section0003 - 41.666666666666664\\u00b5m\",\"Section0003 - 41.666666666666664\\u00b5m\",\"Section0003 - 41.666666666666664\\u00b5m\",\"Section0003 - 41.666666666666664\\u00b5m\",\"Section0003 - 41.666666666666664\\u00b5m\",\"Section0003 - 41.666666666666664\\u00b5m\",\"Section0003 - 41.666666666666664\\u00b5m\",\"Section0003 - 41.666666666666664\\u00b5m\",\"Section0003 - 41.666666666666664\\u00b5m\",\"Section0003 - 41.666666666666664\\u00b5m\",\"Section0003 - 41.666666666666664\\u00b5m\",\"Section0003 - 41.666666666666664\\u00b5m\",\"Section0003 - 41.666666666666664\\u00b5m\",\"Section0003 - 41.666666666666664\\u00b5m\",\"Section0003 - 41.666666666666664\\u00b5m\",\"Section0003 - 41.666666666666664\\u00b5m\",\"Section0003 - 41.666666666666664\\u00b5m\",\"Section0003 - 41.666666666666664\\u00b5m\",\"Section0003 - 41.666666666666664\\u00b5m\",\"Section0003 - 41.666666666666664\\u00b5m\",\"Section0003 - 41.666666666666664\\u00b5m\",\"Section0003 - 41.666666666666664\\u00b5m\",\"Section0003 - 41.666666666666664\\u00b5m\",\"Section0003 - 41.666666666666664\\u00b5m\",\"Section0003 - 41.666666666666664\\u00b5m\",\"Section0003 - 41.666666666666664\\u00b5m\",\"Section0003 - 41.666666666666664\\u00b5m\",\"Section0003 - 41.666666666666664\\u00b5m\",\"Section0003 - 41.666666666666664\\u00b5m\",\"Section0003 - 41.666666666666664\\u00b5m\",\"Section0003 - 41.666666666666664\\u00b5m\",\"Section0003 - 41.666666666666664\\u00b5m\",\"Section0003 - 41.666666666666664\\u00b5m\",\"Section0003 - 41.666666666666664\\u00b5m\",\"Section0003 - 41.666666666666664\\u00b5m\",\"Section0003 - 41.666666666666664\\u00b5m\",\"Section0003 - 41.666666666666664\\u00b5m\",\"Section0003 - 41.666666666666664\\u00b5m\",\"Section0003 - 41.666666666666664\\u00b5m\",\"Section0003 - 41.666666666666664\\u00b5m\",\"Section0003 - 41.666666666666664\\u00b5m\",\"Section0003 - 41.666666666666664\\u00b5m\",\"Section0003 - 41.666666666666664\\u00b5m\",\"Section0003 - 41.666666666666664\\u00b5m\",\"Section0003 - 41.666666666666664\\u00b5m\",\"Section0003 - 41.666666666666664\\u00b5m\"],\"value\":{\"__ndarray__\":\"AAAAAAAAAAD9G8b2SGtxOUsaQ4Mn96U5A/VzyyHoHzsL45RlEnNTO65sG6IeGd47LsSTtrcREzz7pwh/HRU7PN57gl5y0tc8TH+fqjbeDD3NrBTMWHIzPddfHJfifnE94UbdLT2Qmj1LKGB8dZK7PeqZBSlLkdY9E4MTWtr7AD4gFu3ZtREhPuUfL/BRhDo+x3l7l280UT6Gv836VYFjPp2/VISDYX8+OeecmD4/lD6YvuClYk2mPod3dCBw1LU+CFQf1QGAwz7OfbKPWNDVPp2bRqJRKeU+9b6hdPR48j7kNnOZRr79PieTx/kaeAY/Bg33uA7nEz9BGV8o1eofP/ahCmdewyc/t/vqjY22MD8xI2qZNHs2P5av+wytcUE/ccYecqoEST8EPqT+ze5QPygWgoyy8FU/wWIYV4l6Wz+gJSwqvJllPwmeO5clmm4/iVsttj07dD/v59jTCXx5P4WaNDkyO4E/S8euesDrhT8mGMujN7yKP2fmQnsin48/PoffcbVFkj+qnKh/8eiWPxrJ9pytiJs/bhiH9UQQoD87UeChrFeiP80rqt0fHKk/VIcJzqGyrz8VQm7loQ2zP1akg7G2Q7s/EvPpK9ZxwT9Kc/eL/PvEP5E8dXXels0//Ih7B7xJ0j/6d04WqiDVP4fnP8XXb9c/kXusjp0C2z8ytE0NsFLdP4dnLzSRzt4/YRy8WiXB3z/SB9RXeC7gP1maXjQ6aOA/Ml0wptGK4D/jfA7YFZ/gP44AzTrRquA/Nne0PL+x4D+a4G41SLfgP2TB7mHTueA/sPuW7D+74D+x8t926LvgPyT9AWhdvOA/r4Dyh/i74D8SLsKD67vgPxFWDOgIvOA/GUj6FBG84D8=\",\"dtype\":\"float64\",\"shape\":[82]}},\"selected\":{\"id\":\"3375\",\"type\":\"Selection\"},\"selection_policy\":{\"id\":\"3423\",\"type\":\"UnionRenderers\"}},\"id\":\"3374\",\"type\":\"ColumnDataSource\"},{\"attributes\":{\"source\":{\"id\":\"3299\",\"type\":\"ColumnDataSource\"}},\"id\":\"3306\",\"type\":\"CDSView\"},{\"attributes\":{\"callback\":null,\"data\":{\"Time\":{\"__ndarray__\":\"AAAAAAAAAABubEp9asTBPm5sSn1qxNE+pqLvu5+m+j4YVUZsEm4IPy3TAcwk7h4/5z3wMKDSKD8cye/9FhcxP0ascBQJpEE//nPpqYa8Sj/bHbEfgupRP7sZkT0rzFo/zoq4LerWYT++iKi8vkdmP66GmEuTuGo/nyADBZtucT/n/Tlk7IB1Py/bcMM9k3k/d7inIo+lfT/gSu9A8NuAP7ZUuRuTV4Q/jF6D9jXThz9iaE3R2E6LPzhyF6x7yo4/B75wQw8jkT/N0aiBvQOUP5Pl4L9r5JY/WfkY/hnFmT8fDVE8yKWcP+UgiXp2hp8/ZGDToHIgoj9WMGIEqn2kP0gA8Wfh2qY/OtB/yxg4qT8soA4vUJWrP+hhj3g3v68/0hEIYY/0sT+wcsgFgwm0P47TiKp2HrY/bDRJT2ozuD+SH5Munl29P1yF7gbpQ8E/73qT9gLZwz+CcDjmHG7GP5YfS2VZm8o/qs5d5JXIzj/fPrgx6XrRP2mWQXGHkdM/8+3KsCWo1T+Hge2Mb5PZPxsVEGm5ft0/WFSZogG14D8inqqQpqriP/Tx8HIXlug/xkU3VYiB7j/MzL6bfDbyP+T6bpCtL/o/fpSPQm8UAUCKq+e8BxEFQJ6CKBUIHBBAdy/dS4yvFUBQ3JGCEEMbQJREo1xKayBA133UnU1QJkAatwXfUDUsQC54GxAqDTFAzxS0sKv/M0BwsUxRLfI2QG82HuYZbjpAbrvvegbqPUA2oOCH+bJAQLViSdLvcEJANCWyHOYuREA/iQMyZTdHQErtVEfkP0pAVVGmXGNITUCw2vs4cShQQGWtzHuwT1VAGoCdvu92WkDPUm4BL55fQJhLe1snCW1AAAAAAADAckA=\",\"dtype\":\"float64\",\"shape\":[82]},\"Variable\":[\"Sample section 1 - 50.0\\u00b5m\",\"Sample section 1 - 50.0\\u00b5m\",\"Sample section 1 - 50.0\\u00b5m\",\"Sample section 1 - 50.0\\u00b5m\",\"Sample section 1 - 50.0\\u00b5m\",\"Sample section 1 - 50.0\\u00b5m\",\"Sample section 1 - 50.0\\u00b5m\",\"Sample section 1 - 50.0\\u00b5m\",\"Sample section 1 - 50.0\\u00b5m\",\"Sample section 1 - 50.0\\u00b5m\",\"Sample section 1 - 50.0\\u00b5m\",\"Sample section 1 - 50.0\\u00b5m\",\"Sample section 1 - 50.0\\u00b5m\",\"Sample section 1 - 50.0\\u00b5m\",\"Sample section 1 - 50.0\\u00b5m\",\"Sample section 1 - 50.0\\u00b5m\",\"Sample section 1 - 50.0\\u00b5m\",\"Sample section 1 - 50.0\\u00b5m\",\"Sample section 1 - 50.0\\u00b5m\",\"Sample section 1 - 50.0\\u00b5m\",\"Sample section 1 - 50.0\\u00b5m\",\"Sample section 1 - 50.0\\u00b5m\",\"Sample section 1 - 50.0\\u00b5m\",\"Sample section 1 - 50.0\\u00b5m\",\"Sample section 1 - 50.0\\u00b5m\",\"Sample section 1 - 50.0\\u00b5m\",\"Sample section 1 - 50.0\\u00b5m\",\"Sample section 1 - 50.0\\u00b5m\",\"Sample section 1 - 50.0\\u00b5m\",\"Sample section 1 - 50.0\\u00b5m\",\"Sample section 1 - 50.0\\u00b5m\",\"Sample section 1 - 50.0\\u00b5m\",\"Sample section 1 - 50.0\\u00b5m\",\"Sample section 1 - 50.0\\u00b5m\",\"Sample section 1 - 50.0\\u00b5m\",\"Sample section 1 - 50.0\\u00b5m\",\"Sample section 1 - 50.0\\u00b5m\",\"Sample section 1 - 50.0\\u00b5m\",\"Sample section 1 - 50.0\\u00b5m\",\"Sample section 1 - 50.0\\u00b5m\",\"Sample section 1 - 50.0\\u00b5m\",\"Sample section 1 - 50.0\\u00b5m\",\"Sample section 1 - 50.0\\u00b5m\",\"Sample section 1 - 50.0\\u00b5m\",\"Sample section 1 - 50.0\\u00b5m\",\"Sample section 1 - 50.0\\u00b5m\",\"Sample section 1 - 50.0\\u00b5m\",\"Sample section 1 - 50.0\\u00b5m\",\"Sample section 1 - 50.0\\u00b5m\",\"Sample section 1 - 50.0\\u00b5m\",\"Sample section 1 - 50.0\\u00b5m\",\"Sample section 1 - 50.0\\u00b5m\",\"Sample section 1 - 50.0\\u00b5m\",\"Sample section 1 - 50.0\\u00b5m\",\"Sample section 1 - 50.0\\u00b5m\",\"Sample section 1 - 50.0\\u00b5m\",\"Sample section 1 - 50.0\\u00b5m\",\"Sample section 1 - 50.0\\u00b5m\",\"Sample section 1 - 50.0\\u00b5m\",\"Sample section 1 - 50.0\\u00b5m\",\"Sample section 1 - 50.0\\u00b5m\",\"Sample section 1 - 50.0\\u00b5m\",\"Sample section 1 - 50.0\\u00b5m\",\"Sample section 1 - 50.0\\u00b5m\",\"Sample section 1 - 50.0\\u00b5m\",\"Sample section 1 - 50.0\\u00b5m\",\"Sample section 1 - 50.0\\u00b5m\",\"Sample section 1 - 50.0\\u00b5m\",\"Sample section 1 - 50.0\\u00b5m\",\"Sample section 1 - 50.0\\u00b5m\",\"Sample section 1 - 50.0\\u00b5m\",\"Sample section 1 - 50.0\\u00b5m\",\"Sample section 1 - 50.0\\u00b5m\",\"Sample section 1 - 50.0\\u00b5m\",\"Sample section 1 - 50.0\\u00b5m\",\"Sample section 1 - 50.0\\u00b5m\",\"Sample section 1 - 50.0\\u00b5m\",\"Sample section 1 - 50.0\\u00b5m\",\"Sample section 1 - 50.0\\u00b5m\",\"Sample section 1 - 50.0\\u00b5m\",\"Sample section 1 - 50.0\\u00b5m\",\"Sample section 1 - 50.0\\u00b5m\"],\"value\":{\"__ndarray__\":\"AAAAAAAAAACfWNhrxgglPTvsYM/xq0Y9EHn4H1ACyj3MqCm34R3qPfvqQGdKwCE+b/cwhqQWPz4zsUzBV8pSPomUWsSZg4Q+hTAWPf58oD6AqLc/OcKyPiLISmzW5cw+04B+vbAH4D4+4kLnW5HtPipcPlURNfg+jmQy4byDCD8oIC1+ZQYVP24EqiUEMiA/5UQ3zNonJz+1P8LDRFgvPwqPWQ5wATg/6WNzWi7rQD8fq23We3pGPwxsF+6flUw/hG3wLBuTUT97R8CBJGZXPxsKjHz8mF0/e1c4Ik0HYj8ZPCXMiVhlP50Nb+bbt2g/6sOCR0lQbj/esNg63PRxP1WVM3fYu3Q/v8J6Tg95dz8pm4pL7il6P7osK87XxH4/393l+CmZgT/wC2htq7mDP1/pu0UCxYU/o76eTou8hz8D1iSMpFKMP+U4nKv5R5A/4vY+4HxEkj/q9NhuyyaUPwJAsY4SCpc/crb15CzJmT9BRi7xNW+cP8DB4nfvA58/hWQu3lDGoD+QrgtYYBujP2Vt1YLcZqU/o0MR/F+rpz9naZ7wsumpP52B7eq5R7A/D8AthOuCsz+CvZQBtKe2P0ZmTnpYtr4/PxsbK90Ywz9yMwZIA5LGP2BbsQ6RA88/5f+Sy0zv0j+JMWGpl7jVP+ldg+6t/Nc/Yx6iykh+2z8lm0B4PcPdP0gDebz9N98/+mm95QIT4D/iSZLpcl/gP95rt2UfmOA/o+CghhC64D8Uot1m883gP3vwdaR22eA/SI9BiUPg4D8SQSCvsuXgP7ikgcYx6OA/nuNrLZfp4D9bOds0POrgP/OmiLut6uA/IW3GtUrq4D/GoTOzPurgP+u/M7Vb6uA/z2DC5mPq4D8=\",\"dtype\":\"float64\",\"shape\":[82]}},\"selected\":{\"id\":\"3260\",\"type\":\"Selection\"},\"selection_policy\":{\"id\":\"3296\",\"type\":\"UnionRenderers\"}},\"id\":\"3259\",\"type\":\"ColumnDataSource\"},{\"attributes\":{\"label\":{\"value\":\"Section0003 - 8.333333333333334\\u00b5m\"},\"renderers\":[{\"id\":\"3328\",\"type\":\"GlyphRenderer\"}]},\"id\":\"3346\",\"type\":\"LegendItem\"},{\"attributes\":{\"bottom_units\":\"screen\",\"fill_alpha\":{\"value\":0.5},\"fill_color\":{\"value\":\"lightgrey\"},\"left_units\":\"screen\",\"level\":\"overlay\",\"line_alpha\":{\"value\":1.0},\"line_color\":{\"value\":\"black\"},\"line_dash\":[4,4],\"line_width\":{\"value\":2},\"render_mode\":\"css\",\"right_units\":\"screen\",\"top_units\":\"screen\"},\"id\":\"3239\",\"type\":\"BoxAnnotation\"},{\"attributes\":{},\"id\":\"3227\",\"type\":\"Selection\"},{\"attributes\":{\"callback\":null,\"data\":{\"Time\":{\"__ndarray__\":\"AAAAAAAAAABubEp9asTBPm5sSn1qxNE+pqLvu5+m+j4YVUZsEm4IPy3TAcwk7h4/5z3wMKDSKD8cye/9FhcxP0ascBQJpEE//nPpqYa8Sj/bHbEfgupRP7sZkT0rzFo/zoq4LerWYT++iKi8vkdmP66GmEuTuGo/nyADBZtucT/n/Tlk7IB1Py/bcMM9k3k/d7inIo+lfT/gSu9A8NuAP7ZUuRuTV4Q/jF6D9jXThz9iaE3R2E6LPzhyF6x7yo4/B75wQw8jkT/N0aiBvQOUP5Pl4L9r5JY/WfkY/hnFmT8fDVE8yKWcP+UgiXp2hp8/ZGDToHIgoj9WMGIEqn2kP0gA8Wfh2qY/OtB/yxg4qT8soA4vUJWrP+hhj3g3v68/0hEIYY/0sT+wcsgFgwm0P47TiKp2HrY/bDRJT2ozuD+SH5Munl29P1yF7gbpQ8E/73qT9gLZwz+CcDjmHG7GP5YfS2VZm8o/qs5d5JXIzj/fPrgx6XrRP2mWQXGHkdM/8+3KsCWo1T+Hge2Mb5PZPxsVEGm5ft0/WFSZogG14D8inqqQpqriP/Tx8HIXlug/xkU3VYiB7j/MzL6bfDbyP+T6bpCtL/o/fpSPQm8UAUCKq+e8BxEFQJ6CKBUIHBBAdy/dS4yvFUBQ3JGCEEMbQJREo1xKayBA133UnU1QJkAatwXfUDUsQC54GxAqDTFAzxS0sKv/M0BwsUxRLfI2QG82HuYZbjpAbrvvegbqPUA2oOCH+bJAQLViSdLvcEJANCWyHOYuREA/iQMyZTdHQErtVEfkP0pAVVGmXGNITUCw2vs4cShQQGWtzHuwT1VAGoCdvu92WkDPUm4BL55fQJhLe1snCW1AAAAAAADAckA=\",\"dtype\":\"float64\",\"shape\":[82]},\"Variable\":[\"Sample section 1 - 70.0\\u00b5m\",\"Sample section 1 - 70.0\\u00b5m\",\"Sample section 1 - 70.0\\u00b5m\",\"Sample section 1 - 70.0\\u00b5m\",\"Sample section 1 - 70.0\\u00b5m\",\"Sample section 1 - 70.0\\u00b5m\",\"Sample section 1 - 70.0\\u00b5m\",\"Sample section 1 - 70.0\\u00b5m\",\"Sample section 1 - 70.0\\u00b5m\",\"Sample section 1 - 70.0\\u00b5m\",\"Sample section 1 - 70.0\\u00b5m\",\"Sample section 1 - 70.0\\u00b5m\",\"Sample section 1 - 70.0\\u00b5m\",\"Sample section 1 - 70.0\\u00b5m\",\"Sample section 1 - 70.0\\u00b5m\",\"Sample section 1 - 70.0\\u00b5m\",\"Sample section 1 - 70.0\\u00b5m\",\"Sample section 1 - 70.0\\u00b5m\",\"Sample section 1 - 70.0\\u00b5m\",\"Sample section 1 - 70.0\\u00b5m\",\"Sample section 1 - 70.0\\u00b5m\",\"Sample section 1 - 70.0\\u00b5m\",\"Sample section 1 - 70.0\\u00b5m\",\"Sample section 1 - 70.0\\u00b5m\",\"Sample section 1 - 70.0\\u00b5m\",\"Sample section 1 - 70.0\\u00b5m\",\"Sample section 1 - 70.0\\u00b5m\",\"Sample section 1 - 70.0\\u00b5m\",\"Sample section 1 - 70.0\\u00b5m\",\"Sample section 1 - 70.0\\u00b5m\",\"Sample section 1 - 70.0\\u00b5m\",\"Sample section 1 - 70.0\\u00b5m\",\"Sample section 1 - 70.0\\u00b5m\",\"Sample section 1 - 70.0\\u00b5m\",\"Sample section 1 - 70.0\\u00b5m\",\"Sample section 1 - 70.0\\u00b5m\",\"Sample section 1 - 70.0\\u00b5m\",\"Sample section 1 - 70.0\\u00b5m\",\"Sample section 1 - 70.0\\u00b5m\",\"Sample section 1 - 70.0\\u00b5m\",\"Sample section 1 - 70.0\\u00b5m\",\"Sample section 1 - 70.0\\u00b5m\",\"Sample section 1 - 70.0\\u00b5m\",\"Sample section 1 - 70.0\\u00b5m\",\"Sample section 1 - 70.0\\u00b5m\",\"Sample section 1 - 70.0\\u00b5m\",\"Sample section 1 - 70.0\\u00b5m\",\"Sample section 1 - 70.0\\u00b5m\",\"Sample section 1 - 70.0\\u00b5m\",\"Sample section 1 - 70.0\\u00b5m\",\"Sample section 1 - 70.0\\u00b5m\",\"Sample section 1 - 70.0\\u00b5m\",\"Sample section 1 - 70.0\\u00b5m\",\"Sample section 1 - 70.0\\u00b5m\",\"Sample section 1 - 70.0\\u00b5m\",\"Sample section 1 - 70.0\\u00b5m\",\"Sample section 1 - 70.0\\u00b5m\",\"Sample section 1 - 70.0\\u00b5m\",\"Sample section 1 - 70.0\\u00b5m\",\"Sample section 1 - 70.0\\u00b5m\",\"Sample section 1 - 70.0\\u00b5m\",\"Sample section 1 - 70.0\\u00b5m\",\"Sample section 1 - 70.0\\u00b5m\",\"Sample section 1 - 70.0\\u00b5m\",\"Sample section 1 - 70.0\\u00b5m\",\"Sample section 1 - 70.0\\u00b5m\",\"Sample section 1 - 70.0\\u00b5m\",\"Sample section 1 - 70.0\\u00b5m\",\"Sample section 1 - 70.0\\u00b5m\",\"Sample section 1 - 70.0\\u00b5m\",\"Sample section 1 - 70.0\\u00b5m\",\"Sample section 1 - 70.0\\u00b5m\",\"Sample section 1 - 70.0\\u00b5m\",\"Sample section 1 - 70.0\\u00b5m\",\"Sample section 1 - 70.0\\u00b5m\",\"Sample section 1 - 70.0\\u00b5m\",\"Sample section 1 - 70.0\\u00b5m\",\"Sample section 1 - 70.0\\u00b5m\",\"Sample section 1 - 70.0\\u00b5m\",\"Sample section 1 - 70.0\\u00b5m\",\"Sample section 1 - 70.0\\u00b5m\",\"Sample section 1 - 70.0\\u00b5m\"],\"value\":{\"__ndarray__\":\"AAAAAAAAAADAara+YqhZPCx0sZbKiIE8sXrH9IzLMz1RrYM1xo9ZPdl46kSWiaE9Xk0HipWHxD13KO45sQrfPceiSY/7XyM+RjuddssyRT6pJLcigklePikFYcZIZ4A+yV7MQ/tRlz5rrllD3z6qPt1OwW8jY7k+qOiiJP1t0D797QAJcB3hPo0GVgx16+4+jhfrFUZC+T44l5DgeSgDPzZzaOlHPxE/C285kD26Gz8P36T6w40kP+1neJ3Vriw/JR5kxPYZMz8DI0gmuWQ8P4VTUARYo0M/yOAglZrCST+SClHxAzpQP1XdWAsOz1M/LX/uJIIXWj+EhVoKal1gPx3RzA63zGM/j/DSvDdOZz/EcGjcr9lqP5TFS6I1j3A/XJaE4Riucz88zPy5zcR2P5IppK4a0Xk/X7twXxvSfD/7yUIdvguCP5iVo0g3kIU/LD69RLX8iD+9emuLxFaMP2kY+A9m0pA/mRYgwqBrkz9dtfm2f/qVP/NeyNWPgZg/jy+RxqQCmz8zycM+kqifP49D8ZSBIKI/BbcWw9hmpD86G+lKmqemP5AXD4DuVa0/vpwZv7zqsT8mIgPp8BO1P6ZMTpHHLb0/KF/WYsVZwj+K02EJv9fFP0Jpn0sIVc4/Q5eONsyc0j847/kk9mnVP5YL43kysdc/P9fYKa032z/vkTT6yX/dP+WVG1eQ9t4/8rDDuOLl3z9Ovw9hyz/gP4ZqIZrGeOA/sYfJ9+aa4D9ps8Z35a7gPzgBU554uuA/zoqL407B4D/GMpxCxcbgP6sZksNHyeA/FCoJPK/K4D96zCRPVcvgPztu6fnHy+A/l/7TbmTL4D9t8sUHWMvgP2R7ux91y+A/9l3RSX3L4D8=\",\"dtype\":\"float64\",\"shape\":[82]}},\"selected\":{\"id\":\"3279\",\"type\":\"Selection\"},\"selection_policy\":{\"id\":\"3319\",\"type\":\"UnionRenderers\"}},\"id\":\"3278\",\"type\":\"ColumnDataSource\"},{\"attributes\":{},\"id\":\"3210\",\"type\":\"SaveTool\"},{\"attributes\":{\"line_color\":\"#d62628\",\"line_width\":2,\"x\":{\"field\":\"Time\"},\"y\":{\"field\":\"value\"}},\"id\":\"3281\",\"type\":\"Line\"},{\"attributes\":{\"overlay\":{\"id\":\"3239\",\"type\":\"BoxAnnotation\"}},\"id\":\"3213\",\"type\":\"BoxZoomTool\"},{\"attributes\":{\"data_source\":{\"id\":\"3226\",\"type\":\"ColumnDataSource\"},\"glyph\":{\"id\":\"3229\",\"type\":\"Line\"},\"hover_glyph\":null,\"muted_glyph\":{\"id\":\"3231\",\"type\":\"Line\"},\"nonselection_glyph\":{\"id\":\"3230\",\"type\":\"Line\"},\"selection_glyph\":null,\"view\":{\"id\":\"3233\",\"type\":\"CDSView\"}},\"id\":\"3232\",\"type\":\"GlyphRenderer\"},{\"attributes\":{\"callback\":null,\"data\":{\"Time\":{\"__ndarray__\":\"AAAAAAAAAABubEp9asTBPm5sSn1qxNE+pqLvu5+m+j4YVUZsEm4IPy3TAcwk7h4/5z3wMKDSKD8cye/9FhcxP0ascBQJpEE//nPpqYa8Sj/bHbEfgupRP7sZkT0rzFo/zoq4LerWYT++iKi8vkdmP66GmEuTuGo/nyADBZtucT/n/Tlk7IB1Py/bcMM9k3k/d7inIo+lfT/gSu9A8NuAP7ZUuRuTV4Q/jF6D9jXThz9iaE3R2E6LPzhyF6x7yo4/B75wQw8jkT/N0aiBvQOUP5Pl4L9r5JY/WfkY/hnFmT8fDVE8yKWcP+UgiXp2hp8/ZGDToHIgoj9WMGIEqn2kP0gA8Wfh2qY/OtB/yxg4qT8soA4vUJWrP+hhj3g3v68/0hEIYY/0sT+wcsgFgwm0P47TiKp2HrY/bDRJT2ozuD+SH5Munl29P1yF7gbpQ8E/73qT9gLZwz+CcDjmHG7GP5YfS2VZm8o/qs5d5JXIzj/fPrgx6XrRP2mWQXGHkdM/8+3KsCWo1T+Hge2Mb5PZPxsVEGm5ft0/WFSZogG14D8inqqQpqriP/Tx8HIXlug/xkU3VYiB7j/MzL6bfDbyP+T6bpCtL/o/fpSPQm8UAUCKq+e8BxEFQJ6CKBUIHBBAdy/dS4yvFUBQ3JGCEEMbQJREo1xKayBA133UnU1QJkAatwXfUDUsQC54GxAqDTFAzxS0sKv/M0BwsUxRLfI2QG82HuYZbjpAbrvvegbqPUA2oOCH+bJAQLViSdLvcEJANCWyHOYuREA/iQMyZTdHQErtVEfkP0pAVVGmXGNITUCw2vs4cShQQGWtzHuwT1VAGoCdvu92WkDPUm4BL55fQJhLe1snCW1AAAAAAADAckA=\",\"dtype\":\"float64\",\"shape\":[82]},\"Variable\":[\"Section0003 - 8.333333333333334\\u00b5m\",\"Section0003 - 8.333333333333334\\u00b5m\",\"Section0003 - 8.333333333333334\\u00b5m\",\"Section0003 - 8.333333333333334\\u00b5m\",\"Section0003 - 8.333333333333334\\u00b5m\",\"Section0003 - 8.333333333333334\\u00b5m\",\"Section0003 - 8.333333333333334\\u00b5m\",\"Section0003 - 8.333333333333334\\u00b5m\",\"Section0003 - 8.333333333333334\\u00b5m\",\"Section0003 - 8.333333333333334\\u00b5m\",\"Section0003 - 8.333333333333334\\u00b5m\",\"Section0003 - 8.333333333333334\\u00b5m\",\"Section0003 - 8.333333333333334\\u00b5m\",\"Section0003 - 8.333333333333334\\u00b5m\",\"Section0003 - 8.333333333333334\\u00b5m\",\"Section0003 - 8.333333333333334\\u00b5m\",\"Section0003 - 8.333333333333334\\u00b5m\",\"Section0003 - 8.333333333333334\\u00b5m\",\"Section0003 - 8.333333333333334\\u00b5m\",\"Section0003 - 8.333333333333334\\u00b5m\",\"Section0003 - 8.333333333333334\\u00b5m\",\"Section0003 - 8.333333333333334\\u00b5m\",\"Section0003 - 8.333333333333334\\u00b5m\",\"Section0003 - 8.333333333333334\\u00b5m\",\"Section0003 - 8.333333333333334\\u00b5m\",\"Section0003 - 8.333333333333334\\u00b5m\",\"Section0003 - 8.333333333333334\\u00b5m\",\"Section0003 - 8.333333333333334\\u00b5m\",\"Section0003 - 8.333333333333334\\u00b5m\",\"Section0003 - 8.333333333333334\\u00b5m\",\"Section0003 - 8.333333333333334\\u00b5m\",\"Section0003 - 8.333333333333334\\u00b5m\",\"Section0003 - 8.333333333333334\\u00b5m\",\"Section0003 - 8.333333333333334\\u00b5m\",\"Section0003 - 8.333333333333334\\u00b5m\",\"Section0003 - 8.333333333333334\\u00b5m\",\"Section0003 - 8.333333333333334\\u00b5m\",\"Section0003 - 8.333333333333334\\u00b5m\",\"Section0003 - 8.333333333333334\\u00b5m\",\"Section0003 - 8.333333333333334\\u00b5m\",\"Section0003 - 8.333333333333334\\u00b5m\",\"Section0003 - 8.333333333333334\\u00b5m\",\"Section0003 - 8.333333333333334\\u00b5m\",\"Section0003 - 8.333333333333334\\u00b5m\",\"Section0003 - 8.333333333333334\\u00b5m\",\"Section0003 - 8.333333333333334\\u00b5m\",\"Section0003 - 8.333333333333334\\u00b5m\",\"Section0003 - 8.333333333333334\\u00b5m\",\"Section0003 - 8.333333333333334\\u00b5m\",\"Section0003 - 8.333333333333334\\u00b5m\",\"Section0003 - 8.333333333333334\\u00b5m\",\"Section0003 - 8.333333333333334\\u00b5m\",\"Section0003 - 8.333333333333334\\u00b5m\",\"Section0003 - 8.333333333333334\\u00b5m\",\"Section0003 - 8.333333333333334\\u00b5m\",\"Section0003 - 8.333333333333334\\u00b5m\",\"Section0003 - 8.333333333333334\\u00b5m\",\"Section0003 - 8.333333333333334\\u00b5m\",\"Section0003 - 8.333333333333334\\u00b5m\",\"Section0003 - 8.333333333333334\\u00b5m\",\"Section0003 - 8.333333333333334\\u00b5m\",\"Section0003 - 8.333333333333334\\u00b5m\",\"Section0003 - 8.333333333333334\\u00b5m\",\"Section0003 - 8.333333333333334\\u00b5m\",\"Section0003 - 8.333333333333334\\u00b5m\",\"Section0003 - 8.333333333333334\\u00b5m\",\"Section0003 - 8.333333333333334\\u00b5m\",\"Section0003 - 8.333333333333334\\u00b5m\",\"Section0003 - 8.333333333333334\\u00b5m\",\"Section0003 - 8.333333333333334\\u00b5m\",\"Section0003 - 8.333333333333334\\u00b5m\",\"Section0003 - 8.333333333333334\\u00b5m\",\"Section0003 - 8.333333333333334\\u00b5m\",\"Section0003 - 8.333333333333334\\u00b5m\",\"Section0003 - 8.333333333333334\\u00b5m\",\"Section0003 - 8.333333333333334\\u00b5m\",\"Section0003 - 8.333333333333334\\u00b5m\",\"Section0003 - 8.333333333333334\\u00b5m\",\"Section0003 - 8.333333333333334\\u00b5m\",\"Section0003 - 8.333333333333334\\u00b5m\",\"Section0003 - 8.333333333333334\\u00b5m\",\"Section0003 - 8.333333333333334\\u00b5m\"],\"value\":{\"__ndarray__\":\"AAAAAAAAAAAXEFcishnEOpO2npvkivM6GolRRh35BzzYtz3AG102PDm77ApI4p88DYnGoWopzTw+ncTYcoDvPJr5r9vabF49djIld2yPij1f+DsyCkCrPaFTZvwmfNs9i/uD8Iiz/T2C72fbz3EXPqxIoG8BSC4+x9xobReLTj4E9866AqlmPoqM/Z2Bb3s+VKS5aH3AjD4K2Y9xKwybPv6Qq/ykkbA+AHQ+ks0owT5ev7YAa4LPPjgnRE4Yb9o+5Kt13R+u5D52S4ZRkUnzPmVemm5pJQA/3t5HDwj1CD8wD5rw8SQSP4wXHbmNJRk/260TafjXIz+01WIctQstP8ldOxOyFzQ/yxmKj8KdOj/R/OKgtghBPzEy7396rEg/sfZrxhrMUD94W2REZtdVP6jT4dITals/AEKruHm7YD9PZLoSmh9pPzCoMDhwQ3E/joUlEmtYdj/ozHa8iLZ7P1CUwZbhaII/SW7pdJkjhz/0MyxIBPqLP5zdoxIUcJA/5L8vx/vmkj9yOL5vO4qXP8s8RfovKZw/rwLwq/pfoD8LHYhswaaiPxtkh4cmaak/POSAIov9rz+YA0psEDKzP781lz+KZbs/WgBrkoqBwT8ECd5ukQrFP0GgcGe4os0/d52WL41O0j/luYmblCTVP24BabcGc9c/LHWIM6oE2z/MTmy+AFTdPxAEcVlpz94/YFcCk7DB3z/CLdpBpS7gP+0OT8tUaOA/ZdN6QeGK4D+4H2QFH5/gP8jWXbHWquA/STA3gsKx4D+X0nzBSbfgPxlk3SDUueA/yNyfNEC74D/Izq+F6LvgP81YnERdvOA/u1UdhPi74D//0DqM67vgP9nZ/+gIvOA/nFosFRG84D8=\",\"dtype\":\"float64\",\"shape\":[82]}},\"selected\":{\"id\":\"3323\",\"type\":\"Selection\"},\"selection_policy\":{\"id\":\"3371\",\"type\":\"UnionRenderers\"}},\"id\":\"3322\",\"type\":\"ColumnDataSource\"},{\"attributes\":{\"text\":\"\",\"text_color\":{\"value\":\"black\"},\"text_font_size\":{\"value\":\"12pt\"}},\"id\":\"3192\",\"type\":\"Title\"},{\"attributes\":{\"source\":{\"id\":\"3226\",\"type\":\"ColumnDataSource\"}},\"id\":\"3233\",\"type\":\"CDSView\"},{\"attributes\":{\"grid_line_color\":null,\"ticker\":{\"id\":\"3201\",\"type\":\"BasicTicker\"}},\"id\":\"3204\",\"type\":\"Grid\"},{\"attributes\":{\"line_alpha\":0.2,\"line_color\":\"#ff7e0e\",\"line_width\":2,\"x\":{\"field\":\"Time\"},\"y\":{\"field\":\"value\"}},\"id\":\"3247\",\"type\":\"Line\"},{\"attributes\":{},\"id\":\"3256\",\"type\":\"UnionRenderers\"},{\"attributes\":{\"line_alpha\":0.1,\"line_color\":\"#ff7e0e\",\"line_width\":2,\"x\":{\"field\":\"Time\"},\"y\":{\"field\":\"value\"}},\"id\":\"3246\",\"type\":\"Line\"},{\"attributes\":{\"line_alpha\":0.1,\"line_color\":\"#7e7e7e\",\"line_width\":2,\"x\":{\"field\":\"Time\"},\"y\":{\"field\":\"value\"}},\"id\":\"3378\",\"type\":\"Line\"},{\"attributes\":{\"label\":{\"value\":\"Sample section 1 - 50.0\\u00b5m\"},\"renderers\":[{\"id\":\"3265\",\"type\":\"GlyphRenderer\"}]},\"id\":\"3277\",\"type\":\"LegendItem\"},{\"attributes\":{\"click_policy\":\"mute\",\"items\":[{\"id\":\"3241\",\"type\":\"LegendItem\"},{\"id\":\"3258\",\"type\":\"LegendItem\"},{\"id\":\"3277\",\"type\":\"LegendItem\"},{\"id\":\"3298\",\"type\":\"LegendItem\"},{\"id\":\"3321\",\"type\":\"LegendItem\"},{\"id\":\"3346\",\"type\":\"LegendItem\"},{\"id\":\"3373\",\"type\":\"LegendItem\"},{\"id\":\"3402\",\"type\":\"LegendItem\"}],\"location\":[0,0]},\"id\":\"3240\",\"type\":\"Legend\"},{\"attributes\":{},\"id\":\"3260\",\"type\":\"Selection\"},{\"attributes\":{},\"id\":\"3212\",\"type\":\"WheelZoomTool\"},{\"attributes\":{},\"id\":\"3201\",\"type\":\"BasicTicker\"},{\"attributes\":{\"data_source\":{\"id\":\"3299\",\"type\":\"ColumnDataSource\"},\"glyph\":{\"id\":\"3302\",\"type\":\"Line\"},\"hover_glyph\":null,\"muted_glyph\":{\"id\":\"3304\",\"type\":\"Line\"},\"nonselection_glyph\":{\"id\":\"3303\",\"type\":\"Line\"},\"selection_glyph\":null,\"view\":{\"id\":\"3306\",\"type\":\"CDSView\"}},\"id\":\"3305\",\"type\":\"GlyphRenderer\"},{\"attributes\":{},\"id\":\"3222\",\"type\":\"BasicTickFormatter\"},{\"attributes\":{\"line_alpha\":0.2,\"line_color\":\"#1f77b3\",\"line_width\":2,\"x\":{\"field\":\"Time\"},\"y\":{\"field\":\"value\"}},\"id\":\"3231\",\"type\":\"Line\"},{\"attributes\":{\"line_alpha\":0.2,\"line_color\":\"#d62628\",\"line_width\":2,\"x\":{\"field\":\"Time\"},\"y\":{\"field\":\"value\"}},\"id\":\"3283\",\"type\":\"Line\"},{\"attributes\":{\"label\":{\"value\":\"Section0003 - 41.666666666666664\\u00b5m\"},\"renderers\":[{\"id\":\"3380\",\"type\":\"GlyphRenderer\"}]},\"id\":\"3402\",\"type\":\"LegendItem\"},{\"attributes\":{\"label\":{\"value\":\"Sample section 1 - 70.0\\u00b5m\"},\"renderers\":[{\"id\":\"3284\",\"type\":\"GlyphRenderer\"}]},\"id\":\"3298\",\"type\":\"LegendItem\"},{\"attributes\":{\"line_color\":\"#1f77b3\",\"line_width\":2,\"x\":{\"field\":\"Time\"},\"y\":{\"field\":\"value\"}},\"id\":\"3229\",\"type\":\"Line\"},{\"attributes\":{\"dimension\":1,\"grid_line_color\":null,\"ticker\":{\"id\":\"3206\",\"type\":\"BasicTicker\"}},\"id\":\"3209\",\"type\":\"Grid\"},{\"attributes\":{},\"id\":\"3214\",\"type\":\"ResetTool\"},{\"attributes\":{\"label\":{\"value\":\"Sample section 1 - 10.0\\u00b5m\"},\"renderers\":[{\"id\":\"3232\",\"type\":\"GlyphRenderer\"}]},\"id\":\"3241\",\"type\":\"LegendItem\"},{\"attributes\":{},\"id\":\"3211\",\"type\":\"PanTool\"},{\"attributes\":{\"line_color\":\"#ff7e0e\",\"line_width\":2,\"x\":{\"field\":\"Time\"},\"y\":{\"field\":\"value\"}},\"id\":\"3245\",\"type\":\"Line\"},{\"attributes\":{\"active_drag\":\"auto\",\"active_inspect\":\"auto\",\"active_multi\":null,\"active_scroll\":\"auto\",\"active_tap\":\"auto\",\"tools\":[{\"id\":\"3183\",\"type\":\"HoverTool\"},{\"id\":\"3210\",\"type\":\"SaveTool\"},{\"id\":\"3211\",\"type\":\"PanTool\"},{\"id\":\"3212\",\"type\":\"WheelZoomTool\"},{\"id\":\"3213\",\"type\":\"BoxZoomTool\"},{\"id\":\"3214\",\"type\":\"ResetTool\"}]},\"id\":\"3215\",\"type\":\"Toolbar\"},{\"attributes\":{\"line_color\":\"#9367bc\",\"line_width\":2,\"x\":{\"field\":\"Time\"},\"y\":{\"field\":\"value\"}},\"id\":\"3302\",\"type\":\"Line\"},{\"attributes\":{},\"id\":\"3400\",\"type\":\"UnionRenderers\"},{\"attributes\":{\"source\":{\"id\":\"3242\",\"type\":\"ColumnDataSource\"}},\"id\":\"3249\",\"type\":\"CDSView\"},{\"attributes\":{},\"id\":\"3279\",\"type\":\"Selection\"},{\"attributes\":{\"callback\":null,\"data\":{\"Time\":{\"__ndarray__\":\"AAAAAAAAAABubEp9asTBPm5sSn1qxNE+pqLvu5+m+j4YVUZsEm4IPy3TAcwk7h4/5z3wMKDSKD8cye/9FhcxP0ascBQJpEE//nPpqYa8Sj/bHbEfgupRP7sZkT0rzFo/zoq4LerWYT++iKi8vkdmP66GmEuTuGo/nyADBZtucT/n/Tlk7IB1Py/bcMM9k3k/d7inIo+lfT/gSu9A8NuAP7ZUuRuTV4Q/jF6D9jXThz9iaE3R2E6LPzhyF6x7yo4/B75wQw8jkT/N0aiBvQOUP5Pl4L9r5JY/WfkY/hnFmT8fDVE8yKWcP+UgiXp2hp8/ZGDToHIgoj9WMGIEqn2kP0gA8Wfh2qY/OtB/yxg4qT8soA4vUJWrP+hhj3g3v68/0hEIYY/0sT+wcsgFgwm0P47TiKp2HrY/bDRJT2ozuD+SH5Munl29P1yF7gbpQ8E/73qT9gLZwz+CcDjmHG7GP5YfS2VZm8o/qs5d5JXIzj/fPrgx6XrRP2mWQXGHkdM/8+3KsCWo1T+Hge2Mb5PZPxsVEGm5ft0/WFSZogG14D8inqqQpqriP/Tx8HIXlug/xkU3VYiB7j/MzL6bfDbyP+T6bpCtL/o/fpSPQm8UAUCKq+e8BxEFQJ6CKBUIHBBAdy/dS4yvFUBQ3JGCEEMbQJREo1xKayBA133UnU1QJkAatwXfUDUsQC54GxAqDTFAzxS0sKv/M0BwsUxRLfI2QG82HuYZbjpAbrvvegbqPUA2oOCH+bJAQLViSdLvcEJANCWyHOYuREA/iQMyZTdHQErtVEfkP0pAVVGmXGNITUCw2vs4cShQQGWtzHuwT1VAGoCdvu92WkDPUm4BL55fQJhLe1snCW1AAAAAAADAckA=\",\"dtype\":\"float64\",\"shape\":[82]},\"Variable\":[\"Sample section 1 - 90.0\\u00b5m\",\"Sample section 1 - 90.0\\u00b5m\",\"Sample section 1 - 90.0\\u00b5m\",\"Sample section 1 - 90.0\\u00b5m\",\"Sample section 1 - 90.0\\u00b5m\",\"Sample section 1 - 90.0\\u00b5m\",\"Sample section 1 - 90.0\\u00b5m\",\"Sample section 1 - 90.0\\u00b5m\",\"Sample section 1 - 90.0\\u00b5m\",\"Sample section 1 - 90.0\\u00b5m\",\"Sample section 1 - 90.0\\u00b5m\",\"Sample section 1 - 90.0\\u00b5m\",\"Sample section 1 - 90.0\\u00b5m\",\"Sample section 1 - 90.0\\u00b5m\",\"Sample section 1 - 90.0\\u00b5m\",\"Sample section 1 - 90.0\\u00b5m\",\"Sample section 1 - 90.0\\u00b5m\",\"Sample section 1 - 90.0\\u00b5m\",\"Sample section 1 - 90.0\\u00b5m\",\"Sample section 1 - 90.0\\u00b5m\",\"Sample section 1 - 90.0\\u00b5m\",\"Sample section 1 - 90.0\\u00b5m\",\"Sample section 1 - 90.0\\u00b5m\",\"Sample section 1 - 90.0\\u00b5m\",\"Sample section 1 - 90.0\\u00b5m\",\"Sample section 1 - 90.0\\u00b5m\",\"Sample section 1 - 90.0\\u00b5m\",\"Sample section 1 - 90.0\\u00b5m\",\"Sample section 1 - 90.0\\u00b5m\",\"Sample section 1 - 90.0\\u00b5m\",\"Sample section 1 - 90.0\\u00b5m\",\"Sample section 1 - 90.0\\u00b5m\",\"Sample section 1 - 90.0\\u00b5m\",\"Sample section 1 - 90.0\\u00b5m\",\"Sample section 1 - 90.0\\u00b5m\",\"Sample section 1 - 90.0\\u00b5m\",\"Sample section 1 - 90.0\\u00b5m\",\"Sample section 1 - 90.0\\u00b5m\",\"Sample section 1 - 90.0\\u00b5m\",\"Sample section 1 - 90.0\\u00b5m\",\"Sample section 1 - 90.0\\u00b5m\",\"Sample section 1 - 90.0\\u00b5m\",\"Sample section 1 - 90.0\\u00b5m\",\"Sample section 1 - 90.0\\u00b5m\",\"Sample section 1 - 90.0\\u00b5m\",\"Sample section 1 - 90.0\\u00b5m\",\"Sample section 1 - 90.0\\u00b5m\",\"Sample section 1 - 90.0\\u00b5m\",\"Sample section 1 - 90.0\\u00b5m\",\"Sample section 1 - 90.0\\u00b5m\",\"Sample section 1 - 90.0\\u00b5m\",\"Sample section 1 - 90.0\\u00b5m\",\"Sample section 1 - 90.0\\u00b5m\",\"Sample section 1 - 90.0\\u00b5m\",\"Sample section 1 - 90.0\\u00b5m\",\"Sample section 1 - 90.0\\u00b5m\",\"Sample section 1 - 90.0\\u00b5m\",\"Sample section 1 - 90.0\\u00b5m\",\"Sample section 1 - 90.0\\u00b5m\",\"Sample section 1 - 90.0\\u00b5m\",\"Sample section 1 - 90.0\\u00b5m\",\"Sample section 1 - 90.0\\u00b5m\",\"Sample section 1 - 90.0\\u00b5m\",\"Sample section 1 - 90.0\\u00b5m\",\"Sample section 1 - 90.0\\u00b5m\",\"Sample section 1 - 90.0\\u00b5m\",\"Sample section 1 - 90.0\\u00b5m\",\"Sample section 1 - 90.0\\u00b5m\",\"Sample section 1 - 90.0\\u00b5m\",\"Sample section 1 - 90.0\\u00b5m\",\"Sample section 1 - 90.0\\u00b5m\",\"Sample section 1 - 90.0\\u00b5m\",\"Sample section 1 - 90.0\\u00b5m\",\"Sample section 1 - 90.0\\u00b5m\",\"Sample section 1 - 90.0\\u00b5m\",\"Sample section 1 - 90.0\\u00b5m\",\"Sample section 1 - 90.0\\u00b5m\",\"Sample section 1 - 90.0\\u00b5m\",\"Sample section 1 - 90.0\\u00b5m\",\"Sample section 1 - 90.0\\u00b5m\",\"Sample section 1 - 90.0\\u00b5m\",\"Sample section 1 - 90.0\\u00b5m\"],\"value\":{\"__ndarray__\":\"AAAAAAAAAACQYWqlQkuPO0bkj7Yc6Lk7Cy4q9WwSnjzNUgq35r3HPJipO7beiSA9tVoPL0GsSD0ck9JumZhmPVh8TQYlLsE9YvpP+45O6D0w5xHtISAFPq4TgBmbji8+qFQwU/8JTD40+8C4eOViPktDEl9ST3U+W+nguKlgkT4r7BaBdselPu6Gwzj76rY+QJj3qxNMxT7EdrWvawrSPkP4/Qv6/eI+THDp+5VW8T5b/qxW8JX8PvObImQ61AU/iN18Fh5sDz/7rqJfHwAaPzL50WxgoiM/wl/21wi4Kz+GXRzaTZYyP/l0akVC8zc/DGvw0oIAQT89CifArLJGP4jHrJBR9Uw/hWniQ0/ZUT/pSWFIimxVP2omt/PpIlw/CfGlWrqkYT9FNLj2HmZlP1LHK4JpTmk/HwAKLgVYbT+O/Jl2zOlzP2VIBhxKaHk/M8EGaVYWfz9WLFoj/HOCPzLDVLtDQoc/+841FdUkjD/BQjvbP4mQP82uyX2RApM/sYVSBF98lT9NlqeScx+aP8jKTrgau54/FM26Wa2moT+GjQEN3eqjPz7arFbSpKo/XBrKqEaYsD+Mh/B4X8ezP02zv9Yr8Ls/8hwYZufBwT91yQHwU0bFP2hj8m1K080/5aPlCkti0j9kKWw+oTTVPwuqF50SgNc/Q4OkWRAN2z9fkl6cZFndP2HlIy7f0t4/RS/DI+vD3z/ROEhUXS/gPxE0N8TBaOA/4iBpNyGL4D/OSbChRJ/gPwY9HxXtquA/NpGX6s+x4D8z2akYULfgPwJ1WS/XueA/g83WW0G74D9m7GLC6LvgP/oEibNcvOA/E2ZpdPi74D/VOPSu67vgP6Ox5ewIvOA/aqb5FRG84D8=\",\"dtype\":\"float64\",\"shape\":[82]}},\"selected\":{\"id\":\"3300\",\"type\":\"Selection\"},\"selection_policy\":{\"id\":\"3344\",\"type\":\"UnionRenderers\"}},\"id\":\"3299\",\"type\":\"ColumnDataSource\"},{\"attributes\":{\"line_alpha\":0.2,\"line_color\":\"#9367bc\",\"line_width\":2,\"x\":{\"field\":\"Time\"},\"y\":{\"field\":\"value\"}},\"id\":\"3304\",\"type\":\"Line\"},{\"attributes\":{\"callback\":null,\"data\":{\"Time\":{\"__ndarray__\":\"AAAAAAAAAABubEp9asTBPm5sSn1qxNE+pqLvu5+m+j4YVUZsEm4IPy3TAcwk7h4/5z3wMKDSKD8cye/9FhcxP0ascBQJpEE//nPpqYa8Sj/bHbEfgupRP7sZkT0rzFo/zoq4LerWYT++iKi8vkdmP66GmEuTuGo/nyADBZtucT/n/Tlk7IB1Py/bcMM9k3k/d7inIo+lfT/gSu9A8NuAP7ZUuRuTV4Q/jF6D9jXThz9iaE3R2E6LPzhyF6x7yo4/B75wQw8jkT/N0aiBvQOUP5Pl4L9r5JY/WfkY/hnFmT8fDVE8yKWcP+UgiXp2hp8/ZGDToHIgoj9WMGIEqn2kP0gA8Wfh2qY/OtB/yxg4qT8soA4vUJWrP+hhj3g3v68/0hEIYY/0sT+wcsgFgwm0P47TiKp2HrY/bDRJT2ozuD+SH5Munl29P1yF7gbpQ8E/73qT9gLZwz+CcDjmHG7GP5YfS2VZm8o/qs5d5JXIzj/fPrgx6XrRP2mWQXGHkdM/8+3KsCWo1T+Hge2Mb5PZPxsVEGm5ft0/WFSZogG14D8inqqQpqriP/Tx8HIXlug/xkU3VYiB7j/MzL6bfDbyP+T6bpCtL/o/fpSPQm8UAUCKq+e8BxEFQJ6CKBUIHBBAdy/dS4yvFUBQ3JGCEEMbQJREo1xKayBA133UnU1QJkAatwXfUDUsQC54GxAqDTFAzxS0sKv/M0BwsUxRLfI2QG82HuYZbjpAbrvvegbqPUA2oOCH+bJAQLViSdLvcEJANCWyHOYuREA/iQMyZTdHQErtVEfkP0pAVVGmXGNITUCw2vs4cShQQGWtzHuwT1VAGoCdvu92WkDPUm4BL55fQJhLe1snCW1AAAAAAADAckA=\",\"dtype\":\"float64\",\"shape\":[82]},\"Variable\":[\"Section0003 - 25.0\\u00b5m\",\"Section0003 - 25.0\\u00b5m\",\"Section0003 - 25.0\\u00b5m\",\"Section0003 - 25.0\\u00b5m\",\"Section0003 - 25.0\\u00b5m\",\"Section0003 - 25.0\\u00b5m\",\"Section0003 - 25.0\\u00b5m\",\"Section0003 - 25.0\\u00b5m\",\"Section0003 - 25.0\\u00b5m\",\"Section0003 - 25.0\\u00b5m\",\"Section0003 - 25.0\\u00b5m\",\"Section0003 - 25.0\\u00b5m\",\"Section0003 - 25.0\\u00b5m\",\"Section0003 - 25.0\\u00b5m\",\"Section0003 - 25.0\\u00b5m\",\"Section0003 - 25.0\\u00b5m\",\"Section0003 - 25.0\\u00b5m\",\"Section0003 - 25.0\\u00b5m\",\"Section0003 - 25.0\\u00b5m\",\"Section0003 - 25.0\\u00b5m\",\"Section0003 - 25.0\\u00b5m\",\"Section0003 - 25.0\\u00b5m\",\"Section0003 - 25.0\\u00b5m\",\"Section0003 - 25.0\\u00b5m\",\"Section0003 - 25.0\\u00b5m\",\"Section0003 - 25.0\\u00b5m\",\"Section0003 - 25.0\\u00b5m\",\"Section0003 - 25.0\\u00b5m\",\"Section0003 - 25.0\\u00b5m\",\"Section0003 - 25.0\\u00b5m\",\"Section0003 - 25.0\\u00b5m\",\"Section0003 - 25.0\\u00b5m\",\"Section0003 - 25.0\\u00b5m\",\"Section0003 - 25.0\\u00b5m\",\"Section0003 - 25.0\\u00b5m\",\"Section0003 - 25.0\\u00b5m\",\"Section0003 - 25.0\\u00b5m\",\"Section0003 - 25.0\\u00b5m\",\"Section0003 - 25.0\\u00b5m\",\"Section0003 - 25.0\\u00b5m\",\"Section0003 - 25.0\\u00b5m\",\"Section0003 - 25.0\\u00b5m\",\"Section0003 - 25.0\\u00b5m\",\"Section0003 - 25.0\\u00b5m\",\"Section0003 - 25.0\\u00b5m\",\"Section0003 - 25.0\\u00b5m\",\"Section0003 - 25.0\\u00b5m\",\"Section0003 - 25.0\\u00b5m\",\"Section0003 - 25.0\\u00b5m\",\"Section0003 - 25.0\\u00b5m\",\"Section0003 - 25.0\\u00b5m\",\"Section0003 - 25.0\\u00b5m\",\"Section0003 - 25.0\\u00b5m\",\"Section0003 - 25.0\\u00b5m\",\"Section0003 - 25.0\\u00b5m\",\"Section0003 - 25.0\\u00b5m\",\"Section0003 - 25.0\\u00b5m\",\"Section0003 - 25.0\\u00b5m\",\"Section0003 - 25.0\\u00b5m\",\"Section0003 - 25.0\\u00b5m\",\"Section0003 - 25.0\\u00b5m\",\"Section0003 - 25.0\\u00b5m\",\"Section0003 - 25.0\\u00b5m\",\"Section0003 - 25.0\\u00b5m\",\"Section0003 - 25.0\\u00b5m\",\"Section0003 - 25.0\\u00b5m\",\"Section0003 - 25.0\\u00b5m\",\"Section0003 - 25.0\\u00b5m\",\"Section0003 - 25.0\\u00b5m\",\"Section0003 - 25.0\\u00b5m\",\"Section0003 - 25.0\\u00b5m\",\"Section0003 - 25.0\\u00b5m\",\"Section0003 - 25.0\\u00b5m\",\"Section0003 - 25.0\\u00b5m\",\"Section0003 - 25.0\\u00b5m\",\"Section0003 - 25.0\\u00b5m\",\"Section0003 - 25.0\\u00b5m\",\"Section0003 - 25.0\\u00b5m\",\"Section0003 - 25.0\\u00b5m\",\"Section0003 - 25.0\\u00b5m\",\"Section0003 - 25.0\\u00b5m\",\"Section0003 - 25.0\\u00b5m\"],\"value\":{\"__ndarray__\":\"AAAAAAAAAADsPrjGNHQaOrBL8vqwiU06ozeGgZx+kzvxSJGFrffEO/ExYs4s0z486U4NSknDcDwHIfNTfueUPDp5ChKgRRo9B/o4SAI+Sz2YbknczhNwPc8TQ4mOcaU9FsBJhOtwyz2xL3aU58zoPWxZ0S4V/QE+wBhfujfpJT7zhCM3D8lCPttNr8SYmlk+z9q7QaCubT4aLI0uU3t+PoZR1Mh3MpU+zhsAM8hXqD7mfqaVz164PglRoFWtBMY+Gy8gZdJf0j5peHewvMDiPiKH0YHG6vA+u+Ceajja+z7sjmRADF8FP6EaaH5aBw8/cryJT8cXGj/HnGronxokPxJtyQ88Ay0/5mhVh6PmMz9qq/+dPzs6P/oVEB3vzEM/b+MTjcvTSz8rU49F14tSP2dszuSHvlc/nz76SpB0XT8nKxR7icRmP4aaYBqt528/3oUo+BvvdD+NJebXzjl6P28smYOin4E/1MNVwaBThj+Ani3pGyaLP4CanGMPBZA/JoDgZXZ7kj+FZwM+tR6XPwfBPJQvvps/B/36o9cqoD9aMWLDCXKiPxwP6LHNNak/Oq6fI5vLrz8EIQ0qxxmzP4kQZpv9Trs/shlefRJ3wT+XyYQD2QDFP0+c2unRms0/toVSI1dL0j+r0H5O+CHVPz3y4nTncNc/N616dkwD2z8L2EtMIFPdP1JrJEPZzt4/dWt2xFPB3z/b1AdRhy7gP66FqRFDaOA/ssQi2taK4D9rm0bnGJ/gP3avDQ3TquA/dt/pU8Cx4D+wBHi5SLfgP1f5laHTueA/DtSaBEC74D/PGtB76LvgPwUUNVxdvOA/lF6rhvi74D/yHJWG67vgP+6FXegIvOA/8PgKFRG84D8=\",\"dtype\":\"float64\",\"shape\":[82]}},\"selected\":{\"id\":\"3348\",\"type\":\"Selection\"},\"selection_policy\":{\"id\":\"3400\",\"type\":\"UnionRenderers\"}},\"id\":\"3347\",\"type\":\"ColumnDataSource\"},{\"attributes\":{},\"id\":\"3243\",\"type\":\"Selection\"},{\"attributes\":{},\"id\":\"3296\",\"type\":\"UnionRenderers\"},{\"attributes\":{\"data_source\":{\"id\":\"3374\",\"type\":\"ColumnDataSource\"},\"glyph\":{\"id\":\"3377\",\"type\":\"Line\"},\"hover_glyph\":null,\"muted_glyph\":{\"id\":\"3379\",\"type\":\"Line\"},\"nonselection_glyph\":{\"id\":\"3378\",\"type\":\"Line\"},\"selection_glyph\":null,\"view\":{\"id\":\"3381\",\"type\":\"CDSView\"}},\"id\":\"3380\",\"type\":\"GlyphRenderer\"},{\"attributes\":{\"data_source\":{\"id\":\"3278\",\"type\":\"ColumnDataSource\"},\"glyph\":{\"id\":\"3281\",\"type\":\"Line\"},\"hover_glyph\":null,\"muted_glyph\":{\"id\":\"3283\",\"type\":\"Line\"},\"nonselection_glyph\":{\"id\":\"3282\",\"type\":\"Line\"},\"selection_glyph\":null,\"view\":{\"id\":\"3285\",\"type\":\"CDSView\"}},\"id\":\"3284\",\"type\":\"GlyphRenderer\"},{\"attributes\":{\"callback\":null,\"data\":{\"Time\":{\"__ndarray__\":\"AAAAAAAAAABubEp9asTBPm5sSn1qxNE+pqLvu5+m+j4YVUZsEm4IPy3TAcwk7h4/5z3wMKDSKD8cye/9FhcxP0ascBQJpEE//nPpqYa8Sj/bHbEfgupRP7sZkT0rzFo/zoq4LerWYT++iKi8vkdmP66GmEuTuGo/nyADBZtucT/n/Tlk7IB1Py/bcMM9k3k/d7inIo+lfT/gSu9A8NuAP7ZUuRuTV4Q/jF6D9jXThz9iaE3R2E6LPzhyF6x7yo4/B75wQw8jkT/N0aiBvQOUP5Pl4L9r5JY/WfkY/hnFmT8fDVE8yKWcP+UgiXp2hp8/ZGDToHIgoj9WMGIEqn2kP0gA8Wfh2qY/OtB/yxg4qT8soA4vUJWrP+hhj3g3v68/0hEIYY/0sT+wcsgFgwm0P47TiKp2HrY/bDRJT2ozuD+SH5Munl29P1yF7gbpQ8E/73qT9gLZwz+CcDjmHG7GP5YfS2VZm8o/qs5d5JXIzj/fPrgx6XrRP2mWQXGHkdM/8+3KsCWo1T+Hge2Mb5PZPxsVEGm5ft0/WFSZogG14D8inqqQpqriP/Tx8HIXlug/xkU3VYiB7j/MzL6bfDbyP+T6bpCtL/o/fpSPQm8UAUCKq+e8BxEFQJ6CKBUIHBBAdy/dS4yvFUBQ3JGCEEMbQJREo1xKayBA133UnU1QJkAatwXfUDUsQC54GxAqDTFAzxS0sKv/M0BwsUxRLfI2QG82HuYZbjpAbrvvegbqPUA2oOCH+bJAQLViSdLvcEJANCWyHOYuREA/iQMyZTdHQErtVEfkP0pAVVGmXGNITUCw2vs4cShQQGWtzHuwT1VAGoCdvu92WkDPUm4BL55fQJhLe1snCW1AAAAAAADAckA=\",\"dtype\":\"float64\",\"shape\":[82]},\"Variable\":[\"Sample section 1 - 30.0\\u00b5m\",\"Sample section 1 - 30.0\\u00b5m\",\"Sample section 1 - 30.0\\u00b5m\",\"Sample section 1 - 30.0\\u00b5m\",\"Sample section 1 - 30.0\\u00b5m\",\"Sample section 1 - 30.0\\u00b5m\",\"Sample section 1 - 30.0\\u00b5m\",\"Sample section 1 - 30.0\\u00b5m\",\"Sample section 1 - 30.0\\u00b5m\",\"Sample section 1 - 30.0\\u00b5m\",\"Sample section 1 - 30.0\\u00b5m\",\"Sample section 1 - 30.0\\u00b5m\",\"Sample section 1 - 30.0\\u00b5m\",\"Sample section 1 - 30.0\\u00b5m\",\"Sample section 1 - 30.0\\u00b5m\",\"Sample section 1 - 30.0\\u00b5m\",\"Sample section 1 - 30.0\\u00b5m\",\"Sample section 1 - 30.0\\u00b5m\",\"Sample section 1 - 30.0\\u00b5m\",\"Sample section 1 - 30.0\\u00b5m\",\"Sample section 1 - 30.0\\u00b5m\",\"Sample section 1 - 30.0\\u00b5m\",\"Sample section 1 - 30.0\\u00b5m\",\"Sample section 1 - 30.0\\u00b5m\",\"Sample section 1 - 30.0\\u00b5m\",\"Sample section 1 - 30.0\\u00b5m\",\"Sample section 1 - 30.0\\u00b5m\",\"Sample section 1 - 30.0\\u00b5m\",\"Sample section 1 - 30.0\\u00b5m\",\"Sample section 1 - 30.0\\u00b5m\",\"Sample section 1 - 30.0\\u00b5m\",\"Sample section 1 - 30.0\\u00b5m\",\"Sample section 1 - 30.0\\u00b5m\",\"Sample section 1 - 30.0\\u00b5m\",\"Sample section 1 - 30.0\\u00b5m\",\"Sample section 1 - 30.0\\u00b5m\",\"Sample section 1 - 30.0\\u00b5m\",\"Sample section 1 - 30.0\\u00b5m\",\"Sample section 1 - 30.0\\u00b5m\",\"Sample section 1 - 30.0\\u00b5m\",\"Sample section 1 - 30.0\\u00b5m\",\"Sample section 1 - 30.0\\u00b5m\",\"Sample section 1 - 30.0\\u00b5m\",\"Sample section 1 - 30.0\\u00b5m\",\"Sample section 1 - 30.0\\u00b5m\",\"Sample section 1 - 30.0\\u00b5m\",\"Sample section 1 - 30.0\\u00b5m\",\"Sample section 1 - 30.0\\u00b5m\",\"Sample section 1 - 30.0\\u00b5m\",\"Sample section 1 - 30.0\\u00b5m\",\"Sample section 1 - 30.0\\u00b5m\",\"Sample section 1 - 30.0\\u00b5m\",\"Sample section 1 - 30.0\\u00b5m\",\"Sample section 1 - 30.0\\u00b5m\",\"Sample section 1 - 30.0\\u00b5m\",\"Sample section 1 - 30.0\\u00b5m\",\"Sample section 1 - 30.0\\u00b5m\",\"Sample section 1 - 30.0\\u00b5m\",\"Sample section 1 - 30.0\\u00b5m\",\"Sample section 1 - 30.0\\u00b5m\",\"Sample section 1 - 30.0\\u00b5m\",\"Sample section 1 - 30.0\\u00b5m\",\"Sample section 1 - 30.0\\u00b5m\",\"Sample section 1 - 30.0\\u00b5m\",\"Sample section 1 - 30.0\\u00b5m\",\"Sample section 1 - 30.0\\u00b5m\",\"Sample section 1 - 30.0\\u00b5m\",\"Sample section 1 - 30.0\\u00b5m\",\"Sample section 1 - 30.0\\u00b5m\",\"Sample section 1 - 30.0\\u00b5m\",\"Sample section 1 - 30.0\\u00b5m\",\"Sample section 1 - 30.0\\u00b5m\",\"Sample section 1 - 30.0\\u00b5m\",\"Sample section 1 - 30.0\\u00b5m\",\"Sample section 1 - 30.0\\u00b5m\",\"Sample section 1 - 30.0\\u00b5m\",\"Sample section 1 - 30.0\\u00b5m\",\"Sample section 1 - 30.0\\u00b5m\",\"Sample section 1 - 30.0\\u00b5m\",\"Sample section 1 - 30.0\\u00b5m\",\"Sample section 1 - 30.0\\u00b5m\",\"Sample section 1 - 30.0\\u00b5m\"],\"value\":{\"__ndarray__\":\"AAAAAAAAAAA8DMzmcj7xPXvZaFkeNQs+mjayStP5YD4d+yoi7X54PonO6cY7YqA+99GIouIvtD5jSnT5k8XCPp+tv1fCPeM+GG60SZ6S9T41Dd0hjPMCP7HQCWuxVxQ/25Lj2+FOIT/gh8fx2uwpP8hXyMhT6jE/6BT48UtmPD+koouPAi1EP0ai0h06uEo/8+AIX2bZUD+B/zqX0IBUP6f8FbX2BFs/trqiIWXfYD8rwFERL0pkPx1qodbeuWc/EIjjkDgoaz87x+Kx72JwP1U0eUMTJXM/kJDkxyTYdT88fzAg9Hp4P7kCjNMMDXs/lRcauYQifz+VRI6bz4aBPzQGrY6daIM/CEnhDPE3hT8YIzUY9vWGP6gwnyv04Ik/5mY+IpufjD+gB5Po0DaPP1DNV4df1ZA/JRraEoj/kT+aycddpaiUP8OwoHq7Dpc/shcwY61BmT+h+B1POE2bP7vfzKUqX54/xFzYXdKdoD8mftJi6PmhP+jQgGu2SaM/ryBW/CqRpD8ei+mSKuimPwke1EhnM6k/CjDSDtZ2qz+lx10pnbOtP2/cUfzcKbI/6lkjLQBitT9owPv/1YO4PxJS8kiDRcA/hFsS/b//wz9qYr2or3XHP7AKwTdu388/dV+6Yw9a0z+kpAOUxiDWPw3bEUrEYtg/bAbOQiDh2z/uMlus+iPeP2YJyAJil98/vyVHM0dC4D/D+OvBcI7gP4sHRdboxuA/sjh9fbro4D8mQKf7ivzgPw+926wDCOE/LSasXMoO4T8koB/cNBThP2zVF7SxFuE/w+gIqxUY4T/W6AvuuRjhP7ULOXIqGeE/soNxw8cY4T/di7crvBjhP8jbryfZGOE/7fk4Z+EY4T8=\",\"dtype\":\"float64\",\"shape\":[82]}},\"selected\":{\"id\":\"3243\",\"type\":\"Selection\"},\"selection_policy\":{\"id\":\"3275\",\"type\":\"UnionRenderers\"}},\"id\":\"3242\",\"type\":\"ColumnDataSource\"},{\"attributes\":{\"source\":{\"id\":\"3374\",\"type\":\"ColumnDataSource\"}},\"id\":\"3381\",\"type\":\"CDSView\"},{\"attributes\":{\"data_source\":{\"id\":\"3242\",\"type\":\"ColumnDataSource\"},\"glyph\":{\"id\":\"3245\",\"type\":\"Line\"},\"hover_glyph\":null,\"muted_glyph\":{\"id\":\"3247\",\"type\":\"Line\"},\"nonselection_glyph\":{\"id\":\"3246\",\"type\":\"Line\"},\"selection_glyph\":null,\"view\":{\"id\":\"3249\",\"type\":\"CDSView\"}},\"id\":\"3248\",\"type\":\"GlyphRenderer\"},{\"attributes\":{\"source\":{\"id\":\"3278\",\"type\":\"ColumnDataSource\"}},\"id\":\"3285\",\"type\":\"CDSView\"},{\"attributes\":{},\"id\":\"3275\",\"type\":\"UnionRenderers\"},{\"attributes\":{},\"id\":\"3300\",\"type\":\"Selection\"},{\"attributes\":{\"line_color\":\"#7e7e7e\",\"line_width\":2,\"x\":{\"field\":\"Time\"},\"y\":{\"field\":\"value\"}},\"id\":\"3377\",\"type\":\"Line\"},{\"attributes\":{\"line_alpha\":0.2,\"line_color\":\"#7e7e7e\",\"line_width\":2,\"x\":{\"field\":\"Time\"},\"y\":{\"field\":\"value\"}},\"id\":\"3379\",\"type\":\"Line\"}],\"root_ids\":[\"3191\"]},\"title\":\"Bokeh Application\",\"version\":\"1.3.4\"}};\n",
       "  var render_items = [{\"docid\":\"0294f7d8-1c8a-43b4-8258-0b4025c52b77\",\"roots\":{\"3191\":\"e265f1ba-195b-4383-ae07-8f394a6d7f8e\"}}];\n",
       "  root.Bokeh.embed.embed_items_notebook(docs_json, render_items);\n",
       "\n",
       "  }\n",
       "  if (root.Bokeh !== undefined) {\n",
       "    embed_document(root);\n",
       "  } else {\n",
       "    var attempts = 0;\n",
       "    var timer = setInterval(function(root) {\n",
       "      if (root.Bokeh !== undefined) {\n",
       "        embed_document(root);\n",
       "        clearInterval(timer);\n",
       "      }\n",
       "      attempts++;\n",
       "      if (attempts > 100) {\n",
       "        console.log(\"Bokeh: ERROR: Unable to run BokehJS code because BokehJS library is missing\");\n",
       "        clearInterval(timer);\n",
       "      }\n",
       "    }, 10, root)\n",
       "  }\n",
       "})(window);</script>"
      ],
      "text/plain": [
       ":NdOverlay   [Variable]\n",
       "   :Curve   [Time]   (value)"
      ]
     },
     "execution_count": 61,
     "metadata": {
      "application/vnd.holoviews_exec.v0+json": {
       "id": "3191"
      }
     },
     "output_type": "execute_result"
    }
   ],
   "source": [
    "sim[:].plot()"
   ]
  },
  {
   "cell_type": "markdown",
   "metadata": {},
   "source": [
    "Access the scipy [solve_ivp](https://docs.scipy.org/doc/scipy/reference/generated/scipy.integrate.solve_ivp.html) output :"
   ]
  },
  {
   "cell_type": "code",
   "execution_count": 58,
   "metadata": {},
   "outputs": [
    {
     "data": {
      "text/plain": [
       "  message: 'The solver successfully reached the end of the integration interval.'\n",
       "     nfev: 164\n",
       "     njev: 1\n",
       "      nlu: 22\n",
       "      sol: None\n",
       "   status: 0\n",
       "  success: True\n",
       "        t: array([0.00000000e+00, 2.11802124e-06, 4.23604248e-06, 2.54162549e-05,\n",
       "       4.65964672e-05, 1.17989536e-04, 1.89382605e-04, 2.60775674e-04,\n",
       "       5.38353380e-04, 8.15931085e-04, 1.09350879e-03, 1.63559172e-03,\n",
       "       2.17767466e-03, 2.71975759e-03, 3.26184052e-03, 4.25587229e-03,\n",
       "       5.24990406e-03, 6.24393584e-03, 7.23796761e-03, 8.23199938e-03,\n",
       "       9.93266037e-03, 1.16333214e-02, 1.33339824e-02, 1.50346434e-02,\n",
       "       1.67353043e-02, 1.95455180e-02, 2.23557316e-02, 2.51659452e-02,\n",
       "       2.79761588e-02, 3.07863724e-02, 3.54038068e-02, 4.00212412e-02,\n",
       "       4.46386756e-02, 4.92561100e-02, 5.38735444e-02, 6.20057425e-02,\n",
       "       7.01379406e-02, 7.82701387e-02, 8.64023367e-02, 9.45345348e-02,\n",
       "       1.14709746e-01, 1.34884957e-01, 1.55060168e-01, 1.75235379e-01,\n",
       "       2.07865881e-01, 2.40496384e-01, 2.73126887e-01, 3.05757390e-01,\n",
       "       3.38387892e-01, 3.99623764e-01, 4.60859635e-01, 5.22095506e-01,\n",
       "       5.83331378e-01, 7.68321728e-01, 9.53312079e-01, 1.13830243e+00,\n",
       "       1.63664013e+00, 2.13497784e+00, 2.63331554e+00, 4.02737458e+00,\n",
       "       5.42143363e+00, 6.81549267e+00, 8.20955171e+00, 1.11568422e+01,\n",
       "       1.41041326e+01, 1.70514231e+01, 1.99987135e+01, 2.29460040e+01,\n",
       "       2.64300827e+01, 2.99141614e+01, 3.33982401e+01, 3.68823188e+01,\n",
       "       4.03663975e+01, 4.64327757e+01, 5.24991540e+01, 5.85655323e+01,\n",
       "       6.46319106e+01, 8.52451467e+01, 1.05858383e+02, 1.26471619e+02,\n",
       "       2.32286054e+02, 3.00000000e+02])\n",
       " t_events: None\n",
       "        y: array([[0.00000000e+00, 1.68521587e-06, 3.37014064e-06, 2.01938312e-05,\n",
       "        3.69885155e-05, 9.34009617e-05, 1.49490960e-04, 2.05255055e-04,\n",
       "        4.19043204e-04, 6.28142931e-04, 8.32750000e-04, 1.22007150e-03,\n",
       "        1.59231669e-03, 1.95071875e-03, 2.29636873e-03, 2.90024814e-03,\n",
       "        3.46963312e-03, 4.00880582e-03, 4.52138084e-03, 5.01041413e-03,\n",
       "        5.79975082e-03, 6.53797699e-03, 7.23302699e-03, 7.89116909e-03,\n",
       "        8.51742512e-03, 9.49294910e-03, 1.04060608e-02, 1.12668227e-02,\n",
       "        1.20830290e-02, 1.28608164e-02, 1.40677728e-02, 1.51995482e-02,\n",
       "        1.62674849e-02, 1.72803927e-02, 1.82451890e-02, 1.98433481e-02,\n",
       "        2.13301190e-02, 2.27210063e-02, 2.40284997e-02, 2.52628648e-02,\n",
       "        2.80564781e-02, 3.05474347e-02, 3.28080988e-02, 3.48909043e-02,\n",
       "        3.79859737e-02, 4.08411937e-02, 4.35347572e-02, 4.61196816e-02,\n",
       "        4.86312140e-02, 5.32099203e-02, 5.76898239e-02, 6.21067552e-02,\n",
       "        6.64709888e-02, 7.93899655e-02, 9.19419641e-02, 1.04154503e-01,\n",
       "        1.35457400e-01, 1.64525757e-01, 1.91513407e-01, 2.57121426e-01,\n",
       "        3.10390499e-01, 3.53690576e-01, 3.88904445e-01, 4.43392746e-01,\n",
       "        4.78658921e-01, 5.01286501e-01, 5.15736330e-01, 5.25016781e-01,\n",
       "        5.31897499e-01, 5.36018270e-01, 5.38432648e-01, 5.39830489e-01,\n",
       "        5.40656199e-01, 5.41316339e-01, 5.41619491e-01, 5.41788842e-01,\n",
       "        5.41866934e-01, 5.41920166e-01, 5.41873187e-01, 5.41867870e-01,\n",
       "        5.41881709e-01, 5.41885681e-01],\n",
       "       [0.00000000e+00, 2.50932364e-10, 7.91842303e-10, 3.16200411e-08,\n",
       "        9.12539880e-08, 4.88273043e-07, 1.20324206e-06, 2.23777165e-06,\n",
       "        9.17494139e-06, 2.05733564e-05, 3.61468449e-05, 7.76006734e-05,\n",
       "        1.32050582e-04, 1.97793700e-04, 2.73366408e-04, 4.33343450e-04,\n",
       "        6.15717173e-04, 8.15418603e-04, 1.02839467e-03, 1.25141497e-03,\n",
       "        1.64913266e-03, 2.05964806e-03, 2.47677987e-03, 2.89624713e-03,\n",
       "        3.31507729e-03, 4.00060302e-03, 4.67402959e-03, 5.33308380e-03,\n",
       "        5.97663271e-03, 6.60424242e-03, 7.60127873e-03, 8.55791276e-03,\n",
       "        9.47688190e-03, 1.03606064e-02, 1.12113215e-02, 1.26360966e-02,\n",
       "        1.39762993e-02, 1.52412721e-02, 1.64389540e-02, 1.75763380e-02,\n",
       "        2.01745833e-02, 2.25171369e-02, 2.46646015e-02, 2.66617583e-02,\n",
       "        2.96599067e-02, 3.24540844e-02, 3.51097699e-02, 3.76717573e-02,\n",
       "        4.01700433e-02, 4.47400383e-02, 4.92203022e-02, 5.36410230e-02,\n",
       "        5.80109704e-02, 7.09512821e-02, 8.35266218e-02, 9.57616568e-02,\n",
       "        1.27121363e-01, 1.56242369e-01, 1.83278997e-01, 2.49006059e-01,\n",
       "        3.02371833e-01, 3.45750470e-01, 3.81028244e-01, 4.35615602e-01,\n",
       "        4.70945996e-01, 4.93614676e-01, 5.08090592e-01, 5.17387751e-01,\n",
       "        5.24280947e-01, 5.28409238e-01, 5.30827991e-01, 5.32228315e-01,\n",
       "        5.33055478e-01, 5.33716612e-01, 5.34020283e-01, 5.34190020e-01,\n",
       "        5.34268346e-01, 5.34321998e-01, 5.34274942e-01, 5.34269414e-01,\n",
       "        5.34283235e-01, 5.34287168e-01],\n",
       "       [0.00000000e+00, 3.73643830e-14, 1.61091822e-13, 4.73101593e-11,\n",
       "        1.90024187e-10, 2.06650413e-09, 7.23834334e-09, 1.74999251e-08,\n",
       "        1.52841695e-07, 4.91388272e-07, 1.11810482e-06, 3.44488658e-06,\n",
       "        7.64371900e-06, 1.40990298e-05, 2.30858762e-05, 4.67578904e-05,\n",
       "        8.02039572e-05, 1.23560911e-04, 1.76663836e-04, 2.39141840e-04,\n",
       "        3.66296632e-04, 5.16317018e-04, 6.85987918e-04, 8.72328845e-04,\n",
       "        1.07267050e-03, 1.42816129e-03, 1.80649430e-03, 2.20074716e-03,\n",
       "        2.60569490e-03, 3.01735830e-03, 3.70039284e-03, 4.38390758e-03,\n",
       "        5.06195599e-03, 5.73068599e-03, 6.38764462e-03, 7.51194285e-03,\n",
       "        8.59291831e-03, 9.63148048e-03, 1.06296709e-02, 1.15900882e-02,\n",
       "        1.38295036e-02, 1.58995639e-02, 1.78393852e-02, 1.96792399e-02,\n",
       "        2.24993610e-02, 2.51814856e-02, 2.77679852e-02, 3.02884499e-02,\n",
       "        3.27630302e-02, 3.73182399e-02, 4.18003950e-02, 4.62293620e-02,\n",
       "        5.06111068e-02, 6.35944556e-02, 7.62164304e-02, 8.84964470e-02,\n",
       "        1.19969873e-01, 1.49196287e-01, 1.76330958e-01, 2.42296345e-01,\n",
       "        2.95855712e-01, 3.39391628e-01, 3.74797328e-01, 4.29582785e-01,\n",
       "        4.65041511e-01, 4.87792429e-01, 5.02320718e-01, 5.11651474e-01,\n",
       "        5.18569659e-01, 5.22712958e-01, 5.25140477e-01, 5.26545831e-01,\n",
       "        5.27375954e-01, 5.28039305e-01, 5.28344047e-01, 5.28514470e-01,\n",
       "        5.28593162e-01, 5.28647295e-01, 5.28600078e-01, 5.28594351e-01,\n",
       "        5.28608183e-01, 5.28612090e-01],\n",
       "       [0.00000000e+00, 5.56363912e-18, 3.04172334e-17, 7.03263921e-14,\n",
       "        3.63252442e-13, 7.97510855e-12, 3.73431713e-11, 1.12929290e-10,\n",
       "        2.25553897e-09, 9.87128220e-09, 2.82070990e-08, 1.22215258e-07,\n",
       "        3.47498659e-07, 7.82179660e-07, 1.51319858e-06, 3.91713236e-06,\n",
       "        8.16106356e-06, 1.47436880e-05, 2.40887469e-05, 3.65411943e-05,\n",
       "        6.57928125e-05, 1.05772026e-04, 1.56812833e-04, 2.18833519e-04,\n",
       "        2.91464563e-04, 4.33249667e-04, 5.99306085e-04, 7.86138038e-04,\n",
       "        9.90394449e-04, 1.20903369e-03, 1.59251890e-03, 1.99766837e-03,\n",
       "        2.41695169e-03, 2.84491431e-03, 3.27762935e-03, 4.04282523e-03,\n",
       "        4.80470389e-03, 5.55878031e-03, 6.30293296e-03, 7.03631108e-03,\n",
       "        8.81145980e-03, 1.05289763e-02, 1.22007524e-02, 1.38373714e-02,\n",
       "        1.64276073e-02, 1.89652556e-02, 2.14633899e-02, 2.39317393e-02,\n",
       "        2.63772722e-02, 3.09164859e-02, 3.54042525e-02, 3.98471583e-02,\n",
       "        4.42474572e-02, 5.72962314e-02, 6.99880568e-02, 8.23355264e-02,\n",
       "        1.13979791e-01, 1.43364595e-01, 1.70646553e-01, 2.36969983e-01,\n",
       "        2.90820173e-01, 3.34592377e-01, 3.70190257e-01, 4.25273219e-01,\n",
       "        4.60924620e-01, 4.83799062e-01, 4.98406105e-01, 5.07787408e-01,\n",
       "        5.14743138e-01, 5.18908962e-01, 5.21349653e-01, 5.22762593e-01,\n",
       "        5.23597187e-01, 5.24263983e-01, 5.24570353e-01, 5.24741761e-01,\n",
       "        5.24820952e-01, 5.24875630e-01, 5.24828164e-01, 5.24822250e-01,\n",
       "        5.24836122e-01, 5.24840016e-01],\n",
       "       [0.00000000e+00, 8.28344904e-22, 5.48595460e-21, 1.04333122e-16,\n",
       "        6.58967372e-16, 2.93783745e-14, 1.75311283e-13, 6.42219538e-13,\n",
       "        3.12506972e-11, 1.76855750e-10, 6.14833485e-10, 3.67372461e-09,\n",
       "        1.30567011e-08, 3.51972381e-08, 7.93853798e-08, 2.58946266e-07,\n",
       "        6.49069309e-07, 1.36601304e-06, 2.53882112e-06, 4.30123941e-06,\n",
       "        9.05613740e-06, 1.65350209e-05, 2.72614465e-05, 4.16355438e-05,\n",
       "        5.99333460e-05, 9.91839551e-05, 1.49797698e-04, 2.11478309e-04,\n",
       "        2.83617026e-04, 3.65451507e-04, 5.18859748e-04, 6.92686416e-04,\n",
       "        8.83736445e-04, 1.08940831e-03, 1.30761627e-03, 1.71730849e-03,\n",
       "        2.15374372e-03, 2.61217163e-03, 3.08914764e-03, 3.58201038e-03,\n",
       "        4.86163968e-03, 6.20297383e-03, 7.58966211e-03, 9.01028617e-03,\n",
       "        1.13568584e-02, 1.37421271e-02, 1.61485651e-02, 1.85644849e-02,\n",
       "        2.09822508e-02, 2.55106028e-02, 3.00106215e-02, 3.44747707e-02,\n",
       "        3.89012411e-02, 5.20387393e-02, 6.48235476e-02, 7.72609396e-02,\n",
       "        1.09133472e-01, 1.38729977e-01, 1.66208737e-01, 2.33010582e-01,\n",
       "        2.87249337e-01, 3.31337272e-01, 3.67191938e-01, 4.22672355e-01,\n",
       "        4.58581116e-01, 4.81620593e-01, 4.96332917e-01, 5.05781808e-01,\n",
       "        5.12787708e-01, 5.16983612e-01, 5.19441906e-01, 5.20865003e-01,\n",
       "        5.21705588e-01, 5.22377060e-01, 5.22685616e-01, 5.22858314e-01,\n",
       "        5.22938137e-01, 5.22993422e-01, 5.22945621e-01, 5.22939531e-01,\n",
       "        5.22953475e-01, 5.22957366e-01],\n",
       "       [0.00000000e+00, 1.29895625e-25, 1.01032620e-24, 1.62448064e-19,\n",
       "        1.21233886e-18, 1.10619541e-16, 8.09402082e-16, 3.49739709e-15,\n",
       "        4.32368303e-13, 3.01955070e-12, 1.23919361e-11, 9.99897379e-11,\n",
       "        4.32210920e-10, 1.36465404e-09, 3.52520401e-09, 1.42228446e-08,\n",
       "        4.22079077e-08, 1.02205469e-07, 2.14218450e-07, 4.03039722e-07,\n",
       "        9.87584815e-07, 2.04555831e-06, 3.75621858e-06, 6.30234829e-06,\n",
       "        9.86107527e-06, 1.83938729e-05, 3.07963181e-05, 4.76019940e-05,\n",
       "        6.92150753e-05, 9.59270240e-05, 1.51394914e-04, 2.21601351e-04,\n",
       "        3.06588149e-04, 4.06131745e-04, 5.19837545e-04, 7.52982916e-04,\n",
       "        1.02522483e-03, 1.33309352e-03, 1.67324005e-03, 2.04252027e-03,\n",
       "        3.06682675e-03, 4.21470485e-03, 5.45541596e-03, 6.76587498e-03,\n",
       "        8.98910753e-03, 1.12983693e-02, 1.36604628e-02, 1.60525452e-02,\n",
       "        1.84592572e-02, 2.29882514e-02, 2.75008675e-02, 3.19822631e-02,\n",
       "        3.64284940e-02, 4.96303597e-02, 6.24812584e-02, 7.49826683e-02,\n",
       "        1.07018128e-01, 1.36765787e-01, 1.64385013e-01, 2.31528330e-01,\n",
       "        2.86044404e-01, 3.30357696e-01, 3.66395644e-01, 4.22159720e-01,\n",
       "        4.58252130e-01, 4.81409395e-01, 4.96196884e-01, 5.05694035e-01,\n",
       "        5.12735746e-01, 5.16953113e-01, 5.19423972e-01, 5.20854327e-01,\n",
       "        5.21699194e-01, 5.22374037e-01, 5.22684159e-01, 5.22857764e-01,\n",
       "        5.22938024e-01, 5.22993692e-01, 5.22945650e-01, 5.22939466e-01,\n",
       "        5.22953467e-01, 5.22957364e-01],\n",
       "       [0.00000000e+00, 8.34738856e-29, 7.45640333e-28, 1.03203424e-21,\n",
       "        8.88007805e-21, 1.67102131e-18, 1.45394435e-17, 7.25262606e-17,\n",
       "        2.33342001e-14, 1.93567632e-13, 9.13892972e-13, 9.75141173e-12,\n",
       "        4.99150587e-11, 1.80446722e-10, 5.23537295e-10, 2.55077688e-09,\n",
       "        8.74762815e-09, 2.38454841e-08, 5.52872807e-08, 1.13553323e-07,\n",
       "        3.15862004e-07, 7.25474910e-07, 1.45258635e-06, 2.62478231e-06,\n",
       "        4.38077548e-06, 8.94206961e-06, 1.61333957e-05, 2.65621408e-05,\n",
       "        4.07624830e-05, 5.91825954e-05, 9.95364570e-05, 1.53381367e-04,\n",
       "        2.21348840e-04, 3.03664135e-04, 4.00260002e-04, 6.04264025e-04,\n",
       "        8.49222555e-04, 1.13197348e-03, 1.44923468e-03, 1.79781047e-03,\n",
       "        2.77926304e-03, 3.89465150e-03, 5.11084486e-03, 6.40278624e-03,\n",
       "        8.60526051e-03, 1.09016952e-02, 1.32562810e-02, 1.56443028e-02,\n",
       "        1.80490970e-02, 2.25780791e-02, 2.70926890e-02, 3.15768612e-02,\n",
       "        3.60262919e-02, 4.92386131e-02, 6.21002656e-02, 7.46120908e-02,\n",
       "        1.06674052e-01, 1.36446296e-01, 1.64088370e-01, 2.31287231e-01,\n",
       "        2.85848412e-01, 3.30198361e-01, 3.66266121e-01, 4.22076336e-01,\n",
       "        4.58198618e-01, 4.81375042e-01, 4.96174757e-01, 5.05679758e-01,\n",
       "        5.12727293e-01, 5.16948153e-01, 5.19421055e-01, 5.20852590e-01,\n",
       "        5.21698154e-01, 5.22373545e-01, 5.22683921e-01, 5.22857675e-01,\n",
       "        5.22938005e-01, 5.22993736e-01, 5.22945655e-01, 5.22939456e-01,\n",
       "        5.22953466e-01, 5.22957364e-01],\n",
       "       [0.00000000e+00, 5.36766909e-32, 5.41490067e-31, 6.59816449e-24,\n",
       "        6.43529955e-23, 2.54941024e-20, 2.58435979e-19, 1.46814425e-18,\n",
       "        1.32238984e-15, 1.28199769e-14, 6.90884414e-14, 9.94512277e-13,\n",
       "        6.03982551e-12, 2.50766836e-11, 8.21002799e-11, 4.94293651e-10,\n",
       "        1.98711421e-09, 6.17394114e-09, 1.60232445e-08, 3.63313001e-08,\n",
       "        1.16903011e-07, 3.01704539e-07, 6.64659932e-07, 1.30115962e-06,\n",
       "        2.32458448e-06, 5.20082744e-06, 1.00905427e-05, 1.76167298e-05,\n",
       "        2.83653877e-05, 4.28565247e-05, 7.59222732e-05, 1.21754894e-04,\n",
       "        1.81298517e-04, 2.55021629e-04, 3.43036977e-04, 5.32350061e-04,\n",
       "        7.63495660e-04, 1.03349797e-03, 1.33912503e-03, 1.67716419e-03,\n",
       "        2.63678313e-03, 3.73561232e-03, 4.93930918e-03, 6.22180785e-03,\n",
       "        8.41368901e-03, 1.07035673e-02, 1.30543086e-02, 1.54402441e-02,\n",
       "        1.78440428e-02, 2.23729834e-02, 2.68885734e-02, 3.13741255e-02,\n",
       "        3.58251522e-02, 4.90426977e-02, 6.19097294e-02, 7.44267640e-02,\n",
       "        1.06501978e-01, 1.36286518e-01, 1.63940018e-01, 2.31166656e-01,\n",
       "        2.85750396e-01, 3.30118677e-01, 3.66201346e-01, 4.22034635e-01,\n",
       "        4.58171857e-01, 4.81357861e-01, 4.96163691e-01, 5.05672618e-01,\n",
       "        5.12723067e-01, 5.16945672e-01, 5.19419596e-01, 5.20851722e-01,\n",
       "        5.21697634e-01, 5.22373299e-01, 5.22683803e-01, 5.22857630e-01,\n",
       "        5.22937996e-01, 5.22993758e-01, 5.22945657e-01, 5.22939451e-01,\n",
       "        5.22953466e-01, 5.22957364e-01]])"
      ]
     },
     "execution_count": 58,
     "metadata": {},
     "output_type": "execute_result"
    }
   ],
   "source": [
    "sim.sol"
   ]
  },
  {
   "cell_type": "code",
   "execution_count": null,
   "metadata": {},
   "outputs": [],
   "source": []
  }
 ],
 "metadata": {
  "kernelspec": {
   "display_name": "Python 3",
   "language": "python",
   "name": "python3"
  },
  "language_info": {
   "codemirror_mode": {
    "name": "ipython",
    "version": 3
   },
   "file_extension": ".py",
   "mimetype": "text/x-python",
   "name": "python",
   "nbconvert_exporter": "python",
   "pygments_lexer": "ipython3",
   "version": "3.6.9"
  }
 },
 "nbformat": 4,
 "nbformat_minor": 2
}
